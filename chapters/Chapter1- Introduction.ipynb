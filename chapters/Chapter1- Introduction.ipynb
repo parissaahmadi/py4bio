{
 "cells": [
  {
   "cell_type": "markdown",
   "metadata": {},
   "source": [
    "Chapter 1: Introduction\n",
    "-----------------------------"
   ]
  },
  {
   "attachments": {},
   "cell_type": "markdown",
   "metadata": {},
   "source": [
    "### Components of a Program : materials and procedures\r",
    "In a program, instructions are applied to data: print the text string “Hello,” add two integer numbers, round a float number\n",
    "\n",
    "\r\n"
   ]
  },
  {
   "cell_type": "code",
   "execution_count": 2,
   "metadata": {},
   "outputs": [
    {
     "name": "stdout",
     "output_type": "stream",
     "text": [
      "11\n"
     ]
    }
   ],
   "source": [
    "seq_1 = 'Hello,'\n",
    "seq_2 = ' you!'\n",
    "total = seq_1 + seq_2\n",
    "seq_size = len(total)\n",
    "print(seq_size)"
   ]
  },
  {
   "attachments": {},
   "cell_type": "markdown",
   "metadata": {},
   "source": [
    "### Flavors of Python\n",
    "CPython: Default implementation, written in C\r\n",
    "</br>\r\n",
    "PyPy: Python written in Python, for flexibility\r\n",
    "</br>\r\n",
    "Stackless: Optimized for high-performance tasks\r\n",
    "</br>\r\n",
    "Jython: Python for Java Virtual Machine\r\n",
    "</br>\r\n",
    "IronPython: Microsoft’s version for .Net platform\r\n",
    "orm\r\n",
    "orm\r\n",
    "\n"
   ]
  },
  {
   "cell_type": "code",
   "execution_count": 2,
   "metadata": {
    "collapsed": false,
    "jupyter": {
     "outputs_hidden": false
    }
   },
   "outputs": [
    {
     "name": "stdout",
     "output_type": "stream",
     "text": [
      "Hello World!\n"
     ]
    }
   ],
   "source": [
    "print('Hello World!')"
   ]
  },
  {
   "cell_type": "code",
   "execution_count": 3,
   "metadata": {
    "collapsed": false,
    "jupyter": {
     "outputs_hidden": false
    }
   },
   "outputs": [
    {
     "name": "stdout",
     "output_type": "stream",
     "text": [
      "Hello World!\n"
     ]
    }
   ],
   "source": [
    "print(\"Hello\", \"World!\")"
   ]
  },
  {
   "cell_type": "code",
   "execution_count": 4,
   "metadata": {
    "collapsed": false,
    "jupyter": {
     "outputs_hidden": false
    }
   },
   "outputs": [
    {
     "name": "stdout",
     "output_type": "stream",
     "text": [
      "Hello;World!\n"
     ]
    }
   ],
   "source": [
    "print(\"Hello\",\"World!\",sep=\";\")"
   ]
  },
  {
   "cell_type": "code",
   "execution_count": 5,
   "metadata": {
    "collapsed": false,
    "jupyter": {
     "outputs_hidden": false
    },
    "scrolled": true
   },
   "outputs": [
    {
     "name": "stdout",
     "output_type": "stream",
     "text": [
      "Hello;World!\n",
      "\n"
     ]
    }
   ],
   "source": [
    "print(\"Hello\",\"World!\",sep=\";\",end='\\n\\n')\n"
   ]
  },
  {
   "cell_type": "markdown",
   "metadata": {},
   "source": [
    "### Installing Python\n",
    "Windows: Download from python.org.\r\n",
    "</br>\r\n",
    "Mac/Linux: Pre-installed on most systems.\r\n",
    "</br>\r\n",
    "Alternative: Install Anaconda for an all-in-one package\r\n",
    "</br>\r\n",
    "online for test: https://www.online-python.com/\n"
   ]
  },
  {
   "cell_type": "markdown",
   "metadata": {},
   "source": [
    "### There are two ways to use Python: \n",
    "interactive mode : allows the programmer to get an immediate answer to each instruction.small test!\r\n",
    "</br>\r\n",
    "batch mode : instructions are stored in one or more files and then executed.\n"
   ]
  },
  {
   "cell_type": "code",
   "execution_count": 1,
   "metadata": {
    "collapsed": false,
    "jupyter": {
     "outputs_hidden": false
    }
   },
   "outputs": [
    {
     "name": "stdout",
     "output_type": "stream",
     "text": [
      "Enter your name: Seba\n"
     ]
    },
    {
     "data": {
      "text/plain": [
       "'Seba'"
      ]
     },
     "execution_count": 1,
     "metadata": {},
     "output_type": "execute_result"
    }
   ],
   "source": [
    "name = input(\"Enter your name: \")\n",
    "name\n"
   ]
  },
  {
   "cell_type": "code",
   "execution_count": 2,
   "metadata": {
    "collapsed": false,
    "jupyter": {
     "outputs_hidden": false
    }
   },
   "outputs": [
    {
     "data": {
      "text/plain": [
       "2"
      ]
     },
     "execution_count": 2,
     "metadata": {},
     "output_type": "execute_result"
    }
   ],
   "source": [
    "1+1\n"
   ]
  },
  {
   "cell_type": "code",
   "execution_count": 3,
   "metadata": {
    "collapsed": false,
    "jupyter": {
     "outputs_hidden": false
    }
   },
   "outputs": [
    {
     "data": {
      "text/plain": [
       "'11'"
      ]
     },
     "execution_count": 3,
     "metadata": {},
     "output_type": "execute_result"
    }
   ],
   "source": [
    "'1'+'1'"
   ]
  },
  {
   "cell_type": "code",
   "execution_count": 4,
   "metadata": {
    "collapsed": false,
    "jupyter": {
     "outputs_hidden": false
    }
   },
   "outputs": [
    {
     "data": {
      "text/plain": [
       "'A string of characters'"
      ]
     },
     "execution_count": 4,
     "metadata": {},
     "output_type": "execute_result"
    }
   ],
   "source": [
    "\"A string of \" + 'characters'\n"
   ]
  },
  {
   "cell_type": "code",
   "execution_count": 5,
   "metadata": {
    "collapsed": false,
    "jupyter": {
     "outputs_hidden": false
    }
   },
   "outputs": [
    {
     "ename": "TypeError",
     "evalue": "Can't convert 'int' object to str implicitly",
     "output_type": "error",
     "traceback": [
      "\u001b[0;31m---------------------------------------------------------------------------\u001b[0m",
      "\u001b[0;31mTypeError\u001b[0m                                 Traceback (most recent call last)",
      "\u001b[0;32m<ipython-input-5-defa453cb41a>\u001b[0m in \u001b[0;36m<module>\u001b[0;34m()\u001b[0m\n\u001b[0;32m----> 1\u001b[0;31m \u001b[0;34m'The answer is '\u001b[0m \u001b[0;34m+\u001b[0m \u001b[0;36m42\u001b[0m\u001b[0;34m\u001b[0m\u001b[0m\n\u001b[0m",
      "\u001b[0;31mTypeError\u001b[0m: Can't convert 'int' object to str implicitly"
     ]
    }
   ],
   "source": [
    "'The answer is ' + 42"
   ]
  },
  {
   "cell_type": "code",
   "execution_count": 6,
   "metadata": {
    "collapsed": false,
    "jupyter": {
     "outputs_hidden": false
    }
   },
   "outputs": [
    {
     "data": {
      "text/plain": [
       "'The answer is 42'"
      ]
     },
     "execution_count": 6,
     "metadata": {},
     "output_type": "execute_result"
    }
   ],
   "source": [
    "'The answer is ' + str(42)\n"
   ]
  },
  {
   "cell_type": "code",
   "execution_count": 4,
   "metadata": {
    "collapsed": false,
    "jupyter": {
     "outputs_hidden": false
    }
   },
   "outputs": [
    {
     "data": {
      "text/plain": [
       "'The answer is 42'"
      ]
     },
     "execution_count": 4,
     "metadata": {},
     "output_type": "execute_result"
    }
   ],
   "source": [
    "#F string Method\n",
    "\n",
    "f'The answer is {42}'"
   ]
  },
  {
   "cell_type": "code",
   "execution_count": 3,
   "metadata": {
    "collapsed": false,
    "jupyter": {
     "outputs_hidden": false
    }
   },
   "outputs": [
    {
     "data": {
      "text/plain": [
       "'The answer is 42'"
      ]
     },
     "execution_count": 3,
     "metadata": {},
     "output_type": "execute_result"
    }
   ],
   "source": [
    "#F string Method\n",
    "number = 42\n",
    "f'The answer is {number}'\n"
   ]
  },
  {
   "cell_type": "markdown",
   "metadata": {},
   "source": [
    "### Mathematical Operations\n",
    "Operator Precedence (PEMDAS)\r\n",
    "</br>\r\n",
    "Python follows the standard mathematical order of operations, often remembered with the acronym PEMDAS:\r\n",
    "</br>\r\n",
    "P: Parentheses\r\n",
    "</br>\r\n",
    "E: Exponentiation **\r\n",
    "</br>\r\n",
    "MD: Multiplication * and Division /\r\n",
    "</br>\r\n",
    "AS: Addition + and Subtraction -"
   ]
  },
  {
   "cell_type": "code",
   "execution_count": 21,
   "metadata": {},
   "outputs": [
    {
     "data": {
      "text/plain": [
       "40.0"
      ]
     },
     "execution_count": 21,
     "metadata": {},
     "output_type": "execute_result"
    }
   ],
   "source": [
    "(3 + 2) * 4**2 / 2\n",
    "# 5 * 16 / 2\n",
    "# 80 / 2"
   ]
  },
  {
   "cell_type": "code",
   "execution_count": 14,
   "metadata": {
    "collapsed": false,
    "jupyter": {
     "outputs_hidden": false
    }
   },
   "outputs": [
    {
     "data": {
      "text/plain": [
       "24"
      ]
     },
     "execution_count": 14,
     "metadata": {},
     "output_type": "execute_result"
    }
   ],
   "source": [
    "12*2"
   ]
  },
  {
   "cell_type": "code",
   "execution_count": 13,
   "metadata": {
    "collapsed": false,
    "jupyter": {
     "outputs_hidden": false
    }
   },
   "outputs": [
    {
     "data": {
      "text/plain": [
       "10.0"
      ]
     },
     "execution_count": 13,
     "metadata": {},
     "output_type": "execute_result"
    }
   ],
   "source": [
    "30/3"
   ]
  },
  {
   "cell_type": "code",
   "execution_count": 12,
   "metadata": {
    "collapsed": false,
    "jupyter": {
     "outputs_hidden": false
    }
   },
   "outputs": [
    {
     "data": {
      "text/plain": [
       "228.0"
      ]
     },
     "execution_count": 12,
     "metadata": {},
     "output_type": "execute_result"
    }
   ],
   "source": [
    "2**8/2+100"
   ]
  },
  {
   "cell_type": "code",
   "execution_count": 15,
   "metadata": {
    "collapsed": false,
    "jupyter": {
     "outputs_hidden": false
    }
   },
   "outputs": [
    {
     "data": {
      "text/plain": [
       "2.5"
      ]
     },
     "execution_count": 15,
     "metadata": {},
     "output_type": "execute_result"
    }
   ],
   "source": [
    "10/4"
   ]
  },
  {
   "cell_type": "code",
   "execution_count": 16,
   "metadata": {
    "collapsed": false,
    "jupyter": {
     "outputs_hidden": false
    }
   },
   "outputs": [
    {
     "data": {
      "text/plain": [
       "2"
      ]
     },
     "execution_count": 16,
     "metadata": {},
     "output_type": "execute_result"
    }
   ],
   "source": [
    "10//4"
   ]
  },
  {
   "cell_type": "markdown",
   "metadata": {
    "collapsed": true,
    "jupyter": {
     "outputs_hidden": true
    }
   },
   "source": [
    "\n",
    "BATCH MODE"
   ]
  },
  {
   "cell_type": "markdown",
   "metadata": {},
   "source": [
    "hello.py: A “Hello World!” program"
   ]
  },
  {
   "cell_type": "code",
   "execution_count": 7,
   "metadata": {
    "collapsed": false,
    "jupyter": {
     "outputs_hidden": false
    }
   },
   "outputs": [
    {
     "name": "stdout",
     "output_type": "stream",
     "text": [
      "Hello World!\n"
     ]
    }
   ],
   "source": [
    "print(\"Hello World!\")"
   ]
  },
  {
   "cell_type": "markdown",
   "metadata": {},
   "source": [
    "### Shebang (#!) in Python Scripts\r",
    "Shebang (#!) specifies the Python interpreter in Unix-like systems.[linux]\r\n",
    "</br>\r\n",
    "It allows Python scripts to run without explicitly calling python</br>.\n",
    "\n",
    "\n",
    "hello2.py: Hello World! with shebang"
   ]
  },
  {
   "cell_type": "code",
   "execution_count": 8,
   "metadata": {
    "collapsed": false,
    "jupyter": {
     "outputs_hidden": false
    },
    "scrolled": true
   },
   "outputs": [
    {
     "name": "stdout",
     "output_type": "stream",
     "text": [
      "Hello World!\n"
     ]
    }
   ],
   "source": [
    "#!/usr/bin/python\n",
    "print(\"Hello World!\")"
   ]
  },
  {
   "cell_type": "markdown",
   "metadata": {},
   "source": [
    "### Comments\n",
    "Comments help explain code for better readability.\r\n",
    "</br>\r\n",
    "They are useful for others and for ourselves when revisiting code later.\r\n",
    "</br>\r\n",
    "Commenting-out (disabling code) is common in debugging."
   ]
  },
  {
   "cell_type": "code",
   "execution_count": 9,
   "metadata": {
    "collapsed": false,
    "jupyter": {
     "outputs_hidden": false
    }
   },
   "outputs": [
    {
     "name": "stdout",
     "output_type": "stream",
     "text": [
      "Hello World!\n"
     ]
    }
   ],
   "source": [
    "# The next line prints the string \"Hello World!\"\n",
    "print(\"Hello World!\")"
   ]
  },
  {
   "cell_type": "code",
   "execution_count": 26,
   "metadata": {},
   "outputs": [
    {
     "name": "stdout",
     "output_type": "stream",
     "text": [
      "Hello World!\n",
      "debugging\n",
      "Bye!\n"
     ]
    }
   ],
   "source": [
    "#single line comment\n",
    "print(\"Hello World!\")\n",
    "'''\n",
    "python program to explain\n",
    "multiple line comment\n",
    "print(\"not debugging\")\n",
    "'''\n",
    "print(\"debugging\")\n",
    "\"\"\"\n",
    "python program to explain\n",
    "multiple line comment\n",
    "print(\"not debugging\")\n",
    "\"\"\"\n",
    "print(\"Bye!\")\n"
   ]
  },
  {
   "cell_type": "markdown",
   "metadata": {},
   "source": [
    "### common tools for starting python programming\n",
    "<b>Method 1:\r\n",
    "</br>\r\n",
    "1- download python from python.org [tick: Add python.exe to PATH]\r\n",
    "</br>\r\n",
    "\r\n",
    "2- for interactive mode : IPython Shell : pip install ipython [Terminal or CommandPrompt] --> >>>ipython : Ideal for quick experiments and trying out short sequences of commands.\r\n",
    "</br>\r\n",
    "</br>\r\n",
    "\r\n",
    "\r\n",
    "3- Jupyter Notebook: pip install notebook [Terminal or CommandPrompt] --> >>> jupyter notebook : Perfect for documenting and explaining the code.\r\n",
    "</br>\r\n",
    "\r\n",
    "4- IDE: Download VS Code from https://code.visualstudio.com/download [tick: Add to PATH]\r\n",
    "</br>\r\n",
    "</br>\r",
    "</br>\r\n",
    "\r\n",
    "Method 2 :\r\n",
    "</br>\r\n",
    "\r\n",
    "install anaconda from https://www.anaconda.com/download/success \r\n",
    "</br>\r\n",
    "run Anaconda Navigator : [jupyter notebook + vs code + Anaconda prompt {interactive mode }]\r\n",
    "\r\n",
    "\r\n"
   ]
  },
  {
   "cell_type": "code",
   "execution_count": 48,
   "metadata": {},
   "outputs": [
    {
     "name": "stdout",
     "output_type": "stream",
     "text": [
      "my name is parisa and my last name is ahmadi\n",
      "my name is: parisa\n",
      "my last name is: ahmadi\n"
     ]
    }
   ],
   "source": [
    "name = 'parisa'\n",
    "last_name = 'ahmadi'\n",
    "print(f'my name is {name} and my last name is {last_name}')\n",
    "print(\"my name is:\" , name)\n",
    "print(\"my last name is:\" , last_name)\n"
   ]
  },
  {
   "cell_type": "markdown",
   "metadata": {},
   "source": [
    "### Problem 1\r\n",
    "Counting the Frequency of Nucleotides in a DNA SequenceTask:\r\n",
    "</br>\r\n",
    "Write a Python program to count the frequency of each nucleotide (A, T, C, G) in a given DNA sequence\r\n",
    "</br>\r\n",
    "\r\n",
    "<b> Sample DNA sequence\r\n",
    " </br>\r\n",
    "dna_sequence = \"ATCGGCTAAGCTAGCTAGCTA\"TAGCTA\"\r\n"
   ]
  },
  {
   "cell_type": "code",
   "execution_count": 42,
   "metadata": {},
   "outputs": [
    {
     "name": "stdout",
     "output_type": "stream",
     "text": [
      "A: 6\n",
      "T: 5\n",
      "C: 5\n",
      "G: 5\n"
     ]
    }
   ],
   "source": [
    "# Sample DNA sequence\n",
    "dna_sequence = \"ATCGGCTAAGCTAGCTAGCTA\"\n",
    "\n",
    "# Counting the frequency of each nucleotide\n",
    "count_A = dna_sequence.count('A')\n",
    "count_T = dna_sequence.count('T')\n",
    "count_C = dna_sequence.count('C')\n",
    "count_G = dna_sequence.count('G')\n",
    "\n",
    "# Printing the results\n",
    "print(\"A:\", count_A)\n",
    "print(\"T:\", count_T)\n",
    "print(\"C:\", count_C)\n",
    "print(\"G:\", count_G)\n"
   ]
  },
  {
   "cell_type": "markdown",
   "metadata": {},
   "source": [
    "### Problem 2:\n",
    "Calculating GC Content of a DNA Sequence\r\n",
    "</br>\r\n",
    "Write a Python program to calculate the GC content of a DNA sequence, which is the percentage of the sequence composed of guanine (G) and cytosine (C).\r\n",
    "</br>\r\n",
    "\r\n",
    "\r\n",
    "# Sample DNA sequence \r\n",
    "</br>\r\n",
    "dna_sequence = \"ATCGGCTAAGCTAGCTAGCTA\"\r\n"
   ]
  },
  {
   "cell_type": "code",
   "execution_count": 64,
   "metadata": {},
   "outputs": [
    {
     "name": "stdout",
     "output_type": "stream",
     "text": [
      "GC Content:47.61904761904761\n",
      "GC Content: 47.62\n",
      "GC Content: 47.62%\n"
     ]
    }
   ],
   "source": [
    "# Sample DNA sequence\n",
    "dna_sequence = \"ATCGGCTAAGCTAGCTAGCTA\"\n",
    "\n",
    "# Counting the occurrences of G and C\n",
    "gc_count = dna_sequence.count('G') + dna_sequence.count('C')\n",
    "\n",
    "# Calculating GC content as a percentage\n",
    "gc_content = (gc_count / len(dna_sequence)) * 100\n",
    "\n",
    "# Printing the result\n",
    "print(f'GC Content:{gc_content}')\n",
    "\n",
    "print(f'GC Content: {gc_content:.2f}')\n",
    "\n",
    "print(f'GC Content: {gc_content:.2f}%')\n"
   ]
  },
  {
   "cell_type": "markdown",
   "metadata": {},
   "source": [
    "### Exercise for chapter 1"
   ]
  },
  {
   "cell_type": "markdown",
   "metadata": {},
   "source": [
    "1. Define: Program, instruction, and variable.\n",
    "2. What is the difference between Python and cPython?\n",
    "3. Name some Python implementations.\n",
    "4. What is the advantage of having both single and double quotes?\n",
    "5. What is format()?\n",
    "6. What is an RPEL?\n",
    "7. When would you use batch mode instead of the interactive shell?\n",
    "8. What is indentation? Why is it mandatory in Python?\n",
    "9. What is a comment in a source code?\n",
    "10. Is there a valid reason to comment out working source code?\n",
    "11. What is a “shebang”?\n",
    "12. What is an “encoding comment.” and when should you use it?\n",
    "13. What is the standard file extension for Python files? What is py? Pyc?pyo?pyw?\n"
   ]
  },
  {
   "cell_type": "markdown",
   "metadata": {},
   "source": [
    "### Any Question : \n",
    "parissa.ahmadi92@gmail.com\n",
    "</br>\n",
    "https://www.linkedin.com/in/parisa-ahmadi/\n",
    "</br>\n",
    "https://github.com/parissaahmadi"
   ]
  },
  {
   "cell_type": "markdown",
   "metadata": {},
   "source": [
    "#### Books :\n",
    "Python Data Science Handbook\n",
    "</br>\n",
    "Python for Bioinformatics"
   ]
  },
  {
   "cell_type": "code",
   "execution_count": null,
   "metadata": {},
   "outputs": [],
   "source": []
  }
 ],
 "metadata": {
  "kernelspec": {
   "display_name": "Python 3 (ipykernel)",
   "language": "python",
   "name": "python3"
  },
  "language_info": {
   "codemirror_mode": {
    "name": "ipython",
    "version": 3
   },
   "file_extension": ".py",
   "mimetype": "text/x-python",
   "name": "python",
   "nbconvert_exporter": "python",
   "pygments_lexer": "ipython3",
   "version": "3.12.4"
  }
 },
 "nbformat": 4,
 "nbformat_minor": 4
}
