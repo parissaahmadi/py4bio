{
 "cells": [
  {
   "cell_type": "markdown",
   "metadata": {},
   "source": [
    "Chapter 4: Handling Files\n",
    "-----------------------------"
   ]
  },
  {
   "cell_type": "markdown",
   "metadata": {},
   "source": [
    "# Reading Files"
   ]
  },
  {
   "cell_type": "code",
   "execution_count": 1,
   "metadata": {},
   "outputs": [],
   "source": [
    "file_handle = open('samples/readme.txt', 'r')"
   ]
  },
  {
   "cell_type": "code",
   "execution_count": 2,
   "metadata": {},
   "outputs": [
    {
     "data": {
      "text/plain": [
       "<_io.TextIOWrapper name='samples/readme.txt' mode='r' encoding='cp1252'>"
      ]
     },
     "execution_count": 2,
     "metadata": {},
     "output_type": "execute_result"
    }
   ],
   "source": [
    "file_handle"
   ]
  },
  {
   "cell_type": "code",
   "execution_count": 3,
   "metadata": {},
   "outputs": [
    {
     "data": {
      "text/plain": [
       "'>O00626|HUMAN Small inducible cytokine A22.\\nMARLQTALLVVLVLLAVALQATEAGPYGANMEDSVCCRDYVRYRLPLRVVKHFYWTSDSCPRPGVVLLTFRDKEICADPRVPWVKMILNKLSQ\\n'"
      ]
     },
     "execution_count": 3,
     "metadata": {},
     "output_type": "execute_result"
    }
   ],
   "source": [
    "file_handle = open('samples/seqA.fas', 'r')\n",
    "file_handle.read()"
   ]
  },
  {
   "cell_type": "code",
   "execution_count": 4,
   "metadata": {},
   "outputs": [],
   "source": [
    "file_handle = open('samples/readme.txt', 'r')\n",
    "# do something with the file\n",
    "file_handle.read()\n",
    "file_handle.close()"
   ]
  },
  {
   "cell_type": "code",
   "execution_count": 5,
   "metadata": {},
   "outputs": [
    {
     "name": "stdout",
     "output_type": "stream",
     "text": [
      "It is a fake text! \n",
      "\n"
     ]
    }
   ],
   "source": [
    "with open('samples/readme.txt', 'r') as file_handle:\n",
    "    print(file_handle.read())\n"
   ]
  },
  {
   "cell_type": "code",
   "execution_count": 6,
   "metadata": {},
   "outputs": [
    {
     "name": "stdout",
     "output_type": "stream",
     "text": [
      ">O00626|HUMAN Small inducible cytokine A22.\n",
      "MARLQTALLVVLVLLAVALQATEAGPYGANMEDSVCCRDYVRYRLPLRVVKHFYWTSDSCPRPGVVLLTFRDKEICADPRVPWVKMILNKLSQ\n",
      "\n"
     ]
    }
   ],
   "source": [
    "with open('samples/seqA.fas', 'r') as file_handle:\n",
    "    print(file_handle.read())"
   ]
  },
  {
   "cell_type": "code",
   "execution_count": 7,
   "metadata": {},
   "outputs": [
    {
     "name": "stdout",
     "output_type": "stream",
     "text": [
      "It is a fake text! \n",
      "\n"
     ]
    }
   ],
   "source": [
    "from pathlib import Path\n",
    "\n",
    "file_path = Path('samples/readme.txt')\n",
    "content = file_path.read_text()\n",
    "print(content)\n"
   ]
  },
  {
   "cell_type": "code",
   "execution_count": 8,
   "metadata": {},
   "outputs": [
    {
     "data": {
      "text/plain": [
       "b'It is a fake text! \\n'"
      ]
     },
     "execution_count": 8,
     "metadata": {},
     "output_type": "execute_result"
    }
   ],
   "source": [
    "binary_content = file_path.read_bytes()\n",
    "binary_content"
   ]
  },
  {
   "cell_type": "markdown",
   "metadata": {},
   "source": [
    "#### read a FASTA file"
   ]
  },
  {
   "cell_type": "code",
   "execution_count": 12,
   "metadata": {},
   "outputs": [
    {
     "name": "stdout",
     "output_type": "stream",
     "text": [
      "temp:\n",
      " [\">sp|Q8RW96|2A5G_ARATH Serine/threonine protein phosphatase 2A 59 kDa regulatory subunit B' gamma isoform OS=Arabidopsis thaliana GN=B'GAMMA PE=1 SV=2\", 'MIKQIFGKLPRKPSKSSHNDSNPNGEGGVNSYYIPNSGISSISKPSSKSSASNSNGANGT', 'VIAPSSTSSNRTNQVNGVYEALPSFRDVPTSEKPNLFIKKLSMCCVVFDFNDPSKNLREK', 'EIKRQTLLELVDYIATVSTKLSDAAMQEIAKVAVVNLFRTFPSANHESKILETLDVDDEE', 'PALEPAWPHLQVVYELLLRFVASPMTDAKLAKRYIDHSFVLKLLDLFDSEDQREREYLKT', 'ILHRIYGKFMVHRPFIRKAINNIFYRFIFETEKHNGIAELLEILGSIINGFALPLKEEHK', 'LFLIRALIPLHRPKCASAYHQQLSYCIVQFVEKDFKLADTVIRGLLKYWPVTNSSKEVMF', 'LGELEEVLEATQAAEFQRCMVPLFRQIARCLNSSHFQVAERALFLWNNDHIRNLITQNHK', 'VIMPIVFPAMERNTRGHWNQAVQSLTLNVRKVMAETDQILFDECLAKFQEDEANETEVVA', 'KREATWKLLEELAASKSVSNEAVLVPRFSSSVTLATGKTSGS', '']\n",
      "\n",
      "The name is:\n",
      "sp|Q8RW96|2A5G_ARATH Serine/threonine protein phosphatase 2A 59 kDa regulatory subunit B' gamma isoform OS=Arabidopsis thaliana GN=B'GAMMA PE=1 SV=2\n",
      "\n",
      "The seq. is :\n",
      "MIKQIFGKLPRKPSKSSHNDSNPNGEGGVNSYYIPNSGISSISKPSSKSSASNSNGANGTVIAPSSTSSNRTNQVNGVYEALPSFRDVPTSEKPNLFIKKLSMCCVVFDFNDPSKNLREKEIKRQTLLELVDYIATVSTKLSDAAMQEIAKVAVVNLFRTFPSANHESKILETLDVDDEEPALEPAWPHLQVVYELLLRFVASPMTDAKLAKRYIDHSFVLKLLDLFDSEDQREREYLKTILHRIYGKFMVHRPFIRKAINNIFYRFIFETEKHNGIAELLEILGSIINGFALPLKEEHKLFLIRALIPLHRPKCASAYHQQLSYCIVQFVEKDFKLADTVIRGLLKYWPVTNSSKEVMFLGELEEVLEATQAAEFQRCMVPLFRQIARCLNSSHFQVAERALFLWNNDHIRNLITQNHKVIMPIVFPAMERNTRGHWNQAVQSLTLNVRKVMAETDQILFDECLAKFQEDEANETEVVAKREATWKLLEELAASKSVSNEAVLVPRFSSSVTLATGKTSGS\n"
     ]
    }
   ],
   "source": [
    "with open('samples/prot.fas') as fh:\n",
    "    my_file = fh.read()\n",
    "    temp = my_file.split('\\n')\n",
    "    name = my_file.split('\\n')[0][1:]\n",
    "    sequence = ''.join(my_file.split('\\n')[1:])\n",
    "print('temp:\\n', temp)\n",
    "print(f'\\nThe name is:\\n{name}')\n",
    "print(f'\\nThe seq. is :\\n{sequence}')"
   ]
  },
  {
   "cell_type": "markdown",
   "metadata": {},
   "source": [
    "#### Theoretical Questions:"
   ]
  },
  {
   "cell_type": "markdown",
   "metadata": {},
   "source": [
    "1. What is the difference between “w” and “a” modes if both allow you to write\n",
    "files?\n",
    "2. Why we must close all files that are no longer in use?\n",
    "3. Why we open files using with?"
   ]
  },
  {
   "cell_type": "code",
   "execution_count": null,
   "metadata": {},
   "outputs": [],
   "source": []
  }
 ],
 "metadata": {
  "kernelspec": {
   "display_name": "Python (GPU)",
   "language": "python",
   "name": "gpu_env"
  },
  "language_info": {
   "codemirror_mode": {
    "name": "ipython",
    "version": 3
   },
   "file_extension": ".py",
   "mimetype": "text/x-python",
   "name": "python",
   "nbconvert_exporter": "python",
   "pygments_lexer": "ipython3",
   "version": "3.8.19"
  }
 },
 "nbformat": 4,
 "nbformat_minor": 4
}
