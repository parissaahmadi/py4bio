{
 "cells": [
  {
   "cell_type": "markdown",
   "metadata": {},
   "source": [
    "Chapter 5: Code Modularizing\n",
    "--------------------------------"
   ]
  },
  {
   "cell_type": "markdown",
   "metadata": {},
   "source": [
    "Python offers several tools for code modularization:\n",
    "- Functions – the basic reusable blocks.\n",
    "- Modules\n",
    "- Packages\n",
    "- Classes – covered later."
   ]
  },
  {
   "cell_type": "markdown",
   "metadata": {},
   "source": [
    "## Functions"
   ]
  },
  {
   "attachments": {},
   "cell_type": "markdown",
   "metadata": {},
   "source": [
    "A function is a named block of code that performs a task.\n",
    "It may take inputs (parameters) and may return outputs."
   ]
  },
  {
   "cell_type": "code",
   "execution_count": null,
   "metadata": {},
   "outputs": [],
   "source": [
    "def function_name(argument1, argument2, ...):\n",
    "    \"\"\" Optional Function description (Docstring) \"\"\"\n",
    "    # FUNCTION CODE\n",
    "    return result\n"
   ]
  },
  {
   "cell_type": "code",
   "execution_count": 3,
   "metadata": {},
   "outputs": [],
   "source": [
    "def greet(name):\n",
    "    return f\"Hello, {name}!\""
   ]
  },
  {
   "cell_type": "code",
   "execution_count": 4,
   "metadata": {},
   "outputs": [
    {
     "data": {
      "text/plain": [
       "'Hello, parisa!'"
      ]
     },
     "execution_count": 4,
     "metadata": {},
     "output_type": "execute_result"
    }
   ],
   "source": [
    "greet('parisa')"
   ]
  },
  {
   "attachments": {},
   "cell_type": "markdown",
   "metadata": {},
   "source": [
    "- 🔹 A Biology Example: Protein Net Charge"
   ]
  },
  {
   "cell_type": "code",
   "execution_count": 5,
   "metadata": {},
   "outputs": [],
   "source": [
    "def protcharge(aa_seq):\n",
    "    \"\"\"Returns the net charge of a protein sequence\"\"\"\n",
    "    protseq = aa_seq.upper()\n",
    "    charge = -0.002\n",
    "    aa_charge = {'C': -0.045, 'D': -0.999, 'E': -0.998, 'H': 0.091,\n",
    "                 'K': 1, 'R': 1, 'Y': -0.001}\n",
    "    for aa in protseq:\n",
    "        charge += aa_charge.get(aa, 0)\n",
    "    return charge\n"
   ]
  },
  {
   "cell_type": "code",
   "execution_count": 6,
   "metadata": {
    "collapsed": false,
    "jupyter": {
     "outputs_hidden": false
    }
   },
   "outputs": [
    {
     "data": {
      "text/plain": [
       "4.094"
      ]
     },
     "execution_count": 6,
     "metadata": {},
     "output_type": "execute_result"
    }
   ],
   "source": [
    "protcharge('EEARGPLRGKGDQKSAVSQKPRSRGILH')"
   ]
  },
  {
   "cell_type": "code",
   "execution_count": 7,
   "metadata": {
    "collapsed": false,
    "jupyter": {
     "outputs_hidden": false
    }
   },
   "outputs": [
    {
     "ename": "TypeError",
     "evalue": "protcharge() missing 1 required positional argument: 'aa_seq'",
     "output_type": "error",
     "traceback": [
      "\u001b[1;31m---------------------------------------------------------------------------\u001b[0m",
      "\u001b[1;31mTypeError\u001b[0m                                 Traceback (most recent call last)",
      "Cell \u001b[1;32mIn[7], line 1\u001b[0m\n\u001b[1;32m----> 1\u001b[0m \u001b[43mprotcharge\u001b[49m\u001b[43m(\u001b[49m\u001b[43m)\u001b[49m\n",
      "\u001b[1;31mTypeError\u001b[0m: protcharge() missing 1 required positional argument: 'aa_seq'"
     ]
    }
   ],
   "source": [
    "protcharge() #TypeError"
   ]
  },
  {
   "attachments": {},
   "cell_type": "markdown",
   "metadata": {},
   "source": [
    "- 🔹 Protein Net Charge Returning Multiple Values"
   ]
  },
  {
   "cell_type": "code",
   "execution_count": 8,
   "metadata": {},
   "outputs": [],
   "source": [
    "def charge_and_prop(aa_seq):\n",
    "    \"\"\"Returns net charge and proportion of charged amino acids\"\"\"\n",
    "    protseq = aa_seq.upper()\n",
    "    charge = -0.002\n",
    "    cp = 0\n",
    "    aa_charge = {'C': -0.045, 'D': -0.999, 'E': -0.998, 'H': 0.091,\n",
    "                 'K': 1, 'R': 1, 'Y': -0.001}\n",
    "    for aa in protseq:\n",
    "        charge += aa_charge.get(aa, 0)\n",
    "        if aa in aa_charge:\n",
    "            cp += 1\n",
    "    prop = 100.0 * cp / len(aa_seq)\n",
    "    return (charge, prop)\n"
   ]
  },
  {
   "cell_type": "code",
   "execution_count": 9,
   "metadata": {
    "collapsed": false,
    "jupyter": {
     "outputs_hidden": false
    }
   },
   "outputs": [
    {
     "data": {
      "text/plain": [
       "(4.094, 39.285714285714285)"
      ]
     },
     "execution_count": 9,
     "metadata": {},
     "output_type": "execute_result"
    }
   ],
   "source": [
    "charge_and_prop('EEARGPLRGKGDQKSAVSQKPRSRGILH')"
   ]
  },
  {
   "cell_type": "code",
   "execution_count": 10,
   "metadata": {
    "collapsed": false,
    "jupyter": {
     "outputs_hidden": false
    }
   },
   "outputs": [
    {
     "data": {
      "text/plain": [
       "39.285714285714285"
      ]
     },
     "execution_count": 10,
     "metadata": {},
     "output_type": "execute_result"
    }
   ],
   "source": [
    "charge_and_prop('EEARGPLRGKGDQKSAVSQKPRSRGILH')[1]"
   ]
  },
  {
   "attachments": {},
   "cell_type": "markdown",
   "metadata": {},
   "source": [
    "- 🔹 - Converts a list into a text file Functions That Do (Not Return) Something"
   ]
  },
  {
   "cell_type": "code",
   "execution_count": 11,
   "metadata": {
    "collapsed": false,
    "jupyter": {
     "outputs_hidden": false
    }
   },
   "outputs": [],
   "source": [
    "def save_list(input_list, file_name):\n",
    "    \"\"\"Saves each item of input_list to a new line in file_name\"\"\"\n",
    "    with open(file_name, 'w') as fh:\n",
    "        print(*input_list, sep='\\n', file=fh)\n",
    "    return None  # Optional"
   ]
  },
  {
   "cell_type": "code",
   "execution_count": 12,
   "metadata": {},
   "outputs": [],
   "source": [
    "# Define the list\n",
    "my_genes = ['BRCA1', 'TP53', 'EGFR', 'MYC']\n",
    "# Save the list to a file named \"genes.txt\"\n",
    "save_list(my_genes, 'genes.txt')"
   ]
  },
  {
   "cell_type": "code",
   "execution_count": 13,
   "metadata": {},
   "outputs": [],
   "source": [
    "#genes.txt :\n",
    "#BRCA1\n",
    "#TP53\n",
    "#EGFR\n",
    "#MYC"
   ]
  },
  {
   "cell_type": "markdown",
   "metadata": {},
   "source": [
    "- Instead of replacing, it appends to the end of the file (meaning each time you run the function, new items are added to the end of the file):"
   ]
  },
  {
   "cell_type": "markdown",
   "metadata": {},
   "source": [
    "If a file with the same name already exists, its contents are deleted and replaced with the new list.\n",
    "If you want to append to the file (not replace), you must use the 'a' mode instead of 'w' in open.\n"
   ]
  },
  {
   "cell_type": "code",
   "execution_count": 15,
   "metadata": {},
   "outputs": [],
   "source": [
    "def append_list(input_list, file_name):\n",
    "    \"\"\"Appends each item of input_list to a new line at the end of file_name\"\"\"\n",
    "    with open(file_name, 'a') as fh:  # 'a' means append mode\n",
    "        print(*input_list, sep='\\n', file=fh)\n",
    "    return None  # Optional\n"
   ]
  },
  {
   "cell_type": "code",
   "execution_count": 16,
   "metadata": {},
   "outputs": [],
   "source": [
    "# First list to write\n",
    "my_first_list = ['GeneA', 'GeneB']\n",
    "append_list(my_first_list, 'genes.txt')\n",
    "\n",
    "# Another list to add later\n",
    "my_second_list = ['GeneC', 'GeneD']\n",
    "append_list(my_second_list, 'genes.txt')"
   ]
  },
  {
   "cell_type": "code",
   "execution_count": 17,
   "metadata": {},
   "outputs": [],
   "source": [
    "#genes.txt :\n",
    "#BRCA1\n",
    "#TP53\n",
    "#EGFR\n",
    "#MYC\n",
    "#GeneA\n",
    "#GeneB\n",
    "#GeneC\n",
    "#GeneD"
   ]
  },
  {
   "cell_type": "markdown",
   "metadata": {},
   "source": [
    "- Function Scope"
   ]
  },
  {
   "cell_type": "markdown",
   "metadata": {},
   "source": [
    "Variables declared inside a function exist only within that function.\n",
    "This concept is called \"scope\".\n",
    "If you try to access such a variable from outside, Python will raise a NameError.\n"
   ]
  },
  {
   "cell_type": "code",
   "execution_count": 18,
   "metadata": {},
   "outputs": [
    {
     "name": "stdout",
     "output_type": "stream",
     "text": [
      "y = 1\n"
     ]
    },
    {
     "ename": "NameError",
     "evalue": "name 'y' is not defined",
     "output_type": "error",
     "traceback": [
      "\u001b[1;31m---------------------------------------------------------------------------\u001b[0m",
      "\u001b[1;31mNameError\u001b[0m                                 Traceback (most recent call last)",
      "Cell \u001b[1;32mIn[18], line 10\u001b[0m\n\u001b[0;32m      6\u001b[0m duplicate(\u001b[38;5;241m5\u001b[39m)\n\u001b[0;32m      7\u001b[0m \u001b[38;5;66;03m# y = 1\u001b[39;00m\n\u001b[0;32m      8\u001b[0m \u001b[38;5;66;03m# 10\u001b[39;00m\n\u001b[1;32m---> 10\u001b[0m \u001b[38;5;28mprint\u001b[39m(\u001b[43my\u001b[49m)\n",
      "\u001b[1;31mNameError\u001b[0m: name 'y' is not defined"
     ]
    }
   ],
   "source": [
    "def duplicate(x):\n",
    "    y = 1  # Local variable\n",
    "    print(f'y = {y}')\n",
    "    return 2 * x\n",
    "\n",
    "duplicate(5)\n",
    "# y = 1\n",
    "# 10\n",
    "\n",
    "print(y)\n",
    "# NameError: y is not defined\n"
   ]
  },
  {
   "cell_type": "markdown",
   "metadata": {},
   "source": [
    "- 🔹 Scope Lookup Order\n",
    "- If a variable is not found inside a function, Python searches for it outside — up to the global scope."
   ]
  },
  {
   "cell_type": "code",
   "execution_count": 20,
   "metadata": {},
   "outputs": [
    {
     "name": "stdout",
     "output_type": "stream",
     "text": [
      "y = 3\n"
     ]
    },
    {
     "data": {
      "text/plain": [
       "10"
      ]
     },
     "execution_count": 20,
     "metadata": {},
     "output_type": "execute_result"
    }
   ],
   "source": [
    "y = 3\n",
    "\n",
    "def duplicate(x):\n",
    "    print(f'y = {y}')  # uses global y\n",
    "    return 2 * x\n",
    "\n",
    "duplicate(5)\n",
    "# y = 3\n",
    "# 10\n"
   ]
  },
  {
   "cell_type": "markdown",
   "metadata": {},
   "source": [
    "But if y is defined both inside and outside, Python uses the one inside the function:\n"
   ]
  },
  {
   "cell_type": "code",
   "execution_count": 21,
   "metadata": {},
   "outputs": [
    {
     "name": "stdout",
     "output_type": "stream",
     "text": [
      "y = 1\n"
     ]
    },
    {
     "data": {
      "text/plain": [
       "10"
      ]
     },
     "execution_count": 21,
     "metadata": {},
     "output_type": "execute_result"
    }
   ],
   "source": [
    "y = 3\n",
    "\n",
    "def duplicate(x):\n",
    "    y = 1  # local y takes priority\n",
    "    print(f'y = {y}')\n",
    "    return 2 * x\n",
    "\n",
    "duplicate(5)\n",
    "# y = 1\n",
    "# 10\n"
   ]
  },
  {
   "cell_type": "markdown",
   "metadata": {},
   "source": [
    "### 🔹 ⚠️ Global Variables (Use with Caution)\n"
   ]
  },
  {
   "cell_type": "markdown",
   "metadata": {},
   "source": [
    "You can declare a variable as global inside a function using the global keyword.\n",
    "But be careful — they can be modified unexpectedly and are less memory-efficient.\n"
   ]
  },
  {
   "cell_type": "code",
   "execution_count": 22,
   "metadata": {},
   "outputs": [
    {
     "name": "stdout",
     "output_type": "stream",
     "text": [
      "z = 10\n",
      "10\n"
     ]
    }
   ],
   "source": [
    "def test(x):\n",
    "    global z\n",
    "    z = 10\n",
    "    print(f'z = {z}')\n",
    "    return x * 2\n",
    "\n",
    "z = 1\n",
    "test(4)\n",
    "# z = 10\n",
    "# 8\n",
    "\n",
    "print(z)\n",
    "# 10\n"
   ]
  },
  {
   "attachments": {},
   "cell_type": "markdown",
   "metadata": {},
   "source": [
    "### Placement of Arguments\n",
    "Until now, arguments have been passed in the same order they were defined."
   ]
  },
  {
   "cell_type": "code",
   "execution_count": 21,
   "metadata": {},
   "outputs": [],
   "source": [
    "save_list([1, 2, 3], 'list.txt')"
   ]
  },
  {
   "cell_type": "code",
   "execution_count": 22,
   "metadata": {},
   "outputs": [
    {
     "ename": "TypeError",
     "evalue": "unhashable type: 'list'",
     "output_type": "error",
     "traceback": [
      "\u001b[1;31m---------------------------------------------------------------------------\u001b[0m",
      "\u001b[1;31mTypeError\u001b[0m                                 Traceback (most recent call last)",
      "Cell \u001b[1;32mIn[22], line 1\u001b[0m\n\u001b[1;32m----> 1\u001b[0m \u001b[43msave_list\u001b[49m\u001b[43m(\u001b[49m\u001b[38;5;124;43m'\u001b[39;49m\u001b[38;5;124;43mlist.txt\u001b[39;49m\u001b[38;5;124;43m'\u001b[39;49m\u001b[43m,\u001b[49m\u001b[43m \u001b[49m\u001b[43m[\u001b[49m\u001b[38;5;241;43m1\u001b[39;49m\u001b[43m,\u001b[49m\u001b[43m \u001b[49m\u001b[38;5;241;43m2\u001b[39;49m\u001b[43m,\u001b[49m\u001b[43m \u001b[49m\u001b[38;5;241;43m3\u001b[39;49m\u001b[43m]\u001b[49m\u001b[43m)\u001b[49m\n",
      "Cell \u001b[1;32mIn[9], line 3\u001b[0m, in \u001b[0;36msave_list\u001b[1;34m(input_list, file_name)\u001b[0m\n\u001b[0;32m      1\u001b[0m \u001b[38;5;28;01mdef\u001b[39;00m \u001b[38;5;21msave_list\u001b[39m(input_list, file_name):\n\u001b[0;32m      2\u001b[0m \u001b[38;5;250m    \u001b[39m\u001b[38;5;124;03m\"\"\"Saves each item of input_list to a new line in file_name\"\"\"\u001b[39;00m\n\u001b[1;32m----> 3\u001b[0m     \u001b[38;5;28;01mwith\u001b[39;00m \u001b[38;5;28;43mopen\u001b[39;49m\u001b[43m(\u001b[49m\u001b[43mfile_name\u001b[49m\u001b[43m,\u001b[49m\u001b[43m \u001b[49m\u001b[38;5;124;43m'\u001b[39;49m\u001b[38;5;124;43mw\u001b[39;49m\u001b[38;5;124;43m'\u001b[39;49m\u001b[43m)\u001b[49m \u001b[38;5;28;01mas\u001b[39;00m fh:\n\u001b[0;32m      4\u001b[0m         \u001b[38;5;28mprint\u001b[39m(\u001b[38;5;241m*\u001b[39minput_list, sep\u001b[38;5;241m=\u001b[39m\u001b[38;5;124m'\u001b[39m\u001b[38;5;130;01m\\n\u001b[39;00m\u001b[38;5;124m'\u001b[39m, file\u001b[38;5;241m=\u001b[39mfh)\n\u001b[0;32m      5\u001b[0m     \u001b[38;5;28;01mreturn\u001b[39;00m \u001b[38;5;28;01mNone\u001b[39;00m\n",
      "File \u001b[1;32m~\\.conda\\envs\\gpu_env\\lib\\site-packages\\IPython\\core\\interactiveshell.py:277\u001b[0m, in \u001b[0;36m_modified_open\u001b[1;34m(file, *args, **kwargs)\u001b[0m\n\u001b[0;32m    275\u001b[0m \u001b[38;5;129m@functools\u001b[39m\u001b[38;5;241m.\u001b[39mwraps(io_open)\n\u001b[0;32m    276\u001b[0m \u001b[38;5;28;01mdef\u001b[39;00m \u001b[38;5;21m_modified_open\u001b[39m(file, \u001b[38;5;241m*\u001b[39margs, \u001b[38;5;241m*\u001b[39m\u001b[38;5;241m*\u001b[39mkwargs):\n\u001b[1;32m--> 277\u001b[0m     \u001b[38;5;28;01mif\u001b[39;00m \u001b[43mfile\u001b[49m\u001b[43m \u001b[49m\u001b[38;5;129;43;01min\u001b[39;49;00m\u001b[43m \u001b[49m\u001b[43m{\u001b[49m\u001b[38;5;241;43m0\u001b[39;49m\u001b[43m,\u001b[49m\u001b[43m \u001b[49m\u001b[38;5;241;43m1\u001b[39;49m\u001b[43m,\u001b[49m\u001b[43m \u001b[49m\u001b[38;5;241;43m2\u001b[39;49m\u001b[43m}\u001b[49m:\n\u001b[0;32m    278\u001b[0m         \u001b[38;5;28;01mraise\u001b[39;00m \u001b[38;5;167;01mValueError\u001b[39;00m(\n\u001b[0;32m    279\u001b[0m             \u001b[38;5;124mf\u001b[39m\u001b[38;5;124m\"\u001b[39m\u001b[38;5;124mIPython won\u001b[39m\u001b[38;5;124m'\u001b[39m\u001b[38;5;124mt let you open fd=\u001b[39m\u001b[38;5;132;01m{\u001b[39;00mfile\u001b[38;5;132;01m}\u001b[39;00m\u001b[38;5;124m by default \u001b[39m\u001b[38;5;124m\"\u001b[39m\n\u001b[0;32m    280\u001b[0m             \u001b[38;5;124m\"\u001b[39m\u001b[38;5;124mas it is likely to crash IPython. If you know what you are doing, \u001b[39m\u001b[38;5;124m\"\u001b[39m\n\u001b[0;32m    281\u001b[0m             \u001b[38;5;124m\"\u001b[39m\u001b[38;5;124myou can use builtins\u001b[39m\u001b[38;5;124m'\u001b[39m\u001b[38;5;124m open.\u001b[39m\u001b[38;5;124m\"\u001b[39m\n\u001b[0;32m    282\u001b[0m         )\n\u001b[0;32m    284\u001b[0m     \u001b[38;5;28;01mreturn\u001b[39;00m io_open(file, \u001b[38;5;241m*\u001b[39margs, \u001b[38;5;241m*\u001b[39m\u001b[38;5;241m*\u001b[39mkwargs)\n",
      "\u001b[1;31mTypeError\u001b[0m: unhashable type: 'list'"
     ]
    }
   ],
   "source": [
    "save_list('list.txt', [1, 2, 3])\n",
    "# TypeError: invalid file: [1, 2, 3]"
   ]
  },
  {
   "cell_type": "markdown",
   "metadata": {},
   "source": [
    "✅ To use aThis happens because the function expects a list first, and then a string.\n",
    "rguments in any order, you must use keyword arguments:\n"
   ]
  },
  {
   "cell_type": "code",
   "execution_count": 23,
   "metadata": {},
   "outputs": [],
   "source": [
    "save_list(file_name='list.txt', input_list=[1, 2, 3])"
   ]
  },
  {
   "cell_type": "markdown",
   "metadata": {},
   "source": [
    "- ⚙️ Arguments with Default Values\n",
    "- Functions can define default values for parameters:"
   ]
  },
  {
   "cell_type": "code",
   "execution_count": null,
   "metadata": {},
   "outputs": [],
   "source": [
    "def function_name(arg1=default_value, arg2=default_value):\n",
    "    ...\n"
   ]
  },
  {
   "cell_type": "code",
   "execution_count": 24,
   "metadata": {
    "collapsed": false,
    "jupyter": {
     "outputs_hidden": false
    }
   },
   "outputs": [],
   "source": [
    "def save_list(input_list, file_name='temp.txt'):\n",
    "    \"\"\"A list (input_list) is saved in a file (file_name)\"\"\"\n",
    "    with open(file_name, 'w') as fh:\n",
    "        for item in input_list:\n",
    "            fh.write(f'{item}\\n')  # Python 3.6+ formatted string\n",
    "    return None\n"
   ]
  },
  {
   "cell_type": "code",
   "execution_count": 25,
   "metadata": {},
   "outputs": [],
   "source": [
    " save_list(['MS233','MS772','MS120','MS93','MS912'])"
   ]
  },
  {
   "attachments": {},
   "cell_type": "markdown",
   "metadata": {},
   "source": [
    "- Variable Number of Arguments : You can define functions that accept any number of arguments using *:"
   ]
  },
  {
   "cell_type": "code",
   "execution_count": 26,
   "metadata": {},
   "outputs": [],
   "source": [
    "def average(*numbers):\n",
    "    if len(numbers) == 0:\n",
    "        return None\n",
    "    else:\n",
    "        total = sum(numbers)\n",
    "        return total / len(numbers)\n"
   ]
  },
  {
   "cell_type": "code",
   "execution_count": 27,
   "metadata": {
    "collapsed": false,
    "jupyter": {
     "outputs_hidden": false
    }
   },
   "outputs": [
    {
     "name": "stdout",
     "output_type": "stream",
     "text": [
      "2.8\n"
     ]
    },
    {
     "data": {
      "text/plain": [
       "3.6666666666666665"
      ]
     },
     "execution_count": 27,
     "metadata": {},
     "output_type": "execute_result"
    }
   ],
   "source": [
    "print(average(2, 3, 4, 3, 2))       # Output: 2.8\n",
    "average(2, 3, 4, 3, 2, 8)    # Output: 3.666...\n"
   ]
  },
  {
   "attachments": {},
   "cell_type": "markdown",
   "metadata": {},
   "source": [
    "- Converts a list into a text file, using print and *\n",
    "- 🔹 Using * to Unpack Lists\n",
    "From Python 3 onward, * can also be used to unpack list elements:\n",
    "This version is cleaner and avoids using a for loop. It prints each item in the list to the file, each on its own line."
   ]
  },
  {
   "cell_type": "code",
   "execution_count": 30,
   "metadata": {},
   "outputs": [],
   "source": [
    "def save_list(input_list, file_name='temp.txt'):\n",
    "    \"\"\"A list (input_list) is saved to a file (file_name)\"\"\"\n",
    "    with open(file_name, 'w') as fh:\n",
    "        print(*input_list, sep='\\n', file=fh)\n",
    "    return None\n"
   ]
  },
  {
   "cell_type": "code",
   "execution_count": 31,
   "metadata": {},
   "outputs": [],
   "source": [
    "save_list(['apple', 'banana', 'cherry'], 'fruits.txt')"
   ]
  },
  {
   "cell_type": "code",
   "execution_count": 32,
   "metadata": {},
   "outputs": [
    {
     "name": "stdout",
     "output_type": "stream",
     "text": [
      "apple\n",
      "banana\n",
      "cherry\n",
      "\n"
     ]
    }
   ],
   "source": [
    "with open('fruits.txt', 'r') as f:\n",
    "    print(f.read())"
   ]
  },
  {
   "attachments": {},
   "cell_type": "markdown",
   "metadata": {},
   "source": [
    "### 🔹 Undetermined Number of Keyword Arguments\n",
    "Functions can accept any number of keyword arguments using a double asterisk **. These arguments are collected into a dictionary:"
   ]
  },
  {
   "cell_type": "code",
   "execution_count": 5,
   "metadata": {},
   "outputs": [],
   "source": [
    "def commandline(name, **parameters):\n",
    "    line = ''\n",
    "    for item in parameters:\n",
    "        line += f' -{item} {parameters[item]}'\n",
    "    return name + line\n"
   ]
  },
  {
   "cell_type": "code",
   "execution_count": 6,
   "metadata": {
    "collapsed": false,
    "jupyter": {
     "outputs_hidden": false
    }
   },
   "outputs": [
    {
     "data": {
      "text/plain": [
       "'formatdb -t Caseins -i indata.fas'"
      ]
     },
     "execution_count": 6,
     "metadata": {},
     "output_type": "execute_result"
    }
   ],
   "source": [
    "commandline('formatdb', t='Caseins', i='indata.fas')"
   ]
  },
  {
   "cell_type": "code",
   "execution_count": 7,
   "metadata": {
    "collapsed": false,
    "jupyter": {
     "outputs_hidden": false
    },
    "scrolled": true
   },
   "outputs": [
    {
     "data": {
      "text/plain": [
       "'formatdb -t Caseins -i indata.fas -p F'"
      ]
     },
     "execution_count": 7,
     "metadata": {},
     "output_type": "execute_result"
    }
   ],
   "source": [
    " commandline('formatdb', t='Caseins', i='indata.fas', p='F')"
   ]
  },
  {
   "attachments": {},
   "cell_type": "markdown",
   "metadata": {},
   "source": [
    "### docstring\n",
    "A docstring is a special string that comes immediately after a function definition. It is used for:\n",
    "- Online help (via help())\n",
    "- Automatic documentation\n",
    "- Making the source code more understandable\n",
    "https://peps.python.org/pep-0257/"
   ]
  },
  {
   "cell_type": "code",
   "execution_count": 36,
   "metadata": {},
   "outputs": [],
   "source": [
    "def is_prime(n):\n",
    "    \"\"\"Returns True if n is a prime number, otherwise False.\"\"\"\n"
   ]
  },
  {
   "attachments": {},
   "cell_type": "markdown",
   "metadata": {},
   "source": [
    "### Generators\n",
    "Generators are special functions that retain their internal state. Unlike normal functions, they do not lose variable values after execution.\n",
    "- They use the yield keyword instead of return.\n",
    "- Useful for working with large data, like huge files, where storing everything in memory is inefficient.\n"
   ]
  },
  {
   "cell_type": "code",
   "execution_count": 14,
   "metadata": {},
   "outputs": [],
   "source": [
    "def is_prime(n):\n",
    "    \"\"\"Returns True if n is a prime number, otherwise False.\"\"\"\n",
    "    if n < 2:\n",
    "        return False\n",
    "    for i in range(2, int(n ** 0.5) + 1):  # Optimized for modern use\n",
    "        if n % i == 0:\n",
    "            return False\n",
    "    return True\n",
    "\n",
    "def all_primes(n):\n",
    "    primes = []\n",
    "    for number in range(1, n):\n",
    "        if is_prime(number):\n",
    "            primes.append(number)\n",
    "    return primes\n"
   ]
  },
  {
   "cell_type": "code",
   "execution_count": 15,
   "metadata": {},
   "outputs": [
    {
     "name": "stdout",
     "output_type": "stream",
     "text": [
      "[2, 3, 5, 7, 11, 13, 17, 19, 23, 29, 31, 37, 41, 43, 47, 53, 59, 61, 67, 71, 73, 79, 83, 89, 97]\n"
     ]
    }
   ],
   "source": [
    "primes = all_primes(100)\n",
    "print(primes)"
   ]
  },
  {
   "attachments": {},
   "cell_type": "markdown",
   "metadata": {},
   "source": [
    "🔸 The generator doesn’t build a list, so it saves memory and can be used in loops directly."
   ]
  },
  {
   "cell_type": "code",
   "execution_count": 17,
   "metadata": {},
   "outputs": [],
   "source": [
    "def g_all_primes(n):\n",
    "    \"\"\"Yields prime numbers up to n one by one.\"\"\"\n",
    "    for number in range(1, n):\n",
    "        if is_prime(number):\n",
    "            yield number\n"
   ]
  },
  {
   "cell_type": "markdown",
   "metadata": {},
   "source": [
    "This function generates a list of prime numbers and stores them in memory:\n",
    "✅ Because the function returns all the output as a complete list, you can view, read, or save it all at once."
   ]
  },
  {
   "cell_type": "code",
   "execution_count": 18,
   "metadata": {},
   "outputs": [
    {
     "name": "stdout",
     "output_type": "stream",
     "text": [
      "<generator object g_all_primes at 0x00000266147E6CF0>\n"
     ]
    }
   ],
   "source": [
    "g_primes = g_all_primes(20)\n",
    "print(g_primes)"
   ]
  },
  {
   "cell_type": "code",
   "execution_count": 19,
   "metadata": {},
   "outputs": [
    {
     "name": "stdout",
     "output_type": "stream",
     "text": [
      "2\n",
      "3\n",
      "5\n",
      "7\n",
      "11\n",
      "13\n",
      "17\n",
      "19\n"
     ]
    }
   ],
   "source": [
    "for p in g_all_primes(20):\n",
    "    print(p)"
   ]
  },
  {
   "cell_type": "code",
   "execution_count": 20,
   "metadata": {},
   "outputs": [
    {
     "name": "stdout",
     "output_type": "stream",
     "text": [
      "2\n"
     ]
    }
   ],
   "source": [
    "g_primes = g_all_primes(100)\n",
    "print(next(g_primes))"
   ]
  },
  {
   "cell_type": "code",
   "execution_count": 21,
   "metadata": {},
   "outputs": [
    {
     "name": "stdout",
     "output_type": "stream",
     "text": [
      "3\n"
     ]
    }
   ],
   "source": [
    "print(next(g_primes))"
   ]
  },
  {
   "cell_type": "code",
   "execution_count": 39,
   "metadata": {},
   "outputs": [
    {
     "name": "stdout",
     "output_type": "stream",
     "text": [
      "[2, 3, 5, 7]\n"
     ]
    }
   ],
   "source": [
    "primes = all_primes(10)\n",
    "print(primes)"
   ]
  },
  {
   "cell_type": "code",
   "execution_count": 22,
   "metadata": {},
   "outputs": [
    {
     "name": "stdout",
     "output_type": "stream",
     "text": [
      "77840\n",
      "112\n"
     ]
    }
   ],
   "source": [
    "import sys\n",
    "\n",
    "print(sys.getsizeof(all_primes(100000)))     # Memory used by the full list\n",
    "print(sys.getsizeof(g_all_primes(100000)))   # Memory used by generator"
   ]
  },
  {
   "cell_type": "markdown",
   "metadata": {},
   "source": [
    "- If you want to use a generator, you need to output it using for or the next() function."
   ]
  },
  {
   "cell_type": "markdown",
   "metadata": {},
   "source": [
    "📌 Method 1: With the for"
   ]
  },
  {
   "cell_type": "markdown",
   "metadata": {},
   "source": [
    "✅ Outputs are produced one by one and at the moment of need, not all at once!"
   ]
  },
  {
   "cell_type": "code",
   "execution_count": 40,
   "metadata": {},
   "outputs": [
    {
     "name": "stdout",
     "output_type": "stream",
     "text": [
      "2\n",
      "3\n",
      "5\n",
      "7\n"
     ]
    }
   ],
   "source": [
    "for p in g_all_primes(10):\n",
    "    print(p)"
   ]
  },
  {
   "cell_type": "markdown",
   "metadata": {},
   "source": [
    "📌 method2: Using next() (to see better control)"
   ]
  },
  {
   "cell_type": "markdown",
   "metadata": {},
   "source": [
    "If you use next() more than the number of outputs, you will get a StopIteration error because the generator has run out."
   ]
  },
  {
   "cell_type": "code",
   "execution_count": 42,
   "metadata": {},
   "outputs": [
    {
     "name": "stdout",
     "output_type": "stream",
     "text": [
      "2\n",
      "3\n",
      "5\n",
      "7\n"
     ]
    },
    {
     "ename": "StopIteration",
     "evalue": "",
     "output_type": "error",
     "traceback": [
      "\u001b[1;31m---------------------------------------------------------------------------\u001b[0m",
      "\u001b[1;31mStopIteration\u001b[0m                             Traceback (most recent call last)",
      "Cell \u001b[1;32mIn[42], line 6\u001b[0m\n\u001b[0;32m      4\u001b[0m \u001b[38;5;28mprint\u001b[39m(\u001b[38;5;28mnext\u001b[39m(gen))  \u001b[38;5;66;03m# 5\u001b[39;00m\n\u001b[0;32m      5\u001b[0m \u001b[38;5;28mprint\u001b[39m(\u001b[38;5;28mnext\u001b[39m(gen))  \u001b[38;5;66;03m# 7\u001b[39;00m\n\u001b[1;32m----> 6\u001b[0m \u001b[38;5;28mprint\u001b[39m(\u001b[38;5;28;43mnext\u001b[39;49m\u001b[43m(\u001b[49m\u001b[43mgen\u001b[49m\u001b[43m)\u001b[49m)\n",
      "\u001b[1;31mStopIteration\u001b[0m: "
     ]
    }
   ],
   "source": [
    "gen = g_all_primes(10)\n",
    "print(next(gen))  # 2\n",
    "print(next(gen))  # 3\n",
    "print(next(gen))  # 5\n",
    "print(next(gen))  # 7\n",
    "print(next(gen))  # error: StopIteration\n"
   ]
  },
  {
   "cell_type": "code",
   "execution_count": 43,
   "metadata": {},
   "outputs": [
    {
     "name": "stdout",
     "output_type": "stream",
     "text": [
      "10192\n",
      "112\n"
     ]
    }
   ],
   "source": [
    "import sys\n",
    "\n",
    "print(sys.getsizeof(all_primes(10000)))     # Memory used by the full list\n",
    "print(sys.getsizeof(g_all_primes(10000)))   # Memory used by generator"
   ]
  },
  {
   "cell_type": "markdown",
   "metadata": {},
   "source": [
    "✅ The generator only holds the function definition, not the data!"
   ]
  },
  {
   "cell_type": "markdown",
   "metadata": {},
   "source": [
    "### fun:\n",
    "Function: \"Make all the tea at once\""
   ]
  },
  {
   "cell_type": "code",
   "execution_count": 6,
   "metadata": {},
   "outputs": [],
   "source": [
    "def make_tea():\n",
    "    return [\"Boil water\", \"Add tea leaves\", \"Steep\", \"Serve\", \"Drink\"]"
   ]
  },
  {
   "cell_type": "code",
   "execution_count": 7,
   "metadata": {},
   "outputs": [
    {
     "name": "stdout",
     "output_type": "stream",
     "text": [
      "['Boil water', 'Add tea leaves', 'Steep', 'Serve', 'Drink']\n"
     ]
    }
   ],
   "source": [
    "tea = make_tea()\n",
    "print(tea)"
   ]
  },
  {
   "cell_type": "code",
   "execution_count": 2,
   "metadata": {},
   "outputs": [
    {
     "name": "stdout",
     "output_type": "stream",
     "text": [
      "Boil water\n",
      "Add tea leaves\n",
      "Steep\n",
      "Serve\n",
      "Drink\n"
     ]
    }
   ],
   "source": [
    "for step in make_tea():\n",
    "    print(step)"
   ]
  },
  {
   "cell_type": "markdown",
   "metadata": {},
   "source": [
    "- Generator: \"One sip at a time...\"\n",
    "- 📌 You don't do everything at once. It’s like being lazy... but in an organized way!"
   ]
  },
  {
   "cell_type": "code",
   "execution_count": 3,
   "metadata": {},
   "outputs": [],
   "source": [
    "def make_tea_step_by_step():\n",
    "    yield \"Boil water\"\n",
    "    yield \"Add tea leaves\"\n",
    "    yield \"Steep\"\n",
    "    yield \"Serve\"\n",
    "    yield \"Drink\""
   ]
  },
  {
   "cell_type": "code",
   "execution_count": 5,
   "metadata": {},
   "outputs": [
    {
     "name": "stdout",
     "output_type": "stream",
     "text": [
      "<generator object make_tea_step_by_step at 0x000001690726BF90>\n"
     ]
    }
   ],
   "source": [
    "tea = make_tea_step_by_step()\n",
    "print(tea)"
   ]
  },
  {
   "cell_type": "code",
   "execution_count": 4,
   "metadata": {},
   "outputs": [
    {
     "name": "stdout",
     "output_type": "stream",
     "text": [
      "Boil water\n",
      "Add tea leaves\n"
     ]
    }
   ],
   "source": [
    "tea = make_tea_step_by_step()\n",
    "print(next(tea))  # Boil water\n",
    "print(next(tea))  # Add tea leaves"
   ]
  },
  {
   "attachments": {},
   "cell_type": "markdown",
   "metadata": {},
   "source": [
    " ### Modules and Packages\n",
    "A module is a Python file that contains functions, constants, or objects that can be reused.\n",
    "Modules provide namespaces, allowing functions with the same name to exist in different modules.\n",
    "For example, if the file name is my_module.py, the module name will be my_module."
   ]
  },
  {
   "attachments": {},
   "cell_type": "markdown",
   "metadata": {},
   "source": [
    "- ✅ import module_name\n",
    "- ✅ from module_name import function_name\n",
    "- ❌ from module_name import * – Avoid unless necessary"
   ]
  },
  {
   "cell_type": "code",
   "execution_count": 8,
   "metadata": {},
   "outputs": [
    {
     "name": "stdout",
     "output_type": "stream",
     "text": [
      "C:\\Users\\paris\\bio4py\n",
      "\\\n"
     ]
    }
   ],
   "source": [
    "import os  # Importing the built-in 'os' module\n",
    "print(os.getcwd())  # Returns current working directory\n",
    "print(os.sep)  # Shows path separator used by OS\n"
   ]
  },
  {
   "cell_type": "code",
   "execution_count": 9,
   "metadata": {},
   "outputs": [
    {
     "name": "stdout",
     "output_type": "stream",
     "text": [
      "C:\\Users\\paris\\bio4py\n"
     ]
    }
   ],
   "source": [
    "from os import getcwd  # Importing only getcwd function\n",
    "print(getcwd())  # Now we can use it without the 'os.' prefix"
   ]
  },
  {
   "cell_type": "code",
   "execution_count": 10,
   "metadata": {},
   "outputs": [
    {
     "name": "stdout",
     "output_type": "stream",
     "text": [
      "C:\\Users\\paris\\bio4py\n",
      "\\\n"
     ]
    }
   ],
   "source": [
    "from os import *  # Importing everything from os (NOT RECOMMENDED)\n",
    "print(getcwd())\n",
    "print(sep)\n"
   ]
  },
  {
   "cell_type": "markdown",
   "metadata": {},
   "source": [
    "- 🔹 Aliasing a Module"
   ]
  },
  {
   "cell_type": "code",
   "execution_count": 12,
   "metadata": {},
   "outputs": [],
   "source": [
    "#import xml.etree.ElementTree as ET  # Aliasing a module\n",
    "#tree = ET.parse('example.xml')  # Using the alias\n"
   ]
  },
  {
   "attachments": {},
   "cell_type": "markdown",
   "metadata": {},
   "source": [
    "### Packages\n",
    "📦 A package is a directory that contains a special file __init__.py and one or more modules or sub-packages."
   ]
  },
  {
   "cell_type": "code",
   "execution_count": null,
   "metadata": {},
   "outputs": [],
   "source": [
    "Bio/                     # Top-level package\n",
    "    __init__.py\n",
    "    Align/               # Subpackage\n",
    "        __init__.py\n",
    "        AlignInfo.py\n",
    "    Alphabet/\n",
    "        __init__.py\n",
    "        IUPAC.py\n",
    "    Blast/\n",
    "        __init__.py\n",
    "        Applications.py\n",
    "        NCBIStandalone.py\n"
   ]
  },
  {
   "attachments": {},
   "cell_type": "markdown",
   "metadata": {},
   "source": [
    "### 🧩 Installing Third-Party Modules\n",
    "Python includes many built-in modules, but third-party modules enhance its capabilities.\n",
    "✅ Use pip to install:"
   ]
  },
  {
   "cell_type": "code",
   "execution_count": null,
   "metadata": {},
   "outputs": [],
   "source": [
    "#pip install numpy  # Example"
   ]
  },
  {
   "cell_type": "code",
   "execution_count": null,
   "metadata": {},
   "outputs": [],
   "source": [
    "# in terminal:\n",
    "#sudo apt install python3-pip  # Install pip for Python 3 on Ubuntu"
   ]
  },
  {
   "cell_type": "code",
   "execution_count": null,
   "metadata": {},
   "outputs": [],
   "source": [
    "# in jupyter notebook:\n",
    "# !pip --version  # Check if pip is installed\n",
    "# !pip install --upgrade pip setuptools"
   ]
  },
  {
   "cell_type": "code",
   "execution_count": null,
   "metadata": {},
   "outputs": [],
   "source": [
    "#in Linux/macOS:\n",
    "#pip3 install -U pip setuptools  # Upgrade pip and setuptools"
   ]
  },
  {
   "cell_type": "code",
   "execution_count": null,
   "metadata": {},
   "outputs": [],
   "source": [
    "#in windows:\n",
    "#python -m pip install -U pip setuptools"
   ]
  },
  {
   "cell_type": "code",
   "execution_count": null,
   "metadata": {},
   "outputs": [],
   "source": [
    "#pip install xlrd  # Install Excel reading library"
   ]
  },
  {
   "attachments": {},
   "cell_type": "markdown",
   "metadata": {},
   "source": [
    "#### Copying to PYTHONPATH (Simple but Rarely Used)\n",
    "Python searches for modules in:\n",
    "- The current script’s directory\n",
    "- Python’s installation directory\n",
    "- Directories listed in sys.path or PYTHONPATH"
   ]
  },
  {
   "cell_type": "code",
   "execution_count": null,
   "metadata": {},
   "outputs": [],
   "source": [
    "import sys\n",
    "print(sys.path)  # Show current search paths\n",
    "sys.path.append('/home/user/MyModules')  # Add custom path"
   ]
  },
  {
   "attachments": {},
   "cell_type": "markdown",
   "metadata": {},
   "source": [
    "### 🔹 Virtual Environments: Isolated Python Workspaces\n",
    "virtualenv (or venv in Python ≥ 3.6) lets you create isolated environments for Python projects. \n",
    "Each environment has its own dependencies, avoiding version conflicts."
   ]
  },
  {
   "cell_type": "code",
   "execution_count": null,
   "metadata": {},
   "outputs": [],
   "source": [
    "#!pip install virtualenv  # Install virtualenv globally"
   ]
  },
  {
   "cell_type": "markdown",
   "metadata": {},
   "source": [
    "🔧 Create a Virtual Environment:\n",
    "  Creates a folder named myenv/ with a clean Python environment.\n"
   ]
  },
  {
   "cell_type": "code",
   "execution_count": 8,
   "metadata": {},
   "outputs": [],
   "source": [
    "#python3 -m venv myenv"
   ]
  },
  {
   "cell_type": "markdown",
   "metadata": {},
   "source": [
    "Activate the Environment : You’ll see this in your terminal:\n",
    "\n",
    "(myenv) $\n"
   ]
  },
  {
   "cell_type": "code",
   "execution_count": null,
   "metadata": {},
   "outputs": [],
   "source": [
    "#in linux / Macos:\n",
    "#source myenv/bin/activate"
   ]
  },
  {
   "cell_type": "code",
   "execution_count": null,
   "metadata": {},
   "outputs": [],
   "source": [
    "#in windows:\n",
    "#myenv\\Scripts\\activate.bat  # Command Prompt  \n",
    "#myenv\\Scripts\\Activate.ps1  # PowerShell"
   ]
  },
  {
   "cell_type": "markdown",
   "metadata": {},
   "source": [
    "📦 Installing Packages Inside venv (for example pandas)"
   ]
  },
  {
   "cell_type": "code",
   "execution_count": null,
   "metadata": {},
   "outputs": [],
   "source": [
    "#pip install pandas"
   ]
  },
  {
   "cell_type": "markdown",
   "metadata": {},
   "source": [
    "❌ Deactivate the Environment\n"
   ]
  },
  {
   "cell_type": "code",
   "execution_count": null,
   "metadata": {},
   "outputs": [],
   "source": [
    "#deactivate"
   ]
  },
  {
   "cell_type": "markdown",
   "metadata": {},
   "source": [
    "🧹 Remove the Environment : Just delete the folder:"
   ]
  },
  {
   "cell_type": "code",
   "execution_count": null,
   "metadata": {},
   "outputs": [],
   "source": [
    "#rm -r myenv"
   ]
  },
  {
   "attachments": {},
   "cell_type": "markdown",
   "metadata": {},
   "source": [
    "### 🐍 What is Conda?\n",
    "Conda is a package and environment management tool used with Anaconda Python distribution.\n",
    "It allows you to create isolated environments with specific packages."
   ]
  },
  {
   "cell_type": "code",
   "execution_count": null,
   "metadata": {},
   "outputs": [],
   "source": [
    "#📦 Creating a New Environment\n",
    "conda create -n bioinfo\n",
    "\n",
    "#To create and install a package at the same time:\n",
    "conda create -n excelprocessing xlrd\n",
    "\n",
    "# 🔁 Activating / Deactivating Environments\n",
    "# Activate\n",
    "conda activate bioinfo\n",
    "# Deactivate\n",
    "conda deactivate\n",
    "\n",
    "# 📦 Installing Packages in a Conda Environment\n",
    "# Preferred way:\n",
    "conda install pillow\n",
    "# If not available in Conda, fallback to pip:\n",
    "pip install beautifulsoup4\n",
    "\n",
    "# 📜 Checking All Environments\n",
    "conda info --envs\n",
    "#The active environment will be marked with *."
   ]
  },
  {
   "attachments": {},
   "cell_type": "markdown",
   "metadata": {},
   "source": [
    "### Creating Modules\n",
    "To create a Python module, save your function(s) in a .py file. Make sure the file is located in a directory included in PYTHONPATH.\n",
    "Example: Saving the save_list function into a module named utils.py:"
   ]
  },
  {
   "cell_type": "code",
   "execution_count": 14,
   "metadata": {},
   "outputs": [],
   "source": [
    "# utils.py\n",
    "def save_list(input_list, file_name='temp.txt'):\n",
    "    \"\"\"A list (input_list) is saved to a file (file_name)\"\"\"\n",
    "    with open(file_name, 'w') as fh:\n",
    "        print(*input_list, sep='\\n', file=fh)\n",
    "    return None\n"
   ]
  },
  {
   "attachments": {},
   "cell_type": "markdown",
   "metadata": {},
   "source": [
    "Usage from another script:"
   ]
  },
  {
   "cell_type": "code",
   "execution_count": null,
   "metadata": {},
   "outputs": [],
   "source": [
    ">>> import utils\n",
    ">>> utils.save_list([1, 2, 3])"
   ]
  },
  {
   "cell_type": "markdown",
   "metadata": {},
   "source": [
    "# How to create a virtual environment and use it in Jupyter Notebook"
   ]
  },
  {
   "cell_type": "code",
   "execution_count": null,
   "metadata": {},
   "outputs": [],
   "source": [
    "# 1 - Install virtualenv if you don’t have it: CMD  - terminal:\n",
    "pip install virtualenv"
   ]
  },
  {
   "cell_type": "code",
   "execution_count": null,
   "metadata": {},
   "outputs": [],
   "source": [
    "# 2 - Create a virtual environment: (treminal)\n",
    "virtualenv myenv"
   ]
  },
  {
   "cell_type": "code",
   "execution_count": null,
   "metadata": {},
   "outputs": [],
   "source": [
    "#3- Activate the environment: (terminal)\n",
    "#On Windows:\n",
    "myenv\\Scripts\\activate\n",
    "# ❌ If you see errors when using `myenv\\Scripts\\activate` on Windows, \n",
    "# scroll down to the cells below with this topic for guidance.\n",
    "\n",
    "\n",
    "#On Mac/Linux:\n",
    "source myenv/bin/activate\n"
   ]
  },
  {
   "cell_type": "code",
   "execution_count": null,
   "metadata": {},
   "outputs": [],
   "source": [
    "#4- Install Jupyter and add this environment as a kernel: (terminal)\n",
    "pip install ipykernel\n",
    "python -m ipykernel install --user --name=myenv --display-name \"Python (myenv)\""
   ]
  },
  {
   "cell_type": "code",
   "execution_count": null,
   "metadata": {},
   "outputs": [],
   "source": [
    "#5- Open Jupyter Notebook, go to Kernel > Change Kernel, and select “Python (myenv)”"
   ]
  },
  {
   "cell_type": "markdown",
   "metadata": {},
   "source": [
    "### ✅ Steps to completely clean the virtual environment:"
   ]
  },
  {
   "cell_type": "code",
   "execution_count": null,
   "metadata": {},
   "outputs": [],
   "source": [
    "#in windows:\n",
    "Remove-Item -Recurse -Force .\\myenv\n",
    "#in linux / mac:\n",
    "rm -rf myenv\n"
   ]
  },
  {
   "cell_type": "markdown",
   "metadata": {},
   "source": [
    "### ✅ How to install the package inside the virtual environment:"
   ]
  },
  {
   "cell_type": "code",
   "execution_count": null,
   "metadata": {},
   "outputs": [],
   "source": [
    "#in terminal\n",
    "#windows :\n",
    ".\\testenv\\Scripts\\Activate.bat\n",
    "#linux:\n",
    "source testenv/bin/activate\n",
    "pip install numpy\n",
    "\n"
   ]
  },
  {
   "cell_type": "code",
   "execution_count": null,
   "metadata": {},
   "outputs": [],
   "source": [
    "#or in jupyter notebook:\n",
    "!pip install seaborn"
   ]
  },
  {
   "cell_type": "markdown",
   "metadata": {},
   "source": [
    "# How to create a module and package in Jupyter Notebook or virtual environment"
   ]
  },
  {
   "cell_type": "markdown",
   "metadata": {},
   "source": [
    "### Module:"
   ]
  },
  {
   "cell_type": "code",
   "execution_count": null,
   "metadata": {},
   "outputs": [],
   "source": [
    "#1- Create a file, e.g., mymodule.py:\n",
    "# mymodule.py\n",
    "def greet(name):\n",
    "    \"\"\"Greet a person by name.\"\"\"\n",
    "    return f\"Hello, {name}!\"\n"
   ]
  },
  {
   "cell_type": "code",
   "execution_count": null,
   "metadata": {},
   "outputs": [],
   "source": [
    "#2- Use it in a notebook:\n",
    "import mymodule\n",
    "\n",
    "mymodule.greet(\"Ali\")\n",
    "\n",
    "\n",
    "#If it's in a different directory:\n",
    "\n",
    "import sys\n",
    "sys.path.append('/path/to/your/module')\n",
    "\n"
   ]
  },
  {
   "cell_type": "markdown",
   "metadata": {},
   "source": [
    "### Package:"
   ]
  },
  {
   "cell_type": "code",
   "execution_count": null,
   "metadata": {},
   "outputs": [],
   "source": [
    "#1- Create a folder named mypackage/\n",
    "\n",
    "#2- Add a file __init__.py (can be empty)\n",
    "\n",
    "#3- Add your modules like greetings.py:"
   ]
  },
  {
   "cell_type": "code",
   "execution_count": null,
   "metadata": {},
   "outputs": [],
   "source": [
    "# greetings.py\n",
    "def say_hello(name):\n",
    "    return f\"Hello, {name}!\"\n"
   ]
  },
  {
   "cell_type": "code",
   "execution_count": null,
   "metadata": {},
   "outputs": [],
   "source": [
    "#Folder structure:\n",
    "mypackage/\n",
    "│\n",
    "├── __init__.py\n",
    "├── greetings.py\n"
   ]
  },
  {
   "cell_type": "code",
   "execution_count": null,
   "metadata": {},
   "outputs": [],
   "source": [
    "#Then import in notebook:\n",
    "\n",
    "from mypackage import greetings\n",
    "\n",
    "greetings.say_hello(\"Sara\")\n",
    "\n"
   ]
  },
  {
   "cell_type": "markdown",
   "metadata": {},
   "source": [
    "# 🎯 1. Create a virtual environment in VS Code"
   ]
  },
  {
   "cell_type": "code",
   "execution_count": null,
   "metadata": {},
   "outputs": [],
   "source": [
    "#1- Open a project folder in VS Code\n",
    "\n",
    "#2- Open terminal (Ctrl + ~)\n",
    "\n",
    "#3- Create virtual environment:\n",
    "python -m venv myenv\n",
    "\n",
    "#4- Activate it:\n",
    "#Windows: \n",
    "myenv\\Scripts\\activate\n",
    "#❌ if myenv\\Scripts\\activate on windows OS: read next cell (part)\n",
    "#macOS/Linux: \n",
    "source myenv/bin/activate\n",
    "\n",
    "#5- Select interpreter in VS Code (bottom-left) to match the new venv\n"
   ]
  },
  {
   "cell_type": "markdown",
   "metadata": {},
   "source": [
    "❌ if myenv\\Scripts\\activate on windows OS: \n",
    "- Error :cannot be this system. For more information, see\n",
    "about_Execution_Policies"
   ]
  },
  {
   "cell_type": "markdown",
   "metadata": {},
   "source": [
    "✅ Fix it :\n",
    "-  Step 1: Run PowerShell as Administrator\n",
    "Close VSCode if it's open.\n",
    "Then:\n",
    "- Open the Start menu\n",
    "- Search for PowerShell\n",
    "- Right-click on it and choose \"Run as Administrator\""
   ]
  },
  {
   "cell_type": "markdown",
   "metadata": {},
   "source": [
    "Step 2: Change the Execution Policy\n",
    "- In the PowerShell window that opens, type the following command:"
   ]
  },
  {
   "cell_type": "code",
   "execution_count": null,
   "metadata": {},
   "outputs": [],
   "source": [
    "Set-ExecutionPolicy RemoteSigned"
   ]
  },
  {
   "cell_type": "markdown",
   "metadata": {},
   "source": [
    "When it asks for confirmation, press Y and then Enter.\n",
    "\n",
    "🔒 What this does: It allows you to run scripts created on your local machine (like activate.ps1). Scripts from the internet will still require a digital signature."
   ]
  },
  {
   "cell_type": "markdown",
   "metadata": {},
   "source": [
    "Step 3: Close PowerShell and Open VSCode\n",
    "- Now open VSCode again. In the terminal inside VSCode, activate your virtual environment by running:"
   ]
  },
  {
   "cell_type": "code",
   "execution_count": null,
   "metadata": {},
   "outputs": [],
   "source": [
    "#4- Activate it:\n",
    "#Windows: \n",
    "myenv\\Scripts\\activate\n",
    "\n",
    "#5- Select interpreter in VS Code (bottom-left) to match the new venv\n"
   ]
  },
  {
   "cell_type": "markdown",
   "metadata": {},
   "source": [
    "# 🎯 2. Creating modules and packages in VS Code"
   ]
  },
  {
   "cell_type": "markdown",
   "metadata": {},
   "source": [
    "### 🔹 Creating a module"
   ]
  },
  {
   "cell_type": "code",
   "execution_count": null,
   "metadata": {},
   "outputs": [],
   "source": [
    "#1- Create a Python file inside the project folder, for example:\n",
    "utils.py\n",
    "#2- Write your functions there:\n",
    "# utils.py\n",
    "def greet(name):\n",
    "    \"\"\"Prints a greeting message.\"\"\"\n",
    "    print(f\"Hello, {name}!\")\n",
    "#3- Use it in another file:\n",
    "import utils\n",
    "utils.greet(\"Sara\")\n"
   ]
  },
  {
   "cell_type": "markdown",
   "metadata": {},
   "source": [
    "## 🔹 Package creation"
   ]
  },
  {
   "cell_type": "code",
   "execution_count": null,
   "metadata": {},
   "outputs": [],
   "source": [
    "#1- Create a folder, for example:\n",
    "mypackage/\n",
    "├── __init__.py\n",
    "└── tools.py\n",
    "\n",
    "#2- Write a function in tools.py:\n",
    "# mypackage/tools.py\n",
    "def add(a, b):\n",
    "    return a + b\n",
    "\n",
    "#3- Import into the main file:\n",
    "from mypackage import tools\n",
    "print(tools.add(2, 3))\n",
    "\n"
   ]
  },
  {
   "attachments": {},
   "cell_type": "markdown",
   "metadata": {},
   "source": [
    "### Testing Modules\n",
    "Good programming practice includes writing tests to ensure your code works correctly.\n",
    "To prevent tests from running when your module is imported (but still run them when the file is executed directly), use this block:"
   ]
  },
  {
   "cell_type": "code",
   "execution_count": null,
   "metadata": {},
   "outputs": [],
   "source": [
    "if __name__ == '__main__':\n",
    "    # Do something (e.g., run tests)\n"
   ]
  },
  {
   "cell_type": "markdown",
   "metadata": {},
   "source": [
    "- ✅ Using doctest for Automatic Testing\n",
    "- Python's doctest module can extract test cases from a function's docstring and execute them as if entered in the interpreter.\n",
    "\n",
    "Here is an updated version of is_prime() with embedded doctests:"
   ]
  },
  {
   "cell_type": "code",
   "execution_count": 11,
   "metadata": {},
   "outputs": [],
   "source": [
    "# prime5.py\n",
    "def is_prime(n):\n",
    "    \"\"\"Check if n is a prime number.\n",
    "\n",
    "    >>> is_prime(0)\n",
    "    False\n",
    "    >>> is_prime(1)\n",
    "    False\n",
    "    >>> is_prime(2)\n",
    "    True\n",
    "    >>> is_prime(3)\n",
    "    True\n",
    "    >>> is_prime(4)\n",
    "    False\n",
    "    >>> is_prime(5)\n",
    "    True\n",
    "    \"\"\"\n",
    "    if n <= 1:\n",
    "        return False\n",
    "    for x in range(2, int(n ** 0.5) + 1):\n",
    "        if n % x == 0:\n",
    "            return False\n",
    "    return True\n",
    "\n",
    "def _test():\n",
    "    import doctest\n",
    "    doctest.testmod()\n",
    "\n",
    "if __name__ == '__main__':\n",
    "    _test()\n"
   ]
  },
  {
   "cell_type": "code",
   "execution_count": null,
   "metadata": {},
   "outputs": [],
   "source": [
    "#Run the test:\n",
    "\n",
    "$ python prime5.py"
   ]
  },
  {
   "cell_type": "markdown",
   "metadata": {},
   "source": [
    "### Fun & Practical Example"
   ]
  },
  {
   "cell_type": "markdown",
   "metadata": {},
   "source": [
    "Imagine you're throwing a party.\n",
    "- You’re the main program, but you can’t do everything alone!\n",
    "- You call your friend DJ Reza to play music → that’s a music module 🎵\n",
    "- You ask your mom to bake a cake → that’s a baking module 🍰\n",
    "- You get your little sister to keep an eye on the guests → that's your security module 😂\n",
    "- Now, if you organize all these helpers into a folder called PartyHelpers, that’s your package! 🎁\n",
    "So:\n",
    "- A module is like one helper (a .py file that does one job)\n",
    "- A package is a group of modules working together toward one goal (like having an awesome party)"
   ]
  },
  {
   "cell_type": "markdown",
   "metadata": {},
   "source": [
    "### Theoretical Questions:"
   ]
  },
  {
   "cell_type": "markdown",
   "metadata": {},
   "source": [
    "1. What is a function?\n",
    "\n",
    "2. How many values can a function return?\n",
    "\n",
    "3. Can a function be called without any parameters?\n",
    "\n",
    "4. What is a docstring and why is it related to functions and modules?\n",
    "\n",
    "5. Does every function need to know in advance how many parameters it will receive?\n",
    "\n",
    "6. Why must all optional arguments in a function be placed at the end in the function call?\n",
    "\n",
    "7. What is a module?\n",
    "\n",
    "8. Why are modules invoked at the beginning of the program?\n",
    "\n",
    "9. How do you import all contents of a module? Is this procedure advisable?\n",
    "\n",
    "10. How can you test if your code is being executed as a standalone program or called as a module?\n",
    "\n",
    "11. What is virtualenv and when would you use it?\n",
    "\n",
    "12. Why is modularization important in analyzing biological data?\n",
    "\n",
    "13. How can using modules improve the reproducibility of a bioinformatics workflow?"
   ]
  },
  {
   "cell_type": "markdown",
   "metadata": {},
   "source": [
    "### Code-Related Questions:"
   ]
  },
  {
   "cell_type": "markdown",
   "metadata": {},
   "source": [
    "1. Write a generator function.\n",
    "\n",
    "2. Write a function that accepts a DNA sequence and returns its GC content (as a percentage).\n",
    "\n",
    "3. Create a module named bio_utils.py that includes a function to transcribe a DNA sequence to RNA.\n",
    "\n",
    "4. Use the __name__ == \"__main__\" statement to run a test only if the module is executed directly.\n",
    "\n",
    "5. Write a function that can accept any number of gene expression values and returns their mean.\n",
    "\n",
    "6. Write a script that imports your bio_utils.py module and uses one of its functions.\n",
    "\n",
    "7. Create a function with optional parameters, such as:"
   ]
  },
  {
   "cell_type": "code",
   "execution_count": null,
   "metadata": {},
   "outputs": [],
   "source": [
    "def find_motif(seq, motif=\"ATG\"):\n",
    "    ...\n"
   ]
  },
  {
   "cell_type": "markdown",
   "metadata": {},
   "source": [
    "Then call it both with and without the motif argument."
   ]
  },
  {
   "cell_type": "markdown",
   "metadata": {},
   "source": [
    "8. Define a module named sequence_tools that contains the following:\n",
    "- A function to calculate GC content\n",
    "- A function to count the number of codons in a DNA sequence\n",
    "- Then analyze a DNA sequence using this module.\n",
    "\n",
    "9. Write a generator function that yields codons (triplets of nucleotides) from a DNA sequence:"
   ]
  },
  {
   "cell_type": "code",
   "execution_count": null,
   "metadata": {},
   "outputs": [],
   "source": [
    "def codon_generator(sequence):\n",
    "    ...\n"
   ]
  }
 ],
 "metadata": {
  "kernelspec": {
   "display_name": "Python (GPU)",
   "language": "python",
   "name": "gpu_env"
  },
  "language_info": {
   "codemirror_mode": {
    "name": "ipython",
    "version": 3
   },
   "file_extension": ".py",
   "mimetype": "text/x-python",
   "name": "python",
   "nbconvert_exporter": "python",
   "pygments_lexer": "ipython3",
   "version": "3.8.19"
  }
 },
 "nbformat": 4,
 "nbformat_minor": 4
}
