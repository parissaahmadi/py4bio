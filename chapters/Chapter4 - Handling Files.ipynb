{
 "cells": [
  {
   "cell_type": "markdown",
   "metadata": {},
   "source": [
    "Chapter 4: Handling Files\n",
    "-----------------------------"
   ]
  },
  {
   "cell_type": "markdown",
   "metadata": {},
   "source": [
    "# Reading Files"
   ]
  },
  {
   "cell_type": "code",
   "execution_count": 1,
   "metadata": {},
   "outputs": [],
   "source": [
    "file_handle = open('samples/readme.txt', 'r')"
   ]
  },
  {
   "cell_type": "code",
   "execution_count": 2,
   "metadata": {},
   "outputs": [
    {
     "data": {
      "text/plain": [
       "<_io.TextIOWrapper name='samples/readme.txt' mode='r' encoding='cp1252'>"
      ]
     },
     "execution_count": 2,
     "metadata": {},
     "output_type": "execute_result"
    }
   ],
   "source": [
    "file_handle"
   ]
  },
  {
   "cell_type": "code",
   "execution_count": 3,
   "metadata": {},
   "outputs": [
    {
     "data": {
      "text/plain": [
       "'>O00626|HUMAN Small inducible cytokine A22.\\nMARLQTALLVVLVLLAVALQATEAGPYGANMEDSVCCRDYVRYRLPLRVVKHFYWTSDSCPRPGVVLLTFRDKEICADPRVPWVKMILNKLSQ\\n'"
      ]
     },
     "execution_count": 3,
     "metadata": {},
     "output_type": "execute_result"
    }
   ],
   "source": [
    "file_handle = open('samples/seqA.fas', 'r')\n",
    "file_handle.read()"
   ]
  },
  {
   "cell_type": "code",
   "execution_count": 4,
   "metadata": {},
   "outputs": [],
   "source": [
    "file_handle = open('samples/readme.txt', 'r')\n",
    "# do something with the file\n",
    "file_handle.read()\n",
    "file_handle.close()"
   ]
  },
  {
   "cell_type": "code",
   "execution_count": 5,
   "metadata": {},
   "outputs": [
    {
     "name": "stdout",
     "output_type": "stream",
     "text": [
      "It is a fake text! \n",
      "\n"
     ]
    }
   ],
   "source": [
    "with open('samples/readme.txt', 'r') as file_handle:\n",
    "    print(file_handle.read())\n"
   ]
  },
  {
   "cell_type": "code",
   "execution_count": 6,
   "metadata": {},
   "outputs": [
    {
     "name": "stdout",
     "output_type": "stream",
     "text": [
      ">O00626|HUMAN Small inducible cytokine A22.\n",
      "MARLQTALLVVLVLLAVALQATEAGPYGANMEDSVCCRDYVRYRLPLRVVKHFYWTSDSCPRPGVVLLTFRDKEICADPRVPWVKMILNKLSQ\n",
      "\n"
     ]
    }
   ],
   "source": [
    "with open('samples/seqA.fas', 'r') as file_handle:\n",
    "    print(file_handle.read())"
   ]
  },
  {
   "cell_type": "code",
   "execution_count": 7,
   "metadata": {},
   "outputs": [
    {
     "name": "stdout",
     "output_type": "stream",
     "text": [
      "It is a fake text! \n",
      "\n"
     ]
    }
   ],
   "source": [
    "from pathlib import Path\n",
    "\n",
    "file_path = Path('samples/readme.txt')\n",
    "content = file_path.read_text()\n",
    "print(content)\n"
   ]
  },
  {
   "cell_type": "code",
   "execution_count": 8,
   "metadata": {},
   "outputs": [
    {
     "data": {
      "text/plain": [
       "b'It is a fake text! \\n'"
      ]
     },
     "execution_count": 8,
     "metadata": {},
     "output_type": "execute_result"
    }
   ],
   "source": [
    "binary_content = file_path.read_bytes()\n",
    "binary_content"
   ]
  },
  {
   "cell_type": "markdown",
   "metadata": {},
   "source": [
    "#### read a FASTA file (Extracting Name & sequence)"
   ]
  },
  {
   "attachments": {},
   "cell_type": "markdown",
   "metadata": {},
   "source": [
    "- 🔹 First Approach: \n",
    "\n",
    "Using read() \n",
    "(Not Recommended for Large Files"
   ]
  },
  {
   "cell_type": "code",
   "execution_count": 12,
   "metadata": {},
   "outputs": [
    {
     "name": "stdout",
     "output_type": "stream",
     "text": [
      "temp:\n",
      " [\">sp|Q8RW96|2A5G_ARATH Serine/threonine protein phosphatase 2A 59 kDa regulatory subunit B' gamma isoform OS=Arabidopsis thaliana GN=B'GAMMA PE=1 SV=2\", 'MIKQIFGKLPRKPSKSSHNDSNPNGEGGVNSYYIPNSGISSISKPSSKSSASNSNGANGT', 'VIAPSSTSSNRTNQVNGVYEALPSFRDVPTSEKPNLFIKKLSMCCVVFDFNDPSKNLREK', 'EIKRQTLLELVDYIATVSTKLSDAAMQEIAKVAVVNLFRTFPSANHESKILETLDVDDEE', 'PALEPAWPHLQVVYELLLRFVASPMTDAKLAKRYIDHSFVLKLLDLFDSEDQREREYLKT', 'ILHRIYGKFMVHRPFIRKAINNIFYRFIFETEKHNGIAELLEILGSIINGFALPLKEEHK', 'LFLIRALIPLHRPKCASAYHQQLSYCIVQFVEKDFKLADTVIRGLLKYWPVTNSSKEVMF', 'LGELEEVLEATQAAEFQRCMVPLFRQIARCLNSSHFQVAERALFLWNNDHIRNLITQNHK', 'VIMPIVFPAMERNTRGHWNQAVQSLTLNVRKVMAETDQILFDECLAKFQEDEANETEVVA', 'KREATWKLLEELAASKSVSNEAVLVPRFSSSVTLATGKTSGS', '']\n",
      "\n",
      "The name is:\n",
      "sp|Q8RW96|2A5G_ARATH Serine/threonine protein phosphatase 2A 59 kDa regulatory subunit B' gamma isoform OS=Arabidopsis thaliana GN=B'GAMMA PE=1 SV=2\n",
      "\n",
      "The seq. is :\n",
      "MIKQIFGKLPRKPSKSSHNDSNPNGEGGVNSYYIPNSGISSISKPSSKSSASNSNGANGTVIAPSSTSSNRTNQVNGVYEALPSFRDVPTSEKPNLFIKKLSMCCVVFDFNDPSKNLREKEIKRQTLLELVDYIATVSTKLSDAAMQEIAKVAVVNLFRTFPSANHESKILETLDVDDEEPALEPAWPHLQVVYELLLRFVASPMTDAKLAKRYIDHSFVLKLLDLFDSEDQREREYLKTILHRIYGKFMVHRPFIRKAINNIFYRFIFETEKHNGIAELLEILGSIINGFALPLKEEHKLFLIRALIPLHRPKCASAYHQQLSYCIVQFVEKDFKLADTVIRGLLKYWPVTNSSKEVMFLGELEEVLEATQAAEFQRCMVPLFRQIARCLNSSHFQVAERALFLWNNDHIRNLITQNHKVIMPIVFPAMERNTRGHWNQAVQSLTLNVRKVMAETDQILFDECLAKFQEDEANETEVVAKREATWKLLEELAASKSVSNEAVLVPRFSSSVTLATGKTSGS\n"
     ]
    }
   ],
   "source": [
    "with open('samples/prot.fas') as fh:\n",
    "    my_file = fh.read()\n",
    "    #temp = my_file.split('\\n')\n",
    "    name = my_file.split('\\n')[0][1:]\n",
    "    sequence = ''.join(my_file.split('\\n')[1:])\n",
    "#print('temp:\\n', temp)\n",
    "print(f'\\nThe name is:\\n{name}')\n",
    "print(f'\\nThe seq. is :\\n{sequence}')"
   ]
  },
  {
   "attachments": {},
   "cell_type": "markdown",
   "metadata": {},
   "source": [
    "- 🔹 Optimized Approach: \n",
    "Using readline() \n",
    "(Recommended)\n"
   ]
  },
  {
   "cell_type": "code",
   "execution_count": 35,
   "metadata": {},
   "outputs": [
    {
     "name": "stdout",
     "output_type": "stream",
     "text": [
      "The name is : O00626|HUMAN Small inducible cytokine A22.\n",
      "The sequence is:  MARLQTALLVVLVLLAVALQATEAGPYGANMEDSVCCRDYVRYRLPLRVVKHFYWTSDSCPRPGVVLLTFRDKEICADPRVPWVKMILNKLSQ\n"
     ]
    }
   ],
   "source": [
    "with open('samples/seqA.fas', 'r') as fh:\n",
    "    name = fh.readline().strip()[1:]\n",
    "    sequence = ''.join(line.strip() for line in fh)\n",
    "\n",
    "print(f'The name is: {name}')\n",
    "print(f'The sequence is: {sequence}')\n"
   ]
  },
  {
   "cell_type": "markdown",
   "metadata": {},
   "source": [
    "- 🔹 Alternative: Using pathlib.Path (Python 3.10+)\n"
   ]
  },
  {
   "cell_type": "code",
   "execution_count": 5,
   "metadata": {},
   "outputs": [
    {
     "name": "stdout",
     "output_type": "stream",
     "text": [
      "The name is: O00626|HUMAN Small inducible cytokine A22.\n",
      "The sequence is: MARLQTALLVVLVLLAVALQATEAGPYGANMEDSVCCRDYVRYRLPLRVVKHFYWTSDSCPRPGVVLLTFRDKEICADPRVPWVKMILNKLSQ\n"
     ]
    }
   ],
   "source": [
    "from pathlib import Path\n",
    "\n",
    "file_path = Path('samples/seqA.fas')\n",
    "lines = file_path.read_text().splitlines()\n",
    "\n",
    "name = lines[0][1:]\n",
    "sequence = ''.join(lines[1:])\n",
    "\n",
    "print(f'The name is: {name}')\n",
    "print(f'The sequence is: {sequence}')\n"
   ]
  },
  {
   "cell_type": "code",
   "execution_count": 1,
   "metadata": {},
   "outputs": [
    {
     "name": "stdout",
     "output_type": "stream",
     "text": [
      ">sp|Q8RW96|2A5G_ARATH Serine/threonine protein phosphatase 2A 59 kDa regulatory subunit B' gamma isoform OS=Arabidopsis thaliana GN=B'GAMMA PE=1 SV=2\n",
      "\n"
     ]
    }
   ],
   "source": [
    "with open('samples/prot.fas', 'r') as fh:\n",
    "    name = fh.readline()\n",
    "    print(name)"
   ]
  },
  {
   "cell_type": "code",
   "execution_count": 2,
   "metadata": {},
   "outputs": [
    {
     "name": "stdout",
     "output_type": "stream",
     "text": [
      ">sp|Q8RW96|2A5G_ARATH Serine/threonine protein phosphatase 2A 59 kDa regulatory subunit B' gamma isoform OS=Arabidopsis thaliana GN=B'GAMMA PE=1 SV=2\n",
      "MIKQIFGKLPRKPSKSSHNDSNPNGEGGVNSYYIPNSGISSISKPSSKSSASNSNGANGT\n",
      "VIAPSSTSSNRTNQVNGVYEALPSFRDVPTSEKPNLFIKKLSMCCVVFDFNDPSKNLREK\n",
      "EIKRQTLLELVDYIATVSTKLSDAAMQEIAKVAVVNLFRTFPSANHESKILETLDVDDEE\n",
      "PALEPAWPHLQVVYELLLRFVASPMTDAKLAKRYIDHSFVLKLLDLFDSEDQREREYLKT\n",
      "ILHRIYGKFMVHRPFIRKAINNIFYRFIFETEKHNGIAELLEILGSIINGFALPLKEEHK\n",
      "LFLIRALIPLHRPKCASAYHQQLSYCIVQFVEKDFKLADTVIRGLLKYWPVTNSSKEVMF\n",
      "LGELEEVLEATQAAEFQRCMVPLFRQIARCLNSSHFQVAERALFLWNNDHIRNLITQNHK\n",
      "VIMPIVFPAMERNTRGHWNQAVQSLTLNVRKVMAETDQILFDECLAKFQEDEANETEVVA\n",
      "KREATWKLLEELAASKSVSNEAVLVPRFSSSVTLATGKTSGS\n",
      "\n"
     ]
    }
   ],
   "source": [
    "with open('samples/prot.fas', 'r') as fh:\n",
    "    name1 = fh.read()\n",
    "    print(name1)"
   ]
  },
  {
   "cell_type": "markdown",
   "metadata": {},
   "source": [
    "- File Handling Example-\n",
    "Calculating Net Charge of a Protein from a FASTA File"
   ]
  },
  {
   "cell_type": "code",
   "execution_count": 3,
   "metadata": {},
   "outputs": [
    {
     "name": "stdout",
     "output_type": "stream",
     "text": [
      "seq: MIKQIFGKLPRKPSKSSHNDSNPNGEGGVNSYYIPNSGISSISKPSSKSSASNSNGANGTVIAPSSTSSNRTNQVNGVYEALPSFRDVPTSEKPNLFIKKLSMCCVVFDFNDPSKNLREKEIKRQTLLELVDYIATVSTKLSDAAMQEIAKVAVVNLFRTFPSANHESKILETLDVDDEEPALEPAWPHLQVVYELLLRFVASPMTDAKLAKRYIDHSFVLKLLDLFDSEDQREREYLKTILHRIYGKFMVHRPFIRKAINNIFYRFIFETEKHNGIAELLEILGSIINGFALPLKEEHKLFLIRALIPLHRPKCASAYHQQLSYCIVQFVEKDFKLADTVIRGLLKYWPVTNSSKEVMFLGELEEVLEATQAAEFQRCMVPLFRQIARCLNSSHFQVAERALFLWNNDHIRNLITQNHKVIMPIVFPAMERNTRGHWNQAVQSLTLNVRKVMAETDQILFDECLAKFQEDEANETEVVAKREATWKLLEELAASKSVSNEAVLVPRFSSSVTLATGKTSGS\n",
      "Net charge: 3.046999999999999\n"
     ]
    }
   ],
   "source": [
    "sequence = ''\n",
    "charge = -0.002\n",
    "amino_acid_charge = {'C': -0.045, 'D': -0.999, 'E': -0.998, 'H': 0.091,\n",
    "                     'K': 1, 'R': 1, 'Y': -0.001}\n",
    "with open('Samples/prot.fas') as fh:\n",
    "    fh.readline()  # Skip header\n",
    "    for line in fh:\n",
    "        sequence += line.strip().upper()  # Read sequence\n",
    "print(f'seq: {sequence}')\n",
    "for aa in sequence:\n",
    "    charge += amino_acid_charge.get(aa, 0)  # Calculate charge\n",
    "print(f'Net charge: {charge}')"
   ]
  },
  {
   "cell_type": "markdown",
   "metadata": {},
   "source": [
    "# Writing Files"
   ]
  },
  {
   "cell_type": "code",
   "execution_count": 37,
   "metadata": {},
   "outputs": [],
   "source": [
    "fh = open('samples/newfile.txt','w')"
   ]
  },
  {
   "cell_type": "code",
   "execution_count": 38,
   "metadata": {},
   "outputs": [],
   "source": [
    "fh = open('samples/error.log','a')"
   ]
  },
  {
   "cell_type": "markdown",
   "metadata": {},
   "source": [
    "- Write numbers to a file."
   ]
  },
  {
   "cell_type": "code",
   "execution_count": 39,
   "metadata": {},
   "outputs": [],
   "source": [
    "with open('samples/numbers.txt','w') as fh:\n",
    "    fh.write('1\\n2\\n3\\n4\\n5')"
   ]
  },
  {
   "attachments": {},
   "cell_type": "markdown",
   "metadata": {},
   "source": [
    "- Writing Computation Results to a File\n",
    "(Stores the computed protein net charge in out.txt.)"
   ]
  },
  {
   "cell_type": "code",
   "execution_count": 4,
   "metadata": {},
   "outputs": [
    {
     "name": "stdout",
     "output_type": "stream",
     "text": [
      "file created\n"
     ]
    }
   ],
   "source": [
    "sequence = ''\n",
    "charge = -0.002\n",
    "aa_charge = {'C': -.045, 'D': -.999, 'E': -.998, 'H': .091, 'K': 1, 'R': 1, 'Y': -.001}\n",
    "\n",
    "with open('samples/prot.fas') as fh:\n",
    "    next(fh)  # Skip the first line (FASTA header)\n",
    "    for line in fh:\n",
    "        sequence += line.strip().upper()  # Remove trailing characters and convert to uppercase\n",
    "\n",
    "for aa in sequence:\n",
    "    charge += aa_charge.get(aa, 0)  # Calculate the net charge of the protein\n",
    "\n",
    "with open('out.txt', 'w') as file_out:\n",
    "    file_out.write(str(charge))  # Save the result to a file\n",
    "    print('file created')\n"
   ]
  },
  {
   "cell_type": "markdown",
   "metadata": {},
   "source": [
    "- writing files (Using pathlib)"
   ]
  },
  {
   "cell_type": "code",
   "execution_count": 6,
   "metadata": {},
   "outputs": [
    {
     "name": "stdout",
     "output_type": "stream",
     "text": [
      "file created!!!!!!!!!!!!!!!!\n"
     ]
    }
   ],
   "source": [
    "from pathlib import Path\n",
    "file_path = Path('output3.txt')\n",
    "file_path.write_text(\"Hello, World!\")\n",
    "print('file created!!!!!!!!!!!!!!!!')"
   ]
  },
  {
   "cell_type": "markdown",
   "metadata": {},
   "source": [
    "# CSV FILES"
   ]
  },
  {
   "attachments": {},
   "cell_type": "markdown",
   "metadata": {},
   "source": [
    "- 🔹 Reading a CSV File in Python (Without csv Module)"
   ]
  },
  {
   "cell_type": "code",
   "execution_count": 7,
   "metadata": {},
   "outputs": [
    {
     "name": "stdout",
     "output_type": "stream",
     "text": [
      "data: ['TKO001', '119', 'AG(12)']\n",
      "data: ['TKO002', '255', 'TC(16)']\n",
      "data: ['TKO003', '121', 'AG(5)']\n",
      "data: ['TKO004', '220', 'AG(9)']\n",
      "data: ['TKO005', '238', 'TC(17)']\n",
      "190.6\n"
     ]
    }
   ],
   "source": [
    "total_len = 0\n",
    "with open('samples/B1.csv') as fh:\n",
    "    next(fh)\n",
    "    for n, line in enumerate(fh, start =1 ):\n",
    "        data = line.strip().split(',')\n",
    "        print(f'data: {data}')\n",
    "        total_len += int(data[1])\n",
    "    print(total_len / n)"
   ]
  },
  {
   "cell_type": "markdown",
   "metadata": {},
   "source": [
    "- Reading data from a CSV file, using csv module"
   ]
  },
  {
   "cell_type": "code",
   "execution_count": 9,
   "metadata": {},
   "outputs": [
    {
     "name": "stdout",
     "output_type": "stream",
     "text": [
      "Header: ['Entry', 'Entry name', 'Status', 'Protein names', 'Gene names', 'Organism', 'Length']\n",
      "First data row: ['Q8BG02', '2ABG_MOUSE', 'reviewed', 'Serine/threonine-protein phosphatase 2A 55 kDa regulatory subunit B gamma isoform (PP2A subunit B isoform B55-gamma) (PP2A subunit B isoform PR55-gamma) (PP2A subunit B isoform R2-gamma) (PP2A subunit B isoform gamma)', 'Ppp2r2c', 'Mus musculus (Mouse)', '447']\n"
     ]
    }
   ],
   "source": [
    "import csv\n",
    "\n",
    "with open('samples/data.csv', newline='', encoding='utf-8') as file:\n",
    "    rows = list(csv.reader(file, delimiter = '\\t'))  # Convert CSV reader to a list\n",
    "    header = rows[0]  # First row (header)\n",
    "    data = rows[1:]  # All rows except the first one\n",
    "\n",
    "print(\"Header:\", header)\n",
    "print(\"First data row:\", data[0])\n"
   ]
  },
  {
   "cell_type": "markdown",
   "metadata": {},
   "source": [
    "- Reading data from a CSV file, using pandas module (tab seperator)"
   ]
  },
  {
   "cell_type": "code",
   "execution_count": 10,
   "metadata": {},
   "outputs": [
    {
     "name": "stdout",
     "output_type": "stream",
     "text": [
      "    Entry   Entry name    Status  \\\n",
      "0  Q8BG02   2ABG_MOUSE  reviewed   \n",
      "1  P24815  3BHS1_MOUSE  reviewed   \n",
      "2  P55194   3BP1_MOUSE  reviewed   \n",
      "3  P28334  5HT1B_MOUSE  reviewed   \n",
      "4  P35363  5HT2A_MOUSE  reviewed   \n",
      "\n",
      "                                       Protein names    Gene names  \\\n",
      "0  Serine/threonine-protein phosphatase 2A 55 kDa...       Ppp2r2c   \n",
      "1  3 beta-hydroxysteroid dehydrogenase/Delta 5-->...  Hsd3b1 Hsd3b   \n",
      "2               SH3 domain-binding protein 1 (3BP-1)   Sh3bp1 3bp1   \n",
      "3  5-hydroxytryptamine receptor 1B (5-HT-1B) (5-H...   Htr1b 5ht1b   \n",
      "4  5-hydroxytryptamine receptor 2A (5-HT-2) (5-HT...    Htr2a Htr2   \n",
      "\n",
      "               Organism  Length  \n",
      "0  Mus musculus (Mouse)     447  \n",
      "1  Mus musculus (Mouse)     373  \n",
      "2  Mus musculus (Mouse)     601  \n",
      "3  Mus musculus (Mouse)     386  \n",
      "4  Mus musculus (Mouse)     471  \n"
     ]
    }
   ],
   "source": [
    "import pandas as pd\n",
    "\n",
    "df = pd.read_csv('samples/data.csv', delimiter='\\t')  # or sep='\\t'\n",
    "print(df.head())\n"
   ]
  },
  {
   "cell_type": "code",
   "execution_count": 16,
   "metadata": {},
   "outputs": [
    {
     "name": "stdout",
     "output_type": "stream",
     "text": [
      "  MarkerID  LenAmp MotifAmpForSeq\n",
      "0   TKO001     119         AG(12)\n",
      "1   TKO002     255         TC(16)\n",
      "2   TKO003     121          AG(5)\n",
      "3   TKO004     220          AG(9)\n",
      "4   TKO005     238         TC(17)\n"
     ]
    }
   ],
   "source": [
    "import pandas as pd\n",
    "\n",
    "df = pd.read_csv('samples/B1.csv')\n",
    "print(df.head())"
   ]
  },
  {
   "cell_type": "code",
   "execution_count": 11,
   "metadata": {},
   "outputs": [
    {
     "name": "stdout",
     "output_type": "stream",
     "text": [
      "<_csv.reader object at 0x000002A0D3AC6580>\n",
      "190.6\n"
     ]
    }
   ],
   "source": [
    "import csv\n",
    "total_len = 0\n",
    "\n",
    "lines = csv.reader(open('samples/B1.csv'))\n",
    "print(lines)\n",
    "next(lines)\n",
    "for n, line in enumerate(lines, start =1 ):\n",
    "    total_len += int(line[1])\n",
    "print(total_len / n)"
   ]
  },
  {
   "cell_type": "code",
   "execution_count": 15,
   "metadata": {},
   "outputs": [
    {
     "name": "stdout",
     "output_type": "stream",
     "text": [
      "MotifAmpForSeq\n",
      "119\n",
      "AG(12)\n",
      "TKO003\n"
     ]
    }
   ],
   "source": [
    "data = list(csv.reader(open('samples/B1.csv')))\n",
    "print(data[0][2])\n",
    "print(data[1][1])\n",
    "print(data[1][2])\n",
    "print(data[3][0])"
   ]
  },
  {
   "cell_type": "code",
   "execution_count": 17,
   "metadata": {},
   "outputs": [
    {
     "name": "stdout",
     "output_type": "stream",
     "text": [
      "['Entry', 'Entry name', 'Status', 'Protein names', 'Gene names', 'Organism', 'Length']\n",
      "['Q8BG02', '2ABG_MOUSE', 'reviewed', 'Serine/threonine-protein phosphatase 2A 55 kDa regulatory subunit B gamma isoform (PP2A subunit B isoform B55-gamma) (PP2A subunit B isoform PR55-gamma) (PP2A subunit B isoform R2-gamma) (PP2A subunit B isoform gamma)', 'Ppp2r2c', 'Mus musculus (Mouse)', '447']\n"
     ]
    }
   ],
   "source": [
    "import csv\n",
    "\n",
    "with open('samples/data.csv', newline='', encoding='utf-8') as file:\n",
    "    sample = file.read(1024)  # Read a portion of the file (number of bytes)\n",
    "    file.seek(0)  # Reset the file pointer to the beginning\n",
    "\n",
    "    rows = csv.reader(file, delimiter='\\t')  # Manually set the delimiter as tab\n",
    "    print(next(rows))  # Print the first row (header)\n",
    "    print(next(rows))  # Print the second row (first data entry)\n"
   ]
  },
  {
   "attachments": {},
   "cell_type": "markdown",
   "metadata": {},
   "source": [
    "### Changing Delimiters\n",
    "Default delimiter: Comma (,)Can be changed (e.g., : or \\t)"
   ]
  },
  {
   "cell_type": "code",
   "execution_count": 9,
   "metadata": {},
   "outputs": [],
   "source": [
    "rows = csv.reader(open('/etc/passwd'), delimiter=':')"
   ]
  },
  {
   "cell_type": "markdown",
   "metadata": {},
   "source": [
    "Different CSV structures require different dialects"
   ]
  },
  {
   "cell_type": "code",
   "execution_count": 7,
   "metadata": {},
   "outputs": [],
   "source": [
    "rows = csv.reader(open('samples/data.csv'), dialect='excel')"
   ]
  },
  {
   "attachments": {},
   "cell_type": "markdown",
   "metadata": {},
   "source": [
    "- Automatically Detecting CSV Format (🔍 Sniffer detects the correct format)"
   ]
  },
  {
   "cell_type": "code",
   "execution_count": 11,
   "metadata": {},
   "outputs": [
    {
     "name": "stdout",
     "output_type": "stream",
     "text": [
      "['Entry', 'Entry name', 'Status', 'Protein names', 'Gene names', 'Organism', 'Length']\n",
      "['Q8BG02', '2ABG_MOUSE', 'reviewed', 'Serine/threonine-protein phosphatase 2A 55 kDa regulatory subunit B gamma isoform (PP2A subunit B isoform B55-gamma) (PP2A subunit B isoform PR55-gamma) (PP2A subunit B isoform R2-gamma) (PP2A subunit B isoform gamma)', 'Ppp2r2c', 'Mus musculus (Mouse)', '447']\n"
     ]
    }
   ],
   "source": [
    "with open('samples/data.csv', newline='') as file:\n",
    "    dialect = csv.Sniffer().sniff(file.read(1024))\n",
    "    file.seek(0)\n",
    "    rows = csv.reader(file, dialect=dialect)\n",
    "\n",
    "    print(next(rows))\n",
    "    print(next(rows))"
   ]
  },
  {
   "attachments": {},
   "cell_type": "markdown",
   "metadata": {},
   "source": [
    "### Reading an Excel File (.xlsx) with openpyxl\n"
   ]
  },
  {
   "cell_type": "code",
   "execution_count": 18,
   "metadata": {
    "scrolled": true
   },
   "outputs": [
    {
     "name": "stdout",
     "output_type": "stream",
     "text": [
      "{6273: 'CGAELNHFL', 14101: 'ERYLKDQQL', 22030: 'GRFKLIVLY', 25569: 'IDFPKTFGW', 26070: 'IFFPKTFGW', 26790: 'IKFPKTFGW', 27049: 'ILFPKTFGW', 27636: 'INFPKTFGW', 28419: 'IRYPKTFGW', 33140: 'KRGILTLKY', 33170: 'KRKKAYADF', 33260: 'KRYKSIVKY', 55565: 'RRFVNVVPTF', 55785: 'RRYQKSTEL', 58781: 'SKADVIAKY', 60636: 'SRDKTIIMW', 63789: 'TGASIQTTL', 144753: 'QRSPMFEGTL', 144784: 'SKFPKMRMG', 226822: 'AKFPGMKKSK', 504020: 'NQFNGGCLLV'}\n"
     ]
    }
   ],
   "source": [
    "from openpyxl import load_workbook\n",
    "\n",
    "iedb = {}\n",
    "wb = load_workbook('samples/sampledata.xlsx', data_only=True)  # Load the Excel file\n",
    "sh = wb.active  # Get the active sheet\n",
    "\n",
    "# Iterate through rows, starting from the second row (skip headers)\n",
    "for row in sh.iter_rows(min_row=2, values_only=True):  \n",
    "    iedb[int(row[0])] = row[2]  # Store column A as key and column C as value\n",
    "\n",
    "print(iedb)\n"
   ]
  },
  {
   "cell_type": "code",
   "execution_count": 19,
   "metadata": {},
   "outputs": [
    {
     "name": "stdout",
     "output_type": "stream",
     "text": [
      "done\n"
     ]
    }
   ],
   "source": [
    "from openpyxl import Workbook\n",
    "\n",
    "wb = Workbook()  # Create a new workbook\n",
    "ws = wb.active  # Get the active sheet\n",
    "\n",
    "# Write column headers\n",
    "ws.append([\"Column A\", \"Column B\", \"Column C\", \"Column D\"])  \n",
    "\n",
    "# Write a row of data\n",
    "ws.append([1, 230, 0, 5])  \n",
    "ws.append([2, 238, 0, 5])\n",
    "ws.append([3, 454, 0, 5])\n",
    "ws.append([4, 234, 0, 5])\n",
    "# Save the workbook as \"mynewfile.xlsx\"\n",
    "wb.save(\"mynewfile5.xlsx\")\n",
    "print('done')"
   ]
  },
  {
   "cell_type": "code",
   "execution_count": 20,
   "metadata": {},
   "outputs": [
    {
     "name": "stdout",
     "output_type": "stream",
     "text": [
      "{1: 230, 2: 238, 3: 454, 4: 234}\n"
     ]
    }
   ],
   "source": [
    "from openpyxl import load_workbook\n",
    "\n",
    "iedb = {}\n",
    "wb = load_workbook('mynewfile5.xlsx', data_only=True)  # Load the Excel file\n",
    "sh = wb.active  # Get the active sheet\n",
    "\n",
    "# Iterate through rows, starting from the second row (skip headers)\n",
    "for row in sh.iter_rows(min_row=2, values_only=True):  \n",
    "    iedb[int(row[0])] = row[1]  # Store column A as key and column C as value\n",
    "\n",
    "print(iedb)\n"
   ]
  },
  {
   "cell_type": "markdown",
   "metadata": {},
   "source": [
    "### Reading an Excel File (.xlsx) with pandas\n"
   ]
  },
  {
   "cell_type": "code",
   "execution_count": 21,
   "metadata": {},
   "outputs": [
    {
     "name": "stdout",
     "output_type": "stream",
     "text": [
      "    Entry   Entry name    Status  \\\n",
      "0  Q8BG02   2ABG_MOUSE  reviewed   \n",
      "1  P24815  3BHS1_MOUSE  reviewed   \n",
      "2  P55194   3BP1_MOUSE  reviewed   \n",
      "3  P28334  5HT1B_MOUSE  reviewed   \n",
      "4  P35363  5HT2A_MOUSE  reviewed   \n",
      "\n",
      "                                       Protein names    Gene names  \\\n",
      "0  Serine/threonine-protein phosphatase 2A 55 kDa...       Ppp2r2c   \n",
      "1  3 beta-hydroxysteroid dehydrogenase/Delta 5-->...  Hsd3b1 Hsd3b   \n",
      "2               SH3 domain-binding protein 1 (3BP-1)   Sh3bp1 3bp1   \n",
      "3  5-hydroxytryptamine receptor 1B (5-HT-1B) (5-H...   Htr1b 5ht1b   \n",
      "4  5-hydroxytryptamine receptor 2A (5-HT-2) (5-HT...    Htr2a Htr2   \n",
      "\n",
      "               Organism  Length  \n",
      "0  Mus musculus (Mouse)     447  \n",
      "1  Mus musculus (Mouse)     373  \n",
      "2  Mus musculus (Mouse)     601  \n",
      "3  Mus musculus (Mouse)     386  \n",
      "4  Mus musculus (Mouse)     471  \n"
     ]
    }
   ],
   "source": [
    "import pandas as pd\n",
    "\n",
    "df1 = pd.read_csv('samples/data.csv', delimiter='\\t')  # First method\n",
    "df2 = pd.read_csv('samples/data.csv', sep='\\t')  # Second method (more common)\n",
    "print(df2.head())  # Display the first 5 rows\n"
   ]
  },
  {
   "cell_type": "markdown",
   "metadata": {},
   "source": [
    "- Selecting Specific Columns"
   ]
  },
  {
   "cell_type": "code",
   "execution_count": 22,
   "metadata": {},
   "outputs": [
    {
     "name": "stdout",
     "output_type": "stream",
     "text": [
      "   Column A  Column C\n",
      "0         1         0\n",
      "1         2         0\n",
      "2         3         0\n",
      "3         4         0\n"
     ]
    }
   ],
   "source": [
    "import pandas as pd\n",
    "df = pd.read_excel('mynewfile5.xlsx', usecols= [\"Column A\", \"Column C\"])\n",
    "print(df)"
   ]
  },
  {
   "cell_type": "code",
   "execution_count": 23,
   "metadata": {},
   "outputs": [
    {
     "name": "stdout",
     "output_type": "stream",
     "text": [
      "   Epitope ID     Object Type Description  Starting Position  Ending Position\n",
      "0        6273  Linear peptide   CGAELNHFL              379.0            387.0\n",
      "1       14101  Linear peptide   ERYLKDQQL              584.0            592.0\n",
      "2       22030  Linear peptide   GRFKLIVLY                NaN              NaN\n",
      "3       25569  Linear peptide   IDFPKTFGW                NaN              NaN\n",
      "4       26070  Linear peptide   IFFPKTFGW                NaN              NaN\n"
     ]
    }
   ],
   "source": [
    "import pandas as pd\n",
    "df = pd.read_excel('samples/sampledata.xlsx')\n",
    "print(df.head())"
   ]
  },
  {
   "cell_type": "code",
   "execution_count": 24,
   "metadata": {},
   "outputs": [
    {
     "name": "stdout",
     "output_type": "stream",
     "text": [
      "    Epitope ID Description\n",
      "0         6273   CGAELNHFL\n",
      "1        14101   ERYLKDQQL\n",
      "2        22030   GRFKLIVLY\n",
      "3        25569   IDFPKTFGW\n",
      "4        26070   IFFPKTFGW\n",
      "5        26790   IKFPKTFGW\n",
      "6        27049   ILFPKTFGW\n",
      "7        27636   INFPKTFGW\n",
      "8        28419   IRYPKTFGW\n",
      "9        33140   KRGILTLKY\n",
      "10       33170   KRKKAYADF\n",
      "11       33260   KRYKSIVKY\n",
      "12       55565  RRFVNVVPTF\n",
      "13       55785   RRYQKSTEL\n",
      "14       58781   SKADVIAKY\n",
      "15       60636   SRDKTIIMW\n",
      "16       63789   TGASIQTTL\n",
      "17      144753  QRSPMFEGTL\n",
      "18      144784   SKFPKMRMG\n",
      "19      226822  AKFPGMKKSK\n",
      "20      504020  NQFNGGCLLV\n"
     ]
    }
   ],
   "source": [
    "import pandas as pd\n",
    "df = pd.read_excel('samples/sampledata.xlsx', usecols= [\"Epitope ID\", \"Description\"])\n",
    "print(df)"
   ]
  },
  {
   "cell_type": "markdown",
   "metadata": {},
   "source": [
    "- Converting an Excel Column to a Dictionary"
   ]
  },
  {
   "cell_type": "code",
   "execution_count": 28,
   "metadata": {},
   "outputs": [
    {
     "name": "stdout",
     "output_type": "stream",
     "text": [
      "   Column A  Column B  Column C  Column D\n",
      "0         1       230         0         5\n",
      "1         2       238         0         5\n",
      "2         3       454         0         5\n",
      "3         4       234         0         5\n",
      "{1: 230, 2: 238, 3: 454, 4: 234}\n"
     ]
    }
   ],
   "source": [
    "df = pd.read_excel(\"mynewfile5.xlsx\", engine=\"openpyxl\")\n",
    "print(df.head())\n",
    "# Convert \"Column A\" to keys and \"Column C\" to values\n",
    "iedb = dict(zip(df[\"Column A\"], df[\"Column B\"]))\n",
    "print(iedb)\n"
   ]
  },
  {
   "attachments": {},
   "cell_type": "markdown",
   "metadata": {},
   "source": [
    "- Writing a DataFrame to an Excel File"
   ]
  },
  {
   "cell_type": "code",
   "execution_count": 29,
   "metadata": {},
   "outputs": [
    {
     "name": "stdout",
     "output_type": "stream",
     "text": [
      "done\n"
     ]
    }
   ],
   "source": [
    "df = pd.DataFrame({\n",
    "    'colA' : [1,2,3,4],\n",
    "    'colB' : ['A','B','C','D']\n",
    "})\n",
    "\n",
    "df.to_excel('mynewfile6.xlsx', index = False)\n",
    "print('done')"
   ]
  },
  {
   "cell_type": "code",
   "execution_count": 30,
   "metadata": {},
   "outputs": [
    {
     "name": "stdout",
     "output_type": "stream",
     "text": [
      "   colA colB\n",
      "0     1    A\n",
      "1     2    B\n",
      "2     3    C\n",
      "3     4    D\n"
     ]
    }
   ],
   "source": [
    "df = pd.read_excel(\"mynewfile6.xlsx\")\n",
    "print(df.head())"
   ]
  },
  {
   "attachments": {},
   "cell_type": "markdown",
   "metadata": {},
   "source": [
    "### PICKLE: storing and retrieving the contents of variables"
   ]
  },
  {
   "cell_type": "code",
   "execution_count": 31,
   "metadata": {},
   "outputs": [],
   "source": [
    "import pickle\n",
    "\n",
    "# Define a dictionary\n",
    "sp_dict = {'one': 'uno', 'two': 'dos', 'three': 'tres'}\n",
    "\n",
    "# Save the dictionary to a file\n",
    "with open('spdict.data', 'wb') as fh:\n",
    "    pickle.dump(sp_dict, fh)\n"
   ]
  },
  {
   "cell_type": "code",
   "execution_count": 32,
   "metadata": {},
   "outputs": [
    {
     "name": "stdout",
     "output_type": "stream",
     "text": [
      "{'one': 'uno', 'two': 'dos', 'three': 'tres'}\n"
     ]
    }
   ],
   "source": [
    "import pickle\n",
    "\n",
    "# Load the dictionary from the file\n",
    "with open('spdict.data', 'rb') as fh:\n",
    "    loaded_dict = pickle.load(fh)\n",
    "\n",
    "print(loaded_dict)  # Output: {'one': 'uno', 'two': 'dos', 'three': 'tres'}\n"
   ]
  },
  {
   "cell_type": "markdown",
   "metadata": {},
   "source": [
    "### JSON"
   ]
  },
  {
   "cell_type": "code",
   "execution_count": null,
   "metadata": {},
   "outputs": [],
   "source": [
    "{\n",
    "  \"contactPoint\": {\n",
    "    \"fn\": \"PREUSCH, PETER\\u00a0\",\n",
    "    \"hasEmail\": \"mailto:preuschp@nigms.nih.gov\"\n",
    "  },\n",
    "  \"description\": \"<p>The Protein Data Bank (PDB) archive is the single worldwide repository of information about the 3D structures of large biological molecules, including proteins and nucleic acids found in all organisms</p>\\n\",\n",
    "  \"identifier\": \"d9f3932a-9c55-41b3-ad3a-0b4e18ee4752\",\n",
    "  \"keyword\": [\"national-institutes-of-health-nih\"],\n",
    "  \"language\": [\"en\"],\n",
    "  \"license\": \"http://opendefinition.org/licenses/odc-odbl/\",\n",
    "  \"modified\": \"2016-07-18\",\n",
    "  \"programCode\": [\"009:000\"],\n",
    "  \"publisher\": {\n",
    "    \"@type\": \"org:Organization\",\n",
    "    \"name\": \"National Institutes of Health (NIH)\"\n",
    "  },\n",
    "  \"title\": \"Protein Data Bank (PDB)\"\n",
    "}\n"
   ]
  },
  {
   "cell_type": "code",
   "execution_count": 33,
   "metadata": {},
   "outputs": [],
   "source": [
    "import json\n",
    "sp_dict = {'one': 'uno', 'two': 'dos', 'three': 'tres'}\n",
    "with open('spdict.json', 'w') as fh:\n",
    "    json.dump(sp_dict, fh)\n"
   ]
  },
  {
   "cell_type": "code",
   "execution_count": 35,
   "metadata": {},
   "outputs": [
    {
     "data": {
      "text/plain": [
       "{'one': 'uno', 'two': 'dos', 'three': 'tres'}"
      ]
     },
     "execution_count": 35,
     "metadata": {},
     "output_type": "execute_result"
    }
   ],
   "source": [
    "sp_dict"
   ]
  },
  {
   "cell_type": "code",
   "execution_count": 34,
   "metadata": {},
   "outputs": [],
   "source": [
    "with open('spdict.json') as fh:\n",
    "    sp_dict = json.load(fh)"
   ]
  },
  {
   "cell_type": "code",
   "execution_count": 36,
   "metadata": {
    "scrolled": true
   },
   "outputs": [
    {
     "ename": "TypeError",
     "evalue": "Object of type set is not JSON serializable",
     "output_type": "error",
     "traceback": [
      "\u001b[1;31m---------------------------------------------------------------------------\u001b[0m",
      "\u001b[1;31mTypeError\u001b[0m                                 Traceback (most recent call last)",
      "Cell \u001b[1;32mIn[36], line 2\u001b[0m\n\u001b[0;32m      1\u001b[0m \u001b[38;5;28;01mimport\u001b[39;00m \u001b[38;5;21;01mjson\u001b[39;00m\n\u001b[1;32m----> 2\u001b[0m \u001b[43mjson\u001b[49m\u001b[38;5;241;43m.\u001b[39;49m\u001b[43mdump\u001b[49m\u001b[43m(\u001b[49m\u001b[43m{\u001b[49m\u001b[38;5;241;43m1\u001b[39;49m\u001b[43m,\u001b[49m\u001b[38;5;241;43m2\u001b[39;49m\u001b[43m,\u001b[49m\u001b[38;5;241;43m3\u001b[39;49m\u001b[43m,\u001b[49m\u001b[38;5;241;43m4\u001b[39;49m\u001b[43m}\u001b[49m\u001b[43m,\u001b[49m\u001b[43m \u001b[49m\u001b[38;5;28;43mopen\u001b[39;49m\u001b[43m(\u001b[49m\u001b[38;5;124;43m'\u001b[39;49m\u001b[38;5;124;43mtest.json\u001b[39;49m\u001b[38;5;124;43m'\u001b[39;49m\u001b[43m,\u001b[49m\u001b[38;5;124;43m'\u001b[39;49m\u001b[38;5;124;43mwb\u001b[39;49m\u001b[38;5;124;43m'\u001b[39;49m\u001b[43m)\u001b[49m\u001b[43m)\u001b[49m\n",
      "File \u001b[1;32m~\\.conda\\envs\\gpu_env\\lib\\json\\__init__.py:179\u001b[0m, in \u001b[0;36mdump\u001b[1;34m(obj, fp, skipkeys, ensure_ascii, check_circular, allow_nan, cls, indent, separators, default, sort_keys, **kw)\u001b[0m\n\u001b[0;32m    173\u001b[0m     iterable \u001b[38;5;241m=\u001b[39m \u001b[38;5;28mcls\u001b[39m(skipkeys\u001b[38;5;241m=\u001b[39mskipkeys, ensure_ascii\u001b[38;5;241m=\u001b[39mensure_ascii,\n\u001b[0;32m    174\u001b[0m         check_circular\u001b[38;5;241m=\u001b[39mcheck_circular, allow_nan\u001b[38;5;241m=\u001b[39mallow_nan, indent\u001b[38;5;241m=\u001b[39mindent,\n\u001b[0;32m    175\u001b[0m         separators\u001b[38;5;241m=\u001b[39mseparators,\n\u001b[0;32m    176\u001b[0m         default\u001b[38;5;241m=\u001b[39mdefault, sort_keys\u001b[38;5;241m=\u001b[39msort_keys, \u001b[38;5;241m*\u001b[39m\u001b[38;5;241m*\u001b[39mkw)\u001b[38;5;241m.\u001b[39miterencode(obj)\n\u001b[0;32m    177\u001b[0m \u001b[38;5;66;03m# could accelerate with writelines in some versions of Python, at\u001b[39;00m\n\u001b[0;32m    178\u001b[0m \u001b[38;5;66;03m# a debuggability cost\u001b[39;00m\n\u001b[1;32m--> 179\u001b[0m \u001b[38;5;28;01mfor\u001b[39;00m chunk \u001b[38;5;129;01min\u001b[39;00m iterable:\n\u001b[0;32m    180\u001b[0m     fp\u001b[38;5;241m.\u001b[39mwrite(chunk)\n",
      "File \u001b[1;32m~\\.conda\\envs\\gpu_env\\lib\\json\\encoder.py:438\u001b[0m, in \u001b[0;36m_make_iterencode.<locals>._iterencode\u001b[1;34m(o, _current_indent_level)\u001b[0m\n\u001b[0;32m    436\u001b[0m         \u001b[38;5;28;01mraise\u001b[39;00m \u001b[38;5;167;01mValueError\u001b[39;00m(\u001b[38;5;124m\"\u001b[39m\u001b[38;5;124mCircular reference detected\u001b[39m\u001b[38;5;124m\"\u001b[39m)\n\u001b[0;32m    437\u001b[0m     markers[markerid] \u001b[38;5;241m=\u001b[39m o\n\u001b[1;32m--> 438\u001b[0m o \u001b[38;5;241m=\u001b[39m \u001b[43m_default\u001b[49m\u001b[43m(\u001b[49m\u001b[43mo\u001b[49m\u001b[43m)\u001b[49m\n\u001b[0;32m    439\u001b[0m \u001b[38;5;28;01myield from\u001b[39;00m _iterencode(o, _current_indent_level)\n\u001b[0;32m    440\u001b[0m \u001b[38;5;28;01mif\u001b[39;00m markers \u001b[38;5;129;01mis\u001b[39;00m \u001b[38;5;129;01mnot\u001b[39;00m \u001b[38;5;28;01mNone\u001b[39;00m:\n",
      "File \u001b[1;32m~\\.conda\\envs\\gpu_env\\lib\\json\\encoder.py:179\u001b[0m, in \u001b[0;36mJSONEncoder.default\u001b[1;34m(self, o)\u001b[0m\n\u001b[0;32m    160\u001b[0m \u001b[38;5;28;01mdef\u001b[39;00m \u001b[38;5;21mdefault\u001b[39m(\u001b[38;5;28mself\u001b[39m, o):\n\u001b[0;32m    161\u001b[0m \u001b[38;5;250m    \u001b[39m\u001b[38;5;124;03m\"\"\"Implement this method in a subclass such that it returns\u001b[39;00m\n\u001b[0;32m    162\u001b[0m \u001b[38;5;124;03m    a serializable object for ``o``, or calls the base implementation\u001b[39;00m\n\u001b[0;32m    163\u001b[0m \u001b[38;5;124;03m    (to raise a ``TypeError``).\u001b[39;00m\n\u001b[1;32m   (...)\u001b[0m\n\u001b[0;32m    177\u001b[0m \n\u001b[0;32m    178\u001b[0m \u001b[38;5;124;03m    \"\"\"\u001b[39;00m\n\u001b[1;32m--> 179\u001b[0m     \u001b[38;5;28;01mraise\u001b[39;00m \u001b[38;5;167;01mTypeError\u001b[39;00m(\u001b[38;5;124mf\u001b[39m\u001b[38;5;124m'\u001b[39m\u001b[38;5;124mObject of type \u001b[39m\u001b[38;5;132;01m{\u001b[39;00mo\u001b[38;5;241m.\u001b[39m\u001b[38;5;18m__class__\u001b[39m\u001b[38;5;241m.\u001b[39m\u001b[38;5;18m__name__\u001b[39m\u001b[38;5;132;01m}\u001b[39;00m\u001b[38;5;124m \u001b[39m\u001b[38;5;124m'\u001b[39m\n\u001b[0;32m    180\u001b[0m                     \u001b[38;5;124mf\u001b[39m\u001b[38;5;124m'\u001b[39m\u001b[38;5;124mis not JSON serializable\u001b[39m\u001b[38;5;124m'\u001b[39m)\n",
      "\u001b[1;31mTypeError\u001b[0m: Object of type set is not JSON serializable"
     ]
    }
   ],
   "source": [
    "import json\n",
    "json.dump({1,2,3,4}, open('test.json','wb'))\n",
    "\n",
    "#TypeError: Object of type set is not JSON serializable\n",
    "#Note that JSON cannot serialize sets and other specific Python objects:\n",
    "#Here is a list of serializable objects in JSON: \n",
    "#int, float, str, list, dict, True, False, and None."
   ]
  },
  {
   "cell_type": "markdown",
   "metadata": {},
   "source": [
    "### FILE HANDLING: OS, OS.PATH, SHUTIL, AND PATH.PY MODULE"
   ]
  },
  {
   "cell_type": "code",
   "execution_count": 4,
   "metadata": {},
   "outputs": [],
   "source": [
    "#os.chdir('C:\\\\Users\\\\paris\\\\bio4py')"
   ]
  },
  {
   "cell_type": "code",
   "execution_count": 5,
   "metadata": {},
   "outputs": [
    {
     "data": {
      "text/plain": [
       "'C:\\\\Users\\\\paris\\\\bio4py'"
      ]
     },
     "execution_count": 5,
     "metadata": {},
     "output_type": "execute_result"
    }
   ],
   "source": [
    "import os\n",
    "os.getcwd()  # windows Output: 'C:\\\\Users\\\\paris\\\\bio4py'\n",
    "# linux Output: 'C:/Users/paris/bio4py'"
   ]
  },
  {
   "cell_type": "code",
   "execution_count": 6,
   "metadata": {},
   "outputs": [
    {
     "data": {
      "text/plain": [
       "'C:\\\\Users\\\\paris\\\\bio4py\\\\samples'"
      ]
     },
     "execution_count": 6,
     "metadata": {},
     "output_type": "execute_result"
    }
   ],
   "source": [
    "os.chdir('samples')\n",
    "os.getcwd()  # Output: '/home/sb/docs'"
   ]
  },
  {
   "cell_type": "code",
   "execution_count": 7,
   "metadata": {},
   "outputs": [
    {
     "data": {
      "text/plain": [
       "'C:\\\\Users\\\\paris\\\\bio4py'"
      ]
     },
     "execution_count": 7,
     "metadata": {},
     "output_type": "execute_result"
    }
   ],
   "source": [
    "os.chdir('..')  # Return to the higher directory\n",
    "os.getcwd()"
   ]
  },
  {
   "cell_type": "code",
   "execution_count": 8,
   "metadata": {},
   "outputs": [
    {
     "data": {
      "text/plain": [
       "True"
      ]
     },
     "execution_count": 8,
     "metadata": {},
     "output_type": "execute_result"
    }
   ],
   "source": [
    "path = 'C:\\\\Users\\\\paris\\\\bio4py'\n",
    "os.path.isfile(path)\n",
    "os.path.isdir(path)\n"
   ]
  },
  {
   "cell_type": "code",
   "execution_count": 9,
   "metadata": {},
   "outputs": [
    {
     "data": {
      "text/plain": [
       "['.ipynb_checkpoints',\n",
       " 'Chapter 5 - Code Modularizing.ipynb',\n",
       " 'Chapter1- Introduction.ipynb',\n",
       " 'Chapter2 - Basic Programming - Data Types.ipynb',\n",
       " 'Chapter3 - Programming - Flow Control.ipynb',\n",
       " 'Chapter4 - Handling Files.ipynb',\n",
       " 'Common-Dictionary-Methods.png',\n",
       " 'compares-datatype.png',\n",
       " 'mynewfile1.xlsx',\n",
       " 'mynewfile5.xlsx',\n",
       " 'mynewfile6.xlsx',\n",
       " 'newfile.txt',\n",
       " 'out.txt',\n",
       " 'prot.fas',\n",
       " 'PythonStringMethodsOverview.png',\n",
       " 'samples',\n",
       " 'Untitled.ipynb']"
      ]
     },
     "execution_count": 9,
     "metadata": {},
     "output_type": "execute_result"
    }
   ],
   "source": [
    "os.listdir('C:\\\\Users\\\\paris\\\\bio4py')\n",
    "# Output:  ['readme.txt', 'ms115.ab1', '.atom', 'projects', '.bash_history']\n"
   ]
  },
  {
   "cell_type": "code",
   "execution_count": 10,
   "metadata": {},
   "outputs": [
    {
     "data": {
      "text/plain": [
       "'C:\\\\Users\\\\paris\\\\bio4py\\\\images'"
      ]
     },
     "execution_count": 10,
     "metadata": {},
     "output_type": "execute_result"
    }
   ],
   "source": [
    "os.path.join(os.getcwd(), 'images')\n",
    "# On Windows: '\\\\', on Linux/macOS: '/'\n"
   ]
  },
  {
   "cell_type": "code",
   "execution_count": 1,
   "metadata": {},
   "outputs": [
    {
     "name": "stdout",
     "output_type": "stream",
     "text": [
      "Collecting pathlib\n",
      "  Using cached pathlib-1.0.1-py3-none-any.whl.metadata (5.1 kB)\n",
      "Using cached pathlib-1.0.1-py3-none-any.whl (14 kB)\n",
      "Installing collected packages: pathlib\n",
      "Successfully installed pathlib-1.0.1\n"
     ]
    },
    {
     "name": "stderr",
     "output_type": "stream",
     "text": [
      "\n",
      "[notice] A new release of pip is available: 24.3.1 -> 25.0.1\n",
      "[notice] To update, run: python.exe -m pip install --upgrade pip\n"
     ]
    }
   ],
   "source": [
    "#pip install pathlib\n",
    "#!pip install pathlib"
   ]
  },
  {
   "cell_type": "code",
   "execution_count": 11,
   "metadata": {},
   "outputs": [],
   "source": [
    "from pathlib import Path"
   ]
  },
  {
   "cell_type": "code",
   "execution_count": 12,
   "metadata": {},
   "outputs": [],
   "source": [
    "f = Path('C:\\\\Users\\\\paris\\\\bio4py\\\\newfile.txt')\n",
    "f.touch()  # Create the file if it doesn't exist"
   ]
  },
  {
   "cell_type": "code",
   "execution_count": 23,
   "metadata": {},
   "outputs": [
    {
     "data": {
      "text/plain": [
       "False"
      ]
     },
     "execution_count": 23,
     "metadata": {},
     "output_type": "execute_result"
    }
   ],
   "source": [
    "f.is_file()  # True if it is a file"
   ]
  },
  {
   "cell_type": "code",
   "execution_count": 24,
   "metadata": {},
   "outputs": [
    {
     "name": "stdout",
     "output_type": "stream",
     "text": [
      ".py\n",
      "xx.py\n",
      "\\home\\sb\n",
      "\\home\n"
     ]
    }
   ],
   "source": [
    "f = Path('/home/sb/xx.py')\n",
    "print(f.suffix)           # '.py'\n",
    "print(f.name)          # Path('xx.py')\n",
    "print(f.parent)        # Path('/home/sb')\n",
    "print(f.parent.parent) # Path('/home')\n"
   ]
  },
  {
   "cell_type": "code",
   "execution_count": 38,
   "metadata": {},
   "outputs": [
    {
     "name": "stdout",
     "output_type": "stream",
     "text": [
      "[WindowsPath('C:/Users/paris/bio4py/samples/newfile-checkpoint.txt'), WindowsPath('C:/Users/paris/bio4py/samples/newfile.txt'), WindowsPath('C:/Users/paris/bio4py/samples/output3-checkpoint.txt'), WindowsPath('C:/Users/paris/bio4py/samples/output3.txt'), WindowsPath('C:/Users/paris/bio4py/samples/readme-checkpoint.txt'), WindowsPath('C:/Users/paris/bio4py/samples/readme.txt')]\n"
     ]
    }
   ],
   "source": [
    "# Filter files with specific pattern (e.g. .pdf)\n",
    "d = Path('C:\\\\Users\\\\paris\\\\bio4py\\\\samples')\n",
    "txt_files = list(d.glob('*.txt'))\n",
    "print(txt_files)\n"
   ]
  },
  {
   "cell_type": "code",
   "execution_count": 29,
   "metadata": {},
   "outputs": [
    {
     "name": "stdout",
     "output_type": "stream",
     "text": [
      "[WindowsPath('C:/Users/paris/bio4py/Chapter 5 - Code Modularizing.ipynb'), WindowsPath('C:/Users/paris/bio4py/Chapter1- Introduction.ipynb'), WindowsPath('C:/Users/paris/bio4py/Chapter2 - Basic Programming - Data Types.ipynb'), WindowsPath('C:/Users/paris/bio4py/Chapter3 - Programming - Flow Control.ipynb'), WindowsPath('C:/Users/paris/bio4py/Chapter4 - Handling Files.ipynb'), WindowsPath('C:/Users/paris/bio4py/Common-Dictionary-Methods.png'), WindowsPath('C:/Users/paris/bio4py/compares-datatype.png'), WindowsPath('C:/Users/paris/bio4py/mynewfile1.xlsx'), WindowsPath('C:/Users/paris/bio4py/mynewfile5.xlsx'), WindowsPath('C:/Users/paris/bio4py/mynewfile6.xlsx'), WindowsPath('C:/Users/paris/bio4py/newfile.txt'), WindowsPath('C:/Users/paris/bio4py/out.txt'), WindowsPath('C:/Users/paris/bio4py/prot.fas'), WindowsPath('C:/Users/paris/bio4py/PythonStringMethodsOverview.png'), WindowsPath('C:/Users/paris/bio4py/Untitled.ipynb')]\n"
     ]
    }
   ],
   "source": [
    "from pathlib import Path\n",
    "\n",
    "d = Path('C:/Users/paris/bio4py')\n",
    "\n",
    "# List all files (not directories)\n",
    "files = [f for f in d.iterdir() if f.is_file()]\n",
    "print(files)\n"
   ]
  },
  {
   "cell_type": "code",
   "execution_count": 26,
   "metadata": {},
   "outputs": [
    {
     "name": "stdout",
     "output_type": "stream",
     "text": [
      "[WindowsPath('C:/Users/paris/bio4py/.ipynb_checkpoints'), WindowsPath('C:/Users/paris/bio4py/samples')]\n"
     ]
    }
   ],
   "source": [
    "# List all directories\n",
    "dirs = [f for f in d.iterdir() if f.is_dir()]\n",
    "print(dirs)\n"
   ]
  },
  {
   "cell_type": "code",
   "execution_count": 31,
   "metadata": {},
   "outputs": [
    {
     "name": "stdout",
     "output_type": "stream",
     "text": [
      "[WindowsPath('C:/Users/paris/bio4py/samples/test.pdf')]\n"
     ]
    }
   ],
   "source": [
    "# Filter files with specific pattern (e.g. .pdf)\n",
    "d = Path('C:/Users/paris/bio4py/samples')\n",
    "pdf_files = list(d.glob('*.pdf'))\n",
    "print(pdf_files)\n"
   ]
  },
  {
   "cell_type": "code",
   "execution_count": 36,
   "metadata": {
    "scrolled": true
   },
   "outputs": [
    {
     "name": "stdout",
     "output_type": "stream",
     "text": [
      "C:\\Users\\paris\\bio4py\\Chapter 5 - Code Modularizing.ipynb\n",
      "C:\\Users\\paris\\bio4py\\Chapter1- Introduction.ipynb\n",
      "C:\\Users\\paris\\bio4py\\Chapter2 - Basic Programming - Data Types.ipynb\n",
      "C:\\Users\\paris\\bio4py\\Chapter3 - Programming - Flow Control.ipynb\n",
      "C:\\Users\\paris\\bio4py\\Chapter4 - Handling Files.ipynb\n",
      "C:\\Users\\paris\\bio4py\\Common-Dictionary-Methods.png\n",
      "C:\\Users\\paris\\bio4py\\compares-datatype.png\n",
      "C:\\Users\\paris\\bio4py\\mynewfile1.xlsx\n",
      "C:\\Users\\paris\\bio4py\\mynewfile5.xlsx\n",
      "C:\\Users\\paris\\bio4py\\mynewfile6.xlsx\n",
      "C:\\Users\\paris\\bio4py\\newfile.txt\n",
      "C:\\Users\\paris\\bio4py\\out.txt\n",
      "C:\\Users\\paris\\bio4py\\outfile.fasta\n",
      "C:\\Users\\paris\\bio4py\\prot.fas\n",
      "C:\\Users\\paris\\bio4py\\PythonStringMethodsOverview.png\n",
      "C:\\Users\\paris\\bio4py\\Untitled.ipynb\n",
      "C:\\Users\\paris\\bio4py\\.ipynb_checkpoints\\Chapter1- Introduction-checkpoint.ipynb\n",
      "C:\\Users\\paris\\bio4py\\.ipynb_checkpoints\\Chapter2 - Basic Programming - Data Types - part1-checkpoint.ipynb\n",
      "C:\\Users\\paris\\bio4py\\.ipynb_checkpoints\\Chapter2 - Basic Programming - Data Types-checkpoint.ipynb\n",
      "C:\\Users\\paris\\bio4py\\.ipynb_checkpoints\\Chapter3 - Programming - Flow Control-checkpoint.ipynb\n",
      "C:\\Users\\paris\\bio4py\\.ipynb_checkpoints\\Chapter4 - Handling Files-checkpoint.ipynb\n",
      "C:\\Users\\paris\\bio4py\\.ipynb_checkpoints\\compares-datatype-checkpoint.png\n",
      "C:\\Users\\paris\\bio4py\\.ipynb_checkpoints\\out-checkpoint.txt\n",
      "C:\\Users\\paris\\bio4py\\.ipynb_checkpoints\\prot-checkpoint.fas\n",
      "C:\\Users\\paris\\bio4py\\.ipynb_checkpoints\\Untitled-checkpoint.ipynb\n",
      "C:\\Users\\paris\\bio4py\\samples\\B1.csv\n",
      "C:\\Users\\paris\\bio4py\\samples\\Chapter4 - Handling Files.ipynb\n",
      "C:\\Users\\paris\\bio4py\\samples\\data.csv\n",
      "C:\\Users\\paris\\bio4py\\samples\\error.log\n",
      "C:\\Users\\paris\\bio4py\\samples\\newfile.txt\n",
      "C:\\Users\\paris\\bio4py\\samples\\numbers.txt\n",
      "C:\\Users\\paris\\bio4py\\samples\\output3.txt\n",
      "C:\\Users\\paris\\bio4py\\samples\\prot.fas\n",
      "C:\\Users\\paris\\bio4py\\samples\\readme.txt\n",
      "C:\\Users\\paris\\bio4py\\samples\\sampledata.xlsx\n",
      "C:\\Users\\paris\\bio4py\\samples\\seqA.fas\n",
      "C:\\Users\\paris\\bio4py\\samples\\test.pdf\n",
      "C:\\Users\\paris\\bio4py\\samples\\Untitled.ipynb\n",
      "C:\\Users\\paris\\bio4py\\samples\\.ipynb_checkpoints\\B1-checkpoint.csv\n",
      "C:\\Users\\paris\\bio4py\\samples\\.ipynb_checkpoints\\Chapter4 - Handling Files-checkpoint.ipynb\n",
      "C:\\Users\\paris\\bio4py\\samples\\.ipynb_checkpoints\\data-checkpoint.csv\n",
      "C:\\Users\\paris\\bio4py\\samples\\.ipynb_checkpoints\\error-checkpoint.log\n",
      "C:\\Users\\paris\\bio4py\\samples\\.ipynb_checkpoints\\newfile-checkpoint.txt\n",
      "C:\\Users\\paris\\bio4py\\samples\\.ipynb_checkpoints\\numbers-checkpoint.txt\n",
      "C:\\Users\\paris\\bio4py\\samples\\.ipynb_checkpoints\\output3-checkpoint.txt\n",
      "C:\\Users\\paris\\bio4py\\samples\\.ipynb_checkpoints\\readme-checkpoint.txt\n",
      "C:\\Users\\paris\\bio4py\\samples\\.ipynb_checkpoints\\seqA-checkpoint.fas\n",
      "C:\\Users\\paris\\bio4py\\samples\\.ipynb_checkpoints\\Untitled-checkpoint.ipynb\n"
     ]
    }
   ],
   "source": [
    "# Walk through all files in directory and subdirectories\n",
    "d = Path('C:/Users/paris/bio4py')\n",
    "for file in d.rglob('*'):\n",
    "    if file.is_file():\n",
    "        print(file)\n"
   ]
  },
  {
   "cell_type": "code",
   "execution_count": 39,
   "metadata": {},
   "outputs": [],
   "source": [
    "from pathlib import Path\n",
    "\n",
    "# Search recursively for all PDF files in your home directory\n",
    "my_path = Path('C:/Users/paris/bio4py/samples')\n",
    "#pdfs = Path.home().rglob('*.pdf')\n",
    "pdfs = my_path.rglob('*.txt')\n",
    "\n",
    "# Create a folder to store the final reports\n",
    "output_dir = my_path / 'FinalReports'\n",
    "output_dir.mkdir(exist_ok=True)\n",
    "\n",
    "# Move all found PDFs to the FinalReports folder\n",
    "for pdf in pdfs:\n",
    "    target = output_dir / pdf.name\n",
    "    pdf.replace(target)\n"
   ]
  },
  {
   "cell_type": "markdown",
   "metadata": {},
   "source": [
    "- To combine all .fasta DNA sequence files from a given directory and its subdirectories into a single file called outfile.fasta.\n",
    "-  (Reads each .fasta file’s contents and writes them to outfile.fasta) combine all fasta data to one file."
   ]
  },
  {
   "cell_type": "code",
   "execution_count": 39,
   "metadata": {},
   "outputs": [],
   "source": [
    "from pathlib import Path\n",
    "\n",
    "# Set the directory that contains the input .fasta files\n",
    "d = Path('C:/Users/paris/bio4py/samples')\n",
    "\n",
    "# Open the output file to consolidate all sequences\n",
    "with open('./outfile.fasta', 'w') as f_out:\n",
    "    for file in d.rglob('*.fasta'):  # Recursively find all .fasta files (in the directory and all subdirectories)\n",
    "        with open(file, 'r') as f_in:\n",
    "            f_out.write(f_in.read())\n"
   ]
  },
  {
   "cell_type": "markdown",
   "metadata": {},
   "source": [
    "### Practical Example: Collecting All Your Project Reports\n"
   ]
  },
  {
   "attachments": {},
   "cell_type": "markdown",
   "metadata": {},
   "source": [
    "Scenario: It's the end of the semester, and you need to submit all your .pdf reports to your professor.But they are scattered across your computer in folders like Downloads, Documents, Desktop, etc.Let’s write a Python script to find all .pdf files and move them to one clean folder. "
   ]
  },
  {
   "cell_type": "code",
   "execution_count": 44,
   "metadata": {},
   "outputs": [],
   "source": [
    "from pathlib import Path\n",
    "\n",
    "# Search recursively for all PDF files in your home directory\n",
    "my_path = Path('C:/Users/paris/bio4py/samples')\n",
    "#pdfs = Path.home().rglob('*.pdf')\n",
    "pdfs = my_path.rglob('*.pdf')\n",
    "\n",
    "# Create a folder to store the final reports\n",
    "output_dir = my_path / 'FinalReports'\n",
    "output_dir.mkdir(exist_ok=True)\n",
    "\n",
    "# Move all found PDFs to the FinalReports folder\n",
    "for pdf in pdfs:\n",
    "    target = output_dir / pdf.name\n",
    "    pdf.replace(target)\n"
   ]
  },
  {
   "cell_type": "markdown",
   "metadata": {},
   "source": [
    "#### Theoretical Questions:"
   ]
  },
  {
   "cell_type": "markdown",
   "metadata": {},
   "source": [
    "1. What is the difference between “w” and “a” modes if both allow you to write\n",
    "files?\n",
    "2. Why we must close all files that are no longer in use?\n",
    "3. Why we open files using with?\n",
    "4. Is it possible to parse csv files without csv module? If so, how is it done?\n",
    "5. Why is it not recommended to read a file using read()?\n",
    "6. What is the most efficient way to walk through a file line by line?\n",
    "7. What is Pickle in Python?\n",
    "8. Explain what is JSON and what limitation it has with respect to Pickle."
   ]
  },
  {
   "cell_type": "markdown",
   "metadata": {},
   "source": [
    "#### Code-Related Questions:"
   ]
  },
  {
   "cell_type": "markdown",
   "metadata": {},
   "source": [
    "9. Make a program that asks a name, and then writes it to a file called\n",
    "MyName.txt.\n",
    "10. Make a program that reads all the numbers from the second column of an\n",
    "Excel file and prints the average of these values.\n",
    "11. Write a Python program that asks the user to enter a DNA sequence and then writes it to a file called dna_sequence.txt.\n",
    "12. Given a CSV file named genes.csv, where the second column contains the lengths of genes, write a Python program that reads all gene lengths from the second column and calculates their average. Do not use the csv module.\n",
    "- Sample genes.csv file content:\n",
    "- Gene,Length\n",
    "- BRCA1,1863\n",
    "- TP53,1183\n",
    "- MYH7,2005\n",
    "- CFTR,1480"
   ]
  }
 ],
 "metadata": {
  "kernelspec": {
   "display_name": "Python (GPU)",
   "language": "python",
   "name": "gpu_env"
  },
  "language_info": {
   "codemirror_mode": {
    "name": "ipython",
    "version": 3
   },
   "file_extension": ".py",
   "mimetype": "text/x-python",
   "name": "python",
   "nbconvert_exporter": "python",
   "pygments_lexer": "ipython3",
   "version": "3.8.19"
  }
 },
 "nbformat": 4,
 "nbformat_minor": 4
}
