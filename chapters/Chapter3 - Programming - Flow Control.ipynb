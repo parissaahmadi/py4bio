{
 "cells": [
  {
   "cell_type": "markdown",
   "metadata": {},
   "source": [
    "Chapter 3: Programming: Flow Control\n",
    "=============="
   ]
  },
  {
   "cell_type": "markdown",
   "metadata": {},
   "source": [
    "Python has three flow control structures:\n",
    "- 1️⃣ Conditional Structure (`if`) – Determines if a block of code should be executed based on a condition.\n",
    "- 2️⃣ Looping Structures (`for`, `while`) – Execute a code block multiple times.\n",
    "- 3️⃣ Branching Structure (break, continue, pass) – Controls the flow of loops by breaking, skipping, or doing nothing in an iteration."
   ]
  },
  {
   "cell_type": "markdown",
   "metadata": {},
   "source": [
    "### A - Conditional Structure (if-else)"
   ]
  },
  {
   "cell_type": "markdown",
   "metadata": {},
   "source": [
    "- if EXPRESSION:\n",
    "    - BLOCK\n",
    "- else:\n",
    "    - BLOCK2"
   ]
  },
  {
   "cell_type": "code",
   "execution_count": 1,
   "metadata": {
    "collapsed": false,
    "jupyter": {
     "outputs_hidden": false
    }
   },
   "outputs": [
    {
     "name": "stdin",
     "output_type": "stream",
     "text": [
      "What is height? (in meters):  1.72\n"
     ]
    },
    {
     "name": "stdout",
     "output_type": "stream",
     "text": [
      "You can get in\n"
     ]
    }
   ],
   "source": [
    " height = float(input('What is height? (in meters): '))\n",
    " if height > 1.40:\n",
    "     print('You can get in')\n",
    " else:\n",
    "     print('This ride is not for you')\n"
   ]
  },
  {
   "cell_type": "code",
   "execution_count": 1,
   "metadata": {
    "collapsed": false,
    "jupyter": {
     "outputs_hidden": false
    },
    "scrolled": true
   },
   "outputs": [
    {
     "name": "stdout",
     "output_type": "stream",
     "text": [
      "Enter one letter: A\n",
      "The three letter code for A is Ala\n"
     ]
    }
   ],
   "source": [
    " three_letter_code = {'A':'Ala','N':'Asn','D':'Asp','C':'Cys'}\n",
    " aa = input('Enter one letter: ')\n",
    " if aa in three_letter_code:\n",
    "     print('The three letter code for {0} is {1}'.format(aa,\n",
    "            three_letter_code[aa]))\n",
    " else:\n",
    "     print(\"Sorry, I don't have it in my dictionary\")\n"
   ]
  },
  {
   "cell_type": "markdown",
   "metadata": {},
   "source": [
    "#### To evaluate multiple conditions, use elif :"
   ]
  },
  {
   "cell_type": "markdown",
   "metadata": {},
   "source": [
    "Once a condition is met, the subsequent conditions are not evaluated."
   ]
  },
  {
   "cell_type": "markdown",
   "metadata": {},
   "source": [
    "- if EXPRESSION1:\n",
    "    - BLOCK1\n",
    "- if EXPRESSION2:\n",
    "    - BLOCK2\n",
    "- if EXPRESSION3:\n",
    "    - BLOCK3\n",
    "- else:\n",
    "    - BLOCK4"
   ]
  },
  {
   "cell_type": "code",
   "execution_count": 4,
   "metadata": {
    "collapsed": false,
    "jupyter": {
     "outputs_hidden": false
    }
   },
   "outputs": [
    {
     "name": "stdout",
     "output_type": "stream",
     "text": [
      "Enter your primer sequence: ACGTAGCTCGACATCAGACTACGACTCGCATCGCATCAGCCTCGCATCGCGA\n",
      "The primer is too long\n"
     ]
    }
   ],
   "source": [
    " dna = input('Enter your primer sequence: ')\n",
    " seqsize = len(dna)\n",
    " if seqsize < 10:\n",
    "     print('The primer must have at least ten nucleotides')\n",
    " elif seqsize < 25:\n",
    "     print('This size is OK')\n",
    " else:\n",
    "     print('The primer is too long')\n"
   ]
  },
  {
   "cell_type": "markdown",
   "metadata": {},
   "source": [
    "Use bool(expression) to check if an expression is True or False."
   ]
  },
  {
   "cell_type": "code",
   "execution_count": 4,
   "metadata": {
    "collapsed": false,
    "jupyter": {
     "outputs_hidden": false
    }
   },
   "outputs": [
    {
     "data": {
      "text/plain": [
       "False"
      ]
     },
     "execution_count": 4,
     "metadata": {},
     "output_type": "execute_result"
    }
   ],
   "source": [
    "bool(1=='1')"
   ]
  },
  {
   "cell_type": "markdown",
   "metadata": {},
   "source": [
    "#### Nested Conditionals"
   ]
  },
  {
   "cell_type": "code",
   "execution_count": 1,
   "metadata": {},
   "outputs": [
    {
     "name": "stdin",
     "output_type": "stream",
     "text": [
      "Enter your DNA sequence:  ATGCGTACGTTAGCCTAAGTGC\n"
     ]
    },
    {
     "name": "stdout",
     "output_type": "stream",
     "text": [
      "This size is OK\n"
     ]
    }
   ],
   "source": [
    "#ATGCGTACGTTAGCCTAAGTGC\n",
    "\n",
    "dna = input('Enter your DNA sequence: ')\n",
    "seqsize = len(dna)\n",
    "\n",
    "if seqsize < 10:\n",
    "    print('Your primer must have at least ten nucleotides')\n",
    "    if seqsize == 0:\n",
    "        print('You must enter something!')\n",
    "elif seqsize < 25:\n",
    "    print('This size is OK')\n",
    "else:\n",
    "    print('Your primer is too long')\n"
   ]
  },
  {
   "cell_type": "markdown",
   "metadata": {},
   "source": [
    "- Important: == is for comparison, = is for assignment."
   ]
  },
  {
   "cell_type": "code",
   "execution_count": 15,
   "metadata": {
    "collapsed": false,
    "jupyter": {
     "outputs_hidden": false
    }
   },
   "outputs": [
    {
     "data": {
      "text/plain": [
       "42"
      ]
     },
     "execution_count": 15,
     "metadata": {},
     "output_type": "execute_result"
    }
   ],
   "source": [
    "answer=42\n",
    "answer\n"
   ]
  },
  {
   "cell_type": "code",
   "execution_count": 16,
   "metadata": {
    "collapsed": false,
    "jupyter": {
     "outputs_hidden": false
    }
   },
   "outputs": [
    {
     "data": {
      "text/plain": [
       "False"
      ]
     },
     "execution_count": 16,
     "metadata": {},
     "output_type": "execute_result"
    }
   ],
   "source": [
    "answer==3\n"
   ]
  },
  {
   "cell_type": "code",
   "execution_count": 17,
   "metadata": {
    "collapsed": false,
    "jupyter": {
     "outputs_hidden": false
    }
   },
   "outputs": [
    {
     "data": {
      "text/plain": [
       "True"
      ]
     },
     "execution_count": 17,
     "metadata": {},
     "output_type": "execute_result"
    }
   ],
   "source": [
    "answer==42\n"
   ]
  },
  {
   "cell_type": "markdown",
   "metadata": {},
   "source": [
    "#### Using elif for Readability"
   ]
  },
  {
   "cell_type": "code",
   "execution_count": 2,
   "metadata": {
    "collapsed": false,
    "jupyter": {
     "outputs_hidden": false
    }
   },
   "outputs": [
    {
     "name": "stdin",
     "output_type": "stream",
     "text": [
      "Enter your DNA sequence:  ATGCGTACGTTAGCCTAAGTGC\n"
     ]
    },
    {
     "name": "stdout",
     "output_type": "stream",
     "text": [
      "This size is OK\n"
     ]
    }
   ],
   "source": [
    "#ATGCGTACGTTAGCCTAAGTGC\n",
    "\n",
    "dna = input('Enter your DNA sequence: ')\n",
    "seqsize = len(dna)\n",
    "\n",
    "if seqsize == 0:\n",
    "    print('You must enter something!')\n",
    "elif 0 < seqsize < 10:\n",
    "    print('Your primer must have at least ten nucleotides')\n",
    "elif seqsize < 25:\n",
    "    print('This size is OK')\n",
    "else:\n",
    "    print('Your primer is too long')\n"
   ]
  },
  {
   "cell_type": "markdown",
   "metadata": {},
   "source": [
    "#### Multiple Conditions in if"
   ]
  },
  {
   "cell_type": "code",
   "execution_count": 22,
   "metadata": {
    "collapsed": false,
    "jupyter": {
     "outputs_hidden": false
    }
   },
   "outputs": [
    {
     "name": "stdout",
     "output_type": "stream",
     "text": [
      "Not OK\n"
     ]
    }
   ],
   "source": [
    "x = 'N/A'\n",
    "if x != 'N/A' and 5 < float(x) < 20:\n",
    "    print('OK')\n",
    "else:\n",
    "    print('Not OK')\n"
   ]
  },
  {
   "cell_type": "code",
   "execution_count": 6,
   "metadata": {
    "collapsed": false,
    "jupyter": {
     "outputs_hidden": false
    }
   },
   "outputs": [
    {
     "name": "stdout",
     "output_type": "stream",
     "text": [
      "OK\n"
     ]
    }
   ],
   "source": [
    "x = 11\n",
    "if x != 'N/A' and 5 < float(x) < 20:\n",
    "    print('OK')\n",
    "else:\n",
    "    print('Not OK')\n"
   ]
  },
  {
   "cell_type": "markdown",
   "metadata": {},
   "source": [
    "**Listing 4.7:** multiplepart2.py: Multiple part condition, inverted"
   ]
  },
  {
   "cell_type": "code",
   "execution_count": 1,
   "metadata": {},
   "outputs": [
    {
     "ename": "ValueError",
     "evalue": "could not convert string to float: 'N/A'",
     "output_type": "error",
     "traceback": [
      "\u001b[1;31m---------------------------------------------------------------------------\u001b[0m",
      "\u001b[1;31mValueError\u001b[0m                                Traceback (most recent call last)",
      "Cell \u001b[1;32mIn[1], line 2\u001b[0m\n\u001b[0;32m      1\u001b[0m x \u001b[38;5;241m=\u001b[39m \u001b[38;5;124m'\u001b[39m\u001b[38;5;124mN/A\u001b[39m\u001b[38;5;124m'\u001b[39m\n\u001b[1;32m----> 2\u001b[0m \u001b[38;5;28;01mif\u001b[39;00m \u001b[38;5;241m5\u001b[39m \u001b[38;5;241m<\u001b[39m \u001b[38;5;28;43mfloat\u001b[39;49m\u001b[43m(\u001b[49m\u001b[43mx\u001b[49m\u001b[43m)\u001b[49m \u001b[38;5;241m<\u001b[39m \u001b[38;5;241m20\u001b[39m \u001b[38;5;129;01mand\u001b[39;00m x \u001b[38;5;241m!=\u001b[39m \u001b[38;5;124m'\u001b[39m\u001b[38;5;124mN/A\u001b[39m\u001b[38;5;124m'\u001b[39m:\n\u001b[0;32m      3\u001b[0m     \u001b[38;5;28mprint\u001b[39m(\u001b[38;5;124m'\u001b[39m\u001b[38;5;124mOK\u001b[39m\u001b[38;5;124m'\u001b[39m)\n\u001b[0;32m      4\u001b[0m \u001b[38;5;28;01melse\u001b[39;00m:\n",
      "\u001b[1;31mValueError\u001b[0m: could not convert string to float: 'N/A'"
     ]
    }
   ],
   "source": [
    "x = 'N/A'\n",
    "if 5 < float(x) < 20 and x != 'N/A':\n",
    "    print('OK')\n",
    "else:\n",
    "    print('Not OK')"
   ]
  },
  {
   "cell_type": "markdown",
   "metadata": {},
   "source": [
    "#### pass Statement"
   ]
  },
  {
   "cell_type": "markdown",
   "metadata": {},
   "source": [
    "Use pass when a block is required syntactically but no action is needed."
   ]
  },
  {
   "cell_type": "code",
   "execution_count": 3,
   "metadata": {},
   "outputs": [],
   "source": [
    "condition = True\n",
    "if condition:\n",
    "    pass\n",
    "else:\n",
    "    print(\"condition was false\")"
   ]
  },
  {
   "cell_type": "markdown",
   "metadata": {},
   "source": [
    "#### One-Line Conditional (Ternary Operator)"
   ]
  },
  {
   "cell_type": "markdown",
   "metadata": {},
   "source": [
    "- EXPRESSION1 if CONDITION else EXPRESSION2"
   ]
  },
  {
   "cell_type": "code",
   "execution_count": 7,
   "metadata": {
    "collapsed": false,
    "jupyter": {
     "outputs_hidden": false
    }
   },
   "outputs": [
    {
     "name": "stdout",
     "output_type": "stream",
     "text": [
      "Average = 2.5\n"
     ]
    }
   ],
   "source": [
    "total = 5\n",
    "items = 2\n",
    "print(f'Average = {total/items if items != 0 else \"N/A\"}')\n"
   ]
  },
  {
   "cell_type": "code",
   "execution_count": 8,
   "metadata": {
    "collapsed": false,
    "jupyter": {
     "outputs_hidden": false
    }
   },
   "outputs": [
    {
     "name": "stdout",
     "output_type": "stream",
     "text": [
      "Average = 2.5\n"
     ]
    }
   ],
   "source": [
    "total = 5\n",
    "items = 2\n",
    "if items != 0:\n",
    "    print(f'Average = {total/items}')\n",
    "else:\n",
    "    print('Average = N/A')\n"
   ]
  },
  {
   "cell_type": "markdown",
   "metadata": {},
   "source": [
    "#### Fun & Practical Example"
   ]
  },
  {
   "cell_type": "markdown",
   "metadata": {},
   "source": [
    "1. Checking the Weather"
   ]
  },
  {
   "cell_type": "code",
   "execution_count": 9,
   "metadata": {},
   "outputs": [
    {
     "name": "stdin",
     "output_type": "stream",
     "text": [
      "How's the weather today? (sunny/rainy):  rainy\n"
     ]
    },
    {
     "name": "stdout",
     "output_type": "stream",
     "text": [
      "Take an umbrella ☔\n"
     ]
    }
   ],
   "source": [
    "weather = input(\"How's the weather today? (sunny/rainy): \").strip().lower()\n",
    "\n",
    "if weather == \"rainy\":\n",
    "    print(\"Take an umbrella ☔\")\n",
    "elif weather == \"sunny\":\n",
    "    print(\"No need for an umbrella 😎\")\n",
    "else:\n",
    "    print(\"I don't know, but maybe just take a jacket! 🧥\")\n"
   ]
  },
  {
   "cell_type": "markdown",
   "metadata": {},
   "source": [
    "2. Did You Wake Up Early?"
   ]
  },
  {
   "cell_type": "code",
   "execution_count": 10,
   "metadata": {},
   "outputs": [
    {
     "name": "stdin",
     "output_type": "stream",
     "text": [
      "What time did you wake up? (24-hour format):  5\n"
     ]
    },
    {
     "name": "stdout",
     "output_type": "stream",
     "text": [
      "Wow, are you even human?! 🦸‍♂️\n"
     ]
    }
   ],
   "source": [
    "time = int(input(\"What time did you wake up? (24-hour format): \"))\n",
    "\n",
    "if time < 6:\n",
    "    print(\"Wow, are you even human?! 🦸‍♂️\")\n",
    "elif 6 <= time <= 9:\n",
    "    print(\"Good job! You’re on track. 🚀\")\n",
    "elif 9 < time <= 12:\n",
    "    print(\"Late but acceptable... ☕\")\n",
    "else:\n",
    "    print(\"Seriously? Did you just wake up? 😴\")\n"
   ]
  },
  {
   "cell_type": "markdown",
   "metadata": {},
   "source": [
    "3. Password Access"
   ]
  },
  {
   "cell_type": "code",
   "execution_count": 11,
   "metadata": {},
   "outputs": [
    {
     "name": "stdin",
     "output_type": "stream",
     "text": [
      "Enter the secret password:  12abc\n"
     ]
    },
    {
     "name": "stdout",
     "output_type": "stream",
     "text": [
      "Access Denied! 🚫\n"
     ]
    }
   ],
   "source": [
    "password = input(\"Enter the secret password: \")\n",
    "\n",
    "if password == \"OpenSesame\":\n",
    "    print(\"Access Granted! 🎉\")\n",
    "else:\n",
    "    print(\"Access Denied! 🚫\")\n"
   ]
  },
  {
   "cell_type": "markdown",
   "metadata": {},
   "source": [
    "# for"
   ]
  },
  {
   "attachments": {},
   "cell_type": "markdown",
   "metadata": {},
   "source": [
    "A for loop allows us to repeatedly execute a block of code while iterating over an iterable object (like a list, tuple, or string)."
   ]
  },
  {
   "cell_type": "markdown",
   "metadata": {},
   "source": [
    "#### for VAR in ITERABLE:\n",
    "    BLOCK"
   ]
  },
  {
   "cell_type": "code",
   "execution_count": 25,
   "metadata": {},
   "outputs": [
    {
     "name": "stdout",
     "output_type": "stream",
     "text": [
      "C\n",
      "T\n",
      "G\n",
      "A\n"
     ]
    }
   ],
   "source": [
    "bases = [\"C\", \"T\", \"G\", \"A\"]\n",
    "for x in bases:\n",
    "    print(x)\n"
   ]
  },
  {
   "attachments": {},
   "cell_type": "markdown",
   "metadata": {},
   "source": [
    "#### Knowing the Position While Iterating\n",
    "If you need both the index and the value, use enumerate()."
   ]
  },
  {
   "cell_type": "code",
   "execution_count": 26,
   "metadata": {},
   "outputs": [
    {
     "name": "stdout",
     "output_type": "stream",
     "text": [
      "0 C\n",
      "1 T\n",
      "2 G\n",
      "3 A\n"
     ]
    }
   ],
   "source": [
    "bases = [\"C\", \"T\", \"G\", \"A\"]\n",
    "for n, x in enumerate(bases):\n",
    "    print(n, x)\n"
   ]
  },
  {
   "cell_type": "code",
   "execution_count": null,
   "metadata": {},
   "outputs": [],
   "source": [
    "#By default, enumerate() only operates on the keys of the dictionary, not its values."
   ]
  },
  {
   "attachments": {},
   "cell_type": "markdown",
   "metadata": {},
   "source": [
    "#### Using enumerate() on a dictionary\n",
    "By default, enumerate() only operates on the keys of the dictionary, not its values."
   ]
  },
  {
   "cell_type": "code",
   "execution_count": 17,
   "metadata": {},
   "outputs": [
    {
     "name": "stdout",
     "output_type": "stream",
     "text": [
      "0 AUG\n",
      "1 UUU\n",
      "2 UUC\n",
      "3 UUA\n"
     ]
    }
   ],
   "source": [
    "codon_table = {\n",
    "    'AUG': 'Methionine',\n",
    "    'UUU': 'Phenylalanine',\n",
    "    'UUC': 'Phenylalanine',\n",
    "    'UUA': 'Leucine'\n",
    "}\n",
    "\n",
    "for index, codon in enumerate(codon_table):\n",
    "    print(index, codon)\n"
   ]
  },
  {
   "cell_type": "code",
   "execution_count": 19,
   "metadata": {},
   "outputs": [
    {
     "name": "stdout",
     "output_type": "stream",
     "text": [
      "dict_items([('AUG', 'Methionine'), ('UUU', 'Phenylalanine'), ('UUC', 'Phenylalanine'), ('UUA', 'Leucine')])\n"
     ]
    }
   ],
   "source": [
    "print(codon_table.items())"
   ]
  },
  {
   "cell_type": "code",
   "execution_count": 21,
   "metadata": {},
   "outputs": [
    {
     "name": "stdout",
     "output_type": "stream",
     "text": [
      "0 → ('AUG', 'Methionine')\n",
      "1 → ('UUU', 'Phenylalanine')\n",
      "2 → ('UUC', 'Phenylalanine')\n",
      "3 → ('UUA', 'Leucine')\n"
     ]
    }
   ],
   "source": [
    "for codon, amino_acid in enumerate(codon_table.items()):\n",
    "    print(codon, '→', amino_acid)\n"
   ]
  },
  {
   "cell_type": "code",
   "execution_count": 22,
   "metadata": {},
   "outputs": [
    {
     "name": "stdout",
     "output_type": "stream",
     "text": [
      "0 AUG → Methionine\n",
      "1 UUU → Phenylalanine\n",
      "2 UUC → Phenylalanine\n",
      "3 UUA → Leucine\n"
     ]
    }
   ],
   "source": [
    "for index, (codon, amino_acid) in enumerate(codon_table.items()):\n",
    "    print(index, codon, '→', amino_acid)\n"
   ]
  },
  {
   "attachments": {},
   "cell_type": "markdown",
   "metadata": {},
   "source": [
    "#### Using a for Loop Like a Counter\n",
    "In some languages, for loops iterate over numbers directly. In Python, you can do this using a list of numbers:"
   ]
  },
  {
   "cell_type": "code",
   "execution_count": 12,
   "metadata": {},
   "outputs": [
    {
     "name": "stdout",
     "output_type": "stream",
     "text": [
      "0\n",
      "1\n",
      "2\n",
      "3\n",
      "4\n"
     ]
    }
   ],
   "source": [
    "for n in [0, 1, 2, 3, 4]:\n",
    "    print(n)"
   ]
  },
  {
   "cell_type": "code",
   "execution_count": 15,
   "metadata": {},
   "outputs": [
    {
     "name": "stdout",
     "output_type": "stream",
     "text": [
      "C\n",
      "T\n",
      "G\n",
      "A\n"
     ]
    }
   ],
   "source": [
    "for ch in [\"C\", \"T\", \"G\", \"A\"]:\n",
    "    print(ch)"
   ]
  },
  {
   "attachments": {},
   "cell_type": "markdown",
   "metadata": {},
   "source": [
    "✅ range(n) generates numbers from 0 to n-1"
   ]
  },
  {
   "cell_type": "code",
   "execution_count": 16,
   "metadata": {},
   "outputs": [
    {
     "name": "stdout",
     "output_type": "stream",
     "text": [
      "0\n",
      "1\n",
      "2\n",
      "3\n"
     ]
    }
   ],
   "source": [
    "for x in range(4):\n",
    "    print(x)\n"
   ]
  },
  {
   "attachments": {},
   "cell_type": "markdown",
   "metadata": {},
   "source": [
    "#### Augmented Assignment Operators in Python"
   ]
  },
  {
   "cell_type": "code",
   "execution_count": 3,
   "metadata": {},
   "outputs": [],
   "source": [
    "x = 20\n",
    "x = x - 5\n",
    "#equal to:\n",
    "x -= 5"
   ]
  },
  {
   "attachments": {},
   "cell_type": "markdown",
   "metadata": {},
   "source": [
    "#### Example: Calculating Molecular Weight of a Protein"
   ]
  },
  {
   "cell_type": "code",
   "execution_count": 24,
   "metadata": {
    "collapsed": false,
    "jupyter": {
     "outputs_hidden": false
    }
   },
   "outputs": [
    {
     "name": "stdin",
     "output_type": "stream",
     "text": [
      "Enter your protein sequence:  AFTGTGATCGTMATGHQ\n"
     ]
    },
    {
     "name": "stdout",
     "output_type": "stream",
     "text": [
      "The net weight is: 1610\n"
     ]
    }
   ],
   "source": [
    "prot_seq = input(\"Enter your protein sequence: \")\n",
    "prot_weight = {\"A\":89, \"V\":117, \"L\":131, \"I\":131, \"P\":115,\n",
    "               \"F\":165, \"W\":204, \"M\":149, \"G\":75, \"S\":105,\n",
    "               \"C\":121, \"T\":119, \"Y\":181, \"N\":132, \"Q\":146,\n",
    "               \"D\":133, \"E\":147, \"K\":146, \"R\":174, \"H\":155}\n",
    "total_weight = 0\n",
    "for aa in prot_seq:\n",
    "    total_weight = total_weight + prot_weight.get(aa.upper(), 0)\n",
    "total_weight = total_weight - (18 * (len(prot_seq) - 1))\n",
    "print(\"The net weight is: {0}\".format(total_weight))\n"
   ]
  },
  {
   "cell_type": "code",
   "execution_count": null,
   "metadata": {},
   "outputs": [],
   "source": [
    "#modern programming"
   ]
  },
  {
   "cell_type": "code",
   "execution_count": 25,
   "metadata": {},
   "outputs": [
    {
     "name": "stdin",
     "output_type": "stream",
     "text": [
      "Enter your protein sequence:  AFTGTGATCGTMATGHQ\n"
     ]
    },
    {
     "name": "stdout",
     "output_type": "stream",
     "text": [
      "The net weight is: 1610\n"
     ]
    }
   ],
   "source": [
    "# Get protein sequence from user\n",
    "prot_seq = input('Enter your protein sequence: ')\n",
    "\n",
    "# Dictionary with molecular weights of amino acids\n",
    "prot_weight = {\n",
    "    'A': 89, 'V': 117, 'L': 131, 'I': 131, 'P': 115,\n",
    "    'F': 165, 'W': 204, 'M': 149, 'G': 75, 'S': 105,\n",
    "    'C': 121, 'T': 119, 'Y': 181, 'N': 132, 'Q': 146,\n",
    "    'D': 133, 'E': 147, 'K': 146, 'R': 174, 'H': 155\n",
    "}\n",
    "\n",
    "# Calculate total weight\n",
    "total_weight = sum(prot_weight.get(aa.upper(), 0) for aa in prot_seq)\n",
    "\n",
    "# Adjust weight for peptide bonds (each bond loses a water molecule of 18 Da)\n",
    "total_weight -= 18 * (len(prot_seq) - 1)\n",
    "\n",
    "# Print result\n",
    "print(f'The net weight is: {total_weight}')\n"
   ]
  },
  {
   "attachments": {},
   "cell_type": "markdown",
   "metadata": {},
   "source": [
    "### Fun & Practical Example"
   ]
  },
  {
   "attachments": {},
   "cell_type": "markdown",
   "metadata": {},
   "source": [
    "1- Checking a DNA Sequence"
   ]
  },
  {
   "cell_type": "code",
   "execution_count": 26,
   "metadata": {},
   "outputs": [
    {
     "name": "stdout",
     "output_type": "stream",
     "text": [
      "Nucleotide: A\n",
      "Nucleotide: T\n",
      "Nucleotide: G\n",
      "Nucleotide: C\n",
      "Nucleotide: G\n",
      "Nucleotide: T\n",
      "Nucleotide: A\n"
     ]
    }
   ],
   "source": [
    "dna_sequence = \"ATGCGTA\"\n",
    "for nucleotide in dna_sequence:\n",
    "    print(f\"Nucleotide: {nucleotide}\")\n"
   ]
  },
  {
   "cell_type": "markdown",
   "metadata": {},
   "source": [
    "2- Waking Up for Morning Classes\n"
   ]
  },
  {
   "cell_type": "code",
   "execution_count": 27,
   "metadata": {},
   "outputs": [
    {
     "name": "stdout",
     "output_type": "stream",
     "text": [
      "Wake up! It's Saturday... Ugh, not again!\n",
      "Wake up! It's Sunday... Ugh, not again!\n",
      "Wake up! It's Monday... Ugh, not again!\n",
      "Wake up! It's Tuesday... Ugh, not again!\n",
      "Wake up! It's Wednesday... Ugh, not again!\n"
     ]
    }
   ],
   "source": [
    "days = [\"Saturday\", \"Sunday\", \"Monday\", \"Tuesday\", \"Wednesday\"]\n",
    "\n",
    "for day in days:\n",
    "    print(f\"Wake up! It's {day}... Ugh, not again!\")\n"
   ]
  },
  {
   "attachments": {},
   "cell_type": "markdown",
   "metadata": {},
   "source": [
    "3- Tracking Coffee vs. Tea Throughout the Week"
   ]
  },
  {
   "cell_type": "code",
   "execution_count": 28,
   "metadata": {},
   "outputs": [
    {
     "name": "stdout",
     "output_type": "stream",
     "text": [
      "On Monday, I survived with Coffee ☕🍵!\n",
      "On Tuesday, I survived with Tea ☕🍵!\n",
      "On Wednesday, I survived with Coffee ☕🍵!\n",
      "On Thursday, I survived with Tea ☕🍵!\n",
      "On Friday, I survived with Energy Drink ☕🍵!\n"
     ]
    }
   ],
   "source": [
    "drinks = {\"Monday\": \"Coffee\", \"Tuesday\": \"Tea\", \"Wednesday\": \"Coffee\", \n",
    "          \"Thursday\": \"Tea\", \"Friday\": \"Energy Drink\"}\n",
    "\n",
    "for day, drink in drinks.items():\n",
    "    print(f\"On {day}, I survived with {drink} ☕🍵!\")\n"
   ]
  },
  {
   "cell_type": "markdown",
   "metadata": {},
   "source": [
    "# while"
   ]
  },
  {
   "attachments": {},
   "cell_type": "markdown",
   "metadata": {},
   "source": [
    "The while loop is similar to for, as it repeats a block of code.\n",
    "However, instead of iterating over an iterable object, it keeps executing as long as a condition remains True."
   ]
  },
  {
   "cell_type": "markdown",
   "metadata": {},
   "source": [
    "#### while CONDITION:\n",
    "      BLOCK"
   ]
  },
  {
   "attachments": {},
   "cell_type": "markdown",
   "metadata": {},
   "source": [
    "#### Counting with while\n",
    "a increases by 10 each time until it reaches 40.\n"
   ]
  },
  {
   "cell_type": "code",
   "execution_count": 29,
   "metadata": {
    "collapsed": false,
    "jupyter": {
     "outputs_hidden": false
    }
   },
   "outputs": [
    {
     "name": "stdout",
     "output_type": "stream",
     "text": [
      "10\n",
      "20\n",
      "30\n"
     ]
    }
   ],
   "source": [
    "a = 10\n",
    "while a < 40:\n",
    "    print(a)\n",
    "    a += 10\n"
   ]
  },
  {
   "attachments": {},
   "cell_type": "markdown",
   "metadata": {},
   "source": [
    "⚠️ Important: \n",
    "Always ensure that something inside the loop makes the condition False eventually. Otherwise, you may create an infinite loop."
   ]
  },
  {
   "cell_type": "code",
   "execution_count": 1,
   "metadata": {},
   "outputs": [],
   "source": [
    "#x = 5\n",
    "#while x > 0:  # Condition is always True\n",
    "    #print(\"This will run forever!\")"
   ]
  },
  {
   "cell_type": "code",
   "execution_count": null,
   "metadata": {},
   "outputs": [],
   "source": [
    "#Modified example: Adding a change to prevent infinite loop"
   ]
  },
  {
   "cell_type": "code",
   "execution_count": 2,
   "metadata": {},
   "outputs": [
    {
     "name": "stdout",
     "output_type": "stream",
     "text": [
      "x is 5\n",
      "x is 4\n",
      "x is 3\n",
      "x is 2\n",
      "x is 1\n",
      "Loop finished!\n"
     ]
    }
   ],
   "source": [
    "x = 5\n",
    "while x > 0:\n",
    "    print(f\"x is {x}\")\n",
    "    x -= 1  # The value of x decreases with each iteration\n",
    "\n",
    "print(\"Loop finished!\")  #The loop will stop when x <= 0.\n"
   ]
  },
  {
   "attachments": {},
   "cell_type": "markdown",
   "metadata": {},
   "source": [
    "#### Exiting a while Loop with break"
   ]
  },
  {
   "cell_type": "code",
   "execution_count": 3,
   "metadata": {
    "collapsed": false,
    "jupyter": {
     "outputs_hidden": false
    }
   },
   "outputs": [
    {
     "name": "stdout",
     "output_type": "stream",
     "text": [
      "10\n",
      "20\n",
      "30\n"
     ]
    }
   ],
   "source": [
    "a = 10\n",
    "while True:  # Always True\n",
    "    if a < 40:\n",
    "        print(a)\n",
    "    else:\n",
    "        break  # Exit the loop\n",
    "    a += 10\n"
   ]
  },
  {
   "cell_type": "code",
   "execution_count": 4,
   "metadata": {},
   "outputs": [
    {
     "name": "stdin",
     "output_type": "stream",
     "text": [
      "Enter 'yes' to continue:  ghghgh\n"
     ]
    },
    {
     "name": "stdout",
     "output_type": "stream",
     "text": [
      "Invalid input. Try again!\n"
     ]
    },
    {
     "name": "stdin",
     "output_type": "stream",
     "text": [
      "Enter 'yes' to continue:  yes\n"
     ]
    },
    {
     "name": "stdout",
     "output_type": "stream",
     "text": [
      "You chose to continue!\n"
     ]
    }
   ],
   "source": [
    "while True:\n",
    "    user_input = input(\"Enter 'yes' to continue: \").strip().lower()\n",
    "    if user_input == \"yes\":\n",
    "        print(\"You chose to continue!\")\n",
    "        break  # Exit the loop if the input is valid\n",
    "    print(\"Invalid input. Try again!\")  # This runs at least once\n"
   ]
  },
  {
   "cell_type": "code",
   "execution_count": 1,
   "metadata": {},
   "outputs": [
    {
     "name": "stdout",
     "output_type": "stream",
     "text": [
      "Start of loop\n",
      "End of loop iteration\n",
      "Start of loop\n",
      "End of loop iteration\n",
      "Start of loop\n",
      "Breaking the loop!\n",
      "Loop completely exited!\n"
     ]
    }
   ],
   "source": [
    "x = 0\n",
    "while x < 5:\n",
    "    print(\"Start of loop\")\n",
    "    if x == 2:\n",
    "        print(\"Breaking the loop!\")\n",
    "        break  # Exits the entire while loop\n",
    "    print(\"End of loop iteration\")\n",
    "    x += 1  # Increment x\n",
    "\n",
    "print(\"Loop completely exited!\")  # This runs after the while loop\n"
   ]
  },
  {
   "attachments": {},
   "cell_type": "markdown",
   "metadata": {},
   "source": [
    "#### Example: Searching a Value in a List of Tuples (Without break)\n",
    "🚨 Problem: The loop continues even after finding the value."
   ]
  },
  {
   "cell_type": "code",
   "execution_count": 2,
   "metadata": {
    "collapsed": false,
    "jupyter": {
     "outputs_hidden": false
    }
   },
   "outputs": [
    {
     "name": "stdout",
     "output_type": "stream",
     "text": [
      "3\n"
     ]
    }
   ],
   "source": [
    "color_code = [('red', 1), ('green', 2), ('blue', 3), ('black', 4)]\n",
    "name = 'blue'\n",
    "\n",
    "for color_pair in color_code:\n",
    "    if name == color_pair[0]:\n",
    "        code = color_pair[1]\n",
    "print(code)\n"
   ]
  },
  {
   "attachments": {},
   "cell_type": "markdown",
   "metadata": {},
   "source": [
    "#### Optimized with break\n",
    "Benefit: The loop stops immediately after finding the value."
   ]
  },
  {
   "cell_type": "code",
   "execution_count": 3,
   "metadata": {
    "collapsed": false,
    "jupyter": {
     "outputs_hidden": false
    }
   },
   "outputs": [
    {
     "name": "stdout",
     "output_type": "stream",
     "text": [
      "3\n"
     ]
    }
   ],
   "source": [
    "color_code = [('red', 1), ('green', 2), ('blue', 3), ('black', 4)]\n",
    "name = 'blue'\n",
    "\n",
    "for color_pair in color_code:\n",
    "    if name == color_pair[0]:\n",
    "        code = color_pair[1]\n",
    "        break  # Stop the loop early\n",
    "print(code)\n"
   ]
  },
  {
   "attachments": {},
   "cell_type": "markdown",
   "metadata": {},
   "source": [
    "#### Using while Instead of for\n",
    "Works, but for is more readable."
   ]
  },
  {
   "cell_type": "code",
   "execution_count": 13,
   "metadata": {
    "collapsed": false,
    "jupyter": {
     "outputs_hidden": false
    }
   },
   "outputs": [
    {
     "name": "stdout",
     "output_type": "stream",
     "text": [
      "3\n"
     ]
    }
   ],
   "source": [
    "color_code = [('red', 1), ('green', 2), ('blue', 3), ('black', 4)]\n",
    "name = 'blue'\n",
    "i = 0\n",
    "\n",
    "while name != color_code[i][0]:  \n",
    "    i += 1  \n",
    "\n",
    "code = color_code[i][1]  \n",
    "print(code)\n"
   ]
  },
  {
   "attachments": {},
   "cell_type": "markdown",
   "metadata": {},
   "source": [
    "#### Using a dictionary allows for faster lookups.\n",
    "Why use a dictionary?\n",
    "- Faster search speed\n",
    "- More memory-efficient for large datasets\n"
   ]
  },
  {
   "cell_type": "code",
   "execution_count": 15,
   "metadata": {
    "collapsed": false,
    "jupyter": {
     "outputs_hidden": false
    }
   },
   "outputs": [
    {
     "name": "stdout",
     "output_type": "stream",
     "text": [
      "{'red': 1, 'green': 2, 'blue': 3, 'black': 4}\n",
      "3\n"
     ]
    }
   ],
   "source": [
    "color_code = [('red',1), ('green',2), ('blue',3), ('black',4)]\n",
    "name = 'blue'\n",
    "color_code_d = dict(color_code)\n",
    "print(color_code_d)\n",
    "print(color_code_d[name])\n"
   ]
  },
  {
   "attachments": {},
   "cell_type": "markdown",
   "metadata": {},
   "source": [
    "#### Fun & Practical Example\n",
    "1- Checking for the Correct Password"
   ]
  },
  {
   "cell_type": "code",
   "execution_count": 16,
   "metadata": {},
   "outputs": [
    {
     "name": "stdin",
     "output_type": "stream",
     "text": [
      "Enter your password:  hell1456\n",
      "Enter your password:  123456\n",
      "Enter your password:  Python123\n"
     ]
    },
    {
     "name": "stdout",
     "output_type": "stream",
     "text": [
      "Access granted! 🚀\n"
     ]
    }
   ],
   "source": [
    "password = \"Python123\"\n",
    "user_input = \"\"\n",
    "\n",
    "while user_input != password:\n",
    "    user_input = input(\"Enter your password: \")\n",
    "\n",
    "print(\"Access granted! 🚀\")\n"
   ]
  },
  {
   "attachments": {},
   "cell_type": "markdown",
   "metadata": {},
   "source": [
    "2- Can’t Wake Up Without Coffee"
   ]
  },
  {
   "cell_type": "code",
   "execution_count": 17,
   "metadata": {},
   "outputs": [
    {
     "name": "stdin",
     "output_type": "stream",
     "text": [
      "Have you had coffee? (yes/no):  no\n"
     ]
    },
    {
     "name": "stdout",
     "output_type": "stream",
     "text": [
      "Still sleepy... 😴 Need coffee!\n"
     ]
    },
    {
     "name": "stdin",
     "output_type": "stream",
     "text": [
      "Have you had coffee? (yes/no):  no\n"
     ]
    },
    {
     "name": "stdout",
     "output_type": "stream",
     "text": [
      "Still sleepy... 😴 Need coffee!\n"
     ]
    },
    {
     "name": "stdin",
     "output_type": "stream",
     "text": [
      "Have you had coffee? (yes/no):  no\n"
     ]
    },
    {
     "name": "stdout",
     "output_type": "stream",
     "text": [
      "Still sleepy... 😴 Need coffee!\n"
     ]
    },
    {
     "name": "stdin",
     "output_type": "stream",
     "text": [
      "Have you had coffee? (yes/no):  yes\n"
     ]
    },
    {
     "name": "stdout",
     "output_type": "stream",
     "text": [
      "Now you can start working! 🚀\n"
     ]
    }
   ],
   "source": [
    "had_coffee = False\n",
    "\n",
    "while not had_coffee:\n",
    "    response = input(\"Have you had coffee? (yes/no): \").lower()\n",
    "    if response == \"yes\":\n",
    "        had_coffee = True\n",
    "        print(\"Now you can start working! 🚀\")\n",
    "    else:\n",
    "        print(\"Still sleepy... 😴 Need coffee!\")\n"
   ]
  },
  {
   "cell_type": "markdown",
   "metadata": {},
   "source": [
    "3- A Kid Asking for a Toy"
   ]
  },
  {
   "cell_type": "code",
   "execution_count": 18,
   "metadata": {},
   "outputs": [
    {
     "name": "stdout",
     "output_type": "stream",
     "text": [
      "Child: Can I have a toy? 🧸\n",
      "Child: Can I have a toy? 🧸\n",
      "Child: Can I have a toy? 🧸\n",
      "Child: Can I have a toy? 🧸\n",
      "Child: Can I have a toy? 🧸\n",
      "Parent: Fine! Take the toy! 😩\n"
     ]
    }
   ],
   "source": [
    "wants_toy = True\n",
    "times_asked = 0\n",
    "\n",
    "while wants_toy:\n",
    "    print(\"Child: Can I have a toy? 🧸\")\n",
    "    times_asked += 1\n",
    "    if times_asked == 5:\n",
    "        print(\"Parent: Fine! Take the toy! 😩\")\n",
    "        wants_toy = False\n"
   ]
  },
  {
   "cell_type": "markdown",
   "metadata": {},
   "source": [
    "# WRAPPING IT UP"
   ]
  },
  {
   "attachments": {},
   "cell_type": "markdown",
   "metadata": {},
   "source": [
    "### 1- Estimating the Net Charge of a Protein"
   ]
  },
  {
   "cell_type": "markdown",
   "metadata": {},
   "source": [
    "#### The initial code for calculating the net charge of a protein:"
   ]
  },
  {
   "cell_type": "code",
   "execution_count": 1,
   "metadata": {
    "collapsed": false,
    "jupyter": {
     "outputs_hidden": false
    }
   },
   "outputs": [
    {
     "name": "stdin",
     "output_type": "stream",
     "text": [
      "Enter protein sequence:  KRDTICVYEAHCEQVHQLLHYAVSRSYYGGQHRRWTTTAPRQKVPFGMWEKKQDEVECL\n"
     ]
    },
    {
     "name": "stdout",
     "output_type": "stream",
     "text": [
      "2.2349999999999994\n",
      "charge: 2.23\n"
     ]
    }
   ],
   "source": [
    "prot_seq = input(\"Enter protein sequence: \").upper()\n",
    "charge = -0.002\n",
    "aa_charge = {'C': -0.045, 'D': -0.999, 'E': -0.998, 'H': 0.091, \n",
    "             'K': 1, 'R': 1, 'Y': -0.001}\n",
    "for aa in prot_seq:\n",
    "    if aa in aa_charge:\n",
    "        charge += aa_charge[aa]\n",
    "print(charge)\n",
    "print(f'charge: {charge:.2f}')"
   ]
  },
  {
   "attachments": {},
   "cell_type": "markdown",
   "metadata": {},
   "source": [
    "#### A more optimized version with the get() method to avoid the extra condition:"
   ]
  },
  {
   "cell_type": "code",
   "execution_count": 2,
   "metadata": {
    "collapsed": false,
    "jupyter": {
     "outputs_hidden": false
    }
   },
   "outputs": [
    {
     "name": "stdin",
     "output_type": "stream",
     "text": [
      "Enter protein sequence:  KRDTICVYEAHCEQVHQLLHYAVSRSYYGGQHRRWTTTAPRQKVPFGMWEKKQDEVECL\n"
     ]
    },
    {
     "name": "stdout",
     "output_type": "stream",
     "text": [
      "Estimated net charge: 2.235\n"
     ]
    }
   ],
   "source": [
    "prot_seq = input(\"Enter protein sequence: \").upper()\n",
    "charge = -0.002  # Baseline charge\n",
    "aa_charge = {'C': -0.045, 'D': -0.999, 'E': -0.998, 'H': 0.091, \n",
    "             'K': 1, 'R': 1, 'Y': -0.001}\n",
    "\n",
    "for aa in prot_seq:\n",
    "    charge += aa_charge.get(aa, 0)  # Use .get() to avoid KeyErrors\n",
    "\n",
    "print(f\"Estimated net charge: {charge:.3f}\")\n"
   ]
  },
  {
   "attachments": {},
   "cell_type": "markdown",
   "metadata": {},
   "source": [
    "### 2- Finding Low-Degeneration Regions for PCR"
   ]
  },
  {
   "cell_type": "markdown",
   "metadata": {},
   "source": [
    "- degen → Stores the total degeneration score for a specific 15-amino acid segment.\n",
    "- segs_values → A list that keeps track of degeneration scores for all possible segments.\n",
    "- segment → A sliding window of 15 amino acids extracted from the sequence.\n",
    "- min_value → The lowest degeneration score found in the segments.\n",
    "- minpos → The position of the segment that has the lowest degeneration score."
   ]
  },
  {
   "cell_type": "markdown",
   "metadata": {},
   "source": [
    "#### The initial code to find the region with the least genetic variation:"
   ]
  },
  {
   "cell_type": "markdown",
   "metadata": {},
   "source": [
    "- returns only the first minimum value : output ---> one string"
   ]
  },
  {
   "cell_type": "code",
   "execution_count": 4,
   "metadata": {
    "collapsed": false,
    "jupyter": {
     "outputs_hidden": false
    }
   },
   "outputs": [
    {
     "name": "stdin",
     "output_type": "stream",
     "text": [
      "Protein sequence:  KRDTICVYEAHCEQVHQLLHYAVSRSYYGGQHRRWTTTAPRQKVPFGMWEKKQDEVECL\n"
     ]
    },
    {
     "name": "stdout",
     "output_type": "stream",
     "text": [
      "0 segment KRDTICVYEAHCEQV\n",
      "1 segment RDTICVYEAHCEQVH\n",
      "2 segment DTICVYEAHCEQVHQ\n",
      "3 segment TICVYEAHCEQVHQL\n",
      "4 segment ICVYEAHCEQVHQLL\n",
      "5 segment CVYEAHCEQVHQLLH\n",
      "6 segment VYEAHCEQVHQLLHY\n",
      "7 segment YEAHCEQVHQLLHYA\n",
      "8 segment EAHCEQVHQLLHYAV\n",
      "9 segment AHCEQVHQLLHYAVS\n",
      "10 segment HCEQVHQLLHYAVSR\n",
      "11 segment CEQVHQLLHYAVSRS\n",
      "12 segment EQVHQLLHYAVSRSY\n",
      "13 segment QVHQLLHYAVSRSYY\n",
      "14 segment VHQLLHYAVSRSYYG\n",
      "15 segment HQLLHYAVSRSYYGG\n",
      "16 segment QLLHYAVSRSYYGGQ\n",
      "17 segment LLHYAVSRSYYGGQH\n",
      "18 segment LHYAVSRSYYGGQHR\n",
      "19 segment HYAVSRSYYGGQHRR\n",
      "20 segment YAVSRSYYGGQHRRW\n",
      "21 segment AVSRSYYGGQHRRWT\n",
      "22 segment VSRSYYGGQHRRWTT\n",
      "23 segment SRSYYGGQHRRWTTT\n",
      "24 segment RSYYGGQHRRWTTTA\n",
      "25 segment SYYGGQHRRWTTTAP\n",
      "26 segment YYGGQHRRWTTTAPR\n",
      "27 segment YGGQHRRWTTTAPRQ\n",
      "28 segment GGQHRRWTTTAPRQK\n",
      "29 segment GQHRRWTTTAPRQKV\n",
      "30 segment QHRRWTTTAPRQKVP\n",
      "31 segment HRRWTTTAPRQKVPF\n",
      "32 segment RRWTTTAPRQKVPFG\n",
      "33 segment RWTTTAPRQKVPFGM\n",
      "34 segment WTTTAPRQKVPFGMW\n",
      "35 segment TTTAPRQKVPFGMWE\n",
      "36 segment TTAPRQKVPFGMWEK\n",
      "37 segment TAPRQKVPFGMWEKK\n",
      "38 segment APRQKVPFGMWEKKQ\n",
      "39 segment PRQKVPFGMWEKKQD\n",
      "40 segment RQKVPFGMWEKKQDE\n",
      "41 segment QKVPFGMWEKKQDEV\n",
      "42 segment KVPFGMWEKKQDEVE\n",
      "43 segment VPFGMWEKKQDEVEC\n",
      "44 segment PFGMWEKKQDEVECL\n",
      "45 segment FGMWEKKQDEVECL\n",
      "46 segment GMWEKKQDEVECL\n",
      "47 segment MWEKKQDEVECL\n",
      "48 segment WEKKQDEVECL\n",
      "49 segment EKKQDEVECL\n",
      "50 segment KKQDEVECL\n",
      "51 segment KQDEVECL\n",
      "52 segment QDEVECL\n",
      "53 segment DEVECL\n",
      "54 segment EVECL\n",
      "55 segment VECL\n",
      "56 segment ECL\n",
      "57 segment CL\n",
      "58 segment L\n",
      "segs_values:\n",
      " [43, 43, 39, 43, 45, 44, 44, 44, 46, 50, 52, 56, 56, 56, 58, 58, 58, 58, 58, 58, 57, 59, 59, 59, 57, 55, 55, 55, 55, 55, 55, 55, 57, 52, 47, 48, 46, 44, 42, 40, 38, 36, 36, 36, 38] ,\n",
      " min_value : \n",
      " 36\n",
      "minpos 41\n",
      "QKVPFGMWEKKQDEV\n"
     ]
    }
   ],
   "source": [
    "\n",
    "# Get the protein sequence from user input and convert it to uppercase\n",
    "prot_seq = input(\"Protein sequence: \").upper()\n",
    "\n",
    "# Dictionary containing the number of codons for each amino acid\n",
    "prot_deg = {'A': 4, 'C': 2, 'D': 2, 'E': 2, 'F': 2, 'G': 4,\n",
    "            'H': 2, 'I': 3, 'K': 2, 'L': 6, 'M': 1, 'N': 2,\n",
    "            'P': 4, 'Q': 2, 'R': 6, 'S': 6, 'T': 4, 'V': 4,\n",
    "            'W': 1, 'Y': 2}\n",
    "\n",
    "# List to store the degeneration values of each 15-amino acid segment\n",
    "segs_values = []\n",
    "\n",
    "# Iterate over the protein sequence to extract 15-amino acid segments\n",
    "for aa in range(len(prot_seq)):\n",
    "    segment = prot_seq[aa:aa + 15]  # Extract a 15-amino acid segment\n",
    "    degen = 0  # Variable to store the degeneration score for this segment\n",
    "    print(aa, 'segment',segment)\n",
    "    \n",
    "    # Ensure the segment is exactly 15 amino acids long\n",
    "    if len(segment) == 15:\n",
    "        # Calculate the total degeneration score for the segment\n",
    "        for x in segment:\n",
    "            degen += prot_deg.get(x, 3.05)  # Get the codon count, default is 3.05\n",
    "        \n",
    "        # Append the degeneration score of this segment to the list\n",
    "        segs_values.append(degen)\n",
    "\n",
    "# Find the minimum degeneration value\n",
    "min_value = min(segs_values)\n",
    "print(f'segs_values:\\n {segs_values} ,\\n min_value : \\n {min_value}')\n",
    "\n",
    "# Find the index (position) of the segment with the minimum degeneration\n",
    "#.index() which returns only the first minimum value\n",
    "minpos = segs_values.index(min_value) \n",
    "print('minpos',minpos)\n",
    "\n",
    "\n",
    "# Print the 15-amino acid segment with the least degeneration\n",
    "print(prot_seq[minpos:minpos + 15])"
   ]
  },
  {
   "cell_type": "markdown",
   "metadata": {},
   "source": [
    "- Find all positions of segments with the minimum degeneration value"
   ]
  },
  {
   "cell_type": "code",
   "execution_count": 1,
   "metadata": {
    "collapsed": false,
    "jupyter": {
     "outputs_hidden": false
    }
   },
   "outputs": [
    {
     "name": "stdin",
     "output_type": "stream",
     "text": [
      "Protein sequence:  KRDTICVYEAHCEQVHQLLHYAVSRSYYGGQHRRWTTTAPRQKVPFGMWEKKQDEVECL\n"
     ]
    },
    {
     "name": "stdout",
     "output_type": "stream",
     "text": [
      "segs_values:\n",
      " [43, 43, 39, 43, 45, 44, 44, 44, 46, 50, 52, 56, 56, 56, 58, 58, 58, 58, 58, 58, 57, 59, 59, 59, 57, 55, 55, 55, 55, 55, 55, 55, 57, 52, 47, 48, 46, 44, 42, 40, 38, 36, 36, 36, 38] ,\n",
      " min_value : 36\n",
      "Positions with min degeneration: [41, 42, 43]\n",
      "Segments with minimum degeneration:\n",
      "QKVPFGMWEKKQDEV\n",
      "KVPFGMWEKKQDEVE\n",
      "VPFGMWEKKQDEVEC\n"
     ]
    }
   ],
   "source": [
    "# Get the protein sequence from user input and convert it to uppercase\n",
    "prot_seq = input(\"Protein sequence: \").upper()\n",
    "\n",
    "# Dictionary containing the number of codons for each amino acid\n",
    "prot_deg = {'A': 4, 'C': 2, 'D': 2, 'E': 2, 'F': 2, 'G': 4,\n",
    "            'H': 2, 'I': 3, 'K': 2, 'L': 6, 'M': 1, 'N': 2,\n",
    "            'P': 4, 'Q': 2, 'R': 6, 'S': 6, 'T': 4, 'V': 4,\n",
    "            'W': 1, 'Y': 2}\n",
    "\n",
    "# List to store the degeneration values of each 15-amino acid segment\n",
    "segs_values = []\n",
    "segments = [] \n",
    "\n",
    "# Iterate over the protein sequence to extract 15-amino acid segments\n",
    "for aa in range(len(prot_seq) - 14):\n",
    "    segment = prot_seq[aa:aa + 15]  # Extract a 15-amino acid segment\n",
    "    degen = 0  # Variable to store the degeneration score for this segment\n",
    "    \n",
    "    # Calculate the total degeneration score for the segment\n",
    "    for x in segment:\n",
    "        degen += prot_deg.get(x, 3.05)  # Get the codon count, default is 3.05\n",
    "    \n",
    "    # Store the segment and its degeneration score\n",
    "    segs_values.append(degen)\n",
    "    segments.append(segment)\n",
    "\n",
    "# Find the minimum degeneration value\n",
    "min_value = min(segs_values)\n",
    "print(f'segs_values:\\n {segs_values} ,\\n min_value : {min_value}')\n",
    "\n",
    "# Find all positions of segments with the minimum degeneration value\n",
    "min_positions = []\n",
    "for i in range(len(segs_values)):\n",
    "    if segs_values[i] == min_value:\n",
    "        min_positions.append(i)\n",
    "\n",
    "print('Positions with min degeneration:', min_positions)\n",
    "\n",
    "# Print all 15-amino acid segments with the least degeneration\n",
    "print(\"Segments with minimum degeneration:\")\n",
    "for pos in min_positions:\n",
    "    print(prot_seq[pos:pos + 15])\n"
   ]
  },
  {
   "attachments": {},
   "cell_type": "markdown",
   "metadata": {},
   "source": [
    "#### A version that uses while instead of for:"
   ]
  },
  {
   "cell_type": "code",
   "execution_count": 6,
   "metadata": {
    "collapsed": false,
    "jupyter": {
     "outputs_hidden": false
    }
   },
   "outputs": [
    {
     "name": "stdin",
     "output_type": "stream",
     "text": [
      "Protein sequence:  KRDTICVYEAHCEQVHQLLHYAVSRSYYGGQHRRWTTTAPRQKVPFGMWEKKQDEVECL\n"
     ]
    },
    {
     "name": "stdout",
     "output_type": "stream",
     "text": [
      "segs_values:\n",
      " [43, 43, 39, 43, 45, 44, 44, 44, 46, 50, 52, 56, 56, 56, 58, 58, 58, 58, 58, 58, 57, 59, 59, 59, 57, 55, 55, 55, 55, 55, 55, 55, 57, 52, 47, 48, 46, 44, 42, 40, 38, 36, 36, 36, 38]\n",
      "segs_seqs:\n",
      " ['KRDTICVYEAHCEQV', 'RDTICVYEAHCEQVH', 'DTICVYEAHCEQVHQ', 'TICVYEAHCEQVHQL', 'ICVYEAHCEQVHQLL', 'CVYEAHCEQVHQLLH', 'VYEAHCEQVHQLLHY', 'YEAHCEQVHQLLHYA', 'EAHCEQVHQLLHYAV', 'AHCEQVHQLLHYAVS', 'HCEQVHQLLHYAVSR', 'CEQVHQLLHYAVSRS', 'EQVHQLLHYAVSRSY', 'QVHQLLHYAVSRSYY', 'VHQLLHYAVSRSYYG', 'HQLLHYAVSRSYYGG', 'QLLHYAVSRSYYGGQ', 'LLHYAVSRSYYGGQH', 'LHYAVSRSYYGGQHR', 'HYAVSRSYYGGQHRR', 'YAVSRSYYGGQHRRW', 'AVSRSYYGGQHRRWT', 'VSRSYYGGQHRRWTT', 'SRSYYGGQHRRWTTT', 'RSYYGGQHRRWTTTA', 'SYYGGQHRRWTTTAP', 'YYGGQHRRWTTTAPR', 'YGGQHRRWTTTAPRQ', 'GGQHRRWTTTAPRQK', 'GQHRRWTTTAPRQKV', 'QHRRWTTTAPRQKVP', 'HRRWTTTAPRQKVPF', 'RRWTTTAPRQKVPFG', 'RWTTTAPRQKVPFGM', 'WTTTAPRQKVPFGMW', 'TTTAPRQKVPFGMWE', 'TTAPRQKVPFGMWEK', 'TAPRQKVPFGMWEKK', 'APRQKVPFGMWEKKQ', 'PRQKVPFGMWEKKQD', 'RQKVPFGMWEKKQDE', 'QKVPFGMWEKKQDEV', 'KVPFGMWEKKQDEVE', 'VPFGMWEKKQDEVEC', 'PFGMWEKKQDEVECL']\n",
      "min(segs_values): 36\n",
      "QKVPFGMWEKKQDEV\n"
     ]
    }
   ],
   "source": [
    "#KRDTICVYEAHCEQVHQLLHYAVSRSYYGGQHRRWTTTAPRQKVPFGMWEKKQDEVECL\n",
    "prot_seq = input(\"Protein sequence: \").upper()\n",
    "prot_deg = {'A': 4, 'C': 2, 'D': 2, 'E': 2, 'F': 2, 'G': 4,\n",
    "            'H': 2, 'I': 3, 'K': 2, 'L': 6, 'M': 1, 'N': 2,\n",
    "            'P': 4, 'Q': 2, 'R': 6, 'S': 6, 'T': 4, 'V': 4,\n",
    "            'W': 1, 'Y': 2}\n",
    "segs_values = []\n",
    "segs_seqs = []\n",
    "segment = prot_seq[:15]\n",
    "a = 0\n",
    "#print(segment)\n",
    "while len(segment) == 15:\n",
    "    degen = sum(prot_deg.get(x, 3.05) for x in segment)\n",
    "    #print(f'degen:\\n{degen}')\n",
    "    segs_values.append(degen)\n",
    "    segs_seqs.append(segment)\n",
    "    a += 1\n",
    "    segment = prot_seq[a:a+15]\n",
    "print('segs_values:\\n', segs_values)\n",
    "print('segs_seqs:\\n', segs_seqs)\n",
    "print('min(segs_values):', min(segs_values))\n",
    "print(segs_seqs[segs_values.index(min(segs_values))])"
   ]
  },
  {
   "cell_type": "markdown",
   "metadata": {},
   "source": [
    "#### Version with Subchains (Storing All Candidates)"
   ]
  },
  {
   "cell_type": "code",
   "execution_count": 7,
   "metadata": {},
   "outputs": [
    {
     "name": "stdin",
     "output_type": "stream",
     "text": [
      "Protein sequence:  KRDTICVYEAHCEQVHQLLHYAVSRSYYGGQHRRWTTTAPRQKVPFGMWEKKQDEVECL\n"
     ]
    },
    {
     "name": "stdout",
     "output_type": "stream",
     "text": [
      "segs_values:\n",
      " [43, 43, 39, 43, 45, 44, 44, 44, 46, 50, 52, 56, 56, 56, 58, 58, 58, 58, 58, 58, 57, 59, 59, 59, 57, 55, 55, 55, 55, 55, 55, 55, 57, 52, 47, 48, 46, 44, 42, 40, 38, 36, 36, 36, 38]\n",
      "segs_seqs\n",
      " ['KRDTICVYEAHCEQV', 'RDTICVYEAHCEQVH', 'DTICVYEAHCEQVHQ', 'TICVYEAHCEQVHQL', 'ICVYEAHCEQVHQLL', 'CVYEAHCEQVHQLLH', 'VYEAHCEQVHQLLHY', 'YEAHCEQVHQLLHYA', 'EAHCEQVHQLLHYAV', 'AHCEQVHQLLHYAVS', 'HCEQVHQLLHYAVSR', 'CEQVHQLLHYAVSRS', 'EQVHQLLHYAVSRSY', 'QVHQLLHYAVSRSYY', 'VHQLLHYAVSRSYYG', 'HQLLHYAVSRSYYGG', 'QLLHYAVSRSYYGGQ', 'LLHYAVSRSYYGGQH', 'LHYAVSRSYYGGQHR', 'HYAVSRSYYGGQHRR', 'YAVSRSYYGGQHRRW', 'AVSRSYYGGQHRRWT', 'VSRSYYGGQHRRWTT', 'SRSYYGGQHRRWTTT', 'RSYYGGQHRRWTTTA', 'SYYGGQHRRWTTTAP', 'YYGGQHRRWTTTAPR', 'YGGQHRRWTTTAPRQ', 'GGQHRRWTTTAPRQK', 'GQHRRWTTTAPRQKV', 'QHRRWTTTAPRQKVP', 'HRRWTTTAPRQKVPF', 'RRWTTTAPRQKVPFG', 'RWTTTAPRQKVPFGM', 'WTTTAPRQKVPFGMW', 'TTTAPRQKVPFGMWE', 'TTAPRQKVPFGMWEK', 'TAPRQKVPFGMWEKK', 'APRQKVPFGMWEKKQ', 'PRQKVPFGMWEKKQD', 'RQKVPFGMWEKKQDE', 'QKVPFGMWEKKQDEV', 'KVPFGMWEKKQDEVE', 'VPFGMWEKKQDEVEC', 'PFGMWEKKQDEVECL']\n",
      "best_segment: QKVPFGMWEKKQDEV\n"
     ]
    }
   ],
   "source": [
    "#KRDTICVYEAHCEQVHQLLHYAVSRSYYGGQHRRWTTTAPRQKVPFGMWEKKQDEVECL\n",
    "prot_seq = input(\"Protein sequence: \").upper()\n",
    "prot_deg = {'A': 4, 'C': 2, 'D': 2, 'E': 2, 'F': 2, 'G': 4,\n",
    "            'H': 2, 'I': 3, 'K': 2, 'L': 6, 'M': 1, 'N': 2,\n",
    "            'P': 4, 'Q': 2, 'R': 6, 'S': 6, 'T': 4, 'V': 4,\n",
    "            'W': 1, 'Y': 2}\n",
    "\n",
    "segs_values = []  # Stores degeneration scores\n",
    "segs_seqs = []  # Stores all 15-aa segments\n",
    "\n",
    "# Generate and store all possible segments\n",
    "for i in range(len(prot_seq) - 14):  # Ensure all valid 15-aa segments\n",
    "    segment = prot_seq[i:i + 15]\n",
    "    degen = sum(prot_deg.get(aa, 3.05) for aa in segment)\n",
    "\n",
    "    \n",
    "    segs_values.append(degen)  # Store degeneration score\n",
    "    segs_seqs.append(segment)  # Store the sequence itself\n",
    "\n",
    "# Find the segment with the lowest degeneration\n",
    "print('segs_values:\\n', segs_values)\n",
    "print('segs_seqs\\n', segs_seqs)\n",
    "\n",
    "min_index = segs_values.index(min(segs_values))\n",
    "best_segment = segs_seqs[min_index]\n",
    "\n",
    "print('best_segment:', best_segment)"
   ]
  },
  {
   "attachments": {},
   "cell_type": "markdown",
   "metadata": {},
   "source": [
    "#### Searching for a low-degeneration zone without sub-chains"
   ]
  },
  {
   "cell_type": "code",
   "execution_count": 12,
   "metadata": {
    "collapsed": false,
    "jupyter": {
     "outputs_hidden": false
    }
   },
   "outputs": [
    {
     "name": "stdin",
     "output_type": "stream",
     "text": [
      "Protein sequence:  KRDTICVYEAHCEQVHQLLHYAVSRSYYGGQHRRWTTTAPRQKVPFGMWEKKQDEVECL\n"
     ]
    },
    {
     "name": "stdout",
     "output_type": "stream",
     "text": [
      "degen_tmp (initial): 90\n",
      "(len(prot_seq) - 14): 45\n",
      "degen_tmp: 36\n",
      "best seq.: QKVPFGMWEKKQDEV\n"
     ]
    }
   ],
   "source": [
    "#KRDTICVYEAHCEQVHQLLHYAVSRSYYGGQHRRWTTTAPRQKVPFGMWEKKQDEVECL\n",
    "prot_seq = input(\"Protein sequence: \").upper()\n",
    "prot_deg = {'A': 4, 'C': 2, 'D': 2, 'E': 2, 'F': 2, 'G': 4,\n",
    "            'H': 2, 'I': 3, 'K': 2, 'L': 6, 'M': 1, 'N': 2,\n",
    "            'P': 4, 'Q': 2, 'R': 6, 'S': 6, 'T': 4, 'V': 4,\n",
    "            'W': 1, 'Y': 2}\n",
    "\n",
    "degen_tmp = max(prot_deg.values()) * 15  # Set an initial high degeneration score (example: 15*S)\n",
    "print('degen_tmp (initial):', degen_tmp)\n",
    "seq = \"\"  # Store the lowest-degeneration sequence\n",
    "print('(len(prot_seq) - 14):',(len(prot_seq) - 14))\n",
    "for n in range(len(prot_seq) - 14):  \n",
    "    degen = sum(prot_deg.get(x, 3.05) for x in prot_seq[n:n + 15])\n",
    "\n",
    "    if degen < degen_tmp:\n",
    "        degen_tmp = degen\n",
    "        seq = prot_seq[n:n + 15]\n",
    "\n",
    "print('degen_tmp:', degen_tmp)\n",
    "print('best seq.:', seq)\n"
   ]
  },
  {
   "cell_type": "markdown",
   "metadata": {},
   "source": [
    "#### fun"
   ]
  },
  {
   "cell_type": "code",
   "execution_count": 14,
   "metadata": {},
   "outputs": [
    {
     "name": "stdout",
     "output_type": "stream",
     "text": [
      "Added Dough to the pizza.\n",
      "Added Tomato Sauce to the pizza.\n",
      "Oops! No more cheese left. 😭 Wrapping it up...\n",
      "Pizza ready to bake: ['Dough', 'Tomato Sauce']\n"
     ]
    }
   ],
   "source": [
    "ingredients = [\"Dough\", \"Tomato Sauce\", \"Cheese\", \"Pepperoni\", \"Olives\"]\n",
    "pizza = []\n",
    "\n",
    "for ingredient in ingredients:\n",
    "    if ingredient == \"Cheese\":\n",
    "        print(\"Oops! No more cheese left. 😭 Wrapping it up...\")\n",
    "        break\n",
    "    pizza.append(ingredient)\n",
    "    print(f\"Added {ingredient} to the pizza.\")\n",
    "\n",
    "print(\"Pizza ready to bake:\", pizza)\n"
   ]
  },
  {
   "cell_type": "markdown",
   "metadata": {},
   "source": [
    "### - while examples in biology:"
   ]
  },
  {
   "cell_type": "markdown",
   "metadata": {},
   "source": [
    "1. Bacteria doubling problem:\n",
    "\n",
    "Let's suppose we have a bacterium that doubles in number every hour.\n",
    "We want to find out how many hours it takes to grow from one bacterium to more than 100 bacteria.\n",
    "That means after 7 hours, the number of bacteria grows from 1 to more than 100."
   ]
  },
  {
   "cell_type": "code",
   "execution_count": 1,
   "metadata": {},
   "outputs": [
    {
     "name": "stdout",
     "output_type": "stream",
     "text": [
      "Number of hours: 7\n"
     ]
    }
   ],
   "source": [
    "bacteria = 1\n",
    "hours = 0\n",
    "\n",
    "while bacteria <= 100:\n",
    "    bacteria *= 2  # bacteria = bacteria * 2\n",
    "    hours += 1     # hours = hours + 1\n",
    "\n",
    "print(\"Number of hours:\", hours)\n"
   ]
  },
  {
   "cell_type": "markdown",
   "metadata": {},
   "source": [
    "2. DNA codon reading:\n",
    "\n",
    "Let’s suppose we have a DNA sequence, and we want to read the bases one by one until we reach a stop codon (like 'TAA').\n",
    "The index i starts at 0 and moves forward by 3 each time.\n",
    "The while loop continues as long as we haven’t reached 'TAA'.\n",
    "When a stop codon is found, the loop ends using break."
   ]
  },
  {
   "cell_type": "code",
   "execution_count": 2,
   "metadata": {},
   "outputs": [
    {
     "name": "stdout",
     "output_type": "stream",
     "text": [
      "Reading codon: ATG\n",
      "Reading codon: GCT\n",
      "Reading codon: GAC\n",
      "Reading codon: TAA\n",
      "Stop codon found!\n"
     ]
    }
   ],
   "source": [
    "dna = \"ATGGCTGACTAAGGTC\"\n",
    "i = 0\n",
    "\n",
    "while i < len(dna) - 2:\n",
    "    codon = dna[i:i+3]  # Read 3 bases at a time\n",
    "    print(\"Reading codon:\", codon)\n",
    "    if codon == \"TAA\":\n",
    "        print(\"Stop codon found!\")\n",
    "        break\n",
    "    i += 3\n"
   ]
  },
  {
   "cell_type": "markdown",
   "metadata": {},
   "source": [
    "3. Mouse and food limit:\n",
    "\n",
    "Suppose that each day, a mouse gives birth to 2 new mice,\n",
    "but we only have food for 200 units,\n",
    "and each mouse eats 1 unit of food per day.\n",
    "\n"
   ]
  },
  {
   "cell_type": "code",
   "execution_count": 3,
   "metadata": {},
   "outputs": [
    {
     "name": "stdout",
     "output_type": "stream",
     "text": [
      "Food runs out on day: 5\n"
     ]
    }
   ],
   "source": [
    "mice = 2\n",
    "day = 0\n",
    "food = 200\n",
    "\n",
    "while mice < food:\n",
    "    mice += mice * 2  # every mouse gives birth to 2\n",
    "    day += 1\n",
    "\n",
    "print(\"Food runs out on day:\", day)\n"
   ]
  },
  {
   "cell_type": "markdown",
   "metadata": {},
   "source": [
    "### Theoretical Questions:"
   ]
  },
  {
   "cell_type": "markdown",
   "metadata": {},
   "source": [
    "1. What is a control structure?\n",
    "2. How many control structures does Python have? Name them.\n",
    "3. When would you use for, and when would you use while?\n",
    "4. Some languages have a do while control structure. How can you get a similar function in Python?\n",
    "5. Explain when you would use pass and when you would use break."
   ]
  },
  {
   "cell_type": "markdown",
   "metadata": {},
   "source": [
    "### Code-Related Questions:"
   ]
  },
  {
   "cell_type": "code",
   "execution_count": null,
   "metadata": {},
   "outputs": [],
   "source": [
    "6. why In line 6 of the code below, the condition under while can be changed from:\n",
    "   - len(ProtSeq[i : i + 15]) == 15\n",
    "- to:\n",
    "- i < (len(ProtSeq) − 7)\n"
   ]
  },
  {
   "cell_type": "code",
   "execution_count": null,
   "metadata": {},
   "outputs": [],
   "source": [
    "prot_seq = input(\"Protein sequence: \").upper()\n",
    "prot_deg = {'A': 4, 'C': 2, 'D': 2, 'E': 2, 'F': 2, 'G': 4,\n",
    "            'H': 2, 'I': 3, 'K': 2, 'L': 6, 'M': 1, 'N': 2,\n",
    "            'P': 4, 'Q': 2, 'R': 6, 'S': 6, 'T': 4, 'V': 4,\n",
    "            'W': 1, 'Y': 2}\n",
    "segs_values = []\n",
    "segs_seqs = []\n",
    "segment = prot_seq[:15]\n",
    "a = 0\n",
    "while len(segment) == 15:\n",
    "    degen = 0\n",
    "    for x in segment:\n",
    "        degen += prot_deg.get(x, 3.05)\n",
    "    segs_values.append(degen)\n",
    "    segs_seqs.append(segment)\n",
    "    a += 1\n",
    "    segment = prot_seq[a:a+15]\n",
    "print(segs_seqs[segs_values.index(min(segs_values))])\n"
   ]
  },
  {
   "cell_type": "markdown",
   "metadata": {},
   "source": [
    "7. Write a program that outputs all possible IP addresses, from 0.0.0.0 to 255.255.255.255.\n",
    "\n",
    "8. Write a program to solve a linear equation with two variables. The equation must have this form:\n",
    "a1.x+a2.y = a3\n",
    "b1.x + b2.y = b3\n",
    "- The program must ask for a1, a2, a3, b1, b2, and b3 and return the values of x and y.\n",
    "\n",
    "9. Write a program to check if a given number is a palindrome (i.e., it remains the same when its digits are reversed, like 404).\n",
    "\n",
    "10. Write a program to convert Fahrenheit temperature to Celsius and print the result with only one decimal place. Use the formula:\n",
    "c = (5/9) * (f-32)\n",
    "\n",
    "11. Write a program that converts any text you enter into Leetspeak, using the following replacements:\n",
    "- Letter\tLeetspeak Equivalent\n",
    "- O\t        0\n",
    "- I / L\t    1\n",
    "- Z / R\t    2\n",
    "- E\t        3\n",
    "- A\t        4\n",
    "- S\t        5\n",
    "- G / B\t    6\n",
    "- T / L\t    7\n",
    "- B\t        8\n",
    "- P / G / Q\t9\n",
    "- Example:\n",
    "\n",
    "- Hello world! → H3770 w02ld!"
   ]
  },
  {
   "cell_type": "markdown",
   "metadata": {},
   "source": [
    "12. Given two words, write a program to determine if they rhyme. In this case, \"rhyme\" means that the last three letters are the same (e.g., \"wizard\" and \"lizard\").\n",
    "\n",
    "13. Given a protein sequence in one-letter code, calculate the percentage of methionine (M) and cysteine (C).\n",
    "\n",
    "- Example: For the sequence MFKFASAVILCLVAASSTQA, the result should be 10% (1 M and 1 C out of 20 amino acids).\n",
    "14. Modify the program below so that it does not use a predefined maximum value:"
   ]
  },
  {
   "cell_type": "code",
   "execution_count": null,
   "metadata": {},
   "outputs": [],
   "source": [
    "prot_seq = input(\"Protein sequence: \").upper()\n",
    "prot_deg = {'A': 4, 'C': 2, 'D': 2, 'E': 2, 'F': 2, 'G': 4,\n",
    "            'H': 2, 'I': 3, 'K': 2, 'L': 6, 'M': 1, 'N': 2,\n",
    "            'P': 4, 'Q': 2, 'R': 6, 'S': 6, 'T': 4, 'V': 4,\n",
    "            'W': 1, 'Y': 2}\n",
    "degen_tmp = max(prot_deg.values()) * 15\n",
    "for n in range(len(prot_seq) - 15):\n",
    "    degen = 0\n",
    "    for x in prot_seq[n:n + 15]:\n",
    "        degen += prot_deg.get(x, 3.05)\n",
    "    if degen <= degen_tmp:\n",
    "        degen_tmp = degen\n",
    "        seq = prot_seq[n:n + 15]\n",
    "print(seq)\n"
   ]
  },
  {
   "cell_type": "markdown",
   "metadata": {},
   "source": [
    "15. Write a Python program that analyzes the growth conditions of a plant by calculating the average temperature and average humidity over a period of time. The program should ask for multiple temperature and humidity readings, store them, and calculate the average values. It should also determine if the plant is in a favorable growth environment based on a temperature range of 20-30°C and humidity between 40-60%."
   ]
  },
  {
   "cell_type": "markdown",
   "metadata": {},
   "source": [
    "16. We mentioned the following benefits of break:\n",
    "It ensures the loop runs at least once before checking the condition, mimicking a\n",
    "do-while loop in other languages\n",
    "Explain with examples."
   ]
  }
 ],
 "metadata": {
  "kernelspec": {
   "display_name": "Python 3 (ipykernel)",
   "language": "python",
   "name": "python3"
  },
  "language_info": {
   "codemirror_mode": {
    "name": "ipython",
    "version": 3
   },
   "file_extension": ".py",
   "mimetype": "text/x-python",
   "name": "python",
   "nbconvert_exporter": "python",
   "pygments_lexer": "ipython3",
   "version": "3.13.1"
  }
 },
 "nbformat": 4,
 "nbformat_minor": 4
}
