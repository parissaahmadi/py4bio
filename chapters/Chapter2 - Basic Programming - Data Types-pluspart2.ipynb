{
 "cells": [
  {
   "cell_type": "markdown",
   "metadata": {},
   "source": [
    "Chapter 2: Basic Programming: Data Types\n",
    "-----------------------------"
   ]
  },
  {
   "cell_type": "markdown",
   "metadata": {},
   "source": [
    "## Numeric (int , complex  , float) + Boolean"
   ]
  },
  {
   "cell_type": "code",
   "execution_count": 3,
   "metadata": {},
   "outputs": [],
   "source": [
    "x = 10   # Integer\n",
    "y = -5   # Negative Integer"
   ]
  },
  {
   "cell_type": "code",
   "execution_count": 5,
   "metadata": {},
   "outputs": [],
   "source": [
    "a = 3.14   # Float\n",
    "b = 2.5e3  # Scientific notation (2500.0)"
   ]
  },
  {
   "cell_type": "code",
   "execution_count": 7,
   "metadata": {},
   "outputs": [
    {
     "name": "stdout",
     "output_type": "stream",
     "text": [
      "2.0\n",
      "3.0\n"
     ]
    }
   ],
   "source": [
    "z = 2 + 3j   # Complex number (real: 2, imaginary: 3j)\n",
    "print(z.real)  # Output: 2.0\n",
    "print(z.imag)  # Output: 3.0\n"
   ]
  },
  {
   "cell_type": "code",
   "execution_count": 9,
   "metadata": {},
   "outputs": [
    {
     "name": "stdout",
     "output_type": "stream",
     "text": [
      "3\n",
      "1\n",
      "0\n"
     ]
    }
   ],
   "source": [
    "print(int(3.9))   # Output: 3 (removes decimal part)\n",
    "print(int(True))  # Output: 1\n",
    "print(int(False)) # Output: 0"
   ]
  },
  {
   "cell_type": "code",
   "execution_count": 11,
   "metadata": {},
   "outputs": [
    {
     "name": "stdout",
     "output_type": "stream",
     "text": [
      "3\n",
      "1\n",
      "0\n"
     ]
    }
   ],
   "source": [
    "#1. Integer (int) Conversions\n",
    "#Convert float or bool to int:\n",
    "print(int(3.9))   # Output: 3 (removes decimal part)\n",
    "print(int(True))  # Output: 1\n",
    "print(int(False)) # Output: 0\n"
   ]
  },
  {
   "cell_type": "code",
   "execution_count": 13,
   "metadata": {},
   "outputs": [
    {
     "name": "stdout",
     "output_type": "stream",
     "text": [
      "7.0\n",
      "1.0\n",
      "0.0\n"
     ]
    }
   ],
   "source": [
    "#2. Float (float) Conversions\n",
    "#Convert int or bool to float:\n",
    "print(float(7))   # Output: 7.0\n",
    "print(float(True))  # Output: 1.0\n",
    "print(float(False)) # Output: 0.0"
   ]
  },
  {
   "cell_type": "code",
   "execution_count": 15,
   "metadata": {},
   "outputs": [
    {
     "name": "stdout",
     "output_type": "stream",
     "text": [
      "(4+0j)\n",
      "(3.5+0j)\n"
     ]
    }
   ],
   "source": [
    "#3. Complex (complex) Conversions\n",
    "#Convert int or float to complex:\n",
    "print(complex(4))     # Output: (4+0j)\n",
    "print(complex(3.5))   # Output: (3.5+0j)"
   ]
  },
  {
   "cell_type": "code",
   "execution_count": 17,
   "metadata": {},
   "outputs": [
    {
     "name": "stdout",
     "output_type": "stream",
     "text": [
      "False\n",
      "True\n",
      "True\n"
     ]
    }
   ],
   "source": [
    "#4. Boolean (bool) Conversions\n",
    "#Convert numbers to bool:\n",
    "print(bool(0))    # Output: False (Only 0 is False)\n",
    "print(bool(10))   # Output: True\n",
    "print(bool(-3.5)) # Output: True"
   ]
  },
  {
   "cell_type": "code",
   "execution_count": 19,
   "metadata": {},
   "outputs": [
    {
     "name": "stdout",
     "output_type": "stream",
     "text": [
      "True\n"
     ]
    }
   ],
   "source": [
    "#Practical Example: Checking if a Temperature is Freezing\n",
    "temperature = -5.4  # Celsius\n",
    "is_freezing = bool(temperature < 0)  # Convert comparison result to boolean\n",
    "print(is_freezing)  # Output: True"
   ]
  },
  {
   "cell_type": "code",
   "execution_count": 21,
   "metadata": {},
   "outputs": [
    {
     "name": "stdout",
     "output_type": "stream",
     "text": [
      "84\n"
     ]
    }
   ],
   "source": [
    "#Practical Example: Converting User Input to Numeric Type\n",
    "user_input = \"42\"\n",
    "num = int(user_input)  # Convert string to integer\n",
    "print(num * 2)  # Output: 84"
   ]
  },
  {
   "cell_type": "markdown",
   "metadata": {},
   "source": [
    "## Strings"
   ]
  },
  {
   "cell_type": "code",
   "execution_count": 26,
   "metadata": {
    "collapsed": false,
    "jupyter": {
     "outputs_hidden": false
    }
   },
   "outputs": [
    {
     "data": {
      "text/plain": [
       "'Here we have \"double quotes\" inside single quotes'"
      ]
     },
     "execution_count": 26,
     "metadata": {},
     "output_type": "execute_result"
    }
   ],
   "source": [
    "\"A single quote (’) inside a double quote\"\n",
    "'Here we have \"double quotes\" inside single quotes'"
   ]
  },
  {
   "cell_type": "code",
   "execution_count": 28,
   "metadata": {
    "collapsed": false,
    "jupyter": {
     "outputs_hidden": false
    },
    "scrolled": true
   },
   "outputs": [
    {
     "ename": "SyntaxError",
     "evalue": "unterminated string literal (detected at line 1) (3723981634.py, line 1)",
     "output_type": "error",
     "traceback": [
      "\u001b[1;36m  Cell \u001b[1;32mIn[28], line 1\u001b[1;36m\u001b[0m\n\u001b[1;33m    \"Mixing quotes leads to the dark side'\u001b[0m\n\u001b[1;37m    ^\u001b[0m\n\u001b[1;31mSyntaxError\u001b[0m\u001b[1;31m:\u001b[0m unterminated string literal (detected at line 1)\n"
     ]
    }
   ],
   "source": [
    "\"Mixing quotes leads to the dark side'\n",
    "#error"
   ]
  },
  {
   "cell_type": "code",
   "execution_count": 30,
   "metadata": {
    "collapsed": false,
    "jupyter": {
     "outputs_hidden": false
    }
   },
   "outputs": [
    {
     "name": "stdout",
     "output_type": "stream",
     "text": [
      "Hi! I'm a\n",
      "multiline\n",
      "string\n"
     ]
    }
   ],
   "source": [
    "#new line with \\n\n",
    "print(\"Hi! I'm a\\nmultiline\\nstring\")"
   ]
  },
  {
   "cell_type": "markdown",
   "metadata": {},
   "source": [
    "**Strings are sequences of Unicode characters**"
   ]
  },
  {
   "cell_type": "code",
   "execution_count": 33,
   "metadata": {
    "collapsed": false,
    "jupyter": {
     "outputs_hidden": false
    }
   },
   "outputs": [
    {
     "data": {
      "text/plain": [
       "'In Python 3, strings are Unicode: こんにちは 世界'"
      ]
     },
     "execution_count": 33,
     "metadata": {},
     "output_type": "execute_result"
    }
   ],
   "source": [
    "'In Python 3, strings are Unicode: こんにちは 世界'"
   ]
  },
  {
   "cell_type": "code",
   "execution_count": 35,
   "metadata": {},
   "outputs": [
    {
     "data": {
      "text/plain": [
       "'فارسی قابل فهم برای پایتون است'"
      ]
     },
     "execution_count": 35,
     "metadata": {},
     "output_type": "execute_result"
    }
   ],
   "source": [
    "\"فارسی قابل فهم برای پایتون است\""
   ]
  },
  {
   "attachments": {},
   "cell_type": "markdown",
   "metadata": {},
   "source": [
    "- Strings are immutable in Python.\r\n",
    "- You cannot modify a string directly, but you can create a derived string\n",
    "- Original string remains unchanged unless reassigned.\n",
    "\r\n"
   ]
  },
  {
   "cell_type": "markdown",
   "metadata": {},
   "source": [
    "### String Methods in Python"
   ]
  },
  {
   "cell_type": "markdown",
   "metadata": {},
   "source": [
    "#### 1- lower"
   ]
  },
  {
   "cell_type": "code",
   "execution_count": 20,
   "metadata": {},
   "outputs": [
    {
     "data": {
      "text/plain": [
       "'maskatlllaftllfatcia'"
      ]
     },
     "execution_count": 20,
     "metadata": {},
     "output_type": "execute_result"
    }
   ],
   "source": [
    "signal_peptide = 'MASKATLLLAFTLLFATCIA'\n",
    "signal_peptide.lower()\n"
   ]
  },
  {
   "cell_type": "code",
   "execution_count": 22,
   "metadata": {
    "collapsed": false,
    "jupyter": {
     "outputs_hidden": false
    }
   },
   "outputs": [
    {
     "data": {
      "text/plain": [
       "'MASKATLLLAFTLLFATCIA'"
      ]
     },
     "execution_count": 22,
     "metadata": {},
     "output_type": "execute_result"
    }
   ],
   "source": [
    "signal_peptide"
   ]
  },
  {
   "cell_type": "code",
   "execution_count": 24,
   "metadata": {
    "collapsed": false,
    "jupyter": {
     "outputs_hidden": false
    }
   },
   "outputs": [
    {
     "data": {
      "text/plain": [
       "'maskatlllaftllfatcia'"
      ]
     },
     "execution_count": 24,
     "metadata": {},
     "output_type": "execute_result"
    }
   ],
   "source": [
    "signal_peptide = signal_peptide.lower()\n",
    "signal_peptide\n"
   ]
  },
  {
   "cell_type": "code",
   "execution_count": 26,
   "metadata": {},
   "outputs": [
    {
     "name": "stdout",
     "output_type": "stream",
     "text": [
      "acgtacgt\n"
     ]
    }
   ],
   "source": [
    "seq = \"ACGTACGT\"\n",
    "print(seq.lower())  \n",
    "# Output: \"acgtacgt\"\n"
   ]
  },
  {
   "cell_type": "markdown",
   "metadata": {},
   "source": [
    "#### 2- upper()"
   ]
  },
  {
   "cell_type": "code",
   "execution_count": 29,
   "metadata": {},
   "outputs": [
    {
     "name": "stdout",
     "output_type": "stream",
     "text": [
      "ACGTACGT\n"
     ]
    }
   ],
   "source": [
    "seq = \"acgtacgt\"\n",
    "print(seq.upper())  \n",
    "# Output: \"ACGTACGT\""
   ]
  },
  {
   "cell_type": "markdown",
   "metadata": {},
   "source": [
    "### 3- strip()"
   ]
  },
  {
   "cell_type": "code",
   "execution_count": 32,
   "metadata": {},
   "outputs": [
    {
     "name": "stdout",
     "output_type": "stream",
     "text": [
      "ACGTACGT\n"
     ]
    }
   ],
   "source": [
    "dna_seq = \"   ACGTACGT   \"\n",
    "print(dna_seq.strip())  \n",
    "# Output: \"ACGTACGT\"\n"
   ]
  },
  {
   "cell_type": "markdown",
   "metadata": {},
   "source": [
    "### 4- replace()\n"
   ]
  },
  {
   "cell_type": "code",
   "execution_count": 35,
   "metadata": {},
   "outputs": [
    {
     "data": {
      "text/plain": [
       "'GCUAGUAAUGUG'"
      ]
     },
     "execution_count": 35,
     "metadata": {},
     "output_type": "execute_result"
    }
   ],
   "source": [
    "\n",
    "dna_seq = 'GCTAGTAATGTG'\n",
    "m_rna_seq = dna_seq.replace('T','U')\n",
    "m_rna_seq\n"
   ]
  },
  {
   "cell_type": "code",
   "execution_count": 37,
   "metadata": {},
   "outputs": [
    {
     "data": {
      "text/plain": [
       "'GCUAGUAATGTG'"
      ]
     },
     "execution_count": 37,
     "metadata": {},
     "output_type": "execute_result"
    }
   ],
   "source": [
    "dna_seq = 'GCTAGTAATGTG'\n",
    "m_rna_seq = dna_seq.replace('T','U', 2)\n",
    "m_rna_seq\n",
    "#output: GCUAGUAATGTG"
   ]
  },
  {
   "cell_type": "code",
   "execution_count": 39,
   "metadata": {
    "collapsed": false,
    "jupyter": {
     "outputs_hidden": false
    }
   },
   "outputs": [
    {
     "data": {
      "text/plain": [
       "'GCTAGTAATGTG'"
      ]
     },
     "execution_count": 39,
     "metadata": {},
     "output_type": "execute_result"
    }
   ],
   "source": [
    "dna_seq"
   ]
  },
  {
   "cell_type": "markdown",
   "metadata": {},
   "source": [
    "### 5- count()"
   ]
  },
  {
   "cell_type": "code",
   "execution_count": 42,
   "metadata": {
    "collapsed": false,
    "jupyter": {
     "outputs_hidden": false
    }
   },
   "outputs": [
    {
     "data": {
      "text/plain": [
       "41.66666666666667"
      ]
     },
     "execution_count": 42,
     "metadata": {},
     "output_type": "execute_result"
    }
   ],
   "source": [
    "c = dna_seq.count(\"C\")\n",
    "g = dna_seq.count(\"G\")\n",
    "(c+g)/len(dna_seq)*100\n"
   ]
  },
  {
   "cell_type": "code",
   "execution_count": 44,
   "metadata": {
    "collapsed": false,
    "jupyter": {
     "outputs_hidden": false
    }
   },
   "outputs": [
    {
     "data": {
      "text/plain": [
       "'GCUAGUAATGTG'"
      ]
     },
     "execution_count": 44,
     "metadata": {},
     "output_type": "execute_result"
    }
   ],
   "source": [
    "m_rna_seq"
   ]
  },
  {
   "cell_type": "code",
   "execution_count": 46,
   "metadata": {},
   "outputs": [
    {
     "name": "stdout",
     "output_type": "stream",
     "text": [
      "GC Content: 41.67%\n"
     ]
    }
   ],
   "source": [
    "dna_seq = 'GCTAGTAATGTG'\n",
    "gc_content = (dna_seq.count('C') + dna_seq.count('G')) / len(dna_seq) * 100\n",
    "print(f'GC Content: {gc_content:.2f}%')  # Output: 41.67%\n"
   ]
  },
  {
   "cell_type": "code",
   "execution_count": 48,
   "metadata": {},
   "outputs": [
    {
     "name": "stdout",
     "output_type": "stream",
     "text": [
      "4\n"
     ]
    }
   ],
   "source": [
    "dna_seq = 'GCTAGTAATGTG'\n",
    "g_count = dna_seq.count('G')\n",
    "print(g_count)  # output:4\n"
   ]
  },
  {
   "cell_type": "code",
   "execution_count": 50,
   "metadata": {},
   "outputs": [
    {
     "name": "stdout",
     "output_type": "stream",
     "text": [
      "2\n"
     ]
    }
   ],
   "source": [
    "g_count_partial = dna_seq.count('G', 3, 10)\n",
    "print(g_count_partial)  # output : 2\n"
   ]
  },
  {
   "cell_type": "markdown",
   "metadata": {},
   "source": [
    "### 6- find()"
   ]
  },
  {
   "cell_type": "code",
   "execution_count": 53,
   "metadata": {
    "collapsed": false,
    "jupyter": {
     "outputs_hidden": false
    }
   },
   "outputs": [
    {
     "data": {
      "text/plain": [
       "-1"
      ]
     },
     "execution_count": 53,
     "metadata": {},
     "output_type": "execute_result"
    }
   ],
   "source": [
    "m_rna_seq.find('AUG')"
   ]
  },
  {
   "cell_type": "code",
   "execution_count": 55,
   "metadata": {
    "collapsed": false,
    "jupyter": {
     "outputs_hidden": false
    }
   },
   "outputs": [
    {
     "data": {
      "text/plain": [
       "-1"
      ]
     },
     "execution_count": 55,
     "metadata": {},
     "output_type": "execute_result"
    }
   ],
   "source": [
    "m_rna_seq.find('GGG')"
   ]
  },
  {
   "cell_type": "code",
   "execution_count": 57,
   "metadata": {},
   "outputs": [
    {
     "name": "stdout",
     "output_type": "stream",
     "text": [
      "7\n"
     ]
    }
   ],
   "source": [
    "m_rna_seq = 'GCUAGUAAUGUG'\n",
    "pos = m_rna_seq.find('AUG')\n",
    "print(pos)  # output: 7 \n"
   ]
  },
  {
   "cell_type": "code",
   "execution_count": 59,
   "metadata": {},
   "outputs": [
    {
     "name": "stdout",
     "output_type": "stream",
     "text": [
      "7\n"
     ]
    }
   ],
   "source": [
    "m_rna_seq = 'GCUAGUAAUGUG'\n",
    "\n",
    "pos_limited = m_rna_seq.find('AUG', 5) #start the search from index 5.\n",
    "print(pos_limited)"
   ]
  },
  {
   "cell_type": "code",
   "execution_count": 61,
   "metadata": {},
   "outputs": [
    {
     "name": "stdout",
     "output_type": "stream",
     "text": [
      "-1\n"
     ]
    }
   ],
   "source": [
    "pos_range = m_rna_seq.find('AUG', 3, 8)\n",
    "print(pos_range)  # Output: -1 (because it does not exist in this range)\n"
   ]
  },
  {
   "cell_type": "markdown",
   "metadata": {},
   "source": [
    "### 7- index"
   ]
  },
  {
   "cell_type": "code",
   "execution_count": 64,
   "metadata": {},
   "outputs": [
    {
     "name": "stdout",
     "output_type": "stream",
     "text": [
      "5\n"
     ]
    }
   ],
   "source": [
    "dna_seq = \"GCTAGTAATGTG\"\n",
    "pos = dna_seq.index(\"T\", 3, 10)\n",
    "print(pos)  # Output: 5\n"
   ]
  },
  {
   "cell_type": "code",
   "execution_count": 66,
   "metadata": {},
   "outputs": [
    {
     "ename": "ValueError",
     "evalue": "substring not found",
     "output_type": "error",
     "traceback": [
      "\u001b[1;31m---------------------------------------------------------------------------\u001b[0m",
      "\u001b[1;31mValueError\u001b[0m                                Traceback (most recent call last)",
      "Cell \u001b[1;32mIn[66], line 2\u001b[0m\n\u001b[0;32m      1\u001b[0m sequence \u001b[38;5;241m=\u001b[39m \u001b[38;5;124m\"\u001b[39m\u001b[38;5;124mGCTAGTAATGTG\u001b[39m\u001b[38;5;124m\"\u001b[39m\n\u001b[1;32m----> 2\u001b[0m pos \u001b[38;5;241m=\u001b[39m sequence\u001b[38;5;241m.\u001b[39mindex(\u001b[38;5;124m\"\u001b[39m\u001b[38;5;124mCCC\u001b[39m\u001b[38;5;124m\"\u001b[39m)\n",
      "\u001b[1;31mValueError\u001b[0m: substring not found"
     ]
    }
   ],
   "source": [
    "sequence = \"GCTAGTAATGTG\"\n",
    "pos = sequence.index(\"CCC\")  # Raises ValueError\n"
   ]
  },
  {
   "cell_type": "code",
   "execution_count": 76,
   "metadata": {},
   "outputs": [
    {
     "data": {
      "text/plain": [
       "2"
      ]
     },
     "execution_count": 76,
     "metadata": {},
     "output_type": "execute_result"
    }
   ],
   "source": [
    "sequence = \"GCTAGTAATGTG\"\n",
    "pos = sequence.index(\"T\")\n",
    "pos"
   ]
  },
  {
   "cell_type": "code",
   "execution_count": 78,
   "metadata": {},
   "outputs": [
    {
     "data": {
      "text/plain": [
       "9"
      ]
     },
     "execution_count": 78,
     "metadata": {},
     "output_type": "execute_result"
    }
   ],
   "source": [
    "sequence = \"GCTAGTAATGTG\"\n",
    "pos = sequence.index(\"GTG\")\n",
    "pos"
   ]
  },
  {
   "cell_type": "markdown",
   "metadata": {},
   "source": [
    "### 8- split"
   ]
  },
  {
   "cell_type": "code",
   "execution_count": 70,
   "metadata": {},
   "outputs": [
    {
     "name": "stdout",
     "output_type": "stream",
     "text": [
      "['This', 'string', 'has', 'words', 'separated', 'by', 'spaces']\n"
     ]
    }
   ],
   "source": [
    "text = 'This string has words separated by spaces'\n",
    "words = text.split()\n",
    "print(words)  \n",
    "# Output: ['This', 'string', 'has', 'words', 'separated', 'by', 'spaces']\n"
   ]
  },
  {
   "cell_type": "code",
   "execution_count": 72,
   "metadata": {},
   "outputs": [
    {
     "name": "stdout",
     "output_type": "stream",
     "text": [
      "['Alex Doe', '5555-2333', 'nobody@example.com']\n"
     ]
    }
   ],
   "source": [
    "data = \"Alex Doe,5555-2333,nobody@example.com\"\n",
    "fields = data.split(\",\")\n",
    "print(fields)  \n",
    "# Output: ['Alex Doe', '5555-2333', 'nobody@example.com']\n"
   ]
  },
  {
   "cell_type": "code",
   "execution_count": 74,
   "metadata": {
    "collapsed": false,
    "jupyter": {
     "outputs_hidden": false
    }
   },
   "outputs": [
    {
     "data": {
      "text/plain": [
       "['This', 'string', 'has', 'words', 'separated', 'by', 'spaces']"
      ]
     },
     "execution_count": 74,
     "metadata": {},
     "output_type": "execute_result"
    }
   ],
   "source": [
    "'This string has words separated by spaces'.split()"
   ]
  },
  {
   "cell_type": "code",
   "execution_count": 80,
   "metadata": {},
   "outputs": [
    {
     "name": "stdout",
     "output_type": "stream",
     "text": [
      "['apple', 'banana', 'orange,grape']\n"
     ]
    }
   ],
   "source": [
    "sentence = \"apple,banana,orange,grape\"\n",
    "result = sentence.split(\",\", 2)\n",
    "print(result)\n",
    "#output: ['apple', 'banana', 'orange,grape']"
   ]
  },
  {
   "cell_type": "markdown",
   "metadata": {},
   "source": [
    "### 9- join"
   ]
  },
  {
   "cell_type": "code",
   "execution_count": 83,
   "metadata": {
    "collapsed": false,
    "jupyter": {
     "outputs_hidden": false
    }
   },
   "outputs": [
    {
     "name": "stdout",
     "output_type": "stream",
     "text": [
      "ACTG\n"
     ]
    }
   ],
   "source": [
    "letters = ['A', 'C', 'T', 'G']\n",
    "dna_sequence = \"\".join(letters)  # Without any separator characters\n",
    "print(dna_sequence)\n",
    "# Output: \"ACTG\"\n"
   ]
  },
  {
   "cell_type": "code",
   "execution_count": 85,
   "metadata": {},
   "outputs": [
    {
     "name": "stdout",
     "output_type": "stream",
     "text": [
      "Hello World Python\n"
     ]
    }
   ],
   "source": [
    "words = [\"Hello\", \"World\", \"Python\"]\n",
    "sentence = \" \".join(words)  # Use space as separator\n",
    "print(sentence)\n",
    "# Output: \"Hello World Python\"\n"
   ]
  },
  {
   "cell_type": "code",
   "execution_count": 87,
   "metadata": {},
   "outputs": [
    {
     "name": "stdout",
     "output_type": "stream",
     "text": [
      "Alice, Bob, Charlie\n"
     ]
    }
   ],
   "source": [
    "names = [\"Alice\", \"Bob\", \"Charlie\"]\n",
    "result = \", \".join(names)\n",
    "print(result)\n",
    "# Output: \"Alice, Bob, Charlie\"\n"
   ]
  },
  {
   "cell_type": "code",
   "execution_count": 89,
   "metadata": {},
   "outputs": [
    {
     "ename": "TypeError",
     "evalue": "sequence item 2: expected str instance, int found",
     "output_type": "error",
     "traceback": [
      "\u001b[1;31m---------------------------------------------------------------------------\u001b[0m",
      "\u001b[1;31mTypeError\u001b[0m                                 Traceback (most recent call last)",
      "Cell \u001b[1;32mIn[89], line 2\u001b[0m\n\u001b[0;32m      1\u001b[0m data \u001b[38;5;241m=\u001b[39m [\u001b[38;5;124m\"\u001b[39m\u001b[38;5;124mA\u001b[39m\u001b[38;5;124m\"\u001b[39m, \u001b[38;5;124m\"\u001b[39m\u001b[38;5;124mC\u001b[39m\u001b[38;5;124m\"\u001b[39m, \u001b[38;5;241m3\u001b[39m, \u001b[38;5;124m\"\u001b[39m\u001b[38;5;124mT\u001b[39m\u001b[38;5;124m\"\u001b[39m]\n\u001b[1;32m----> 2\u001b[0m result \u001b[38;5;241m=\u001b[39m \u001b[38;5;124m\"\u001b[39m\u001b[38;5;124m-\u001b[39m\u001b[38;5;124m\"\u001b[39m\u001b[38;5;241m.\u001b[39mjoin(data)\n",
      "\u001b[1;31mTypeError\u001b[0m: sequence item 2: expected str instance, int found"
     ]
    }
   ],
   "source": [
    "data = [\"A\", \"C\", 3, \"T\"]\n",
    "result = \"-\".join(data)  # TypeError: sequence item 2: expected str instance, int found\n"
   ]
  },
  {
   "cell_type": "code",
   "execution_count": 91,
   "metadata": {},
   "outputs": [
    {
     "data": {
      "text/plain": [
       "'A-C-3-T'"
      ]
     },
     "execution_count": 91,
     "metadata": {},
     "output_type": "execute_result"
    }
   ],
   "source": [
    "data = [\"A\", \"C\", \"3\", \"T\"]\n",
    "result = \"-\".join(data)\n",
    "result\n",
    "# Output: \"A-C-3-T\"\n"
   ]
  },
  {
   "cell_type": "code",
   "execution_count": 93,
   "metadata": {},
   "outputs": [
    {
     "name": "stdout",
     "output_type": "stream",
     "text": [
      "A-C-3-T\n"
     ]
    }
   ],
   "source": [
    "result = \"-\".join(map(str, data))  \n",
    "print(result)  \n",
    "# Output: \"A-C-3-T\"\n"
   ]
  },
  {
   "cell_type": "markdown",
   "metadata": {},
   "source": [
    "### 10- .startswith(prefix) & .endswith(suffix)"
   ]
  },
  {
   "cell_type": "code",
   "execution_count": 96,
   "metadata": {},
   "outputs": [
    {
     "name": "stdout",
     "output_type": "stream",
     "text": [
      "True\n",
      "True\n",
      "False\n"
     ]
    }
   ],
   "source": [
    "seq = \"ATGCGTAA\"\n",
    "print(seq.startswith(\"ATG\"))  # True\n",
    "print(seq.endswith(\"TAA\"))  # True\n",
    "\n",
    "print(seq.startswith(\"ATA\")) # False"
   ]
  },
  {
   "cell_type": "markdown",
   "metadata": {},
   "source": [
    "### 11- string Slicing : string[start:end:step]"
   ]
  },
  {
   "cell_type": "code",
   "execution_count": 99,
   "metadata": {},
   "outputs": [],
   "source": [
    "seq = \"GATTACA\""
   ]
  },
  {
   "cell_type": "code",
   "execution_count": 101,
   "metadata": {},
   "outputs": [
    {
     "name": "stdout",
     "output_type": "stream",
     "text": [
      "GATT\n"
     ]
    }
   ],
   "source": [
    "#1. Basic Slicing (Extracting a Substring)\n",
    "print(seq[0:4])   # Output: GATT (characters from index 0 to 3)\n"
   ]
  },
  {
   "cell_type": "code",
   "execution_count": 103,
   "metadata": {},
   "outputs": [
    {
     "name": "stdout",
     "output_type": "stream",
     "text": [
      "GATT\n",
      "TACA\n"
     ]
    }
   ],
   "source": [
    "#2. Omitting Start or End Index\n",
    "print(seq[:4])    # Output: GATT (starts from index 0)\n",
    "print(seq[3:])    # Output: TACA (from index 3 to end)"
   ]
  },
  {
   "cell_type": "code",
   "execution_count": 105,
   "metadata": {},
   "outputs": [
    {
     "name": "stdout",
     "output_type": "stream",
     "text": [
      "TACA\n",
      "GATTA\n"
     ]
    }
   ],
   "source": [
    "#3. Using Negative Indexing\n",
    "print(seq[-4:])   # Output: TACA (last 4 characters)\n",
    "print(seq[:-2])   # Output: GATTA (everything except the last 2 characters)"
   ]
  },
  {
   "cell_type": "code",
   "execution_count": 107,
   "metadata": {},
   "outputs": [
    {
     "name": "stdout",
     "output_type": "stream",
     "text": [
      "GTAA\n",
      "ACATTAG\n"
     ]
    }
   ],
   "source": [
    "#4. Using Step to Skip Characters\n",
    "print(seq[::2])   # Output: GTTC (every 2nd character)\n",
    "print(seq[::-1])  # Output: ACATTAG (reverses the string)"
   ]
  },
  {
   "cell_type": "code",
   "execution_count": 109,
   "metadata": {},
   "outputs": [
    {
     "name": "stdout",
     "output_type": "stream",
     "text": [
      "['ATG', 'CGA', 'TAC', 'GCT', 'TGA']\n"
     ]
    }
   ],
   "source": [
    "#problem: Extracting Codons in a DNA Sequence\n",
    "dna = \"ATGCGATACGCTTGA\"\n",
    "\n",
    "codon1 = dna[0:3]   # First codon (ATG)\n",
    "codon2 = dna[3:6]   # Second codon (CGA)\n",
    "codon3 = dna[6:9]   # Third codon (TAC)\n",
    "codon4 = dna[9:12]  # Fourth codon (GCT)\n",
    "codon5 = dna[12:15] # Fifth codon (TGA)\n",
    "\n",
    "codons = [codon1, codon2, codon3, codon4, codon5]  # Store codons in a list\n",
    "\n",
    "print(codons)\n",
    "#output: ['ATG', 'CGA', 'TAC', 'GCT', 'TGA']"
   ]
  },
  {
   "cell_type": "markdown",
   "metadata": {},
   "source": [
    "### 12- other methods"
   ]
  },
  {
   "cell_type": "code",
   "execution_count": null,
   "metadata": {
    "scrolled": true
   },
   "outputs": [],
   "source": [
    "#To see all the methods related to strings, use this command:\n",
    "help(str)"
   ]
  },
  {
   "cell_type": "markdown",
   "metadata": {},
   "source": [
    "![Image Description](./PythonStringMethodsOverview.png)"
   ]
  },
  {
   "cell_type": "markdown",
   "metadata": {},
   "source": [
    "### Fun & Practical Example"
   ]
  },
  {
   "cell_type": "code",
   "execution_count": 115,
   "metadata": {},
   "outputs": [
    {
     "name": "stdout",
     "output_type": "stream",
     "text": [
      "عزیزم یادت نره بچه رو ببری دکتر!\n"
     ]
    }
   ],
   "source": [
    "#Fun & Practical Example1\n",
    "\n",
    "message = \"عزیزم یادت نره گربه رو ببری دکتر!\"\n",
    "corrected_message = message.replace(\"گربه\", \"بچه\")\n",
    "print(corrected_message)\n",
    "#output: عزیزم یادت نره بچه رو ببری دکتر!\n"
   ]
  },
  {
   "cell_type": "code",
   "execution_count": 117,
   "metadata": {},
   "outputs": [
    {
     "name": "stdout",
     "output_type": "stream",
     "text": [
      "Hello! Special discount only until tomorrow! Don’t miss out!\n"
     ]
    }
   ],
   "source": [
    "##Fun & Practical Example2\n",
    "\n",
    "sms = \"Hello! Special discount only until tomorrow! Don’t miss out!\"\n",
    "if \"special discount\" in sms:\n",
    "    sms = sms.replace(\"special discount\", \"[Removed]\")\n",
    "print(sms)\n",
    "#output: Hello! [Removed] only until tomorrow! Don’t miss out!"
   ]
  },
  {
   "cell_type": "markdown",
   "metadata": {},
   "source": [
    "## Lists"
   ]
  },
  {
   "cell_type": "markdown",
   "metadata": {},
   "source": [
    "**List Is a Basic Datatype in Python**"
   ]
  },
  {
   "cell_type": "markdown",
   "metadata": {},
   "source": [
    "- Lists are one of the most versatile data types in Python. \n",
    "- A list is an ordered collection of objects enclosed by square brackets. \n",
    "- Lists can hold different types of elements, and they can even contain other lists."
   ]
  },
  {
   "cell_type": "code",
   "execution_count": 121,
   "metadata": {
    "collapsed": false,
    "jupyter": {
     "outputs_hidden": false
    }
   },
   "outputs": [
    {
     "data": {
      "text/plain": [
       "['Alex Doe', '5555-2333', 'hi@example.com']"
      ]
     },
     "execution_count": 121,
     "metadata": {},
     "output_type": "execute_result"
    }
   ],
   "source": [
    "'Alex Doe,5555-2333,hi@example.com'.split(',')"
   ]
  },
  {
   "cell_type": "code",
   "execution_count": 123,
   "metadata": {},
   "outputs": [],
   "source": [
    "first_list = [1, 2, 3, 4, 5]"
   ]
  },
  {
   "cell_type": "code",
   "execution_count": 125,
   "metadata": {},
   "outputs": [],
   "source": [
    "other_list = [1, 'two', 3, 4, 'last']"
   ]
  },
  {
   "cell_type": "code",
   "execution_count": 127,
   "metadata": {
    "collapsed": false,
    "jupyter": {
     "outputs_hidden": false
    }
   },
   "outputs": [
    {
     "data": {
      "text/plain": [
       "[1, 'two', [1, 2, 3, 4, 5], 4, 'last']"
      ]
     },
     "execution_count": 127,
     "metadata": {},
     "output_type": "execute_result"
    }
   ],
   "source": [
    "nested_list = [1, 'two', first_list, 4, 'last']\n",
    "nested_list\n"
   ]
  },
  {
   "cell_type": "code",
   "execution_count": 129,
   "metadata": {
    "collapsed": false,
    "jupyter": {
     "outputs_hidden": false
    }
   },
   "outputs": [
    {
     "data": {
      "text/plain": [
       "[]"
      ]
     },
     "execution_count": 129,
     "metadata": {},
     "output_type": "execute_result"
    }
   ],
   "source": [
    "empty_list = []\n",
    "empty_list\n"
   ]
  },
  {
   "cell_type": "code",
   "execution_count": 131,
   "metadata": {
    "collapsed": false,
    "jupyter": {
     "outputs_hidden": false
    }
   },
   "outputs": [
    {
     "data": {
      "text/plain": [
       "1"
      ]
     },
     "execution_count": 131,
     "metadata": {},
     "output_type": "execute_result"
    }
   ],
   "source": [
    "first_list = [1, 2, 3, 4, 5]\n",
    "first_list[0]\n"
   ]
  },
  {
   "cell_type": "code",
   "execution_count": 133,
   "metadata": {
    "collapsed": false,
    "jupyter": {
     "outputs_hidden": false
    }
   },
   "outputs": [
    {
     "data": {
      "text/plain": [
       "2"
      ]
     },
     "execution_count": 133,
     "metadata": {},
     "output_type": "execute_result"
    }
   ],
   "source": [
    "first_list[1]"
   ]
  },
  {
   "cell_type": "code",
   "execution_count": 135,
   "metadata": {
    "collapsed": false,
    "jupyter": {
     "outputs_hidden": false
    }
   },
   "outputs": [
    {
     "data": {
      "text/plain": [
       "5"
      ]
     },
     "execution_count": 135,
     "metadata": {},
     "output_type": "execute_result"
    }
   ],
   "source": [
    "first_list = [1, 2, 3, 4, 5]\n",
    "first_list[-1]\n"
   ]
  },
  {
   "cell_type": "code",
   "execution_count": 137,
   "metadata": {
    "collapsed": false,
    "jupyter": {
     "outputs_hidden": false
    }
   },
   "outputs": [
    {
     "data": {
      "text/plain": [
       "2"
      ]
     },
     "execution_count": 137,
     "metadata": {},
     "output_type": "execute_result"
    }
   ],
   "source": [
    "first_list[-4]\n"
   ]
  },
  {
   "cell_type": "code",
   "execution_count": 139,
   "metadata": {
    "collapsed": false,
    "jupyter": {
     "outputs_hidden": false
    }
   },
   "outputs": [
    {
     "data": {
      "text/plain": [
       "['a', 't', 'g', 'g', 'c', 't', 'a', 'g', 'g', 'c']"
      ]
     },
     "execution_count": 139,
     "metadata": {},
     "output_type": "execute_result"
    }
   ],
   "source": [
    "aseq = \"atggctaggc\"\n",
    "list(aseq)\n",
    "# Output: ['a', 't', 'g', 'g', 'c', 't', 'a', 'g', 'g', 'c']"
   ]
  },
  {
   "cell_type": "code",
   "execution_count": 141,
   "metadata": {},
   "outputs": [
    {
     "data": {
      "text/plain": [
       "['atggctaggc']"
      ]
     },
     "execution_count": 141,
     "metadata": {},
     "output_type": "execute_result"
    }
   ],
   "source": [
    "#remember: split in string\n",
    "aseq = \"atggctaggc\"\n",
    "aseq.split()\n",
    "# Output: ['atggctaggc']  # Since no delimiter is provided, it treats the entire string as one word."
   ]
  },
  {
   "cell_type": "code",
   "execution_count": 143,
   "metadata": {},
   "outputs": [
    {
     "data": {
      "text/plain": [
       "['a', 't', 'g', 'g', 'c', 't', 'a', 'g', 'g', 'c']"
      ]
     },
     "execution_count": 143,
     "metadata": {},
     "output_type": "execute_result"
    }
   ],
   "source": [
    "#remember: split in string\n",
    "aseq = \"a t g g c t a g g c\"\n",
    "aseq.split()\n",
    "# Output: ['a', 't', 'g', 'g', 'c', 't', 'a', 'g', 'g', 'c']  # The string is split by spaces into individual substrings."
   ]
  },
  {
   "cell_type": "code",
   "execution_count": 145,
   "metadata": {
    "collapsed": false,
    "jupyter": {
     "outputs_hidden": false
    }
   },
   "outputs": [
    {
     "data": {
      "text/plain": [
       "['red', 'red', 'red', 'red', 'red']"
      ]
     },
     "execution_count": 145,
     "metadata": {},
     "output_type": "execute_result"
    }
   ],
   "source": [
    "samples = ['red'] * 5\n",
    "samples\n"
   ]
  },
  {
   "cell_type": "code",
   "execution_count": 147,
   "metadata": {
    "collapsed": false,
    "jupyter": {
     "outputs_hidden": false
    }
   },
   "outputs": [
    {
     "data": {
      "text/plain": [
       "[None, None, None, None, None]"
      ]
     },
     "execution_count": 147,
     "metadata": {},
     "output_type": "execute_result"
    }
   ],
   "source": [
    "samples = [None] * 5\n",
    "samples\n"
   ]
  },
  {
   "cell_type": "code",
   "execution_count": 149,
   "metadata": {},
   "outputs": [],
   "source": [
    "a = [0, 1, 2, 3, 4, 5]"
   ]
  },
  {
   "cell_type": "code",
   "execution_count": 151,
   "metadata": {
    "collapsed": false,
    "jupyter": {
     "outputs_hidden": false
    }
   },
   "outputs": [
    {
     "data": {
      "text/plain": [
       "[0, 3, 6, 9, 12, 15]"
      ]
     },
     "execution_count": 151,
     "metadata": {},
     "output_type": "execute_result"
    }
   ],
   "source": [
    "[3*x for x in a]\n"
   ]
  },
  {
   "cell_type": "code",
   "execution_count": 153,
   "metadata": {
    "collapsed": false,
    "jupyter": {
     "outputs_hidden": false
    }
   },
   "outputs": [
    {
     "data": {
      "text/plain": [
       "['King Kong', 'Godzilla', 'Gamera']"
      ]
     },
     "execution_count": 153,
     "metadata": {},
     "output_type": "execute_result"
    }
   ],
   "source": [
    "animals = ['  King Kong', '  Godzilla ', 'Gamera  ']\n",
    "[x.strip() for x in animals]\n"
   ]
  },
  {
   "cell_type": "code",
   "execution_count": 155,
   "metadata": {
    "collapsed": false,
    "jupyter": {
     "outputs_hidden": false
    }
   },
   "outputs": [
    {
     "data": {
      "text/plain": [
       "['King Kong', 'Godzilla']"
      ]
     },
     "execution_count": 155,
     "metadata": {},
     "output_type": "execute_result"
    }
   ],
   "source": [
    "animals = ['  King Kong', '  Godzilla ', 'Gamera  ']\n",
    "[x.strip() for x in animals if 'i' in x]\n"
   ]
  },
  {
   "cell_type": "markdown",
   "metadata": {},
   "source": [
    "### Modifying Lists"
   ]
  },
  {
   "cell_type": "markdown",
   "metadata": {},
   "source": [
    "### 1- Adding"
   ]
  },
  {
   "cell_type": "code",
   "execution_count": 159,
   "metadata": {
    "collapsed": false,
    "jupyter": {
     "outputs_hidden": false
    }
   },
   "outputs": [
    {
     "data": {
      "text/plain": [
       "[1, 2, 3, 4, 5, 99]"
      ]
     },
     "execution_count": 159,
     "metadata": {},
     "output_type": "execute_result"
    }
   ],
   "source": [
    "first_list.append(99)\n",
    "first_list\n"
   ]
  },
  {
   "cell_type": "code",
   "execution_count": 161,
   "metadata": {
    "collapsed": false,
    "jupyter": {
     "outputs_hidden": false
    }
   },
   "outputs": [
    {
     "data": {
      "text/plain": [
       "[1, 2, 50, 3, 4, 5, 99]"
      ]
     },
     "execution_count": 161,
     "metadata": {},
     "output_type": "execute_result"
    }
   ],
   "source": [
    "first_list.insert(2,50)\n",
    "first_list\n"
   ]
  },
  {
   "cell_type": "code",
   "execution_count": 163,
   "metadata": {
    "collapsed": false,
    "jupyter": {
     "outputs_hidden": false
    }
   },
   "outputs": [
    {
     "data": {
      "text/plain": [
       "[1, 2, 50, 3, 4, 5, 99, 6, 7, 8]"
      ]
     },
     "execution_count": 163,
     "metadata": {},
     "output_type": "execute_result"
    }
   ],
   "source": [
    "first_list.extend([6,7,8])\n",
    "first_list\n"
   ]
  },
  {
   "cell_type": "code",
   "execution_count": 165,
   "metadata": {
    "collapsed": false,
    "jupyter": {
     "outputs_hidden": false
    }
   },
   "outputs": [
    {
     "data": {
      "text/plain": [
       "[1, 2, 3, 4, 5]"
      ]
     },
     "execution_count": 165,
     "metadata": {},
     "output_type": "execute_result"
    }
   ],
   "source": [
    "[1,2,3]+[4,5]"
   ]
  },
  {
   "cell_type": "code",
   "execution_count": 167,
   "metadata": {
    "collapsed": false,
    "jupyter": {
     "outputs_hidden": false
    }
   },
   "outputs": [
    {
     "data": {
      "text/plain": [
       "[1, 2, 50, 3, 4, 5, 99, 6, 7, 8]"
      ]
     },
     "execution_count": 167,
     "metadata": {},
     "output_type": "execute_result"
    }
   ],
   "source": [
    "first_list"
   ]
  },
  {
   "cell_type": "markdown",
   "metadata": {},
   "source": [
    "### 2- Removing"
   ]
  },
  {
   "cell_type": "code",
   "execution_count": 170,
   "metadata": {
    "collapsed": false,
    "jupyter": {
     "outputs_hidden": false
    }
   },
   "outputs": [
    {
     "data": {
      "text/plain": [
       "8"
      ]
     },
     "execution_count": 170,
     "metadata": {},
     "output_type": "execute_result"
    }
   ],
   "source": [
    "first_list.pop()"
   ]
  },
  {
   "cell_type": "code",
   "execution_count": 172,
   "metadata": {
    "collapsed": false,
    "jupyter": {
     "outputs_hidden": false
    }
   },
   "outputs": [
    {
     "data": {
      "text/plain": [
       "50"
      ]
     },
     "execution_count": 172,
     "metadata": {},
     "output_type": "execute_result"
    }
   ],
   "source": [
    "first_list.pop(2)"
   ]
  },
  {
   "cell_type": "code",
   "execution_count": 174,
   "metadata": {
    "collapsed": false,
    "jupyter": {
     "outputs_hidden": false
    }
   },
   "outputs": [
    {
     "data": {
      "text/plain": [
       "[1, 2, 3, 4, 5, 99, 6, 7]"
      ]
     },
     "execution_count": 174,
     "metadata": {},
     "output_type": "execute_result"
    }
   ],
   "source": [
    "first_list\n"
   ]
  },
  {
   "cell_type": "code",
   "execution_count": 176,
   "metadata": {
    "collapsed": false,
    "jupyter": {
     "outputs_hidden": false
    }
   },
   "outputs": [
    {
     "data": {
      "text/plain": [
       "[1, 2, 3, 4, 5, 6, 7]"
      ]
     },
     "execution_count": 176,
     "metadata": {},
     "output_type": "execute_result"
    }
   ],
   "source": [
    "first_list.remove(99)\n",
    "first_list\n"
   ]
  },
  {
   "cell_type": "code",
   "execution_count": 178,
   "metadata": {
    "collapsed": false,
    "jupyter": {
     "outputs_hidden": false
    }
   },
   "outputs": [
    {
     "data": {
      "text/plain": [
       "[1, 2, 3, 4, 5, 6, 7]"
      ]
     },
     "execution_count": 178,
     "metadata": {},
     "output_type": "execute_result"
    }
   ],
   "source": [
    "first_list"
   ]
  },
  {
   "cell_type": "code",
   "execution_count": 180,
   "metadata": {
    "collapsed": false,
    "jupyter": {
     "outputs_hidden": false
    }
   },
   "outputs": [
    {
     "ename": "ValueError",
     "evalue": "list.remove(x): x not in list",
     "output_type": "error",
     "traceback": [
      "\u001b[1;31m---------------------------------------------------------------------------\u001b[0m",
      "\u001b[1;31mValueError\u001b[0m                                Traceback (most recent call last)",
      "Cell \u001b[1;32mIn[180], line 1\u001b[0m\n\u001b[1;32m----> 1\u001b[0m first_list\u001b[38;5;241m.\u001b[39mremove(\u001b[38;5;241m10\u001b[39m)\n",
      "\u001b[1;31mValueError\u001b[0m: list.remove(x): x not in list"
     ]
    }
   ],
   "source": [
    "first_list.remove(10)"
   ]
  },
  {
   "cell_type": "markdown",
   "metadata": {},
   "source": [
    "### 3- copy"
   ]
  },
  {
   "cell_type": "code",
   "execution_count": 183,
   "metadata": {
    "collapsed": false,
    "jupyter": {
     "outputs_hidden": false
    }
   },
   "outputs": [
    {
     "data": {
      "text/plain": [
       "[1, 2]"
      ]
     },
     "execution_count": 183,
     "metadata": {},
     "output_type": "execute_result"
    }
   ],
   "source": [
    "## Not working:\n",
    "\n",
    "a = [1, 2, 3]\n",
    "b = a\n",
    "b.pop()\n",
    "a\n",
    "#output: [1, 2]\n"
   ]
  },
  {
   "cell_type": "code",
   "execution_count": 185,
   "metadata": {
    "collapsed": false,
    "jupyter": {
     "outputs_hidden": false
    }
   },
   "outputs": [
    {
     "data": {
      "text/plain": [
       "3"
      ]
     },
     "execution_count": 185,
     "metadata": {},
     "output_type": "execute_result"
    }
   ],
   "source": [
    "import copy\n",
    "a = [1, 2, 3]\n",
    "b = copy.copy(a)\n",
    "b.pop()\n"
   ]
  },
  {
   "cell_type": "code",
   "execution_count": 187,
   "metadata": {
    "collapsed": false,
    "jupyter": {
     "outputs_hidden": false
    }
   },
   "outputs": [
    {
     "data": {
      "text/plain": [
       "[1, 2, 3]"
      ]
     },
     "execution_count": 187,
     "metadata": {},
     "output_type": "execute_result"
    }
   ],
   "source": [
    "a"
   ]
  },
  {
   "cell_type": "code",
   "execution_count": 189,
   "metadata": {
    "collapsed": false,
    "jupyter": {
     "outputs_hidden": false
    }
   },
   "outputs": [
    {
     "data": {
      "text/plain": [
       "3"
      ]
     },
     "execution_count": 189,
     "metadata": {},
     "output_type": "execute_result"
    }
   ],
   "source": [
    "a = [1, 2, 3]\n",
    "b = a[:]\n",
    "b.pop()\n"
   ]
  },
  {
   "cell_type": "code",
   "execution_count": 191,
   "metadata": {
    "collapsed": false,
    "jupyter": {
     "outputs_hidden": false
    }
   },
   "outputs": [
    {
     "data": {
      "text/plain": [
       "[1, 2, 3]"
      ]
     },
     "execution_count": 191,
     "metadata": {},
     "output_type": "execute_result"
    }
   ],
   "source": [
    "a\n"
   ]
  },
  {
   "cell_type": "markdown",
   "metadata": {},
   "source": [
    "#### Common List Operations\n"
   ]
  },
  {
   "cell_type": "markdown",
   "metadata": {},
   "source": [
    "l.append(x) : Adds element x to the list at the end."
   ]
  },
  {
   "cell_type": "code",
   "execution_count": 195,
   "metadata": {},
   "outputs": [
    {
     "name": "stdout",
     "output_type": "stream",
     "text": [
      "[1, 2, 3, 4]\n"
     ]
    }
   ],
   "source": [
    "first_list = [1, 2, 3]\n",
    "first_list.append(4)\n",
    "print(first_list)  # Output: [1, 2, 3, 4]\n"
   ]
  },
  {
   "cell_type": "markdown",
   "metadata": {},
   "source": [
    "l.count(x): Counts how many times x appears in the list."
   ]
  },
  {
   "cell_type": "code",
   "execution_count": 198,
   "metadata": {},
   "outputs": [
    {
     "name": "stdout",
     "output_type": "stream",
     "text": [
      "3\n"
     ]
    }
   ],
   "source": [
    "first_list = [1, 2, 2, 3, 2]\n",
    "count = first_list.count(2)\n",
    "print(count)  # Output: 3\n"
   ]
  },
  {
   "cell_type": "markdown",
   "metadata": {},
   "source": [
    "l.index(x): Returns the index of the first occurrence of x in the list."
   ]
  },
  {
   "cell_type": "code",
   "execution_count": 201,
   "metadata": {},
   "outputs": [
    {
     "name": "stdout",
     "output_type": "stream",
     "text": [
      "2\n"
     ]
    }
   ],
   "source": [
    "first_list = [1, 2, 3, 4]\n",
    "index = first_list.index(3)\n",
    "print(index)  # Output: 2\n"
   ]
  },
  {
   "cell_type": "markdown",
   "metadata": {},
   "source": [
    "l.remove(x): Removes the first occurrence of x from the list."
   ]
  },
  {
   "cell_type": "code",
   "execution_count": 204,
   "metadata": {},
   "outputs": [
    {
     "name": "stdout",
     "output_type": "stream",
     "text": [
      "[1, 3, 2]\n"
     ]
    }
   ],
   "source": [
    "first_list = [1, 2, 3, 2]\n",
    "first_list.remove(2)\n",
    "print(first_list)  # Output: [1, 3, 2]"
   ]
  },
  {
   "cell_type": "markdown",
   "metadata": {},
   "source": [
    "l.reverse(): Reverses the order of the list."
   ]
  },
  {
   "cell_type": "code",
   "execution_count": 207,
   "metadata": {},
   "outputs": [
    {
     "name": "stdout",
     "output_type": "stream",
     "text": [
      "[3, 2, 1]\n"
     ]
    }
   ],
   "source": [
    "first_list = [1, 2, 3]\n",
    "first_list.reverse()\n",
    "print(first_list)  # Output: [3, 2, 1]\n"
   ]
  },
  {
   "cell_type": "markdown",
   "metadata": {},
   "source": [
    "l.sort(): Sorts the list in ascending order (in-place)."
   ]
  },
  {
   "cell_type": "code",
   "execution_count": 210,
   "metadata": {},
   "outputs": [
    {
     "name": "stdout",
     "output_type": "stream",
     "text": [
      "[1, 2, 3]\n"
     ]
    }
   ],
   "source": [
    "first_list = [3, 1, 2]\n",
    "first_list.sort()\n",
    "print(first_list)  # Output: [1, 2, 3]\n"
   ]
  },
  {
   "cell_type": "markdown",
   "metadata": {},
   "source": [
    "### Fun & Practical"
   ]
  },
  {
   "cell_type": "code",
   "execution_count": 213,
   "metadata": {},
   "outputs": [
    {
     "name": "stdout",
     "output_type": "stream",
     "text": [
      "['coin', 42, True, ['book', 'glasses'], '🐱', 'magic wand 🪄']\n"
     ]
    }
   ],
   "source": [
    "magic_bag = [\"coin\", 42, True, [\"book\", \"glasses\"], \"🐱\"]\n",
    "magic_bag.append(\"magic wand 🪄\")  # Adding a magic wand\n",
    "print(magic_bag)"
   ]
  },
  {
   "cell_type": "code",
   "execution_count": 215,
   "metadata": {},
   "outputs": [],
   "source": [
    "#✨ Now our bag is truly magical!"
   ]
  },
  {
   "cell_type": "code",
   "execution_count": 217,
   "metadata": {},
   "outputs": [
    {
     "data": {
      "text/plain": [
       "['bread', 'butter', 'eggs', 'milk']"
      ]
     },
     "execution_count": 217,
     "metadata": {},
     "output_type": "execute_result"
    }
   ],
   "source": [
    "shopping_list = [\"milk\", \"eggs\", \"bread\", \"apples\"]\n",
    "shopping_list.append(\"butter\")  # Adding butter to the list\n",
    "shopping_list.remove(\"apples\")  # Removing apples from the list\n",
    "shopping_list.sort()\n",
    "shopping_list"
   ]
  },
  {
   "cell_type": "code",
   "execution_count": 219,
   "metadata": {},
   "outputs": [
    {
     "data": {
      "text/plain": [
       "['milk', 'eggs', 'butter', 'bread']"
      ]
     },
     "execution_count": 219,
     "metadata": {},
     "output_type": "execute_result"
    }
   ],
   "source": [
    "shopping_list.reverse()\n",
    "shopping_list"
   ]
  },
  {
   "cell_type": "code",
   "execution_count": 221,
   "metadata": {},
   "outputs": [
    {
     "data": {
      "text/plain": [
       "['Ali', 'John', 'Hassan']"
      ]
     },
     "execution_count": 221,
     "metadata": {},
     "output_type": "execute_result"
    }
   ],
   "source": [
    "#The \"People Who Didn’t Do Their Exercises\" List\n",
    "students = [\"Ali\", \"Sara\", \"John\", \"Hassan\"]\n",
    "students.remove(\"Sara\")  # Removing Sara from the list! \n",
    "students"
   ]
  },
  {
   "cell_type": "markdown",
   "metadata": {},
   "source": [
    "## Tuples"
   ]
  },
  {
   "cell_type": "markdown",
   "metadata": {},
   "source": [
    "Tuples Are Immutable Lists\n",
    "- Immutable Lists: Tuples are ordered collections of items, but unlike lists, they cannot be changed after creation (they are \"immutable\").\n",
    "Tuples are defined using parentheses () instead of square brackets []."
   ]
  },
  {
   "cell_type": "code",
   "execution_count": 224,
   "metadata": {},
   "outputs": [],
   "source": [
    "point = (23, 56, 11)"
   ]
  },
  {
   "cell_type": "markdown",
   "metadata": {},
   "source": [
    "Single Element Tuple: For a tuple with only one element, use a trailing comma:"
   ]
  },
  {
   "cell_type": "code",
   "execution_count": 1,
   "metadata": {},
   "outputs": [],
   "source": [
    "alone_tuple = (5,)"
   ]
  },
  {
   "cell_type": "code",
   "execution_count": 2,
   "metadata": {},
   "outputs": [
    {
     "data": {
      "text/plain": [
       "tuple"
      ]
     },
     "execution_count": 2,
     "metadata": {},
     "output_type": "execute_result"
    }
   ],
   "source": [
    "type(alone_tuple)"
   ]
  },
  {
   "cell_type": "code",
   "execution_count": 226,
   "metadata": {
    "collapsed": false,
    "jupyter": {
     "outputs_hidden": false
    }
   },
   "outputs": [
    {
     "ename": "AttributeError",
     "evalue": "'tuple' object has no attribute 'append'",
     "output_type": "error",
     "traceback": [
      "\u001b[1;31m---------------------------------------------------------------------------\u001b[0m",
      "\u001b[1;31mAttributeError\u001b[0m                            Traceback (most recent call last)",
      "Cell \u001b[1;32mIn[226], line 1\u001b[0m\n\u001b[1;32m----> 1\u001b[0m point\u001b[38;5;241m.\u001b[39mappend(\u001b[38;5;241m3\u001b[39m)\n",
      "\u001b[1;31mAttributeError\u001b[0m: 'tuple' object has no attribute 'append'"
     ]
    }
   ],
   "source": [
    "point.append(3)"
   ]
  },
  {
   "cell_type": "code",
   "execution_count": 228,
   "metadata": {
    "collapsed": false,
    "jupyter": {
     "outputs_hidden": false
    }
   },
   "outputs": [
    {
     "ename": "AttributeError",
     "evalue": "'tuple' object has no attribute 'pop'",
     "output_type": "error",
     "traceback": [
      "\u001b[1;31m---------------------------------------------------------------------------\u001b[0m",
      "\u001b[1;31mAttributeError\u001b[0m                            Traceback (most recent call last)",
      "Cell \u001b[1;32mIn[228], line 1\u001b[0m\n\u001b[1;32m----> 1\u001b[0m point\u001b[38;5;241m.\u001b[39mpop()\n",
      "\u001b[1;31mAttributeError\u001b[0m: 'tuple' object has no attribute 'pop'"
     ]
    }
   ],
   "source": [
    "point.pop()"
   ]
  },
  {
   "cell_type": "markdown",
   "metadata": {},
   "source": [
    "Use in Functions and Dictionaries: Tuples are commonly used to return multiple values from a function or as dictionary keys."
   ]
  },
  {
   "cell_type": "code",
   "execution_count": 230,
   "metadata": {},
   "outputs": [
    {
     "name": "stdout",
     "output_type": "stream",
     "text": [
      "('BRCA1', 81189, 'DNA repair')\n",
      "Gene: BRCA1, Length: 81189 bp, Function: DNA repair\n"
     ]
    }
   ],
   "source": [
    "#A function in Python can return multiple values as a tuple.\n",
    "def get_gene_info():\n",
    "    \"\"\"\n",
    "    Returns gene information as a tuple:\n",
    "    - Gene name\n",
    "    - Gene length (in base pairs)\n",
    "    - Gene function\n",
    "    \"\"\"\n",
    "    gene_name = \"BRCA1\"\n",
    "    gene_length = 81189  # Base pairs\n",
    "    gene_function = \"DNA repair\"\n",
    "\n",
    "    return gene_name, gene_length, gene_function  # Returning a tuple\n",
    "\n",
    "# Calling the function\n",
    "gene_data = get_gene_info()\n",
    "print(gene_data)  \n",
    "# Output: ('BRCA1', 81189, 'DNA repair')\n",
    "\n",
    "# Unpacking the tuple\n",
    "name, length, function = get_gene_info()\n",
    "print(f\"Gene: {name}, Length: {length} bp, Function: {function}\")\n",
    "# Output: Gene: BRCA1, Length: 81189 bp, Function: DNA repair\n"
   ]
  },
  {
   "cell_type": "code",
   "execution_count": 232,
   "metadata": {},
   "outputs": [
    {
     "name": "stdout",
     "output_type": "stream",
     "text": [
      "Tehran\n"
     ]
    }
   ],
   "source": [
    "#Using Tuples as Dictionary Keys\n",
    "'''Dictionaries in Python require immutable types (such as numbers, strings, or tuples) as keys. \n",
    "Since lists are mutable, they cannot be used as dictionary keys.'''\n",
    "\n",
    "# Dictionary storing city names with their geographical coordinates\n",
    "locations = {\n",
    "    (35.6892, 51.3890): \"Tehran\",\n",
    "    (40.7128, -74.0060): \"New York\",\n",
    "    (48.8566, 2.3522): \"Paris\"\n",
    "}\n",
    "\n",
    "# Accessing a city by its coordinates\n",
    "print(locations[(35.6892, 51.3890)])  # Output: Tehran\n"
   ]
  },
  {
   "cell_type": "code",
   "execution_count": 234,
   "metadata": {},
   "outputs": [
    {
     "name": "stdout",
     "output_type": "stream",
     "text": [
      "{'Genome Size': '3.2 billion bp', 'Chromosomes': 23}\n"
     ]
    }
   ],
   "source": [
    "#Using Tuples as Dictionary Keys\n",
    "# Dictionary storing species information with (scientific name, taxonomic class) as a key\n",
    "#In biology, we often store species-related data. Tuples allow us to use multiple fixed attributes as dictionary keys.\n",
    "\n",
    "species_data = {\n",
    "    (\"Homo sapiens\", \"Mammal\"): {\"Genome Size\": \"3.2 billion bp\", \"Chromosomes\": 23},\n",
    "    (\"Escherichia coli\", \"Bacteria\"): {\"Genome Size\": \"4.6 million bp\", \"Chromosomes\": 1},\n",
    "    (\"Drosophila melanogaster\", \"Insect\"): {\"Genome Size\": \"140 million bp\", \"Chromosomes\": 4}\n",
    "}\n",
    "\n",
    "# Accessing information about humans\n",
    "print(species_data[(\"Homo sapiens\", \"Mammal\")])\n",
    "# Output: {'Genome Size': '3.2 billion bp', 'Chromosomes': 23}\n"
   ]
  },
  {
   "cell_type": "markdown",
   "metadata": {},
   "source": [
    "### Common Properties of the Sequences"
   ]
  },
  {
   "cell_type": "markdown",
   "metadata": {},
   "source": [
    "### 1. indexing"
   ]
  },
  {
   "cell_type": "markdown",
   "metadata": {},
   "source": [
    "Accessing Elements: Sequences like lists, tuples, and strings allow you to access their elements using indexes, which start from 0."
   ]
  },
  {
   "cell_type": "code",
   "execution_count": 237,
   "metadata": {},
   "outputs": [
    {
     "name": "stdout",
     "output_type": "stream",
     "text": [
      "23\n",
      "M\n",
      "Mm.248907\n"
     ]
    }
   ],
   "source": [
    "point = (23, 56, 11)\n",
    "print(point[0])  # 23\n",
    "sequence = \"MRVLLVALALLALAASATS\"\n",
    "print(sequence[0])  # 'M'\n",
    "parameters = ['UniGene', 'dna', 'Mm.248907', 5]\n",
    "print(parameters[2])  # 'Mm.248907'\n"
   ]
  },
  {
   "cell_type": "markdown",
   "metadata": {},
   "source": [
    "#### 2- Negative Indexing:\n",
    "You can also access elements from the end of the sequence by using negative indices."
   ]
  },
  {
   "cell_type": "code",
   "execution_count": 239,
   "metadata": {},
   "outputs": [
    {
     "name": "stdout",
     "output_type": "stream",
     "text": [
      "11\n"
     ]
    },
    {
     "data": {
      "text/plain": [
       "'T'"
      ]
     },
     "execution_count": 239,
     "metadata": {},
     "output_type": "execute_result"
    }
   ],
   "source": [
    "print(point[-1])  # 11\n",
    "sequence[-2]  # 'T'"
   ]
  },
  {
   "cell_type": "code",
   "execution_count": 241,
   "metadata": {
    "collapsed": false,
    "jupyter": {
     "outputs_hidden": false
    }
   },
   "outputs": [
    {
     "data": {
      "text/plain": [
       "23"
      ]
     },
     "execution_count": 241,
     "metadata": {},
     "output_type": "execute_result"
    }
   ],
   "source": [
    "point = (23, 56, 11)\n",
    "point[0]\n"
   ]
  },
  {
   "cell_type": "code",
   "execution_count": 243,
   "metadata": {
    "collapsed": false,
    "jupyter": {
     "outputs_hidden": false
    }
   },
   "outputs": [
    {
     "data": {
      "text/plain": [
       "56"
      ]
     },
     "execution_count": 243,
     "metadata": {},
     "output_type": "execute_result"
    }
   ],
   "source": [
    "point[1]\n"
   ]
  },
  {
   "cell_type": "code",
   "execution_count": 245,
   "metadata": {
    "collapsed": false,
    "jupyter": {
     "outputs_hidden": false
    }
   },
   "outputs": [
    {
     "data": {
      "text/plain": [
       "'M'"
      ]
     },
     "execution_count": 245,
     "metadata": {},
     "output_type": "execute_result"
    }
   ],
   "source": [
    "my_sequence = 'MRVLLVALALLALAASATS'\n",
    "my_sequence[0]\n"
   ]
  },
  {
   "cell_type": "code",
   "execution_count": 247,
   "metadata": {
    "collapsed": false,
    "jupyter": {
     "outputs_hidden": false
    }
   },
   "outputs": [
    {
     "data": {
      "text/plain": [
       "'V'"
      ]
     },
     "execution_count": 247,
     "metadata": {},
     "output_type": "execute_result"
    }
   ],
   "source": [
    "my_sequence[5]\n"
   ]
  },
  {
   "cell_type": "code",
   "execution_count": 249,
   "metadata": {
    "collapsed": false,
    "jupyter": {
     "outputs_hidden": false
    }
   },
   "outputs": [
    {
     "data": {
      "text/plain": [
       "'Mm.248907'"
      ]
     },
     "execution_count": 249,
     "metadata": {},
     "output_type": "execute_result"
    }
   ],
   "source": [
    "parameters = ['UniGene', 'dna', 'Mm.248907', 5]\n",
    "parameters[2]\n"
   ]
  },
  {
   "cell_type": "code",
   "execution_count": 251,
   "metadata": {
    "collapsed": false,
    "jupyter": {
     "outputs_hidden": false
    }
   },
   "outputs": [
    {
     "data": {
      "text/plain": [
       "11"
      ]
     },
     "execution_count": 251,
     "metadata": {},
     "output_type": "execute_result"
    }
   ],
   "source": [
    "point[-1]"
   ]
  },
  {
   "cell_type": "code",
   "execution_count": 253,
   "metadata": {
    "collapsed": false,
    "jupyter": {
     "outputs_hidden": false
    }
   },
   "outputs": [
    {
     "data": {
      "text/plain": [
       "56"
      ]
     },
     "execution_count": 253,
     "metadata": {},
     "output_type": "execute_result"
    }
   ],
   "source": [
    "point[-2]\n"
   ]
  },
  {
   "cell_type": "code",
   "execution_count": 255,
   "metadata": {
    "collapsed": false,
    "jupyter": {
     "outputs_hidden": false
    }
   },
   "outputs": [
    {
     "data": {
      "text/plain": [
       "'T'"
      ]
     },
     "execution_count": 255,
     "metadata": {},
     "output_type": "execute_result"
    }
   ],
   "source": [
    "my_sequence[-2]\n"
   ]
  },
  {
   "cell_type": "code",
   "execution_count": 257,
   "metadata": {
    "collapsed": false,
    "jupyter": {
     "outputs_hidden": false
    }
   },
   "outputs": [
    {
     "data": {
      "text/plain": [
       "'S'"
      ]
     },
     "execution_count": 257,
     "metadata": {},
     "output_type": "execute_result"
    }
   ],
   "source": [
    "my_sequence[-4]\n"
   ]
  },
  {
   "cell_type": "code",
   "execution_count": 259,
   "metadata": {
    "collapsed": false,
    "jupyter": {
     "outputs_hidden": false
    }
   },
   "outputs": [
    {
     "data": {
      "text/plain": [
       "'S'"
      ]
     },
     "execution_count": 259,
     "metadata": {},
     "output_type": "execute_result"
    }
   ],
   "source": [
    "my_sequence[-1]"
   ]
  },
  {
   "cell_type": "markdown",
   "metadata": {},
   "source": [
    "#### 3- Nested Sequences: \n",
    "If an element inside a sequence is itself a sequence, you can access it using multiple indexes. Example:"
   ]
  },
  {
   "cell_type": "code",
   "execution_count": 261,
   "metadata": {
    "collapsed": false,
    "jupyter": {
     "outputs_hidden": false
    }
   },
   "outputs": [
    {
     "data": {
      "text/plain": [
       "'V'"
      ]
     },
     "execution_count": 261,
     "metadata": {},
     "output_type": "execute_result"
    }
   ],
   "source": [
    "seqdata = ('MRVLLVALALLA', 12, '5FE9EEE8EE2DC2C7')\n",
    "seqdata[0][5]"
   ]
  },
  {
   "cell_type": "markdown",
   "metadata": {},
   "source": [
    "#### 4- Slicing: \n",
    "Selecting a Subsequence: You can use slicing to select a portion of a sequence. Slicing uses two indexes separated by a colon (:)."
   ]
  },
  {
   "cell_type": "code",
   "execution_count": 263,
   "metadata": {
    "collapsed": false,
    "jupyter": {
     "outputs_hidden": false
    }
   },
   "outputs": [
    {
     "data": {
      "text/plain": [
       "'Py'"
      ]
     },
     "execution_count": 263,
     "metadata": {},
     "output_type": "execute_result"
    }
   ],
   "source": [
    "my_sequence=\"Python\"\n",
    "my_sequence[0:2]\n"
   ]
  },
  {
   "cell_type": "markdown",
   "metadata": {},
   "source": [
    "#### 5- Omitting Indexes: \n",
    "If you omit the first index, it defaults to 0. If you omit the second index, it defaults to the last element (-1)."
   ]
  },
  {
   "cell_type": "code",
   "execution_count": 265,
   "metadata": {
    "collapsed": false,
    "jupyter": {
     "outputs_hidden": false
    }
   },
   "outputs": [
    {
     "data": {
      "text/plain": [
       "'Py'"
      ]
     },
     "execution_count": 265,
     "metadata": {},
     "output_type": "execute_result"
    }
   ],
   "source": [
    "my_sequence[:2]"
   ]
  },
  {
   "cell_type": "code",
   "execution_count": 267,
   "metadata": {
    "collapsed": false,
    "jupyter": {
     "outputs_hidden": false
    }
   },
   "outputs": [
    {
     "data": {
      "text/plain": [
       "'on'"
      ]
     },
     "execution_count": 267,
     "metadata": {},
     "output_type": "execute_result"
    }
   ],
   "source": [
    "my_sequence=\"Python\"\n",
    "my_sequence[4:6]\n"
   ]
  },
  {
   "cell_type": "code",
   "execution_count": 269,
   "metadata": {
    "collapsed": false,
    "jupyter": {
     "outputs_hidden": false
    }
   },
   "outputs": [
    {
     "data": {
      "text/plain": [
       "'on'"
      ]
     },
     "execution_count": 269,
     "metadata": {},
     "output_type": "execute_result"
    }
   ],
   "source": [
    "my_sequence[4:]\n"
   ]
  },
  {
   "cell_type": "code",
   "execution_count": 271,
   "metadata": {
    "collapsed": false,
    "jupyter": {
     "outputs_hidden": false
    }
   },
   "outputs": [
    {
     "data": {
      "text/plain": [
       "'ytho'"
      ]
     },
     "execution_count": 271,
     "metadata": {},
     "output_type": "execute_result"
    }
   ],
   "source": [
    "my_sequence[1:5]\n"
   ]
  },
  {
   "cell_type": "markdown",
   "metadata": {},
   "source": [
    "#### 6- Step Indexing: \n",
    "You can also skip positions using the step argument in slicing."
   ]
  },
  {
   "cell_type": "code",
   "execution_count": 273,
   "metadata": {
    "collapsed": false,
    "jupyter": {
     "outputs_hidden": false
    }
   },
   "outputs": [
    {
     "data": {
      "text/plain": [
       "'yh'"
      ]
     },
     "execution_count": 273,
     "metadata": {},
     "output_type": "execute_result"
    }
   ],
   "source": [
    "my_sequence[1:5:2]\n"
   ]
  },
  {
   "cell_type": "markdown",
   "metadata": {},
   "source": [
    "#### 7- Reversing a Sequence: \n",
    "Negative step values can be used to reverse a sequence."
   ]
  },
  {
   "cell_type": "markdown",
   "metadata": {},
   "source": [
    "Slicing Always Returns a New Sequence: Note that slicing creates a new sequence, leaving the original one unchanged."
   ]
  },
  {
   "cell_type": "markdown",
   "metadata": {},
   "source": [
    "For strings, since they are immutable, you cannot use reverse(). Instead, you use slicing to reverse a string. Therefore, to reverse strings, you should use slicing ([::-1]), but for lists, you can use the reverse() method."
   ]
  },
  {
   "cell_type": "code",
   "execution_count": 275,
   "metadata": {
    "collapsed": false,
    "jupyter": {
     "outputs_hidden": false
    }
   },
   "outputs": [
    {
     "data": {
      "text/plain": [
       "'nohtyP'"
      ]
     },
     "execution_count": 275,
     "metadata": {},
     "output_type": "execute_result"
    }
   ],
   "source": [
    "my_sequence[::-1]\n"
   ]
  },
  {
   "cell_type": "markdown",
   "metadata": {},
   "source": [
    "#### 8- Membership Test: \n",
    "You can verify if an element belongs to a sequence using the in keyword."
   ]
  },
  {
   "cell_type": "code",
   "execution_count": 277,
   "metadata": {
    "collapsed": false,
    "jupyter": {
     "outputs_hidden": false
    }
   },
   "outputs": [
    {
     "data": {
      "text/plain": [
       "True"
      ]
     },
     "execution_count": 277,
     "metadata": {},
     "output_type": "execute_result"
    }
   ],
   "source": [
    "point = (23, 56, 11)\n",
    "11 in point\n"
   ]
  },
  {
   "cell_type": "code",
   "execution_count": 279,
   "metadata": {
    "collapsed": false,
    "jupyter": {
     "outputs_hidden": false
    }
   },
   "outputs": [
    {
     "data": {
      "text/plain": [
       "False"
      ]
     },
     "execution_count": 279,
     "metadata": {},
     "output_type": "execute_result"
    }
   ],
   "source": [
    "my_sequence = 'MRVLLVALALLALAASATS'\n",
    "'X' in my_sequence\n"
   ]
  },
  {
   "cell_type": "markdown",
   "metadata": {},
   "source": [
    "#### 9- Concatenation Sequences: \n",
    "You can concatenate two or more sequences of the same type using the + operator."
   ]
  },
  {
   "cell_type": "markdown",
   "metadata": {},
   "source": [
    "Different Types Cannot Be Concatenated: Sequences of different types cannot be concatenated together."
   ]
  },
  {
   "cell_type": "code",
   "execution_count": 281,
   "metadata": {
    "collapsed": false,
    "jupyter": {
     "outputs_hidden": false
    }
   },
   "outputs": [
    {
     "data": {
      "text/plain": [
       "(23, 56, 11, 2, 6, 7)"
      ]
     },
     "execution_count": 281,
     "metadata": {},
     "output_type": "execute_result"
    }
   ],
   "source": [
    "point = (23, 56, 11)\n",
    "point2 = (2, 6, 7)\n",
    "point + point2\n"
   ]
  },
  {
   "cell_type": "code",
   "execution_count": 283,
   "metadata": {
    "collapsed": false,
    "jupyter": {
     "outputs_hidden": false
    }
   },
   "outputs": [
    {
     "data": {
      "text/plain": [
       "'TATAAAATGCTAGACGTCCTCAGATAGCCG'"
      ]
     },
     "execution_count": 283,
     "metadata": {},
     "output_type": "execute_result"
    }
   ],
   "source": [
    "dna_seq = 'ATGCTAGACGTCCTCAGATAGCCG'\n",
    "tata_box = 'TATAAA'\n",
    "tata_box + dna_seq\n"
   ]
  },
  {
   "cell_type": "code",
   "execution_count": 285,
   "metadata": {
    "collapsed": false,
    "jupyter": {
     "outputs_hidden": false
    }
   },
   "outputs": [
    {
     "ename": "TypeError",
     "evalue": "can only concatenate tuple (not \"str\") to tuple",
     "output_type": "error",
     "traceback": [
      "\u001b[1;31m---------------------------------------------------------------------------\u001b[0m",
      "\u001b[1;31mTypeError\u001b[0m                                 Traceback (most recent call last)",
      "Cell \u001b[1;32mIn[285], line 1\u001b[0m\n\u001b[1;32m----> 1\u001b[0m point \u001b[38;5;241m+\u001b[39m tata_box\n",
      "\u001b[1;31mTypeError\u001b[0m: can only concatenate tuple (not \"str\") to tuple"
     ]
    }
   ],
   "source": [
    "point + tata_box\n"
   ]
  },
  {
   "cell_type": "markdown",
   "metadata": {},
   "source": [
    "#### 10- Functions : len() : \n",
    "Returns the length (number of items) of a sequence."
   ]
  },
  {
   "cell_type": "code",
   "execution_count": 287,
   "metadata": {
    "collapsed": false,
    "jupyter": {
     "outputs_hidden": false
    }
   },
   "outputs": [
    {
     "data": {
      "text/plain": [
       "3"
      ]
     },
     "execution_count": 287,
     "metadata": {},
     "output_type": "execute_result"
    }
   ],
   "source": [
    "point = (23, 56, 11)\n",
    "len(point)\n"
   ]
  },
  {
   "cell_type": "markdown",
   "metadata": {},
   "source": [
    "#### 11- Functions: \n",
    "max() and min() : When applied to sequences of numbers, these functions return the maximum and minimum values respectively."
   ]
  },
  {
   "cell_type": "code",
   "execution_count": 289,
   "metadata": {
    "collapsed": false,
    "jupyter": {
     "outputs_hidden": false
    }
   },
   "outputs": [
    {
     "data": {
      "text/plain": [
       "19"
      ]
     },
     "execution_count": 289,
     "metadata": {},
     "output_type": "execute_result"
    }
   ],
   "source": [
    "my_sequence = 'MRVLLVALALLALAASATS'\n",
    "len(my_sequence)\n"
   ]
  },
  {
   "cell_type": "code",
   "execution_count": 291,
   "metadata": {
    "collapsed": false,
    "jupyter": {
     "outputs_hidden": false
    }
   },
   "outputs": [
    {
     "data": {
      "text/plain": [
       "(23, 56, 11)"
      ]
     },
     "execution_count": 291,
     "metadata": {},
     "output_type": "execute_result"
    }
   ],
   "source": [
    "point\n"
   ]
  },
  {
   "cell_type": "code",
   "execution_count": 293,
   "metadata": {
    "collapsed": false,
    "jupyter": {
     "outputs_hidden": false
    }
   },
   "outputs": [
    {
     "data": {
      "text/plain": [
       "56"
      ]
     },
     "execution_count": 293,
     "metadata": {},
     "output_type": "execute_result"
    }
   ],
   "source": [
    "max(point)\n"
   ]
  },
  {
   "cell_type": "code",
   "execution_count": 295,
   "metadata": {
    "collapsed": false,
    "jupyter": {
     "outputs_hidden": false
    }
   },
   "outputs": [
    {
     "data": {
      "text/plain": [
       "11"
      ]
     },
     "execution_count": 295,
     "metadata": {},
     "output_type": "execute_result"
    }
   ],
   "source": [
    "min(point)\n"
   ]
  },
  {
   "cell_type": "code",
   "execution_count": 297,
   "metadata": {
    "collapsed": false,
    "jupyter": {
     "outputs_hidden": false
    }
   },
   "outputs": [
    {
     "data": {
      "text/plain": [
       "'V'"
      ]
     },
     "execution_count": 297,
     "metadata": {},
     "output_type": "execute_result"
    }
   ],
   "source": [
    "my_sequence = 'MRVLLVALALLALAASATS'\n",
    "max(my_sequence)\n"
   ]
  },
  {
   "cell_type": "code",
   "execution_count": 299,
   "metadata": {
    "collapsed": false,
    "jupyter": {
     "outputs_hidden": false
    }
   },
   "outputs": [
    {
     "data": {
      "text/plain": [
       "'A'"
      ]
     },
     "execution_count": 299,
     "metadata": {},
     "output_type": "execute_result"
    }
   ],
   "source": [
    "min(my_sequence)\n"
   ]
  },
  {
   "cell_type": "markdown",
   "metadata": {},
   "source": [
    "#### 12- Turning a Sequence into a List (Convert to List): \n",
    "To convert a sequence (like a tuple or string) into a list, use the list() function."
   ]
  },
  {
   "cell_type": "code",
   "execution_count": 301,
   "metadata": {
    "collapsed": false,
    "jupyter": {
     "outputs_hidden": false
    }
   },
   "outputs": [
    {
     "data": {
      "text/plain": [
       "['T', 'A', 'T', 'A', 'A', 'A']"
      ]
     },
     "execution_count": 301,
     "metadata": {},
     "output_type": "execute_result"
    }
   ],
   "source": [
    "tata_box = 'TATAAA'\n",
    "list(tata_box)\n"
   ]
  },
  {
   "cell_type": "markdown",
   "metadata": {},
   "source": [
    "### Fun & Practical"
   ]
  },
  {
   "cell_type": "markdown",
   "metadata": {},
   "source": [
    "- Real-Life Example: Supermarket Invoice\n",
    "Imagine you buy items from a supermarket, and your receipt contains item name, price, and quantity.\n",
    "Since this information doesn’t change, a tuple is the best choice!"
   ]
  },
  {
   "cell_type": "code",
   "execution_count": 304,
   "metadata": {},
   "outputs": [
    {
     "name": "stdout",
     "output_type": "stream",
     "text": [
      "Item: Milk, Price: 30000, Quantity: 2\n",
      "Item: Bread, Price: 10000, Quantity: 1\n",
      "Item: Eggs, Price: 40000, Quantity: 1\n"
     ]
    }
   ],
   "source": [
    "# Example1 : Real-Life Example: Supermarket Invoice\n",
    "item1 = (\"Milk\", 30_000, 2)\n",
    "item2 = (\"Bread\", 10_000, 1)\n",
    "item3 = (\"Eggs\", 40_000, 1)\n",
    "\n",
    "# Invoice: A list of tuples (because invoices can have multiple items)\n",
    "invoice = [item1, item2, item3]\n",
    "\n",
    "# Display the invoice\n",
    "for item in invoice:\n",
    "    print(f\"Item: {item[0]}, Price: {item[1]}, Quantity: {item[2]}\")\n"
   ]
  },
  {
   "cell_type": "markdown",
   "metadata": {},
   "source": [
    "- Funny Example: Mom’s Favorites\n",
    "- Moms never change their favorite things! So let’s store mom’s unchangeable favorites in a tuple."
   ]
  },
  {
   "cell_type": "code",
   "execution_count": 306,
   "metadata": {},
   "outputs": [
    {
     "name": "stdout",
     "output_type": "stream",
     "text": [
      "Things my mom always loves: ('Tea', 'Turkish Drama', 'Complaining About You', 'Trips to the Beach')\n",
      "First favorite: Tea\n"
     ]
    }
   ],
   "source": [
    "#Funny Example: Mom’s Favorites\n",
    "mom_favorites = (\"Tea\", \"Turkish Drama\", \"Complaining About You\", \"Trips to the Beach\")\n",
    "\n",
    "print(f\"Things my mom always loves: {mom_favorites}\")\n",
    "print(f\"First favorite: {mom_favorites[0]}\")\n"
   ]
  },
  {
   "cell_type": "code",
   "execution_count": 308,
   "metadata": {},
   "outputs": [
    {
     "name": "stdout",
     "output_type": "stream",
     "text": [
      "('Pizza', 'Kebab', 'Pasta')\n",
      "['Tomato', 'Cucumber', 'Rice', 'Tea']\n"
     ]
    }
   ],
   "source": [
    "#Tuples vs. Lists\n",
    "# Tuple (Fixed)\n",
    "favorite_foods = (\"Pizza\", \"Kebab\", \"Pasta\")\n",
    "\n",
    "# List (Changeable)\n",
    "shopping_list = [\"Tomato\", \"Cucumber\", \"Rice\"]\n",
    "shopping_list.append(\"Tea\")  # ✅ Allowed\n",
    "# favorite_foods.append(\"Soup\")  # ❌ Error! Tuples can't be modified\n",
    "print(favorite_foods)\n",
    "print(shopping_list)"
   ]
  },
  {
   "cell_type": "markdown",
   "metadata": {},
   "source": [
    "## Dictionaries"
   ]
  },
  {
   "cell_type": "markdown",
   "metadata": {},
   "source": [
    "Mapping: Calling Each Value by a Name"
   ]
  },
  {
   "cell_type": "markdown",
   "metadata": {},
   "source": [
    "A dictionary is a key-value data structure that stores unordered, indexed data.\n",
    "Unlike lists and tuples, dictionaries don’t use numerical indexes, but rather keys to access values."
   ]
  },
  {
   "cell_type": "code",
   "execution_count": 7,
   "metadata": {},
   "outputs": [],
   "source": [
    "#my_dict = {key1: value1, key2: value2}"
   ]
  },
  {
   "cell_type": "markdown",
   "metadata": {},
   "source": [
    "Keys must be immutable (e.g., strings, numbers, tuples)."
   ]
  },
  {
   "cell_type": "markdown",
   "metadata": {},
   "source": [
    "Think of a dictionary as a biological codon table, mapping codons (keys) to amino acids (values)."
   ]
  },
  {
   "cell_type": "code",
   "execution_count": 311,
   "metadata": {},
   "outputs": [
    {
     "name": "stdout",
     "output_type": "stream",
     "text": [
      "AUG codes for Methionine\n"
     ]
    }
   ],
   "source": [
    "codon_table = {\n",
    "    \"AUG\": \"Methionine\",\n",
    "    \"UUU\": \"Phenylalanine\",\n",
    "    \"UUC\": \"Phenylalanine\",\n",
    "}\n",
    "\n",
    "print(f\"AUG codes for {codon_table['AUG']}\")\n"
   ]
  },
  {
   "cell_type": "markdown",
   "metadata": {},
   "source": [
    "### Creating a Dictionary"
   ]
  },
  {
   "cell_type": "markdown",
   "metadata": {},
   "source": [
    "#### 1- Directly Using {}"
   ]
  },
  {
   "cell_type": "code",
   "execution_count": 313,
   "metadata": {
    "collapsed": false,
    "jupyter": {
     "outputs_hidden": false
    }
   },
   "outputs": [
    {
     "name": "stdout",
     "output_type": "stream",
     "text": [
      "C stands for the amino acid Cys\n"
     ]
    }
   ],
   "source": [
    "#iupac : International Union of Pure and Applied Chemistry\n",
    "iupac = {'A':'Ala','C':'Cys','E':'Glu'}\n",
    "print('C stands for the amino acid {0}'.format(iupac['C']))\n"
   ]
  },
  {
   "cell_type": "code",
   "execution_count": 315,
   "metadata": {
    "collapsed": false,
    "jupyter": {
     "outputs_hidden": false
    }
   },
   "outputs": [
    {
     "data": {
      "text/plain": [
       "'Glu'"
      ]
     },
     "execution_count": 315,
     "metadata": {},
     "output_type": "execute_result"
    }
   ],
   "source": [
    "iupac['E']\n"
   ]
  },
  {
   "cell_type": "markdown",
   "metadata": {},
   "source": [
    "#### 2- Using dict()"
   ]
  },
  {
   "cell_type": "code",
   "execution_count": 317,
   "metadata": {
    "collapsed": false,
    "jupyter": {
     "outputs_hidden": false
    }
   },
   "outputs": [
    {
     "data": {
      "text/plain": [
       "{'red': 'ff0000', 'green': '00ff00', 'blue': '0000ff'}"
      ]
     },
     "execution_count": 317,
     "metadata": {},
     "output_type": "execute_result"
    }
   ],
   "source": [
    "rgb = [('red','ff0000'), ('green','00ff00'), ('blue','0000ff')]\n",
    "colors_d = dict(rgb)\n",
    "colors_d\n"
   ]
  },
  {
   "cell_type": "code",
   "execution_count": 319,
   "metadata": {
    "collapsed": false,
    "jupyter": {
     "outputs_hidden": false
    }
   },
   "outputs": [
    {
     "data": {
      "text/plain": [
       "{'red': 'ff0000', 'green': '00ff00', 'blue': '0000ff'}"
      ]
     },
     "execution_count": 319,
     "metadata": {},
     "output_type": "execute_result"
    }
   ],
   "source": [
    "rgb = dict(red='ff0000', green='00ff00', blue='0000ff')\n",
    "rgb\n"
   ]
  },
  {
   "cell_type": "markdown",
   "metadata": {},
   "source": [
    "#### 3- Creating an Empty Dictionary"
   ]
  },
  {
   "cell_type": "code",
   "execution_count": 321,
   "metadata": {
    "collapsed": false,
    "jupyter": {
     "outputs_hidden": false
    }
   },
   "outputs": [
    {
     "data": {
      "text/plain": [
       "{'red': 'ff0000', 'green': '00ff00'}"
      ]
     },
     "execution_count": 321,
     "metadata": {},
     "output_type": "execute_result"
    }
   ],
   "source": [
    "rgb = {}\n",
    "rgb['red'] = 'ff0000'\n",
    "rgb['green'] = '00ff00'\n",
    "rgb\n"
   ]
  },
  {
   "cell_type": "markdown",
   "metadata": {},
   "source": [
    "##### for list ?\n",
    "- The error occurs because you're trying to assign a value to an index (l1[0]) in an empty list (l1 = []). In Python, you cannot assign a value to an index that doesn't exist."
   ]
  },
  {
   "cell_type": "markdown",
   "metadata": {},
   "source": [
    "Unlike lists, dictionaries don't require a predefined structure. You can add keys at any time."
   ]
  },
  {
   "cell_type": "code",
   "execution_count": 8,
   "metadata": {},
   "outputs": [
    {
     "ename": "IndexError",
     "evalue": "list assignment index out of range",
     "output_type": "error",
     "traceback": [
      "\u001b[1;31m---------------------------------------------------------------------------\u001b[0m",
      "\u001b[1;31mIndexError\u001b[0m                                Traceback (most recent call last)",
      "Cell \u001b[1;32mIn[8], line 2\u001b[0m\n\u001b[0;32m      1\u001b[0m l1 \u001b[38;5;241m=\u001b[39m []\n\u001b[1;32m----> 2\u001b[0m \u001b[43ml1\u001b[49m\u001b[43m[\u001b[49m\u001b[38;5;241;43m0\u001b[39;49m\u001b[43m]\u001b[49m \u001b[38;5;241m=\u001b[39m \u001b[38;5;124m'\u001b[39m\u001b[38;5;124mff0000\u001b[39m\u001b[38;5;124m'\u001b[39m\n\u001b[0;32m      3\u001b[0m l1[\u001b[38;5;241m1\u001b[39m] \u001b[38;5;241m=\u001b[39m \u001b[38;5;124m'\u001b[39m\u001b[38;5;124m00ff00\u001b[39m\u001b[38;5;124m'\u001b[39m\n\u001b[0;32m      4\u001b[0m l1\n",
      "\u001b[1;31mIndexError\u001b[0m: list assignment index out of range"
     ]
    }
   ],
   "source": [
    "l1 = []\n",
    "l1[0] = 'ff0000'\n",
    "l1[1] = '00ff00'\n",
    "l1\n"
   ]
  },
  {
   "cell_type": "code",
   "execution_count": 11,
   "metadata": {},
   "outputs": [
    {
     "name": "stdout",
     "output_type": "stream",
     "text": [
      "['ff0000', '00ff00']\n"
     ]
    }
   ],
   "source": [
    "l1 = []\n",
    "l1.append('ff0000')\n",
    "l1.append('00ff00')\n",
    "print(l1)  # Output: ['ff0000', '00ff00']"
   ]
  },
  {
   "cell_type": "code",
   "execution_count": 10,
   "metadata": {},
   "outputs": [
    {
     "name": "stdout",
     "output_type": "stream",
     "text": [
      "['ff0000', '00ff00']\n"
     ]
    }
   ],
   "source": [
    "l1 = [\"\"] * 2  # Creates a list with two empty strings\n",
    "l1[0] = 'ff0000'\n",
    "l1[1] = '00ff00'\n",
    "print(l1)  # Output: ['ff0000', '00ff00']"
   ]
  },
  {
   "cell_type": "code",
   "execution_count": 12,
   "metadata": {},
   "outputs": [
    {
     "name": "stdout",
     "output_type": "stream",
     "text": [
      "['ff0000', '00ff00']\n"
     ]
    }
   ],
   "source": [
    "l1 = []\n",
    "l1.insert(0, 'ff0000')\n",
    "l1.insert(1, '00ff00')\n",
    "print(l1)  # Output: ['ff0000', '00ff00']\n"
   ]
  },
  {
   "cell_type": "code",
   "execution_count": 323,
   "metadata": {},
   "outputs": [
    {
     "data": {
      "text/plain": [
       "{'Ala': 89.1, 'Cys': 121.2}"
      ]
     },
     "execution_count": 323,
     "metadata": {},
     "output_type": "execute_result"
    }
   ],
   "source": [
    "protein_weights = {}\n",
    "protein_weights[\"Ala\"] = 89.1\n",
    "protein_weights[\"Cys\"] = 121.2\n",
    "protein_weights"
   ]
  },
  {
   "cell_type": "markdown",
   "metadata": {},
   "source": [
    "### Accessing Values in a Dictionary"
   ]
  },
  {
   "cell_type": "code",
   "execution_count": 325,
   "metadata": {},
   "outputs": [
    {
     "name": "stdout",
     "output_type": "stream",
     "text": [
      "Cys\n"
     ]
    }
   ],
   "source": [
    "iupac = {\"A\": \"Ala\", \"C\": \"Cys\", \"E\": \"Glu\"}\n",
    "print(iupac[\"C\"])  # Output: Cys\n"
   ]
  },
  {
   "cell_type": "markdown",
   "metadata": {},
   "source": [
    "- .get()\n",
    "- If the key doesn’t exist, Python throws an error!\n",
    "Use .get() to avoid errors:"
   ]
  },
  {
   "cell_type": "code",
   "execution_count": 327,
   "metadata": {},
   "outputs": [
    {
     "name": "stdout",
     "output_type": "stream",
     "text": [
      "Cys\n",
      "Unknown\n"
     ]
    }
   ],
   "source": [
    "# ⚠ If the key doesn’t exist, Python throws an error!\n",
    "#✔ Use .get() to avoid errors:\n",
    "#print(iupac[\"X\"]) #KeyError: 'X'\n",
    "print(iupac.get(\"C\", \"Unknown\"))\n",
    "print(iupac.get(\"X\", \"Unknown\"))  # Output: Unknown"
   ]
  },
  {
   "cell_type": "markdown",
   "metadata": {},
   "source": [
    "### Adding & Updating Values"
   ]
  },
  {
   "cell_type": "markdown",
   "metadata": {},
   "source": [
    "Dictionaries automatically update the key’s value if it already exists."
   ]
  },
  {
   "cell_type": "code",
   "execution_count": 329,
   "metadata": {},
   "outputs": [
    {
     "data": {
      "text/plain": [
       "{'A': 'Alanine', 'C': 'Cys', 'E': 'Glu', 'S': 'Ser'}"
      ]
     },
     "execution_count": 329,
     "metadata": {},
     "output_type": "execute_result"
    }
   ],
   "source": [
    "iupac = {\"A\": \"Ala\", \"C\": \"Cys\", \"E\": \"Glu\"}\n",
    "iupac[\"S\"] = \"Ser\"  # Add new entry\n",
    "iupac[\"A\"] = \"Alanine\"  # Update existing entry\n",
    "iupac"
   ]
  },
  {
   "cell_type": "markdown",
   "metadata": {},
   "source": [
    "### Removing Elements"
   ]
  },
  {
   "cell_type": "markdown",
   "metadata": {},
   "source": [
    ".pop() removes an element safely without breaking the program."
   ]
  },
  {
   "cell_type": "code",
   "execution_count": 331,
   "metadata": {},
   "outputs": [
    {
     "name": "stdout",
     "output_type": "stream",
     "text": [
      "Alanine\n"
     ]
    },
    {
     "data": {
      "text/plain": [
       "{'C': 'Cys', 'E': 'Glu', 'S': 'Ser'}"
      ]
     },
     "execution_count": 331,
     "metadata": {},
     "output_type": "execute_result"
    }
   ],
   "source": [
    "iupac = {'A': 'Alanine', 'C': 'Cys', 'E': 'Glu', 'S': 'Ser'}\n",
    "a = iupac.pop(\"A\")  # Removes 'A' from the dictionary\n",
    "print(a)\n",
    "iupac"
   ]
  },
  {
   "cell_type": "markdown",
   "metadata": {},
   "source": [
    "### Checking Membership"
   ]
  },
  {
   "cell_type": "code",
   "execution_count": 333,
   "metadata": {},
   "outputs": [
    {
     "name": "stdout",
     "output_type": "stream",
     "text": [
      "True\n",
      "False\n"
     ]
    }
   ],
   "source": [
    "print(\"C\" in iupac)  # Output: True\n",
    "print(\"X\" in iupac)  # Output: False"
   ]
  },
  {
   "cell_type": "markdown",
   "metadata": {},
   "source": [
    "### Countinmg Elements in a Dictionary"
   ]
  },
  {
   "cell_type": "code",
   "execution_count": 335,
   "metadata": {},
   "outputs": [
    {
     "name": "stdout",
     "output_type": "stream",
     "text": [
      "3\n"
     ]
    }
   ],
   "source": [
    "iupac = {\"A\": \"Ala\", \"C\": \"Cys\", \"E\": \"Glu\"}\n",
    "print(len(iupac))  # Output: 3"
   ]
  },
  {
   "cell_type": "markdown",
   "metadata": {},
   "source": [
    "### Dictionary Order in Python"
   ]
  },
  {
   "cell_type": "markdown",
   "metadata": {},
   "source": [
    "From Python 3.7 onwards, dictionaries preserve insertion order, meaning elements appear in the order they were added!"
   ]
  },
  {
   "cell_type": "code",
   "execution_count": 337,
   "metadata": {},
   "outputs": [
    {
     "name": "stdout",
     "output_type": "stream",
     "text": [
      "Python 3.12.4\n"
     ]
    }
   ],
   "source": [
    "!python --version"
   ]
  },
  {
   "cell_type": "code",
   "execution_count": 339,
   "metadata": {},
   "outputs": [
    {
     "name": "stdout",
     "output_type": "stream",
     "text": [
      "OrderedDict({'A': 'Ala', 'C': 'Cys', 'E': 'Glu'})\n"
     ]
    }
   ],
   "source": [
    "#Before Python 3.7, dictionaries were unordered. (ordered_iupac = OrderedDict())\n",
    "#not use these code if your python updated ! (!python --version)\n",
    "from collections import OrderedDict\n",
    "\n",
    "ordered_iupac = OrderedDict()\n",
    "ordered_iupac[\"A\"] = \"Ala\"\n",
    "ordered_iupac[\"C\"] = \"Cys\"\n",
    "ordered_iupac[\"E\"] = \"Glu\"\n",
    "\n",
    "print(ordered_iupac)\n",
    "# Output: OrderedDict([('A', 'Ala'), ('C', 'Cys'), ('E', 'Glu')])\n"
   ]
  },
  {
   "cell_type": "code",
   "execution_count": 341,
   "metadata": {},
   "outputs": [
    {
     "name": "stdout",
     "output_type": "stream",
     "text": [
      "{'S': 'Ser', 'A': 'Ala', 'E': 'Glu', 'C': 'Cys'}\n"
     ]
    }
   ],
   "source": [
    "#Dictionary Order in Python\n",
    "#Dictionaries are not sorted automatically; they only maintain the order of insertion.\n",
    "iupac = { 'S': 'Ser', \"A\": \"Ala\",\"E\": \"Glu\", \"C\": \"Cys\"}\n",
    "print(iupac)"
   ]
  },
  {
   "cell_type": "markdown",
   "metadata": {},
   "source": [
    "### Sorting a Dictionary"
   ]
  },
  {
   "cell_type": "code",
   "execution_count": 343,
   "metadata": {},
   "outputs": [
    {
     "name": "stdout",
     "output_type": "stream",
     "text": [
      "dict_items([('S', 'Ser'), ('A', 'Ala'), ('E', 'Glu'), ('C', 'Cys')])\n",
      "{'A': 'Ala', 'C': 'Cys', 'E': 'Glu', 'S': 'Ser'}\n"
     ]
    }
   ],
   "source": [
    "#Sorting a Dictionary\n",
    "#Sort by key:\n",
    "iupac = { 'S': 'Ser', \"A\": \"Ala\",\"E\": \"Glu\", \"C\": \"Cys\"}\n",
    "print(iupac.items())\n",
    "sorted_iupac = dict(sorted(iupac.items())) #By default, sorted() sorts elements by the first value (key).\n",
    "print(sorted_iupac)  "
   ]
  },
  {
   "cell_type": "code",
   "execution_count": 345,
   "metadata": {},
   "outputs": [
    {
     "name": "stdout",
     "output_type": "stream",
     "text": [
      "{'C': 'Cys', 'E': 'Glu', 'S': 'Ser', 'A': 'XAla'}\n"
     ]
    }
   ],
   "source": [
    "#Sorting a Dictionary\n",
    "#Sort by value:\n",
    "iupac = { 'S': 'Ser', \"A\": \"XAla\",\"E\": \"Glu\", \"C\": \"Cys\"}\n",
    "sorted_by_value = dict(sorted(iupac.items(), key=lambda x: x[1]))\n",
    "print(sorted_by_value)  "
   ]
  },
  {
   "cell_type": "code",
   "execution_count": 347,
   "metadata": {
    "collapsed": false,
    "jupyter": {
     "outputs_hidden": false
    }
   },
   "outputs": [
    {
     "data": {
      "text/plain": [
       "{'A': 'Ala', 'C': 'Cys', 'E': 'Glu', 'X': 'Xaa'}"
      ]
     },
     "execution_count": 347,
     "metadata": {},
     "output_type": "execute_result"
    }
   ],
   "source": [
    "iupac = {'A':'Ala','C':'Cys','E':'Glu'}\n",
    "iupac['X'] = 'Xaa'\n",
    "iupac"
   ]
  },
  {
   "cell_type": "markdown",
   "metadata": {},
   "source": [
    "### Dictionary Keys and Values"
   ]
  },
  {
   "cell_type": "markdown",
   "metadata": {},
   "source": [
    "- Dictionaries store data in key-value pairs\n",
    "- Use .keys() and .values() to retrieve them\n",
    "- These methods return dictionary views (not lists!)\n",
    "- Dictionary views update automatically if the dictionary changes."
   ]
  },
  {
   "cell_type": "code",
   "execution_count": 349,
   "metadata": {
    "collapsed": false,
    "jupyter": {
     "outputs_hidden": false
    }
   },
   "outputs": [
    {
     "name": "stdout",
     "output_type": "stream",
     "text": [
      "dict_keys(['E', 'X', 'C', 'A'])\n",
      "dict_values(['Glu', 'Xaa', 'Cys', 'Ala'])\n"
     ]
    }
   ],
   "source": [
    "iupac = {'E': 'Glu', 'X': 'Xaa', 'C': 'Cys', 'A': 'Ala'}\n",
    "print(iupac.keys())   # dict_keys(['E', 'X', 'C', 'A'])\n",
    "print(iupac.values()) # dict_values(['Glu', 'Xaa', 'Cys', 'Ala'])\n"
   ]
  },
  {
   "cell_type": "code",
   "execution_count": 351,
   "metadata": {},
   "outputs": [
    {
     "name": "stdout",
     "output_type": "stream",
     "text": [
      "dict_keys(['E', 'X', 'C', 'A'])\n",
      "dict_values(['Glu', 'Xaa', 'Cys', 'Ala'])\n",
      "dict_keys(['E', 'C', 'A'])\n",
      "dict_values(['Glu', 'Cys', 'Ala'])\n"
     ]
    }
   ],
   "source": [
    "#dictionary view\n",
    "iupac = {'E': 'Glu', 'X': 'Xaa', 'C': 'Cys', 'A': 'Ala'}\n",
    "iupac_keys = iupac.keys()  # output type: dict_keys\n",
    "iupac_values = iupac.values()  # output type: dict_values\n",
    "\n",
    "print(iupac_keys)   # dict_keys(['E', 'X', 'C', 'A'])\n",
    "print(iupac_values) # dict_values(['Glu', 'Xaa', 'Cys', 'Ala'])\n",
    "\n",
    "# Remove a value from the dictionary\n",
    "iupac.pop('X')\n",
    "\n",
    "print(iupac_keys)   # dict_keys(['E', 'C', 'A'])  → Changed!\n",
    "print(iupac_values) # dict_values(['Glu', 'Cys', 'Ala'])  → Changed!\n"
   ]
  },
  {
   "cell_type": "markdown",
   "metadata": {},
   "source": [
    "### convert Dictionary Views to list"
   ]
  },
  {
   "cell_type": "code",
   "execution_count": 353,
   "metadata": {},
   "outputs": [
    {
     "name": "stdout",
     "output_type": "stream",
     "text": [
      "['E', 'C', 'A']\n",
      "['Glu', 'Cys', 'Ala']\n"
     ]
    }
   ],
   "source": [
    "#convert dictionary view to list:\n",
    "keys_list = list(iupac.keys())\n",
    "values_list = list(iupac.values())\n",
    "print(keys_list)   # ['E', 'C', 'A']\n",
    "print(values_list) # ['Glu', 'Cys', 'Ala']\n"
   ]
  },
  {
   "cell_type": "code",
   "execution_count": 355,
   "metadata": {
    "collapsed": false,
    "jupyter": {
     "outputs_hidden": false
    }
   },
   "outputs": [
    {
     "data": {
      "text/plain": [
       "'Xaa'"
      ]
     },
     "execution_count": 355,
     "metadata": {},
     "output_type": "execute_result"
    }
   ],
   "source": [
    "iupac = {'A': 'Ala', 'C': 'Cys', 'E': 'Glu', 'X': 'Xaa'}\n",
    "iupac_keys = iupac.keys()\n",
    "iupac_vals = iupac.values()\n",
    "iupac.pop('X')"
   ]
  },
  {
   "cell_type": "code",
   "execution_count": 357,
   "metadata": {
    "collapsed": false,
    "jupyter": {
     "outputs_hidden": false
    }
   },
   "outputs": [
    {
     "data": {
      "text/plain": [
       "dict_keys(['A', 'C', 'E'])"
      ]
     },
     "execution_count": 357,
     "metadata": {},
     "output_type": "execute_result"
    }
   ],
   "source": [
    "iupac_keys\n"
   ]
  },
  {
   "cell_type": "code",
   "execution_count": 359,
   "metadata": {
    "collapsed": false,
    "jupyter": {
     "outputs_hidden": false
    }
   },
   "outputs": [
    {
     "data": {
      "text/plain": [
       "dict_values(['Ala', 'Cys', 'Glu'])"
      ]
     },
     "execution_count": 359,
     "metadata": {},
     "output_type": "execute_result"
    }
   ],
   "source": [
    "iupac_vals\n"
   ]
  },
  {
   "cell_type": "markdown",
   "metadata": {},
   "source": [
    "### Accessing Key-Value Pairs\n",
    "Use .items() to get a list of (key, value) tuples"
   ]
  },
  {
   "cell_type": "code",
   "execution_count": 361,
   "metadata": {
    "collapsed": false,
    "jupyter": {
     "outputs_hidden": false
    }
   },
   "outputs": [
    {
     "data": {
      "text/plain": [
       "dict_items([('E', 'Glu'), ('X', 'Xaa'), ('C', 'Cys'), ('A', 'Ala')])"
      ]
     },
     "execution_count": 361,
     "metadata": {},
     "output_type": "execute_result"
    }
   ],
   "source": [
    "iupac = {'E': 'Glu', 'X': 'Xaa', 'C': 'Cys', 'A': 'Ala'}\n",
    "iupac.items()\n"
   ]
  },
  {
   "cell_type": "markdown",
   "metadata": {},
   "source": [
    "### Querying Dictionary Values"
   ]
  },
  {
   "cell_type": "code",
   "execution_count": 363,
   "metadata": {},
   "outputs": [
    {
     "ename": "KeyError",
     "evalue": "'Z'",
     "output_type": "error",
     "traceback": [
      "\u001b[1;31m---------------------------------------------------------------------------\u001b[0m",
      "\u001b[1;31mKeyError\u001b[0m                                  Traceback (most recent call last)",
      "Cell \u001b[1;32mIn[363], line 1\u001b[0m\n\u001b[1;32m----> 1\u001b[0m iupac[\u001b[38;5;124m'\u001b[39m\u001b[38;5;124mZ\u001b[39m\u001b[38;5;124m'\u001b[39m]\n",
      "\u001b[1;31mKeyError\u001b[0m: 'Z'"
     ]
    }
   ],
   "source": [
    "iupac['Z']"
   ]
  },
  {
   "cell_type": "code",
   "execution_count": 15,
   "metadata": {
    "collapsed": false,
    "jupyter": {
     "outputs_hidden": false
    }
   },
   "outputs": [
    {
     "name": "stdout",
     "output_type": "stream",
     "text": [
      "Ala\n",
      "No translation available\n"
     ]
    }
   ],
   "source": [
    "iupac = {'E': 'Glu', 'X': 'Xaa', 'C': 'Cys', 'A': 'Ala'}\n",
    "print(iupac.get('A','No translation available'))\n",
    "print(iupac.get('Z','No translation available'))\n"
   ]
  },
  {
   "cell_type": "code",
   "execution_count": 367,
   "metadata": {
    "collapsed": false,
    "jupyter": {
     "outputs_hidden": false
    }
   },
   "outputs": [
    {
     "name": "stdout",
     "output_type": "stream",
     "text": [
      "None\n"
     ]
    }
   ],
   "source": [
    "print(iupac.get('Z'))"
   ]
  },
  {
   "cell_type": "markdown",
   "metadata": {},
   "source": [
    "#### Handling Missing Keys in Modern Python"
   ]
  },
  {
   "cell_type": "code",
   "execution_count": 17,
   "metadata": {},
   "outputs": [
    {
     "name": "stdout",
     "output_type": "stream",
     "text": [
      "key does not exists!\n"
     ]
    }
   ],
   "source": [
    "if 'z' in iupac:\n",
    "    print('key exists!')\n",
    "else:\n",
    "    print('key does not exists!')\n",
    "    "
   ]
  },
  {
   "cell_type": "markdown",
   "metadata": {},
   "source": [
    "### Erasing Elements from a Dictionary"
   ]
  },
  {
   "cell_type": "code",
   "execution_count": 369,
   "metadata": {
    "collapsed": false,
    "jupyter": {
     "outputs_hidden": false
    }
   },
   "outputs": [
    {
     "data": {
      "text/plain": [
       "{'E': 'Glu', 'X': 'Xaa', 'C': 'Cys'}"
      ]
     },
     "execution_count": 369,
     "metadata": {},
     "output_type": "execute_result"
    }
   ],
   "source": [
    "iupac = {'E': 'Glu', 'X': 'Xaa', 'C': 'Cys', 'A': 'Ala'}\n",
    "del iupac['A']\n",
    "iupac\n"
   ]
  },
  {
   "cell_type": "code",
   "execution_count": 371,
   "metadata": {},
   "outputs": [
    {
     "name": "stdout",
     "output_type": "stream",
     "text": [
      "('c', 3)\n",
      "{'a': 1, 'b': 2}\n"
     ]
    }
   ],
   "source": [
    "my_dict = {'a': 1, 'b': 2, 'c': 3}\n",
    "item = my_dict.popitem()\n",
    "print(item)  # Output: ('c', 3) -- This is a random key-value pair in Python < 3.7 or the last item in Python >= 3.7\n",
    "print(my_dict)  # Output: {'a': 1, 'b': 2}\n"
   ]
  },
  {
   "cell_type": "code",
   "execution_count": 373,
   "metadata": {},
   "outputs": [
    {
     "name": "stdout",
     "output_type": "stream",
     "text": [
      "Key does not exist.\n"
     ]
    }
   ],
   "source": [
    "if 'Z' in iupac:\n",
    "    print(\"Key exists!\")\n",
    "else:\n",
    "    print(\"Key does not exist.\")\n"
   ]
  },
  {
   "cell_type": "markdown",
   "metadata": {},
   "source": [
    "![Image Description](./Common-Dictionary-Methods.png)"
   ]
  },
  {
   "cell_type": "markdown",
   "metadata": {},
   "source": [
    "### Fun & Practical Example"
   ]
  },
  {
   "cell_type": "markdown",
   "metadata": {},
   "source": [
    "#### Real-Life Example: phonebook\n",
    "Imagine you have a phonebook where the phone numbers of your friends are stored. This phonebook can be thought of as a dictionary in Python, where names are the keys and phone numbers are the values."
   ]
  },
  {
   "cell_type": "code",
   "execution_count": 376,
   "metadata": {},
   "outputs": [
    {
     "data": {
      "text/plain": [
       "{'Ali': '123-456', 'Mina': '555-123', 'Reza': '444-999'}"
      ]
     },
     "execution_count": 376,
     "metadata": {},
     "output_type": "execute_result"
    }
   ],
   "source": [
    "#example:\n",
    "phonebook = {'Ali': '123-456', 'Sara': '987-654', 'Mina': '555-123'}\n",
    "phonebook['Reza'] = '444-999'  # Adding a new phone number\n",
    "del phonebook['Sara']  # Deleting Sara's number\n",
    "phonebook"
   ]
  },
  {
   "cell_type": "markdown",
   "metadata": {},
   "source": [
    "#### Funny Example: common mistakes"
   ]
  },
  {
   "cell_type": "markdown",
   "metadata": {},
   "source": [
    "Let’s say you have a dictionary of common mistakes where each mistake is described with a funny note:"
   ]
  },
  {
   "cell_type": "code",
   "execution_count": 378,
   "metadata": {},
   "outputs": [
    {
     "name": "stdout",
     "output_type": "stream",
     "text": [
      "Writing \"teh\" instead of \"the\".\n"
     ]
    }
   ],
   "source": [
    "mistakes = {\n",
    "    'Typo': 'Writing \"teh\" instead of \"the\".',\n",
    "    'Mispronunciation': 'Saying \"aks\" instead of \"ask\".',\n",
    "    'Misunderstanding': 'Thinking that \"bored\" and \"board\" are the same.'\n",
    "}\n",
    "\n",
    "# Searching for a mistake\n",
    "print(mistakes['Typo'])  # Output: Writing \"teh\" instead of \"the\".\n"
   ]
  },
  {
   "cell_type": "markdown",
   "metadata": {},
   "source": [
    "### Conceptual Questions"
   ]
  },
  {
   "cell_type": "markdown",
   "metadata": {},
   "source": [
    "1. Which are the principal data types in Python?\n",
    "2. What is the difference between a list and a tuple? When would you use each\n",
    "one?\n",
    "\n",
    "3. How do you test if an element is inside a list?\n",
    "4. What is a dictionary?\n",
    "5. What data type can be used as a key in a dictionary?\n",
    "6. What is a “dictionary view”?\n",
    "7. Can you iterate over an unordered sequence?\n",
    "8. Sort the data types below according to the following criteria:\n",
    "• Mutable–immutable\n",
    "• Sorted–unsorted\n",
    "• Sequence–mapping\n",
    "Data types to sort: lists, tuples, dictionaries, sets, strings.\n",
    "9. How do you convert any iterable data type into a list?\n",
    "10. How do you create a dictionary from a list?\n",
    "11. How do you create a list from a dictionary?\n",
    "12. Is a dictionary iterable in Python?"
   ]
  },
  {
   "attachments": {},
   "cell_type": "markdown",
   "metadata": {},
   "source": [
    "### Coding Exercises"
   ]
  },
  {
   "attachments": {},
   "cell_type": "markdown",
   "metadata": {},
   "source": [
    "#### 1- Working with Genetic Sequences (Lists):\r\n",
    "Imagine you have a list of genetic sequences (DNA fragments) in a study. Write a program to:\r\n",
    "- Store a list of DNA fragments.\r\n",
    "- Add a new fragment to the list.\r\n",
    "- Remove a fragment if it's not needed anymore.\r\n",
    "- Retrieve a specific DNA fragment by its index.\r\n",
    "Example DNA fragments list: ['ATCG', 'GCTA', 'CG']\r\n"
   ]
  },
  {
   "cell_type": "markdown",
   "metadata": {},
   "source": [
    "#### 2-Creating a Dictionary for Plant Species (Dictionaries):\n",
    "You are working on a biology project to catalog different plant species. Each species has an associated common name and its scientific classification. You need to:\n",
    "- Create a dictionary where the key is the plant species' scientific name and the value is its common name.\n",
    "- Add a new entry to the dictionary.\n",
    "- Modify the common name for a given species.\n",
    "- Retrieve the common name using the scientific name.\n",
    "Example dictionary: {'Quercus robur': 'English Oak', 'Pinus sylvestris': 'Scots Pine'}"
   ]
  },
  {
   "cell_type": "code",
   "execution_count": null,
   "metadata": {},
   "outputs": [],
   "source": []
  }
 ],
 "metadata": {
  "kernelspec": {
   "display_name": "Python 3 (ipykernel)",
   "language": "python",
   "name": "python3"
  },
  "language_info": {
   "codemirror_mode": {
    "name": "ipython",
    "version": 3
   },
   "file_extension": ".py",
   "mimetype": "text/x-python",
   "name": "python",
   "nbconvert_exporter": "python",
   "pygments_lexer": "ipython3",
   "version": "3.13.1"
  }
 },
 "nbformat": 4,
 "nbformat_minor": 4
}
