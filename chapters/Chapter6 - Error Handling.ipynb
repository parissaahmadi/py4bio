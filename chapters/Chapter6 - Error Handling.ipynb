{
 "cells": [
  {
   "cell_type": "markdown",
   "metadata": {
    "colab_type": "text",
    "id": "zI8M591SoRgB"
   },
   "source": [
    "Chapter 6: Error Handling\n",
    "-----------------------------"
   ]
  },
  {
   "attachments": {},
   "cell_type": "markdown",
   "metadata": {},
   "source": [
    "When it comes to runtime errors, developers traditionally chose one of these two approaches:\n",
    "\n",
    "1. Ignore the problem (Not recommended for production)\n",
    "2. Check all possible error conditions (known as LBYL – Look Before You Leap)\n",
    "\n"
   ]
  },
  {
   "attachments": {},
   "cell_type": "markdown",
   "metadata": {},
   "source": [
    "1. Ignore the problem (Not recommended for production):\n",
    "   - No error handling (fragile)"
   ]
  },
  {
   "cell_type": "code",
   "execution_count": null,
   "metadata": {
    "colab": {},
    "colab_type": "code",
    "id": "cb4MRqRdoRgG",
    "outputId": "5ec9950b-74b2-4396-e476-c4df9cd1552a",
    "scrolled": true
   },
   "outputs": [
    {
     "ename": "FileNotFoundError",
     "evalue": "[Errno 2] No such file or directory: 'myfile.csv'",
     "output_type": "error",
     "traceback": [
      "\u001b[0;31m---------------------------------------------------------------------------\u001b[0m",
      "\u001b[0;31mFileNotFoundError\u001b[0m                         Traceback (most recent call last)",
      "\u001b[0;32m<ipython-input-2-a64eb4cb1322>\u001b[0m in \u001b[0;36m<module>\u001b[0;34m()\u001b[0m\n\u001b[0;32m----> 1\u001b[0;31m \u001b[0;32mwith\u001b[0m \u001b[0mopen\u001b[0m\u001b[0;34m(\u001b[0m\u001b[0;34m'myfile.csv'\u001b[0m\u001b[0;34m)\u001b[0m \u001b[0;32mas\u001b[0m \u001b[0mfh\u001b[0m\u001b[0;34m:\u001b[0m\u001b[0;34m\u001b[0m\u001b[0m\n\u001b[0m\u001b[1;32m      2\u001b[0m     \u001b[0mline\u001b[0m \u001b[0;34m=\u001b[0m \u001b[0mfh\u001b[0m\u001b[0;34m.\u001b[0m\u001b[0mreadline\u001b[0m\u001b[0;34m(\u001b[0m\u001b[0;34m)\u001b[0m\u001b[0;34m\u001b[0m\u001b[0m\n\u001b[1;32m      3\u001b[0m \u001b[0mvalue\u001b[0m \u001b[0;34m=\u001b[0m \u001b[0mline\u001b[0m\u001b[0;34m.\u001b[0m\u001b[0msplit\u001b[0m\u001b[0;34m(\u001b[0m\u001b[0;34m'\\t'\u001b[0m\u001b[0;34m)\u001b[0m\u001b[0;34m[\u001b[0m\u001b[0;36m0\u001b[0m\u001b[0;34m]\u001b[0m\u001b[0;34m\u001b[0m\u001b[0m\n\u001b[1;32m      4\u001b[0m \u001b[0;32mwith\u001b[0m \u001b[0mopen\u001b[0m\u001b[0;34m(\u001b[0m\u001b[0;34m'other.txt'\u001b[0m\u001b[0;34m,\u001b[0m\u001b[0;34m\"w\"\u001b[0m\u001b[0;34m)\u001b[0m \u001b[0;32mas\u001b[0m \u001b[0mfw\u001b[0m\u001b[0;34m:\u001b[0m\u001b[0;34m\u001b[0m\u001b[0m\n\u001b[1;32m      5\u001b[0m     \u001b[0mfw\u001b[0m\u001b[0;34m.\u001b[0m\u001b[0mwrite\u001b[0m\u001b[0;34m(\u001b[0m\u001b[0mstr\u001b[0m\u001b[0;34m(\u001b[0m\u001b[0mint\u001b[0m\u001b[0;34m(\u001b[0m\u001b[0mvalue\u001b[0m\u001b[0;34m)\u001b[0m\u001b[0;34m*\u001b[0m\u001b[0;36m.2\u001b[0m\u001b[0;34m)\u001b[0m\u001b[0;34m)\u001b[0m\u001b[0;34m\u001b[0m\u001b[0m\n",
      "\u001b[0;31mFileNotFoundError\u001b[0m: [Errno 2] No such file or directory: 'myfile.csv'"
     ]
    }
   ],
   "source": [
    "# Reads a number from a tab-separated file and writes 20% of it to another file\n",
    "with open('myfile.csv') as fh:\n",
    "    line = fh.readline()\n",
    "    value = line.split('\\t')[0]\n",
    "    with open('other.txt', \"w\") as fw:\n",
    "        fw.write(str(int(value) * 0.2))\n",
    "#FileNotFoundError: [Errno 2] No such file or directory: 'myfile.csv'"
   ]
  },
  {
   "attachments": {},
   "cell_type": "markdown",
   "metadata": {
    "colab_type": "text",
    "id": "P5bP3-rMoRgJ"
   },
   "source": [
    "2. Check all possible error conditions (known as LBYL – Look Before You Leap)\n",
    " - ❌ Cons:\n",
    "Harder to read + Logic is mixed with error checking"
   ]
  },
  {
   "cell_type": "code",
   "execution_count": null,
   "metadata": {
    "colab": {},
    "colab_type": "code",
    "id": "ONXjG_cToRgJ",
    "outputId": "6e470f50-73af-4321-eeb7-2438c95ba6e4",
    "scrolled": true
   },
   "outputs": [
    {
     "name": "stdout",
     "output_type": "stream",
     "text": [
      "Enter input filename: hola\n",
      "Enter output filename: hello\n",
      "The file doesn’t exist\n"
     ]
    }
   ],
   "source": [
    "import os\n",
    "\n",
    "iname = input(\"Enter input filename: \")\n",
    "oname = input(\"Enter output filename: \")\n",
    "\n",
    "if os.path.exists(iname):\n",
    "    with open(iname) as fh:\n",
    "        line = fh.readline()\n",
    "        if \"\\t\" in line:\n",
    "            value = line.split('\\t')[0]\n",
    "            if os.access(oname, os.W_OK) == 0:\n",
    "                if value.isdigit():\n",
    "                    with open(oname, 'w') as fw:\n",
    "                        fw.write(str(int(value) * 0.2))\n",
    "                else:\n",
    "                    print(\"Can’t be converted to int\")\n",
    "            else:\n",
    "                print(\"Output file is not writable\")\n",
    "        else:\n",
    "            print(\"No TAB found in the input line\")\n",
    "else:\n",
    "    print(\"Input file does not exist\")\n"
   ]
  },
  {
   "attachments": {},
   "cell_type": "markdown",
   "metadata": {
    "colab_type": "text",
    "id": "F9pdWTmwoRgM"
   },
   "source": [
    "3. 🔸 Better Alternative: EAFP – Easier to Ask Forgiveness than Permission\n",
    "   - In Python, try, except, else, and finally blocks are used for this."
   ]
  },
  {
   "cell_type": "markdown",
   "metadata": {},
   "source": [
    "- try: Wraps the risky code\n",
    "- except: Runs only if an error is raised\n",
    "- else: Runs if no error happens in the try block (optional)\n",
    "- finally: Always runs, used for clean-up (optional).\n"
   ]
  },
  {
   "cell_type": "code",
   "execution_count": null,
   "metadata": {},
   "outputs": [],
   "source": [
    "try:\n",
    "    # Error-prone code\n",
    "except:\n",
    "    # Error handling code\n",
    "[else:\n",
    "    # Executes only if try block does NOT raise an exception\n",
    "finally:\n",
    "    # Always executes, for clean-up actions]\n"
   ]
  },
  {
   "cell_type": "code",
   "execution_count": 1,
   "metadata": {},
   "outputs": [
    {
     "name": "stdout",
     "output_type": "stream",
     "text": [
      "Houston, we have a problem...\n"
     ]
    }
   ],
   "source": [
    "try:\n",
    "    print(0 / 0)\n",
    "except:\n",
    "    print(\"Houston, we have a problem...\")\n",
    "# Output: Houston, we have a problem...\n"
   ]
  },
  {
   "cell_type": "markdown",
   "metadata": {},
   "source": [
    "#### Improved Version of File Handling with Try/Except (Modern Python)\n"
   ]
  },
  {
   "cell_type": "code",
   "execution_count": 2,
   "metadata": {
    "colab": {},
    "colab_type": "code",
    "id": "FdwK37ZkoRgN",
    "outputId": "68a14fe0-4f6c-46fc-93ef-e735dd2e7a81"
   },
   "outputs": [
    {
     "name": "stdin",
     "output_type": "stream",
     "text": [
      "Enter input filename:  myfile.csv\n",
      "Enter output filename:  other.txt\n"
     ]
    },
    {
     "name": "stdout",
     "output_type": "stream",
     "text": [
      "Input file does not exist.\n"
     ]
    }
   ],
   "source": [
    "try:\n",
    "    # Get filenames from user\n",
    "    iname = input(\"Enter input filename: \")\n",
    "    oname = input(\"Enter output filename: \")\n",
    "\n",
    "    # Read first line from input file\n",
    "    with open(iname) as fh:\n",
    "        line = fh.readline()\n",
    "\n",
    "    # Extract value if tab exists\n",
    "    if '\\t' in line:\n",
    "        value = line.split('\\t')[0]\n",
    "\n",
    "        # Write to output file\n",
    "        with open(oname, 'w') as fw:\n",
    "            fw.write(str(int(value) * 0.2))\n",
    "except FileNotFoundError:\n",
    "    print(\"Input file does not exist.\")\n",
    "except PermissionError:\n",
    "    print(\"No permission to write the output file.\")\n",
    "except ValueError:\n",
    "    print(\"The value can't be converted to int.\")\n",
    "except Exception as e:\n",
    "    print(f\"An unexpected error occurred: {e}\")\n",
    "else:\n",
    "    print(\"Thank you! Everything went OK.\")\n"
   ]
  },
  {
   "cell_type": "markdown",
   "metadata": {},
   "source": [
    "- In Jupyter Notebook, an EOFError does not normally occur because Jupyter always waits for input and does not easily reach the end-of-file (EOF) condition.\n",
    "This error is more commonly encountered when running scripts in a terminal.\n",
    "\n",
    "- If the program is run in a terminal and the user does not enter any input but instead presses:\n",
    "\n",
    "- Ctrl+D on macOS/Linux\n",
    "\n",
    "- Ctrl+Z followed by Enter on Windows\n",
    "\n",
    "- then the program raises an EOFError and jumps to the except EOFError: block, printing:"
   ]
  },
  {
   "attachments": {},
   "cell_type": "markdown",
   "metadata": {
    "colab_type": "text",
    "id": "8C_39WnUoRgP"
   },
   "source": [
    "#### Nested Try/Except Blocks for Better Error Separation"
   ]
  },
  {
   "cell_type": "code",
   "execution_count": 3,
   "metadata": {
    "colab": {},
    "colab_type": "code",
    "id": "ymSKcouSoRgQ",
    "outputId": "fc585730-561b-484a-8fca-fb81a199fc3e"
   },
   "outputs": [
    {
     "name": "stdin",
     "output_type": "stream",
     "text": [
      "Enter input filename:  myfile.csv\n",
      "Enter output filename:  other.txt\n"
     ]
    },
    {
     "name": "stdout",
     "output_type": "stream",
     "text": [
      "Input file does not exist.\n"
     ]
    }
   ],
   "source": [
    "# Get input and output filenames\n",
    "iname = input(\"Enter input filename: \")\n",
    "oname = input(\"Enter output filename: \")\n",
    "\n",
    "try:\n",
    "    with open(iname) as fh:\n",
    "        line = fh.readline()\n",
    "except FileNotFoundError:\n",
    "    print(\"Input file does not exist.\")\n",
    "else:\n",
    "    if '\\t' in line:\n",
    "        value = line.split('\\t')[0]\n",
    "        try:\n",
    "            with open(oname, 'w') as fw:\n",
    "                fw.write(str(int(value) * 0.2))\n",
    "        except PermissionError:\n",
    "            print(\"No permission to write the output file.\")\n",
    "        except ValueError:\n",
    "            print(\"The value can't be converted to int.\")\n",
    "        else:\n",
    "            print(\"Thank you! Everything went OK.\")\n",
    "    else:\n",
    "        print(\"There is no TAB. Check the input file.\")\n"
   ]
  },
  {
   "attachments": {},
   "cell_type": "markdown",
   "metadata": {},
   "source": [
    "#### Exception Types\n",
    "Exceptions in Python are not all the same. For example, using an undefined variable raises a NameError, while combining incompatible data types raises a TypeError.\n",
    "\n",
    "👉 You can find the full list of built-in exceptions here: https://docs.python.org/3/library/exceptions.html\n"
   ]
  },
  {
   "attachments": {},
   "cell_type": "markdown",
   "metadata": {},
   "source": [
    "- How to Handle Different Exceptions\n",
    "- You can catch all exceptions using a generic except, but that’s not recommended:"
   ]
  },
  {
   "cell_type": "code",
   "execution_count": null,
   "metadata": {
    "colab": {
     "base_uri": "https://localhost:8080/",
     "height": 52
    },
    "colab_type": "code",
    "id": "qNt6SnzcoRgS",
    "outputId": "b0c2d721-5a51-4e7d-bc1d-875faf781c81"
   },
   "outputs": [
    {
     "name": "stdout",
     "output_type": "stream",
     "text": [
      "Enter letter: L\n",
      "No such nucleotide\n"
     ]
    }
   ],
   "source": [
    "# Generic error handling (not recommended)\n",
    "d = {\"A\": \"Adenine\", \"C\": \"Cytosine\", \"T\": \"Thymine\", \"G\": \"Guanine\"}\n",
    "\n",
    "try:\n",
    "    print(d[input(\"Enter letter: \")])\n",
    "except:\n",
    "    print(\"No such nucleotide\")\n"
   ]
  },
  {
   "cell_type": "markdown",
   "metadata": {},
   "source": [
    "- Why it's bad: It hides unexpected bugs, such as EOF input. Better to handle specific errors:"
   ]
  },
  {
   "cell_type": "code",
   "execution_count": null,
   "metadata": {
    "colab": {},
    "colab_type": "code",
    "id": "FABVpmkmoRgW",
    "outputId": "2199f4b0-12b7-43ce-eaea-2e77bf6f8a32"
   },
   "outputs": [
    {
     "name": "stdout",
     "output_type": "stream",
     "text": [
      "Enter letter: A\n",
      "Adenine\n"
     ]
    }
   ],
   "source": [
    "# Handling specific exceptions\n",
    "d = {\"A\": \"Adenine\", \"C\": \"Cytosine\", \"T\": \"Thymine\", \"G\": \"Guanine\"}\n",
    "\n",
    "try:\n",
    "    print(d[input(\"Enter letter: \")])\n",
    "except EOFError:\n",
    "    print(\"Good bye!\")\n",
    "except KeyError:\n",
    "    print(\"No such nucleotide\")\n"
   ]
  },
  {
   "attachments": {},
   "cell_type": "markdown",
   "metadata": {
    "colab_type": "text",
    "id": "TIwXsxTkoRgY"
   },
   "source": [
    "#### Inspecting Exceptions with sys.exc_info()"
   ]
  },
  {
   "cell_type": "code",
   "execution_count": 1,
   "metadata": {
    "colab": {},
    "colab_type": "code",
    "id": "msYiWUyBoRgZ",
    "outputId": "4e367b24-1581-4d0e-c99a-44f0d2b99991"
   },
   "outputs": [
    {
     "name": "stdout",
     "output_type": "stream",
     "text": [
      "Error name: ZeroDivisionError\n",
      "Message: division by zero\n",
      "Error in line: 5\n"
     ]
    }
   ],
   "source": [
    "# sys.exc_info() example\n",
    "import sys\n",
    "\n",
    "try:\n",
    "    0 / 0\n",
    "except:\n",
    "    a, b, c = sys.exc_info()\n",
    "    print(f\"Error name: {a.__name__}\")\n",
    "    print(f\"Message: {b}\")\n",
    "    print(f\"Error in line: {c.tb_lineno}\")\n"
   ]
  },
  {
   "cell_type": "code",
   "execution_count": 2,
   "metadata": {
    "colab": {},
    "colab_type": "code",
    "id": "AMO541uzoRgb",
    "outputId": "573c2ad1-16fb-4c4c-a202-219c77a6c86b"
   },
   "outputs": [
    {
     "name": "stdout",
     "output_type": "stream",
     "text": [
      "Error name: FileNotFoundError\n",
      "Error code: 2\n",
      "Error message: No such file or directory\n"
     ]
    }
   ],
   "source": [
    "# File not found handling\n",
    "import sys\n",
    "\n",
    "try:\n",
    "    x = open(\"random_filename\")\n",
    "except:\n",
    "    a, b = sys.exc_info()[:2]\n",
    "    print(f\"Error name: {a.__name__}\")\n",
    "    print(f\"Error code: {b.args[0]}\")\n",
    "    print(f\"Error message: {b.args[1]}\")\n"
   ]
  },
  {
   "attachments": {},
   "cell_type": "markdown",
   "metadata": {},
   "source": [
    "#### Raising Exceptions\n",
    "You can manually trigger exceptions using raise. This helps provide clearer error messages, especially during debugging."
   ]
  },
  {
   "cell_type": "markdown",
   "metadata": {},
   "source": [
    "- Bad example: "
   ]
  },
  {
   "cell_type": "code",
   "execution_count": null,
   "metadata": {
    "colab": {},
    "colab_type": "code",
    "id": "tyRSsgXGoRge"
   },
   "outputs": [],
   "source": [
    "# Causes ZeroDivisionError\n",
    "def avg(numbers):\n",
    "    return sum(numbers) / len(numbers)\n",
    "\n",
    "avg([])  # division by zero\n"
   ]
  },
  {
   "cell_type": "code",
   "execution_count": null,
   "metadata": {
    "colab": {},
    "colab_type": "code",
    "id": "IbDjQSeyoRgg",
    "outputId": "5e075d72-945f-4e31-a406-e79e1b183058"
   },
   "outputs": [
    {
     "ename": "ZeroDivisionError",
     "evalue": "division by zero",
     "output_type": "error",
     "traceback": [
      "\u001b[0;31m---------------------------------------------------------------------------\u001b[0m",
      "\u001b[0;31mZeroDivisionError\u001b[0m                         Traceback (most recent call last)",
      "\u001b[0;32m<ipython-input-10-96c1bb829360>\u001b[0m in \u001b[0;36m<module>\u001b[0;34m()\u001b[0m\n\u001b[0;32m----> 1\u001b[0;31m \u001b[0mavg\u001b[0m\u001b[0;34m(\u001b[0m\u001b[0;34m[\u001b[0m\u001b[0;34m]\u001b[0m\u001b[0;34m)\u001b[0m\u001b[0;34m\u001b[0m\u001b[0m\n\u001b[0m",
      "\u001b[0;32m<ipython-input-9-3a13d6961f52>\u001b[0m in \u001b[0;36mavg\u001b[0;34m(numbers)\u001b[0m\n\u001b[1;32m      1\u001b[0m \u001b[0;32mdef\u001b[0m \u001b[0mavg\u001b[0m\u001b[0;34m(\u001b[0m\u001b[0mnumbers\u001b[0m\u001b[0;34m)\u001b[0m\u001b[0;34m:\u001b[0m\u001b[0;34m\u001b[0m\u001b[0m\n\u001b[0;32m----> 2\u001b[0;31m     \u001b[0;32mreturn\u001b[0m \u001b[0msum\u001b[0m\u001b[0;34m(\u001b[0m\u001b[0mnumbers\u001b[0m\u001b[0;34m)\u001b[0m\u001b[0;34m/\u001b[0m\u001b[0mlen\u001b[0m\u001b[0;34m(\u001b[0m\u001b[0mnumbers\u001b[0m\u001b[0;34m)\u001b[0m\u001b[0;34m\u001b[0m\u001b[0m\n\u001b[0m",
      "\u001b[0;31mZeroDivisionError\u001b[0m: division by zero"
     ]
    }
   ],
   "source": [
    " avg([])"
   ]
  },
  {
   "cell_type": "markdown",
   "metadata": {},
   "source": [
    "- Improved version:"
   ]
  },
  {
   "cell_type": "code",
   "execution_count": 6,
   "metadata": {
    "colab": {},
    "colab_type": "code",
    "id": "5zFOMXiSoRgi"
   },
   "outputs": [],
   "source": [
    "# Better error message using raise\n",
    "def avg(numbers):\n",
    "    if not numbers:\n",
    "        raise ValueError(\"Please enter at least one element\")\n",
    "    return sum(numbers) / len(numbers)\n"
   ]
  },
  {
   "cell_type": "code",
   "execution_count": 7,
   "metadata": {
    "colab": {},
    "colab_type": "code",
    "id": "QIogBZdToRgk",
    "outputId": "1bbcb2fa-72eb-47ba-9b18-a8c8cdfd8236"
   },
   "outputs": [
    {
     "ename": "ValueError",
     "evalue": "Please enter at least one element",
     "output_type": "error",
     "traceback": [
      "\u001b[1;31m---------------------------------------------------------------------------\u001b[0m",
      "\u001b[1;31mValueError\u001b[0m                                Traceback (most recent call last)",
      "Cell \u001b[1;32mIn[7], line 1\u001b[0m\n\u001b[1;32m----> 1\u001b[0m \u001b[43mavg\u001b[49m\u001b[43m(\u001b[49m\u001b[43m[\u001b[49m\u001b[43m]\u001b[49m\u001b[43m)\u001b[49m\n",
      "Cell \u001b[1;32mIn[6], line 4\u001b[0m, in \u001b[0;36mavg\u001b[1;34m(numbers)\u001b[0m\n\u001b[0;32m      2\u001b[0m \u001b[38;5;28;01mdef\u001b[39;00m \u001b[38;5;21mavg\u001b[39m(numbers):\n\u001b[0;32m      3\u001b[0m     \u001b[38;5;28;01mif\u001b[39;00m \u001b[38;5;129;01mnot\u001b[39;00m numbers:\n\u001b[1;32m----> 4\u001b[0m         \u001b[38;5;28;01mraise\u001b[39;00m \u001b[38;5;167;01mValueError\u001b[39;00m(\u001b[38;5;124m\"\u001b[39m\u001b[38;5;124mPlease enter at least one element\u001b[39m\u001b[38;5;124m\"\u001b[39m)\n\u001b[0;32m      5\u001b[0m     \u001b[38;5;28;01mreturn\u001b[39;00m \u001b[38;5;28msum\u001b[39m(numbers) \u001b[38;5;241m/\u001b[39m \u001b[38;5;28mlen\u001b[39m(numbers)\n",
      "\u001b[1;31mValueError\u001b[0m: Please enter at least one element"
     ]
    }
   ],
   "source": [
    "avg([])\n",
    "#ValueError: Please enter at least one element\n"
   ]
  },
  {
   "attachments": {},
   "cell_type": "markdown",
   "metadata": {},
   "source": [
    "### Creating Customized Exceptions \n",
    "One great feature of Python’s exception system is that you can define your own exceptions. read more about OOP in next chapter."
   ]
  },
  {
   "attachments": {},
   "cell_type": "markdown",
   "metadata": {},
   "source": [
    "You can define a custom exception by subclassing the built-in Exception class.\n",
    "\n",
    "- Example: Detecting invalid DNA sequences\n",
    "Let’s define a new exception called NotDNAException. It should be raised when a DNA sequence contains a character other than 'a', 't', 'c', or 'g'.\n"
   ]
  },
  {
   "cell_type": "code",
   "execution_count": 8,
   "metadata": {},
   "outputs": [],
   "source": [
    "# Custom exception class\n",
    "#All Exceptions Derive from the Exception Class\n",
    "class NotDNAException(Exception):\n",
    "    \"\"\"A user-defined exception\"\"\"\n",
    "    def __init__(self, dna):\n",
    "        self.dna = dna\n",
    "\n",
    "    def __str__(self):\n",
    "        # Return the first invalid character found\n",
    "        for nt in self.dna:\n",
    "            if nt not in 'atcg':\n",
    "                return f\"Invalid character: {nt}\"\n",
    "        return \"Unknown DNA error\"\n"
   ]
  },
  {
   "cell_type": "code",
   "execution_count": 9,
   "metadata": {},
   "outputs": [
    {
     "ename": "NotDNAException",
     "evalue": "Invalid character: w",
     "output_type": "error",
     "traceback": [
      "\u001b[1;31m---------------------------------------------------------------------------\u001b[0m",
      "\u001b[1;31mNotDNAException\u001b[0m                           Traceback (most recent call last)",
      "Cell \u001b[1;32mIn[9], line 6\u001b[0m\n\u001b[0;32m      4\u001b[0m \u001b[38;5;66;03m# Validate the sequence\u001b[39;00m\n\u001b[0;32m      5\u001b[0m \u001b[38;5;28;01mif\u001b[39;00m \u001b[38;5;28mset\u001b[39m(dnaseq) \u001b[38;5;241m-\u001b[39m \u001b[38;5;28mset\u001b[39m(\u001b[38;5;124m'\u001b[39m\u001b[38;5;124matcg\u001b[39m\u001b[38;5;124m'\u001b[39m):\n\u001b[1;32m----> 6\u001b[0m     \u001b[38;5;28;01mraise\u001b[39;00m NotDNAException(dnaseq)\n\u001b[0;32m      7\u001b[0m \u001b[38;5;28;01melse\u001b[39;00m:\n\u001b[0;32m      8\u001b[0m     \u001b[38;5;28mprint\u001b[39m(\u001b[38;5;124m'\u001b[39m\u001b[38;5;124mOK\u001b[39m\u001b[38;5;124m'\u001b[39m)\n",
      "\u001b[1;31mNotDNAException\u001b[0m: Invalid character: w"
     ]
    }
   ],
   "source": [
    "# DNA sequence to check\n",
    "dnaseq = 'agctwtacagt'\n",
    "\n",
    "# Validate the sequence\n",
    "if set(dnaseq) - set('atcg'):\n",
    "    raise NotDNAException(dnaseq)\n",
    "else:\n",
    "    print('OK')\n"
   ]
  },
  {
   "cell_type": "markdown",
   "metadata": {},
   "source": [
    "### Fun & Practical Example\n",
    "Suppose you're writing a program that asks users for their age. If someone types “twenty” instead of 20, your code will crash… unless you handle the error."
   ]
  },
  {
   "cell_type": "code",
   "execution_count": 4,
   "metadata": {},
   "outputs": [
    {
     "name": "stdin",
     "output_type": "stream",
     "text": [
      "Enter your age:  twenty\n"
     ]
    },
    {
     "name": "stdout",
     "output_type": "stream",
     "text": [
      "Oops! That doesn't look like a number.\n"
     ]
    }
   ],
   "source": [
    "#funny\n",
    "try:\n",
    "    age = int(input(\"Enter your age: \"))\n",
    "    print(f\"You are {age} years old.\")\n",
    "except ValueError:\n",
    "    print(\"Oops! That doesn't look like a number.\")\n"
   ]
  },
  {
   "cell_type": "markdown",
   "metadata": {},
   "source": [
    "### Fun & Practical Example\n",
    "Imagine a robot waiter asking how spicy you want your food. You answer “explosively spicy 🔥”. The robot wasn't ready for that."
   ]
  },
  {
   "cell_type": "code",
   "execution_count": 5,
   "metadata": {},
   "outputs": [
    {
     "name": "stdin",
     "output_type": "stream",
     "text": [
      "Spice level (mild/medium/hot):  atishi\n"
     ]
    },
    {
     "name": "stdout",
     "output_type": "stream",
     "text": [
      "Error: This spice level is too dangerous for humans!\n"
     ]
    }
   ],
   "source": [
    "def serve_food(spice_level):\n",
    "    allowed = ['mild', 'medium', 'hot']\n",
    "    if spice_level.lower() not in allowed:\n",
    "        raise ValueError(\"This spice level is too dangerous for humans!\")\n",
    "\n",
    "try:\n",
    "    user_input = input(\"Spice level (mild/medium/hot): \")\n",
    "    serve_food(user_input)\n",
    "    print(\"Serving your dish... 🌶️\")\n",
    "except ValueError as ve:\n",
    "    print(f\"Error: {ve}\")\n"
   ]
  },
  {
   "cell_type": "markdown",
   "metadata": {},
   "source": [
    "### Theoretical Questions:"
   ]
  },
  {
   "cell_type": "markdown",
   "metadata": {},
   "source": [
    "1. What is the meaning of LBYL and EAFP? Which one is used in Python?\n",
    "\n",
    "2. What is an exception?\n",
    "\n",
    "3. What is an “unhandled exception”?\n",
    "\n",
    "4. When do you use finally and when do you use else?\n",
    "\n",
    "5. Exceptions are often associated with file handling. Why?\n",
    "\n",
    "6. How do you sort an error derived from a disk full condition from trying to write to a read-only file system?\n",
    "\n",
    "7. Why is it not advisable to use except: to catch all kinds of exceptions, instead of using, for example, except IOError:?\n",
    "\n",
    "8. Exceptions can be raised at will. Why would you do that?\n",
    "\n",
    "9. What is the purpose of sys.exc_info()?\n",
    "\n",
    "10. Explain the purpose of this function:"
   ]
  },
  {
   "cell_type": "code",
   "execution_count": 11,
   "metadata": {},
   "outputs": [],
   "source": [
    "def formatExceptionInfo():\n",
    "    \"\"\" Author: Arturo ’Buanzo’ Busleiman \"\"\"\n",
    "    cla, exc = sys.exc_info()[:2]\n",
    "    excName = cla.__name__\n",
    "    try:\n",
    "        excArgs = exc.__dict__[\"args\"]\n",
    "    except KeyError:\n",
    "        excArgs = str(exc)\n",
    "    return (excName, excArgs)"
   ]
  },
  {
   "cell_type": "markdown",
   "metadata": {},
   "source": [
    "### Code-Related Questions:"
   ]
  },
  {
   "cell_type": "markdown",
   "metadata": {},
   "source": [
    "1. Write a function that asks the user to enter a number and handles the error if the input is not numeric.\n",
    "\n",
    "2. Write a program that opens a file, reads its content, and gracefully handles the case where the file does not exist.\n",
    "\n",
    "3. Write a custom exception NotDNAException that is raised when a string contains characters other than 'a', 't', 'c', 'g'.\n",
    "\n",
    "4. Create a try...except...else...finally block and explain the flow of execution when there is an exception and when there isn’t.\n",
    "\n",
    "5. Simulate a division by zero error and handle it using a proper exception block.\n",
    "\n",
    "6. Write a function that takes a DNA sequence and translates it to RNA. Raise a custom exception if the input contains invalid characters.\n",
    "\n",
    "7. Create a function that simulates reading from a biological data file. Handle FileNotFoundError and PermissionError appropriately."
   ]
  }
 ],
 "metadata": {
  "colab": {
   "collapsed_sections": [],
   "name": "Chapter 7 - Error Handling.ipynb",
   "provenance": []
  },
  "kernelspec": {
   "display_name": "Python (GPU)",
   "language": "python",
   "name": "gpu_env"
  },
  "language_info": {
   "codemirror_mode": {
    "name": "ipython",
    "version": 3
   },
   "file_extension": ".py",
   "mimetype": "text/x-python",
   "name": "python",
   "nbconvert_exporter": "python",
   "pygments_lexer": "ipython3",
   "version": "3.8.19"
  }
 },
 "nbformat": 4,
 "nbformat_minor": 4
}
