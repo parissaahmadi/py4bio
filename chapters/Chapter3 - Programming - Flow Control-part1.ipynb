{
 "cells": [
  {
   "cell_type": "markdown",
   "metadata": {},
   "source": [
    "Chapter 3: Programming: Flow Control\n",
    "=============="
   ]
  },
  {
   "cell_type": "markdown",
   "metadata": {},
   "source": [
    "**Listing 4.1:** ifelse1.py: Basic if-else sample"
   ]
  },
  {
   "cell_type": "markdown",
   "metadata": {},
   "source": [
    "Python has three flow control structures:\n",
    "- 1️⃣ Conditional Structure (`if`) – Determines if a block of code should be executed based on a condition.\n",
    "- 2️⃣ Looping Structures (`for`, `while`) – Execute a code block multiple times."
   ]
  },
  {
   "cell_type": "markdown",
   "metadata": {},
   "source": [
    "### A - Conditional Structure (if-else)"
   ]
  },
  {
   "cell_type": "markdown",
   "metadata": {},
   "source": [
    "- if EXPRESSION:\n",
    "    - BLOCK\n",
    "- else:\n",
    "    - BLOCK2"
   ]
  },
  {
   "cell_type": "code",
   "execution_count": 1,
   "metadata": {
    "collapsed": false,
    "jupyter": {
     "outputs_hidden": false
    }
   },
   "outputs": [
    {
     "name": "stdin",
     "output_type": "stream",
     "text": [
      "What is height? (in meters):  1.72\n"
     ]
    },
    {
     "name": "stdout",
     "output_type": "stream",
     "text": [
      "You can get in\n"
     ]
    }
   ],
   "source": [
    " height = float(input('What is height? (in meters): '))\n",
    " if height > 1.40:\n",
    "     print('You can get in')\n",
    " else:\n",
    "     print('This ride is not for you')\n"
   ]
  },
  {
   "cell_type": "code",
   "execution_count": 1,
   "metadata": {
    "collapsed": false,
    "jupyter": {
     "outputs_hidden": false
    },
    "scrolled": true
   },
   "outputs": [
    {
     "name": "stdout",
     "output_type": "stream",
     "text": [
      "Enter one letter: A\n",
      "The three letter code for A is Ala\n"
     ]
    }
   ],
   "source": [
    " three_letter_code = {'A':'Ala','N':'Asn','D':'Asp','C':'Cys'}\n",
    " aa = input('Enter one letter: ')\n",
    " if aa in three_letter_code:\n",
    "     print('The three letter code for {0} is {1}'.format(aa,\n",
    "            three_letter_code[aa]))\n",
    " else:\n",
    "     print(\"Sorry, I don't have it in my dictionary\")\n"
   ]
  },
  {
   "cell_type": "markdown",
   "metadata": {},
   "source": [
    "#### To evaluate multiple conditions, use elif :"
   ]
  },
  {
   "cell_type": "markdown",
   "metadata": {},
   "source": [
    "Once a condition is met, the subsequent conditions are not evaluated."
   ]
  },
  {
   "cell_type": "markdown",
   "metadata": {},
   "source": [
    "- if EXPRESSION1:\n",
    "    - BLOCK1\n",
    "- if EXPRESSION2:\n",
    "    - BLOCK2\n",
    "- if EXPRESSION3:\n",
    "    - BLOCK3\n",
    "- else:\n",
    "    - BLOCK4"
   ]
  },
  {
   "cell_type": "code",
   "execution_count": 4,
   "metadata": {
    "collapsed": false,
    "jupyter": {
     "outputs_hidden": false
    }
   },
   "outputs": [
    {
     "name": "stdout",
     "output_type": "stream",
     "text": [
      "Enter your primer sequence: ACGTAGCTCGACATCAGACTACGACTCGCATCGCATCAGCCTCGCATCGCGA\n",
      "The primer is too long\n"
     ]
    }
   ],
   "source": [
    " dna = input('Enter your primer sequence: ')\n",
    " seqsize = len(dna)\n",
    " if seqsize < 10:\n",
    "     print('The primer must have at least ten nucleotides')\n",
    " elif seqsize < 25:\n",
    "     print('This size is OK')\n",
    " else:\n",
    "     print('The primer is too long')\n"
   ]
  },
  {
   "cell_type": "markdown",
   "metadata": {},
   "source": [
    "Use bool(expression) to check if an expression is True or False."
   ]
  },
  {
   "cell_type": "code",
   "execution_count": 4,
   "metadata": {
    "collapsed": false,
    "jupyter": {
     "outputs_hidden": false
    }
   },
   "outputs": [
    {
     "data": {
      "text/plain": [
       "False"
      ]
     },
     "execution_count": 4,
     "metadata": {},
     "output_type": "execute_result"
    }
   ],
   "source": [
    "bool(1=='1')"
   ]
  },
  {
   "cell_type": "markdown",
   "metadata": {},
   "source": [
    "#### Nested Conditionals"
   ]
  },
  {
   "cell_type": "code",
   "execution_count": 1,
   "metadata": {},
   "outputs": [
    {
     "name": "stdin",
     "output_type": "stream",
     "text": [
      "Enter your DNA sequence:  ATGCGTACGTTAGCCTAAGTGC\n"
     ]
    },
    {
     "name": "stdout",
     "output_type": "stream",
     "text": [
      "This size is OK\n"
     ]
    }
   ],
   "source": [
    "#ATGCGTACGTTAGCCTAAGTGC\n",
    "\n",
    "dna = input('Enter your DNA sequence: ')\n",
    "seqsize = len(dna)\n",
    "\n",
    "if seqsize < 10:\n",
    "    print('Your primer must have at least ten nucleotides')\n",
    "    if seqsize == 0:\n",
    "        print('You must enter something!')\n",
    "elif seqsize < 25:\n",
    "    print('This size is OK')\n",
    "else:\n",
    "    print('Your primer is too long')\n"
   ]
  },
  {
   "cell_type": "markdown",
   "metadata": {},
   "source": [
    "- Important: == is for comparison, = is for assignment."
   ]
  },
  {
   "cell_type": "code",
   "execution_count": 15,
   "metadata": {
    "collapsed": false,
    "jupyter": {
     "outputs_hidden": false
    }
   },
   "outputs": [
    {
     "data": {
      "text/plain": [
       "42"
      ]
     },
     "execution_count": 15,
     "metadata": {},
     "output_type": "execute_result"
    }
   ],
   "source": [
    "answer=42\n",
    "answer\n"
   ]
  },
  {
   "cell_type": "code",
   "execution_count": 16,
   "metadata": {
    "collapsed": false,
    "jupyter": {
     "outputs_hidden": false
    }
   },
   "outputs": [
    {
     "data": {
      "text/plain": [
       "False"
      ]
     },
     "execution_count": 16,
     "metadata": {},
     "output_type": "execute_result"
    }
   ],
   "source": [
    "answer==3\n"
   ]
  },
  {
   "cell_type": "code",
   "execution_count": 17,
   "metadata": {
    "collapsed": false,
    "jupyter": {
     "outputs_hidden": false
    }
   },
   "outputs": [
    {
     "data": {
      "text/plain": [
       "True"
      ]
     },
     "execution_count": 17,
     "metadata": {},
     "output_type": "execute_result"
    }
   ],
   "source": [
    "answer==42\n"
   ]
  },
  {
   "cell_type": "markdown",
   "metadata": {},
   "source": [
    "#### Using elif for Readability"
   ]
  },
  {
   "cell_type": "code",
   "execution_count": 2,
   "metadata": {
    "collapsed": false,
    "jupyter": {
     "outputs_hidden": false
    }
   },
   "outputs": [
    {
     "name": "stdin",
     "output_type": "stream",
     "text": [
      "Enter your DNA sequence:  ATGCGTACGTTAGCCTAAGTGC\n"
     ]
    },
    {
     "name": "stdout",
     "output_type": "stream",
     "text": [
      "This size is OK\n"
     ]
    }
   ],
   "source": [
    "#ATGCGTACGTTAGCCTAAGTGC\n",
    "\n",
    "dna = input('Enter your DNA sequence: ')\n",
    "seqsize = len(dna)\n",
    "\n",
    "if seqsize == 0:\n",
    "    print('You must enter something!')\n",
    "elif 0 < seqsize < 10:\n",
    "    print('Your primer must have at least ten nucleotides')\n",
    "elif seqsize < 25:\n",
    "    print('This size is OK')\n",
    "else:\n",
    "    print('Your primer is too long')\n"
   ]
  },
  {
   "cell_type": "markdown",
   "metadata": {},
   "source": [
    "#### Multiple Conditions in if"
   ]
  },
  {
   "cell_type": "code",
   "execution_count": 22,
   "metadata": {
    "collapsed": false,
    "jupyter": {
     "outputs_hidden": false
    }
   },
   "outputs": [
    {
     "name": "stdout",
     "output_type": "stream",
     "text": [
      "Not OK\n"
     ]
    }
   ],
   "source": [
    "x = 'N/A'\n",
    "if x != 'N/A' and 5 < float(x) < 20:\n",
    "    print('OK')\n",
    "else:\n",
    "    print('Not OK')\n"
   ]
  },
  {
   "cell_type": "code",
   "execution_count": 6,
   "metadata": {
    "collapsed": false,
    "jupyter": {
     "outputs_hidden": false
    }
   },
   "outputs": [
    {
     "name": "stdout",
     "output_type": "stream",
     "text": [
      "OK\n"
     ]
    }
   ],
   "source": [
    "x = 11\n",
    "if x != 'N/A' and 5 < float(x) < 20:\n",
    "    print('OK')\n",
    "else:\n",
    "    print('Not OK')\n"
   ]
  },
  {
   "cell_type": "markdown",
   "metadata": {},
   "source": [
    "- Multiple part condition, inverted"
   ]
  },
  {
   "cell_type": "code",
   "execution_count": 1,
   "metadata": {},
   "outputs": [
    {
     "ename": "ValueError",
     "evalue": "could not convert string to float: 'N/A'",
     "output_type": "error",
     "traceback": [
      "\u001b[1;31m---------------------------------------------------------------------------\u001b[0m",
      "\u001b[1;31mValueError\u001b[0m                                Traceback (most recent call last)",
      "Cell \u001b[1;32mIn[1], line 2\u001b[0m\n\u001b[0;32m      1\u001b[0m x \u001b[38;5;241m=\u001b[39m \u001b[38;5;124m'\u001b[39m\u001b[38;5;124mN/A\u001b[39m\u001b[38;5;124m'\u001b[39m\n\u001b[1;32m----> 2\u001b[0m \u001b[38;5;28;01mif\u001b[39;00m \u001b[38;5;241m5\u001b[39m \u001b[38;5;241m<\u001b[39m \u001b[38;5;28;43mfloat\u001b[39;49m\u001b[43m(\u001b[49m\u001b[43mx\u001b[49m\u001b[43m)\u001b[49m \u001b[38;5;241m<\u001b[39m \u001b[38;5;241m20\u001b[39m \u001b[38;5;129;01mand\u001b[39;00m x \u001b[38;5;241m!=\u001b[39m \u001b[38;5;124m'\u001b[39m\u001b[38;5;124mN/A\u001b[39m\u001b[38;5;124m'\u001b[39m:\n\u001b[0;32m      3\u001b[0m     \u001b[38;5;28mprint\u001b[39m(\u001b[38;5;124m'\u001b[39m\u001b[38;5;124mOK\u001b[39m\u001b[38;5;124m'\u001b[39m)\n\u001b[0;32m      4\u001b[0m \u001b[38;5;28;01melse\u001b[39;00m:\n",
      "\u001b[1;31mValueError\u001b[0m: could not convert string to float: 'N/A'"
     ]
    }
   ],
   "source": [
    "x = 'N/A'\n",
    "if 5 < float(x) < 20 and x != 'N/A':\n",
    "    print('OK')\n",
    "else:\n",
    "    print('Not OK')"
   ]
  },
  {
   "cell_type": "markdown",
   "metadata": {},
   "source": [
    "#### pass Statement"
   ]
  },
  {
   "cell_type": "markdown",
   "metadata": {},
   "source": [
    "Use pass when a block is required syntactically but no action is needed."
   ]
  },
  {
   "cell_type": "code",
   "execution_count": 3,
   "metadata": {},
   "outputs": [],
   "source": [
    "condition = True\n",
    "if condition:\n",
    "    pass\n",
    "else:\n",
    "    print(\"condition was false\")"
   ]
  },
  {
   "cell_type": "markdown",
   "metadata": {},
   "source": [
    "#### One-Line Conditional (Ternary Operator)"
   ]
  },
  {
   "cell_type": "markdown",
   "metadata": {},
   "source": [
    "- EXPRESSION1 if CONDITION else EXPRESSION2"
   ]
  },
  {
   "cell_type": "code",
   "execution_count": 7,
   "metadata": {
    "collapsed": false,
    "jupyter": {
     "outputs_hidden": false
    }
   },
   "outputs": [
    {
     "name": "stdout",
     "output_type": "stream",
     "text": [
      "Average = 2.5\n"
     ]
    }
   ],
   "source": [
    "total = 5\n",
    "items = 2\n",
    "print(f'Average = {total/items if items != 0 else \"N/A\"}')\n"
   ]
  },
  {
   "cell_type": "code",
   "execution_count": 8,
   "metadata": {
    "collapsed": false,
    "jupyter": {
     "outputs_hidden": false
    }
   },
   "outputs": [
    {
     "name": "stdout",
     "output_type": "stream",
     "text": [
      "Average = 2.5\n"
     ]
    }
   ],
   "source": [
    "total = 5\n",
    "items = 2\n",
    "if items != 0:\n",
    "    print(f'Average = {total/items}')\n",
    "else:\n",
    "    print('Average = N/A')\n"
   ]
  },
  {
   "cell_type": "markdown",
   "metadata": {},
   "source": [
    "#### Fun & Practical Example"
   ]
  },
  {
   "cell_type": "markdown",
   "metadata": {},
   "source": [
    "1. Checking the Weather"
   ]
  },
  {
   "cell_type": "code",
   "execution_count": 9,
   "metadata": {},
   "outputs": [
    {
     "name": "stdin",
     "output_type": "stream",
     "text": [
      "How's the weather today? (sunny/rainy):  rainy\n"
     ]
    },
    {
     "name": "stdout",
     "output_type": "stream",
     "text": [
      "Take an umbrella ☔\n"
     ]
    }
   ],
   "source": [
    "weather = input(\"How's the weather today? (sunny/rainy): \").strip().lower()\n",
    "\n",
    "if weather == \"rainy\":\n",
    "    print(\"Take an umbrella ☔\")\n",
    "elif weather == \"sunny\":\n",
    "    print(\"No need for an umbrella 😎\")\n",
    "else:\n",
    "    print(\"I don't know, but maybe just take a jacket! 🧥\")\n"
   ]
  },
  {
   "cell_type": "markdown",
   "metadata": {},
   "source": [
    "2. Did You Wake Up Early?"
   ]
  },
  {
   "cell_type": "code",
   "execution_count": 10,
   "metadata": {},
   "outputs": [
    {
     "name": "stdin",
     "output_type": "stream",
     "text": [
      "What time did you wake up? (24-hour format):  5\n"
     ]
    },
    {
     "name": "stdout",
     "output_type": "stream",
     "text": [
      "Wow, are you even human?! 🦸‍♂️\n"
     ]
    }
   ],
   "source": [
    "time = int(input(\"What time did you wake up? (24-hour format): \"))\n",
    "\n",
    "if time < 6:\n",
    "    print(\"Wow, are you even human?! 🦸‍♂️\")\n",
    "elif 6 <= time <= 9:\n",
    "    print(\"Good job! You’re on track. 🚀\")\n",
    "elif 9 < time <= 12:\n",
    "    print(\"Late but acceptable... ☕\")\n",
    "else:\n",
    "    print(\"Seriously? Did you just wake up? 😴\")\n"
   ]
  },
  {
   "cell_type": "markdown",
   "metadata": {},
   "source": [
    "3. Password Access"
   ]
  },
  {
   "cell_type": "code",
   "execution_count": 11,
   "metadata": {},
   "outputs": [
    {
     "name": "stdin",
     "output_type": "stream",
     "text": [
      "Enter the secret password:  12abc\n"
     ]
    },
    {
     "name": "stdout",
     "output_type": "stream",
     "text": [
      "Access Denied! 🚫\n"
     ]
    }
   ],
   "source": [
    "password = input(\"Enter the secret password: \")\n",
    "\n",
    "if password == \"OpenSesame\":\n",
    "    print(\"Access Granted! 🎉\")\n",
    "else:\n",
    "    print(\"Access Denied! 🚫\")\n"
   ]
  },
  {
   "cell_type": "markdown",
   "metadata": {},
   "source": [
    "### Theoretical Questions:"
   ]
  },
  {
   "cell_type": "markdown",
   "metadata": {},
   "source": [
    "1. What is a control structure?\n",
    "2. How many control structures does Python have? Name them.\n",
    "3. Explain when you would use pass?"
   ]
  },
  {
   "cell_type": "markdown",
   "metadata": {},
   "source": [
    "### Code-Related Questions:"
   ]
  },
  {
   "cell_type": "markdown",
   "metadata": {},
   "source": [
    "4. Write a program to check if a given number is a palindrome (i.e., it remains the same when its digits are reversed, like 404).\n",
    "\n",
    "5. Write a program to convert Fahrenheit temperature to Celsius and print the result with only one decimal place. Use the formula:\n",
    "c = (5/9) * (f-32)\n",
    "\n",
    "6. Write a program that converts any text you enter into Leetspeak, using the following replacements:\n",
    "- Letter\tLeetspeak Equivalent\n",
    "- O\t        0\n",
    "- I / L\t    1\n",
    "- Z / R\t    2\n",
    "- E\t        3\n",
    "- A\t        4\n",
    "- S\t        5\n",
    "- G / B\t    6\n",
    "- T / L\t    7\n",
    "- B\t        8\n",
    "- P / G / Q\t9\n",
    "- Example:\n",
    "\n",
    "- Hello world! → H3770 w02ld!"
   ]
  },
  {
   "cell_type": "markdown",
   "metadata": {},
   "source": [
    "7. Given two words, write a program to determine if they rhyme. In this case, \"rhyme\" means that the last three letters are the same (e.g., \"wizard\" and \"lizard\").\n",
    "\n",
    "8. Given a protein sequence in one-letter code, calculate the percentage of methionine (M) and cysteine (C).\n",
    "\n",
    "- Example: For the sequence MFKFASAVILCLVAASSTQA, the result should be 10% (1 M and 1 C out of 20 amino acids).\n"
   ]
  },
  {
   "cell_type": "code",
   "execution_count": null,
   "metadata": {},
   "outputs": [],
   "source": []
  }
 ],
 "metadata": {
  "kernelspec": {
   "display_name": "Python 3 (ipykernel)",
   "language": "python",
   "name": "python3"
  },
  "language_info": {
   "codemirror_mode": {
    "name": "ipython",
    "version": 3
   },
   "file_extension": ".py",
   "mimetype": "text/x-python",
   "name": "python",
   "nbconvert_exporter": "python",
   "pygments_lexer": "ipython3",
   "version": "3.13.1"
  }
 },
 "nbformat": 4,
 "nbformat_minor": 4
}
